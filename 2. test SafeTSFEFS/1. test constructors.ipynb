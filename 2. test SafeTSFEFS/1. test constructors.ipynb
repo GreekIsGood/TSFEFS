{
 "cells": [
  {
   "cell_type": "code",
   "execution_count": 13,
   "id": "581ac914",
   "metadata": {},
   "outputs": [],
   "source": [
    "import pandas as pd\n",
    "import numpy as np\n",
    "from datetime import datetime as dt, timedelta as td\n",
    "\n",
    "import json\n",
    "import random\n",
    "import string\n",
    "\n",
    "from copy import deepcopy as dc\n",
    "import os\n",
    "\n",
    "from SafeTSFEFS import *\n"
   ]
  },
  {
   "cell_type": "markdown",
   "id": "0e07f1fe",
   "metadata": {},
   "source": [
    "# Test Plan\n",
    "# 1. Create by df\n",
    "# 2. Create by srcfile\n",
    "# 3. Create by srcfolder\n",
    "# 4. Create by tsfefs\n",
    "# 5. Clone\n"
   ]
  },
  {
   "cell_type": "markdown",
   "id": "c9d3a045",
   "metadata": {},
   "source": [
    " "
   ]
  },
  {
   "cell_type": "code",
   "execution_count": 14,
   "id": "1d7c3d98",
   "metadata": {},
   "outputs": [],
   "source": [
    "ts = \"2020-09-08 00:00:00\"\n",
    "datetime_format = \"%Y-%m-%d %H:%M:%S\"\n",
    "ts = dt.strptime(ts, datetime_format)\n",
    "tss = [ ts + td(seconds=i) for i in range(10**6)]\n",
    "df = pd.DataFrame({\"time\":tss})\n",
    "df[\"day\"] = df[\"time\"].apply(lambda x: int(x.strftime(\"%d\")))\n"
   ]
  },
  {
   "cell_type": "markdown",
   "id": "6edc3616",
   "metadata": {},
   "source": [
    " "
   ]
  },
  {
   "cell_type": "markdown",
   "id": "17769dfd",
   "metadata": {},
   "source": [
    "# 1. Create by df"
   ]
  },
  {
   "cell_type": "code",
   "execution_count": 15,
   "id": "4231ccde",
   "metadata": {},
   "outputs": [
    {
     "name": "stdout",
     "output_type": "stream",
     "text": [
      "path: /Users/yeehinleung/Documents/GreekIsGood/Products/repos/TSFEFS/2. test SafeTSFEFS , name: create1\n",
      "pieces: ['bcdgxnjn', 'figenwxq', 'pwalxouw', 'efppcpgb', 'rntflegu']\n",
      "types: ['csv', 'csv', 'csv', 'csv', 'csv']\n",
      "fr: 2020-09-08 00:00:00 , to: 2020-09-19 13:46:39\n",
      "frs: ['2020-09-08 00:00:00', '2020-09-10 07:33:20', '2020-09-12 15:06:40', '2020-09-14 22:40:00', '2020-09-17 06:13:20']\n",
      "tos: ['2020-09-10 07:33:19', '2020-09-12 15:06:39', '2020-09-14 22:39:59', '2020-09-17 06:13:19', '2020-09-19 13:46:39']\n",
      "seq_col: time\n",
      "piece_name_len: 8\n",
      "colnames: ['time', 'day'] , row_cnt: 1000000\n",
      "row_cnts: [200000, 200000, 200000, 200000, 200000]\n",
      "actions: ['', '', '', '', ''] , action_params: [None, None, None, None, None]\n",
      "cache: [3, 4, 0] , cache_config: {'rows_in_cache': None, 'len_of_cache': 3}\n",
      "dfs: ['Non-emtpy', None, None, 'Non-emtpy', 'Non-emtpy']\n",
      "datetime_format: %Y-%m-%d %H:%M:%S\n",
      "seq_col dtype used in read_csv: <class 'str'>\n",
      "seq_col date type (in tuple): (<class 'datetime.datetime'>, <class 'pandas._libs.tslibs.timestamps.Timestamp'>)\n"
     ]
    }
   ],
   "source": [
    "# stsfefs1 = SafeTSFEFS(path=os.getcwd(), name=\"create1\", time_col=\"time\", datetime_format=datetime_format, df=df)\n",
    "stsfefs1 = SafeTSFEFS(os.getcwd(), \"create1\", seq_col=\"time\", datetime_format=datetime_format, df=df)\n",
    "stsfefs1.print_info()\n"
   ]
  },
  {
   "cell_type": "markdown",
   "id": "1aec12f9",
   "metadata": {},
   "source": [
    "# 2. Create by srcfile\n"
   ]
  },
  {
   "cell_type": "code",
   "execution_count": 16,
   "id": "75a369a0",
   "metadata": {},
   "outputs": [],
   "source": [
    "if not os.path.isdir(\"create2\"):\n",
    "    os.mkdir(\"create2\")\n",
    "    \n",
    "df_ = dc(df)\n",
    "df_[\"time\"] = df_[\"time\"].apply(lambda x: x.strftime(datetime_format))\n",
    "df_.to_csv(\"create2/create2.csv\", index=False)\n"
   ]
  },
  {
   "cell_type": "code",
   "execution_count": 17,
   "id": "a8e1f1a8",
   "metadata": {},
   "outputs": [
    {
     "name": "stdout",
     "output_type": "stream",
     "text": [
      "path: /Users/yeehinleung/Documents/GreekIsGood/Products/repos/TSFEFS/2. test SafeTSFEFS , name: create2\n",
      "pieces: ['qgdsmnba', 'gruiuhqy', 'bwmmrvah', 'xacxzixq', 'evbfqeln']\n",
      "types: ['csv', 'csv', 'csv', 'csv', 'csv']\n",
      "fr: 2020-09-08 00:00:00 , to: 2020-09-19 13:46:39\n",
      "frs: ['2020-09-08 00:00:00', '2020-09-10 07:33:20', '2020-09-12 15:06:40', '2020-09-14 22:40:00', '2020-09-17 06:13:20']\n",
      "tos: ['2020-09-10 07:33:19', '2020-09-12 15:06:39', '2020-09-14 22:39:59', '2020-09-17 06:13:19', '2020-09-19 13:46:39']\n",
      "seq_col: time\n",
      "piece_name_len: 8\n",
      "colnames: ['time', 'day'] , row_cnt: 1000000\n",
      "row_cnts: [200000, 200000, 200000, 200000, 200000]\n",
      "actions: ['', '', '', '', ''] , action_params: [None, None, None, None, None]\n",
      "cache: [3, 4, 0] , cache_config: {'rows_in_cache': None, 'len_of_cache': 3}\n",
      "dfs: ['Non-emtpy', None, None, 'Non-emtpy', 'Non-emtpy']\n",
      "datetime_format: %Y-%m-%d %H:%M:%S\n",
      "seq_col dtype used in read_csv: <class 'str'>\n",
      "seq_col date type (in tuple): (<class 'datetime.datetime'>, <class 'pandas._libs.tslibs.timestamps.Timestamp'>)\n"
     ]
    }
   ],
   "source": [
    "# stsfefs2 = SafeTSFEFS(path=os.getcwd(), name=\"create2\", time_col=\"time\", datetime_format=datetime_format, srcpath=\"create2/create2.csv\")\n",
    "stsfefs2 = SafeTSFEFS(os.getcwd(), \"create2\", seq_col=\"time\", datetime_format=datetime_format, srcpath=\"create2/create2.csv\")\n",
    "stsfefs2.print_info()\n"
   ]
  },
  {
   "cell_type": "markdown",
   "id": "c1abdb5f",
   "metadata": {},
   "source": [
    "# 3. Create by srcfolder\n"
   ]
  },
  {
   "cell_type": "markdown",
   "id": "9bea017f",
   "metadata": {},
   "source": [
    "<b> Let's also have a df2 which a 5 days' shift of df."
   ]
  },
  {
   "cell_type": "code",
   "execution_count": 18,
   "id": "23e701bd",
   "metadata": {},
   "outputs": [],
   "source": [
    "if not os.path.isdir(\"create3\"):\n",
    "    os.mkdir(\"create3\")\n",
    "    \n",
    "df_ = dc(df)\n",
    "df_[\"time\"] = df_[\"time\"].apply(lambda x: x.strftime(datetime_format))\n",
    "df_.to_csv(\"create3/create3_1.csv\", index=False)\n",
    "\n",
    "df2 = dc(df)\n",
    "df2[\"time\"] = df2[\"time\"].apply(lambda x: x + td(days=5))\n",
    "df_ = dc(df2)\n",
    "df_[\"time\"] = df_[\"time\"].apply(lambda x: x.strftime(datetime_format))\n",
    "df_.to_csv(\"create3/create3_2.csv\", index=False)\n",
    "\n"
   ]
  },
  {
   "cell_type": "code",
   "execution_count": 19,
   "id": "4e82df08",
   "metadata": {},
   "outputs": [
    {
     "name": "stdout",
     "output_type": "stream",
     "text": [
      "path: /Users/yeehinleung/Documents/GreekIsGood/Products/repos/TSFEFS/2. test SafeTSFEFS , name: create3\n",
      "pieces: ['ifcmaygx', 'uezkwnfm', 'nqfydall', 'yejnvtct', 'jqjocwfo', 'tlrvveyy', 'tqxbqpqf', 'fvaejtvn', 'okmfwtaz', 'wwfjkrql']\n",
      "types: ['csv', 'csv', 'csv', 'csv', 'csv', 'csv', 'csv', 'csv', 'csv', 'csv']\n",
      "fr: 2020-09-08 00:00:00 , to: 2020-09-24 13:46:39\n",
      "frs: ['2020-09-08 00:00:00', '2020-09-10 07:33:20', '2020-09-12 15:06:40', '2020-09-14 03:46:40', '2020-09-15 07:33:20', '2020-09-16 11:20:00', '2020-09-17 15:06:40', '2020-09-18 18:53:20', '2020-09-21 21:20:00', '2020-09-24 04:53:20']\n",
      "tos: ['2020-09-10 07:33:19', '2020-09-12 15:06:39', '2020-09-14 03:46:39', '2020-09-15 07:33:19', '2020-09-16 11:19:59', '2020-09-17 15:06:39', '2020-09-18 18:53:19', '2020-09-21 21:19:59', '2020-09-24 04:53:19', '2020-09-24 13:46:39']\n",
      "seq_col: time\n",
      "piece_name_len: 8\n",
      "colnames: ['time', 'day'] , row_cnt: 2000000\n",
      "row_cnts: [200000, 200000, 232000, 200000, 200000, 200000, 200000, 336000, 200000, 32000]\n",
      "actions: ['', '', '', '', '', '', '', '', '', ''] , action_params: [None, None, None, None, None, None, None, None, None, None]\n",
      "cache: [1, 2, 0] , cache_config: {'rows_in_cache': None, 'len_of_cache': 3}\n",
      "dfs: ['Non-emtpy', 'Non-emtpy', 'Non-emtpy', None, None, None, None, None, None, None]\n",
      "datetime_format: %Y-%m-%d %H:%M:%S\n",
      "seq_col dtype used in read_csv: <class 'str'>\n",
      "seq_col date type (in tuple): (<class 'datetime.datetime'>, <class 'pandas._libs.tslibs.timestamps.Timestamp'>)\n"
     ]
    }
   ],
   "source": [
    "# stsfefs3 = SafeTSFEFS(path=os.getcwd(), name=\"create3\", time_col=\"time\", datetime_format=datetime_format, srcpath=\"create3\")\n",
    "stsfefs3 = SafeTSFEFS(os.getcwd(), \"create3\", seq_col=\"time\", datetime_format=datetime_format, srcpath=\"create3\")\n",
    "stsfefs3.print_info()\n"
   ]
  },
  {
   "cell_type": "markdown",
   "id": "36ba73f4",
   "metadata": {},
   "source": [
    "# 4. Create by tsfefs"
   ]
  },
  {
   "cell_type": "code",
   "execution_count": 20,
   "id": "8e4f90bd",
   "metadata": {},
   "outputs": [],
   "source": [
    "tsfefs_dummy = stsfefs1.tsfefs.clone(path=os.getcwd(), name=\"dummy\")\n"
   ]
  },
  {
   "cell_type": "code",
   "execution_count": 21,
   "id": "746596ff",
   "metadata": {},
   "outputs": [
    {
     "name": "stdout",
     "output_type": "stream",
     "text": [
      "path: /Users/yeehinleung/Documents/GreekIsGood/Products/repos/TSFEFS/2. test SafeTSFEFS , name: create4\n",
      "pieces: ['bcdgxnjn', 'figenwxq', 'pwalxouw', 'efppcpgb', 'rntflegu']\n",
      "types: ['csv', 'csv', 'csv', 'csv', 'csv']\n",
      "fr: 2020-09-08 00:00:00 , to: 2020-09-19 13:46:39\n",
      "frs: ['2020-09-08 00:00:00', '2020-09-10 07:33:20', '2020-09-12 15:06:40', '2020-09-14 22:40:00', '2020-09-17 06:13:20']\n",
      "tos: ['2020-09-10 07:33:19', '2020-09-12 15:06:39', '2020-09-14 22:39:59', '2020-09-17 06:13:19', '2020-09-19 13:46:39']\n",
      "seq_col: time\n",
      "piece_name_len: 8\n",
      "colnames: ['time', 'day'] , row_cnt: 1000000\n",
      "row_cnts: [200000, 200000, 200000, 200000, 200000]\n",
      "actions: ['', '', '', '', ''] , action_params: [None, None, None, None, None]\n",
      "cache: [3, 4, 0] , cache_config: {'rows_in_cache': None, 'len_of_cache': 3}\n",
      "dfs: ['Non-emtpy', None, None, 'Non-emtpy', 'Non-emtpy']\n",
      "datetime_format: %Y-%m-%d %H:%M:%S\n",
      "seq_col dtype used in read_csv: <class 'str'>\n",
      "seq_col date type (in tuple): (<class 'datetime.datetime'>, <class 'pandas._libs.tslibs.timestamps.Timestamp'>)\n"
     ]
    }
   ],
   "source": [
    "# stsfefs4 = SafeTSFEFS(path=os.getcwd(), name=\"create4\", tsfefs=tsfefs_dummy)\n",
    "stsfefs4 = SafeTSFEFS(os.getcwd(), \"create4\", tsfefs=tsfefs_dummy)\n",
    "stsfefs4.print_info()\n"
   ]
  },
  {
   "cell_type": "markdown",
   "id": "b5f51da3",
   "metadata": {},
   "source": [
    "# 5. Clone"
   ]
  },
  {
   "cell_type": "code",
   "execution_count": 22,
   "id": "f268642e",
   "metadata": {},
   "outputs": [
    {
     "name": "stdout",
     "output_type": "stream",
     "text": [
      "path: /Users/yeehinleung/Documents/GreekIsGood/Products/repos/TSFEFS/2. test SafeTSFEFS , name: create5\n",
      "pieces: ['bcdgxnjn', 'figenwxq', 'pwalxouw', 'efppcpgb', 'rntflegu']\n",
      "types: ['csv', 'csv', 'csv', 'csv', 'csv']\n",
      "fr: 2020-09-08 00:00:00 , to: 2020-09-19 13:46:39\n",
      "frs: ['2020-09-08 00:00:00', '2020-09-10 07:33:20', '2020-09-12 15:06:40', '2020-09-14 22:40:00', '2020-09-17 06:13:20']\n",
      "tos: ['2020-09-10 07:33:19', '2020-09-12 15:06:39', '2020-09-14 22:39:59', '2020-09-17 06:13:19', '2020-09-19 13:46:39']\n",
      "seq_col: time\n",
      "piece_name_len: 8\n",
      "colnames: ['time', 'day'] , row_cnt: 1000000\n",
      "row_cnts: [200000, 200000, 200000, 200000, 200000]\n",
      "actions: ['', '', '', '', ''] , action_params: [None, None, None, None, None]\n",
      "cache: [3, 4, 0] , cache_config: {'rows_in_cache': None, 'len_of_cache': 3}\n",
      "dfs: ['Non-emtpy', None, None, 'Non-emtpy', 'Non-emtpy']\n",
      "datetime_format: %Y-%m-%d %H:%M:%S\n",
      "seq_col dtype used in read_csv: <class 'str'>\n",
      "seq_col date type (in tuple): (<class 'datetime.datetime'>, <class 'pandas._libs.tslibs.timestamps.Timestamp'>)\n"
     ]
    }
   ],
   "source": [
    "# stsfefs5 = stsfefs1.clone(path=os.getcwd(), name=\"create5\")\n",
    "stsfefs5 = stsfefs1.clone(os.getcwd(), \"create5\")\n",
    "stsfefs5.print_info()\n"
   ]
  },
  {
   "cell_type": "markdown",
   "id": "1c4e2c03",
   "metadata": {},
   "source": [
    " "
   ]
  },
  {
   "cell_type": "markdown",
   "id": "51697115",
   "metadata": {},
   "source": [
    " "
   ]
  },
  {
   "cell_type": "markdown",
   "id": "75de0baf",
   "metadata": {},
   "source": [
    " "
   ]
  },
  {
   "cell_type": "code",
   "execution_count": 23,
   "id": "5d99fba6",
   "metadata": {},
   "outputs": [],
   "source": [
    "stsfefs5.remove()\n",
    "stsfefs4.remove()\n",
    "stsfefs3.remove()\n",
    "stsfefs2.remove()\n",
    "stsfefs1.remove()\n",
    "\n",
    "tsfefs_dummy.remove()\n",
    "\n",
    "for f in os.listdir(\"create3\"):\n",
    "    os.remove(\"create3/%s\"%f)\n",
    "os.rmdir(\"create3\")\n",
    "\n",
    "for f in os.listdir(\"create2\"):\n",
    "    os.remove(\"create2/%s\"%f)\n",
    "os.rmdir(\"create2\")\n",
    "\n"
   ]
  },
  {
   "cell_type": "code",
   "execution_count": null,
   "id": "89e87cdd",
   "metadata": {},
   "outputs": [],
   "source": []
  }
 ],
 "metadata": {
  "kernelspec": {
   "display_name": "Python 3 (ipykernel)",
   "language": "python",
   "name": "python3"
  },
  "language_info": {
   "codemirror_mode": {
    "name": "ipython",
    "version": 3
   },
   "file_extension": ".py",
   "mimetype": "text/x-python",
   "name": "python",
   "nbconvert_exporter": "python",
   "pygments_lexer": "ipython3",
   "version": "3.10.5"
  }
 },
 "nbformat": 4,
 "nbformat_minor": 5
}
