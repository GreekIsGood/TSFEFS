{
 "cells": [
  {
   "cell_type": "code",
   "execution_count": 1,
   "id": "89383a43",
   "metadata": {},
   "outputs": [],
   "source": [
    "import pandas as pd\n",
    "import numpy as np\n",
    "from datetime import datetime as dt, timedelta as td\n",
    "\n",
    "import json\n",
    "import random\n",
    "import string\n",
    "\n",
    "from copy import deepcopy as dc\n",
    "import os\n",
    "\n",
    "from SafeTSFEFS import *\n"
   ]
  },
  {
   "cell_type": "markdown",
   "id": "0b239d8c",
   "metadata": {},
   "source": [
    "# Del Test Strategy\n",
    "#  - Create a base with 3 columns, at least 5 dfs.\n",
    "#  - Clone to each test case.\n"
   ]
  },
  {
   "cell_type": "markdown",
   "id": "facf663b",
   "metadata": {},
   "source": [
    " "
   ]
  },
  {
   "cell_type": "code",
   "execution_count": 2,
   "id": "0a380f69",
   "metadata": {},
   "outputs": [],
   "source": [
    "dict_meta = {\n",
    "    \"piece_name_len\": 8,\n",
    "    \"seq_col\": \"time\", \"datetime_format\": \"%Y-%m-%d %H:%M:%S\", \n",
    "    \"max_row_per_piece\": 20000,\n",
    "    \"colnames\":[\"time\",\"day\",\"num\"],\n",
    "    \"cache_config\":{\"rows_in_cache\":None,\"len_of_cache\":3}\n",
    "}\n"
   ]
  },
  {
   "cell_type": "code",
   "execution_count": 3,
   "id": "a97f9c32",
   "metadata": {},
   "outputs": [
    {
     "name": "stdout",
     "output_type": "stream",
     "text": [
      "2020-01-01 00:00:00 2020-01-02 00:00:00\n"
     ]
    }
   ],
   "source": [
    "fr, to = \"2020-01-01 00:00:00\", \"2020-01-02 00:00:00\"\n",
    "fr = dt.strptime(fr,dict_meta[\"datetime_format\"])\n",
    "to = dt.strptime(to,dict_meta[\"datetime_format\"])\n",
    "ts_gap = (to - fr)\n",
    "seconds = ts_gap.seconds + ts_gap.days*24*60*60\n",
    "# print(seconds)\n",
    "\n",
    "tss = [ fr + td(seconds=i) for i in range(seconds+1) ]\n",
    "print(min(tss),max(tss))\n",
    "seq_col = dict_meta[\"seq_col\"]\n",
    "df = pd.DataFrame({seq_col:tss})\n",
    "df[\"day\"] = df[seq_col].apply(lambda x: int(x.strftime(\"%d\")))\n",
    "df[\"num\"] = df[seq_col].apply(lambda x: int(x.strftime(\"%Y\")) + int(x.strftime(\"%m\")) + int(x.strftime(\"%d\")) \\\n",
    "                     + int(x.strftime(\"%H\")) + int(x.strftime(\"%M\")) + int(x.strftime(\"%S\")))\n"
   ]
  },
  {
   "cell_type": "code",
   "execution_count": 4,
   "id": "b3ba1b5d",
   "metadata": {},
   "outputs": [
    {
     "name": "stdout",
     "output_type": "stream",
     "text": [
      "path: /Users/yeehinleung/Documents/GreekIsGood/Products/repos/TSFEFS/2. test SafeTSFEFS , name: base\n",
      "pieces: ['sonafuij', 'fiztikez', 'mpbkkift', 'rrfbqxih', 'upbyrxyk', 'ikguhtyg', 'ncwebixq', 'wnfhvytj', 'etovqeyn']\n",
      "types: ['csv', 'csv', 'csv', 'csv', 'csv', 'csv', 'csv', 'csv', 'csv']\n",
      "fr: 2020-01-01 00:00:00 , to: 2020-01-02 00:00:00\n",
      "frs: ['2020-01-01 00:00:00', '2020-01-01 02:46:40', '2020-01-01 05:33:20', '2020-01-01 08:20:00', '2020-01-01 11:06:40', '2020-01-01 13:53:20', '2020-01-01 16:40:00', '2020-01-01 19:26:40', '2020-01-01 22:13:20']\n",
      "tos: ['2020-01-01 02:46:39', '2020-01-01 05:33:19', '2020-01-01 08:19:59', '2020-01-01 11:06:39', '2020-01-01 13:53:19', '2020-01-01 16:39:59', '2020-01-01 19:26:39', '2020-01-01 22:13:19', '2020-01-02 00:00:00']\n",
      "seq_col: time\n",
      "piece_name_len: 8\n",
      "colnames: ['time', 'day', 'num'] , row_cnt: 86401\n",
      "row_cnts: [10000, 10000, 10000, 10000, 10000, 10000, 10000, 10000, 6401]\n",
      "actions: ['', '', '', '', '', '', '', '', ''] , action_params: [None, None, None, None, None, None, None, None, None]\n",
      "cache: [7, 8, 0] , cache_config: {'rows_in_cache': None, 'len_of_cache': 3}\n",
      "dfs: ['Non-emtpy', None, None, None, None, None, None, 'Non-emtpy', 'Non-emtpy']\n",
      "datetime_format: %Y-%m-%d %H:%M:%S\n",
      "seq_col dtype used in read_csv: <class 'str'>\n",
      "seq_col date type (in tuple): (<class 'datetime.datetime'>, <class 'pandas._libs.tslibs.timestamps.Timestamp'>)\n"
     ]
    }
   ],
   "source": [
    "tsfefs_dummy = TSFEFS.create(dict_meta, \"dummy\")\n",
    "tsfefs_dummy.import_dataframe(df)\n",
    "tsfefs_dummy.take_actions(max_level=3)\n",
    "tsfefs_dummy.maintain_cache()\n",
    "\n",
    "stsfefs_base = SafeTSFEFS(os.getcwd(), \"base\", tsfefs=tsfefs_dummy)\n",
    "stsfefs_base.print_info()\n"
   ]
  },
  {
   "cell_type": "markdown",
   "id": "64ae717a",
   "metadata": {},
   "source": [
    " "
   ]
  },
  {
   "cell_type": "markdown",
   "id": "306c15bc",
   "metadata": {},
   "source": [
    "# Del Test Plan\n",
    "# 1. Delete time column.\n",
    "# 2. Delete single column.\n",
    "# 3. Delete 2 columns.\n",
    "# 4. Delete all columns.\n",
    "# 5. Delete by some indices.\n",
    "# 6. Delete by some bools.\n",
    "# 7. Delete by some indices s.t. 1 dfs will be empty. Will file be removed?\n",
    "# 8. Delete all those in cache, what will the cache become?\n",
    "# 9. Delete entire by indices, what will remain?\n",
    "\n"
   ]
  },
  {
   "cell_type": "code",
   "execution_count": 5,
   "id": "8e476cd5",
   "metadata": {},
   "outputs": [],
   "source": [
    "stsfefs_del1 = stsfefs_base.clone(os.getcwd(), \"del1\")\n",
    "stsfefs_del2 = stsfefs_base.clone(os.getcwd(), \"del2\")\n",
    "stsfefs_del3 = stsfefs_base.clone(os.getcwd(), \"del3\")\n",
    "stsfefs_del4 = stsfefs_base.clone(os.getcwd(), \"del4\")\n",
    "stsfefs_del5 = stsfefs_base.clone(os.getcwd(), \"del5\")\n",
    "stsfefs_del6 = stsfefs_base.clone(os.getcwd(), \"del6\")\n",
    "stsfefs_del7 = stsfefs_base.clone(os.getcwd(), \"del7\")\n",
    "stsfefs_del8 = stsfefs_base.clone(os.getcwd(), \"del8\")\n",
    "stsfefs_del9 = stsfefs_base.clone(os.getcwd(), \"del9\")\n"
   ]
  },
  {
   "cell_type": "markdown",
   "id": "1b1652f1",
   "metadata": {},
   "source": [
    "# 1. Delete time column.\n"
   ]
  },
  {
   "cell_type": "code",
   "execution_count": 6,
   "id": "c85cf025",
   "metadata": {},
   "outputs": [
    {
     "name": "stdout",
     "output_type": "stream",
     "text": [
      "No, you can't delete the seq col\n"
     ]
    }
   ],
   "source": [
    "try:\n",
    "    del stsfefs_del1[stsfefs_del1.tsfefs.seq_col]\n",
    "except:\n",
    "    print(\"No, you can't delete the seq col\")\n"
   ]
  },
  {
   "cell_type": "markdown",
   "id": "d9d1f332",
   "metadata": {},
   "source": [
    " "
   ]
  },
  {
   "cell_type": "markdown",
   "id": "24b10d81",
   "metadata": {},
   "source": [
    "# 2. Delete single column.\n"
   ]
  },
  {
   "cell_type": "code",
   "execution_count": 7,
   "id": "3118b3bf",
   "metadata": {},
   "outputs": [
    {
     "name": "stdout",
     "output_type": "stream",
     "text": [
      "                     time  day\n",
      "0     2020-01-01 00:00:00    1\n",
      "1     2020-01-01 00:00:01    1\n",
      "2     2020-01-01 00:00:02    1\n",
      "3     2020-01-01 00:00:03    1\n",
      "4     2020-01-01 00:00:04    1\n",
      "...                   ...  ...\n",
      "86396 2020-01-01 23:59:56    1\n",
      "86397 2020-01-01 23:59:57    1\n",
      "86398 2020-01-01 23:59:58    1\n",
      "86399 2020-01-01 23:59:59    1\n",
      "86400 2020-01-02 00:00:00    2\n",
      "\n",
      "[86401 rows x 2 columns]\n",
      "path: /Users/yeehinleung/Documents/GreekIsGood/Products/repos/TSFEFS/2. test SafeTSFEFS , name: del2\n",
      "pieces: ['sonafuij', 'fiztikez', 'mpbkkift', 'rrfbqxih', 'upbyrxyk', 'ikguhtyg', 'ncwebixq', 'wnfhvytj', 'etovqeyn']\n",
      "types: ['csv', 'csv', 'csv', 'csv', 'csv', 'csv', 'csv', 'csv', 'csv']\n",
      "fr: 2020-01-01 00:00:00 , to: 2020-01-02 00:00:00\n",
      "frs: ['2020-01-01 00:00:00', '2020-01-01 02:46:40', '2020-01-01 05:33:20', '2020-01-01 08:20:00', '2020-01-01 11:06:40', '2020-01-01 13:53:20', '2020-01-01 16:40:00', '2020-01-01 19:26:40', '2020-01-01 22:13:20']\n",
      "tos: ['2020-01-01 02:46:39', '2020-01-01 05:33:19', '2020-01-01 08:19:59', '2020-01-01 11:06:39', '2020-01-01 13:53:19', '2020-01-01 16:39:59', '2020-01-01 19:26:39', '2020-01-01 22:13:19', '2020-01-02 00:00:00']\n",
      "seq_col: time\n",
      "piece_name_len: 8\n",
      "colnames: ['time', 'day'] , row_cnt: 86401\n",
      "row_cnts: [10000, 10000, 10000, 10000, 10000, 10000, 10000, 10000, 6401]\n",
      "actions: ['', '', '', '', '', '', '', '', ''] , action_params: [None, None, None, None, None, None, None, None, None]\n",
      "cache: [7, 8, 0] , cache_config: {'rows_in_cache': None, 'len_of_cache': 3}\n",
      "dfs: ['Non-emtpy', 'Non-emtpy', 'Non-emtpy', 'Non-emtpy', 'Non-emtpy', 'Non-emtpy', 'Non-emtpy', 'Non-emtpy', 'Non-emtpy']\n",
      "datetime_format: %Y-%m-%d %H:%M:%S\n",
      "seq_col dtype used in read_csv: <class 'str'>\n",
      "seq_col date type (in tuple): (<class 'datetime.datetime'>, <class 'pandas._libs.tslibs.timestamps.Timestamp'>)\n"
     ]
    }
   ],
   "source": [
    "del stsfefs_del2[\"num\"]\n",
    "print(stsfefs_del2.tsfefs.export_dataframe())\n",
    "stsfefs_del2.print_info()\n"
   ]
  },
  {
   "cell_type": "markdown",
   "id": "15ff32f6",
   "metadata": {},
   "source": [
    " "
   ]
  },
  {
   "cell_type": "markdown",
   "id": "2f8fc89d",
   "metadata": {},
   "source": [
    "# 3. Delete 2 columns.\n"
   ]
  },
  {
   "cell_type": "code",
   "execution_count": 8,
   "id": "e8af46fc",
   "metadata": {},
   "outputs": [
    {
     "name": "stdout",
     "output_type": "stream",
     "text": [
      "                     time\n",
      "0     2020-01-01 00:00:00\n",
      "1     2020-01-01 00:00:01\n",
      "2     2020-01-01 00:00:02\n",
      "3     2020-01-01 00:00:03\n",
      "4     2020-01-01 00:00:04\n",
      "...                   ...\n",
      "86396 2020-01-01 23:59:56\n",
      "86397 2020-01-01 23:59:57\n",
      "86398 2020-01-01 23:59:58\n",
      "86399 2020-01-01 23:59:59\n",
      "86400 2020-01-02 00:00:00\n",
      "\n",
      "[86401 rows x 1 columns]\n",
      "path: /Users/yeehinleung/Documents/GreekIsGood/Products/repos/TSFEFS/2. test SafeTSFEFS , name: del3\n",
      "pieces: ['sonafuij', 'fiztikez', 'mpbkkift', 'rrfbqxih', 'upbyrxyk', 'ikguhtyg', 'ncwebixq', 'wnfhvytj', 'etovqeyn']\n",
      "types: ['csv', 'csv', 'csv', 'csv', 'csv', 'csv', 'csv', 'csv', 'csv']\n",
      "fr: 2020-01-01 00:00:00 , to: 2020-01-02 00:00:00\n",
      "frs: ['2020-01-01 00:00:00', '2020-01-01 02:46:40', '2020-01-01 05:33:20', '2020-01-01 08:20:00', '2020-01-01 11:06:40', '2020-01-01 13:53:20', '2020-01-01 16:40:00', '2020-01-01 19:26:40', '2020-01-01 22:13:20']\n",
      "tos: ['2020-01-01 02:46:39', '2020-01-01 05:33:19', '2020-01-01 08:19:59', '2020-01-01 11:06:39', '2020-01-01 13:53:19', '2020-01-01 16:39:59', '2020-01-01 19:26:39', '2020-01-01 22:13:19', '2020-01-02 00:00:00']\n",
      "seq_col: time\n",
      "piece_name_len: 8\n",
      "colnames: ['time'] , row_cnt: 86401\n",
      "row_cnts: [10000, 10000, 10000, 10000, 10000, 10000, 10000, 10000, 6401]\n",
      "actions: ['', '', '', '', '', '', '', '', ''] , action_params: [None, None, None, None, None, None, None, None, None]\n",
      "cache: [7, 8, 0] , cache_config: {'rows_in_cache': None, 'len_of_cache': 3}\n",
      "dfs: ['Non-emtpy', 'Non-emtpy', 'Non-emtpy', 'Non-emtpy', 'Non-emtpy', 'Non-emtpy', 'Non-emtpy', 'Non-emtpy', 'Non-emtpy']\n",
      "datetime_format: %Y-%m-%d %H:%M:%S\n",
      "seq_col dtype used in read_csv: <class 'str'>\n",
      "seq_col date type (in tuple): (<class 'datetime.datetime'>, <class 'pandas._libs.tslibs.timestamps.Timestamp'>)\n"
     ]
    }
   ],
   "source": [
    "del stsfefs_del3[[\"day\",\"num\"]]\n",
    "print(stsfefs_del3.tsfefs.export_dataframe())\n",
    "stsfefs_del3.print_info()\n"
   ]
  },
  {
   "cell_type": "markdown",
   "id": "5770fddc",
   "metadata": {},
   "source": [
    " "
   ]
  },
  {
   "cell_type": "markdown",
   "id": "b2bd3c98",
   "metadata": {},
   "source": [
    "# 4. Delete all columns.\n"
   ]
  },
  {
   "cell_type": "code",
   "execution_count": 9,
   "id": "db7ccbce",
   "metadata": {},
   "outputs": [
    {
     "name": "stdout",
     "output_type": "stream",
     "text": [
      "No, time col can't be in the columns to be deleted\n"
     ]
    }
   ],
   "source": [
    "try:\n",
    "    del stsfefs_del4[stsfefs_del4.tsfefs.colnames]\n",
    "    print(stsfefs_del4.tsfefs.export_dataframe())\n",
    "    stsfefs_del4.print_info()\n",
    "except:\n",
    "    print(\"No, time col can't be in the columns to be deleted\")\n"
   ]
  },
  {
   "cell_type": "markdown",
   "id": "c37836f4",
   "metadata": {},
   "source": [
    " "
   ]
  },
  {
   "cell_type": "markdown",
   "id": "bbc27cb5",
   "metadata": {},
   "source": [
    "# 5. Delete by some indices.\n"
   ]
  },
  {
   "cell_type": "markdown",
   "id": "7376584f",
   "metadata": {},
   "source": [
    "<b> Let's delete the even indices"
   ]
  },
  {
   "cell_type": "code",
   "execution_count": 10,
   "id": "1b148c70",
   "metadata": {},
   "outputs": [
    {
     "name": "stdout",
     "output_type": "stream",
     "text": [
      "                     time  day   num\n",
      "0     2020-01-01 00:00:01    1  2023\n",
      "1     2020-01-01 00:00:03    1  2025\n",
      "2     2020-01-01 00:00:05    1  2027\n",
      "3     2020-01-01 00:00:07    1  2029\n",
      "4     2020-01-01 00:00:09    1  2031\n",
      "...                   ...  ...   ...\n",
      "43195 2020-01-01 23:59:51    1  2155\n",
      "43196 2020-01-01 23:59:53    1  2157\n",
      "43197 2020-01-01 23:59:55    1  2159\n",
      "43198 2020-01-01 23:59:57    1  2161\n",
      "43199 2020-01-01 23:59:59    1  2163\n",
      "\n",
      "[43200 rows x 3 columns]\n",
      "path: /Users/yeehinleung/Documents/GreekIsGood/Products/repos/TSFEFS/2. test SafeTSFEFS , name: del5\n",
      "pieces: ['sonafuij', 'fiztikez', 'mpbkkift', 'rrfbqxih', 'upbyrxyk', 'ikguhtyg', 'ncwebixq', 'wnfhvytj', 'etovqeyn']\n",
      "types: ['csv', 'csv', 'csv', 'csv', 'csv', 'csv', 'csv', 'csv', 'csv']\n",
      "fr: 2020-01-01 00:00:01 , to: 2020-01-01 23:59:59\n",
      "frs: ['2020-01-01 00:00:01', '2020-01-01 02:46:41', '2020-01-01 05:33:21', '2020-01-01 08:20:01', '2020-01-01 11:06:41', '2020-01-01 13:53:21', '2020-01-01 16:40:01', '2020-01-01 19:26:41', '2020-01-01 22:13:21']\n",
      "tos: ['2020-01-01 02:46:39', '2020-01-01 05:33:19', '2020-01-01 08:19:59', '2020-01-01 11:06:39', '2020-01-01 13:53:19', '2020-01-01 16:39:59', '2020-01-01 19:26:39', '2020-01-01 22:13:19', '2020-01-01 23:59:59']\n",
      "seq_col: time\n",
      "piece_name_len: 8\n",
      "colnames: ['time', 'day', 'num'] , row_cnt: 43200\n",
      "row_cnts: [5000, 5000, 5000, 5000, 5000, 5000, 5000, 5000, 3200]\n",
      "actions: ['', '', '', '', '', '', '', '', ''] , action_params: [None, None, None, None, None, None, None, None, None]\n",
      "cache: [7, 8, 0] , cache_config: {'rows_in_cache': None, 'len_of_cache': 3}\n",
      "dfs: ['Non-emtpy', 'Non-emtpy', 'Non-emtpy', 'Non-emtpy', 'Non-emtpy', 'Non-emtpy', 'Non-emtpy', 'Non-emtpy', 'Non-emtpy']\n",
      "datetime_format: %Y-%m-%d %H:%M:%S\n",
      "seq_col dtype used in read_csv: <class 'str'>\n",
      "seq_col date type (in tuple): (<class 'datetime.datetime'>, <class 'pandas._libs.tslibs.timestamps.Timestamp'>)\n"
     ]
    }
   ],
   "source": [
    "del stsfefs_del5[::2]\n",
    "print(stsfefs_del5.tsfefs.export_dataframe())\n",
    "stsfefs_del5.print_info()\n"
   ]
  },
  {
   "cell_type": "markdown",
   "id": "f3cd2f4e",
   "metadata": {},
   "source": [
    " "
   ]
  },
  {
   "cell_type": "markdown",
   "id": "9c0c6271",
   "metadata": {},
   "source": [
    "# 6. Delete by some bools.\n"
   ]
  },
  {
   "cell_type": "markdown",
   "id": "0c3bf0ad",
   "metadata": {},
   "source": [
    "<b> Delete the same as 5 but using bools."
   ]
  },
  {
   "cell_type": "code",
   "execution_count": 11,
   "id": "d59e9f6d",
   "metadata": {},
   "outputs": [
    {
     "name": "stdout",
     "output_type": "stream",
     "text": [
      "                     time  day   num\n",
      "0     2020-01-01 00:00:01    1  2023\n",
      "1     2020-01-01 00:00:03    1  2025\n",
      "2     2020-01-01 00:00:05    1  2027\n",
      "3     2020-01-01 00:00:07    1  2029\n",
      "4     2020-01-01 00:00:09    1  2031\n",
      "...                   ...  ...   ...\n",
      "43195 2020-01-01 23:59:51    1  2155\n",
      "43196 2020-01-01 23:59:53    1  2157\n",
      "43197 2020-01-01 23:59:55    1  2159\n",
      "43198 2020-01-01 23:59:57    1  2161\n",
      "43199 2020-01-01 23:59:59    1  2163\n",
      "\n",
      "[43200 rows x 3 columns]\n",
      "path: /Users/yeehinleung/Documents/GreekIsGood/Products/repos/TSFEFS/2. test SafeTSFEFS , name: del6\n",
      "pieces: ['sonafuij', 'fiztikez', 'mpbkkift', 'rrfbqxih', 'upbyrxyk', 'ikguhtyg', 'ncwebixq', 'wnfhvytj', 'etovqeyn']\n",
      "types: ['csv', 'csv', 'csv', 'csv', 'csv', 'csv', 'csv', 'csv', 'csv']\n",
      "fr: 2020-01-01 00:00:01 , to: 2020-01-01 23:59:59\n",
      "frs: ['2020-01-01 00:00:01', '2020-01-01 02:46:41', '2020-01-01 05:33:21', '2020-01-01 08:20:01', '2020-01-01 11:06:41', '2020-01-01 13:53:21', '2020-01-01 16:40:01', '2020-01-01 19:26:41', '2020-01-01 22:13:21']\n",
      "tos: ['2020-01-01 02:46:39', '2020-01-01 05:33:19', '2020-01-01 08:19:59', '2020-01-01 11:06:39', '2020-01-01 13:53:19', '2020-01-01 16:39:59', '2020-01-01 19:26:39', '2020-01-01 22:13:19', '2020-01-01 23:59:59']\n",
      "seq_col: time\n",
      "piece_name_len: 8\n",
      "colnames: ['time', 'day', 'num'] , row_cnt: 43200\n",
      "row_cnts: [5000, 5000, 5000, 5000, 5000, 5000, 5000, 5000, 3200]\n",
      "actions: ['', '', '', '', '', '', '', '', ''] , action_params: [None, None, None, None, None, None, None, None, None]\n",
      "cache: [7, 8, 0] , cache_config: {'rows_in_cache': None, 'len_of_cache': 3}\n",
      "dfs: ['Non-emtpy', 'Non-emtpy', 'Non-emtpy', 'Non-emtpy', 'Non-emtpy', 'Non-emtpy', 'Non-emtpy', 'Non-emtpy', 'Non-emtpy']\n",
      "datetime_format: %Y-%m-%d %H:%M:%S\n",
      "seq_col dtype used in read_csv: <class 'str'>\n",
      "seq_col date type (in tuple): (<class 'datetime.datetime'>, <class 'pandas._libs.tslibs.timestamps.Timestamp'>)\n"
     ]
    }
   ],
   "source": [
    "B = np.array(range(len(stsfefs_del6)))%2 == 0\n",
    "\n",
    "del stsfefs_del6[B]\n",
    "print(stsfefs_del6.tsfefs.export_dataframe())\n",
    "stsfefs_del6.print_info()\n"
   ]
  },
  {
   "cell_type": "markdown",
   "id": "4ab16184",
   "metadata": {},
   "source": [
    " "
   ]
  },
  {
   "cell_type": "markdown",
   "id": "54893795",
   "metadata": {},
   "source": [
    "# 7. Delete by some indices s.t. 1 dfs will be empty. Will file be removed?\n"
   ]
  },
  {
   "cell_type": "markdown",
   "id": "e5e3952e",
   "metadata": {},
   "source": [
    "<b> Let's delete the 1st dfs. "
   ]
  },
  {
   "cell_type": "code",
   "execution_count": 12,
   "id": "87e0da8b",
   "metadata": {},
   "outputs": [
    {
     "name": "stdout",
     "output_type": "stream",
     "text": [
      "File_supposed_to_be_deleted: fiztikez\n",
      "File currently exists.\n"
     ]
    }
   ],
   "source": [
    "f = stsfefs_del7.tsfefs.pieces[1]\n",
    "print(\"File_supposed_to_be_deleted:\", f)\n",
    "\n",
    "fullpath = \"%s/%s.%s\"%(stsfefs_del7.tsfefs.path, stsfefs_del7.tsfefs.name, TSFEFS.extension)\n",
    "fullname = \"%s/%s\"%(fullpath, f)\n",
    "if os.path.isfile(fullname):\n",
    "    print(\"File currently exists.\")\n",
    "else:\n",
    "    print(\"File doesn't exist.\")\n",
    "    assert False\n"
   ]
  },
  {
   "cell_type": "code",
   "execution_count": 13,
   "id": "6cf4eb79",
   "metadata": {},
   "outputs": [
    {
     "name": "stdout",
     "output_type": "stream",
     "text": [
      "                     time  day   num\n",
      "0     2020-01-01 00:00:00    1  2022\n",
      "1     2020-01-01 00:00:01    1  2023\n",
      "2     2020-01-01 00:00:02    1  2024\n",
      "3     2020-01-01 00:00:03    1  2025\n",
      "4     2020-01-01 00:00:04    1  2026\n",
      "...                   ...  ...   ...\n",
      "76396 2020-01-01 23:59:56    1  2160\n",
      "76397 2020-01-01 23:59:57    1  2161\n",
      "76398 2020-01-01 23:59:58    1  2162\n",
      "76399 2020-01-01 23:59:59    1  2163\n",
      "76400 2020-01-02 00:00:00    2  2023\n",
      "\n",
      "[76401 rows x 3 columns]\n",
      "path: /Users/yeehinleung/Documents/GreekIsGood/Products/repos/TSFEFS/2. test SafeTSFEFS , name: del7\n",
      "pieces: ['sonafuij', 'mpbkkift', 'rrfbqxih', 'upbyrxyk', 'ikguhtyg', 'ncwebixq', 'wnfhvytj', 'etovqeyn']\n",
      "types: ['csv', 'csv', 'csv', 'csv', 'csv', 'csv', 'csv', 'csv']\n",
      "fr: 2020-01-01 00:00:00 , to: 2020-01-02 00:00:00\n",
      "frs: ['2020-01-01 00:00:00', '2020-01-01 05:33:20', '2020-01-01 08:20:00', '2020-01-01 11:06:40', '2020-01-01 13:53:20', '2020-01-01 16:40:00', '2020-01-01 19:26:40', '2020-01-01 22:13:20']\n",
      "tos: ['2020-01-01 02:46:39', '2020-01-01 08:19:59', '2020-01-01 11:06:39', '2020-01-01 13:53:19', '2020-01-01 16:39:59', '2020-01-01 19:26:39', '2020-01-01 22:13:19', '2020-01-02 00:00:00']\n",
      "seq_col: time\n",
      "piece_name_len: 8\n",
      "colnames: ['time', 'day', 'num'] , row_cnt: 76401\n",
      "row_cnts: [10000, 10000, 10000, 10000, 10000, 10000, 10000, 6401]\n",
      "actions: ['', '', '', '', '', '', '', ''] , action_params: [None, None, None, None, None, None, None, None]\n",
      "cache: [6, 7, 0] , cache_config: {'rows_in_cache': None, 'len_of_cache': 3}\n",
      "dfs: ['Non-emtpy', 'Non-emtpy', 'Non-emtpy', 'Non-emtpy', 'Non-emtpy', 'Non-emtpy', 'Non-emtpy', 'Non-emtpy']\n",
      "datetime_format: %Y-%m-%d %H:%M:%S\n",
      "seq_col dtype used in read_csv: <class 'str'>\n",
      "seq_col date type (in tuple): (<class 'datetime.datetime'>, <class 'pandas._libs.tslibs.timestamps.Timestamp'>)\n"
     ]
    }
   ],
   "source": [
    "indices = list(range(10000,20000))\n",
    "del stsfefs_del7[indices]\n",
    "print(stsfefs_del7.tsfefs.export_dataframe())\n",
    "stsfefs_del7.print_info()\n"
   ]
  },
  {
   "cell_type": "code",
   "execution_count": 14,
   "id": "197cd005",
   "metadata": {},
   "outputs": [
    {
     "name": "stdout",
     "output_type": "stream",
     "text": [
      "File removed.\n"
     ]
    }
   ],
   "source": [
    "if os.path.isfile(fullname):\n",
    "    print(\"File still exists.\")\n",
    "    assert False\n",
    "else:\n",
    "    print(\"File removed.\")\n"
   ]
  },
  {
   "cell_type": "markdown",
   "id": "0df16579",
   "metadata": {},
   "source": [
    " "
   ]
  },
  {
   "cell_type": "markdown",
   "id": "a9ba50fc",
   "metadata": {},
   "source": [
    "# 8. Delete all those in cache, what will the cache become?\n"
   ]
  },
  {
   "cell_type": "markdown",
   "id": "2418d12b",
   "metadata": {},
   "source": [
    "<b> In cache those are the 0th, 7th, and 8th dfs."
   ]
  },
  {
   "cell_type": "code",
   "execution_count": 15,
   "id": "50e0c81b",
   "metadata": {},
   "outputs": [
    {
     "name": "stdout",
     "output_type": "stream",
     "text": [
      "                     time  day   num\n",
      "0     2020-01-01 02:46:40    1  2110\n",
      "1     2020-01-01 02:46:41    1  2111\n",
      "2     2020-01-01 02:46:42    1  2112\n",
      "3     2020-01-01 02:46:43    1  2113\n",
      "4     2020-01-01 02:46:44    1  2114\n",
      "...                   ...  ...   ...\n",
      "59995 2020-01-01 19:26:35    1  2102\n",
      "59996 2020-01-01 19:26:36    1  2103\n",
      "59997 2020-01-01 19:26:37    1  2104\n",
      "59998 2020-01-01 19:26:38    1  2105\n",
      "59999 2020-01-01 19:26:39    1  2106\n",
      "\n",
      "[60000 rows x 3 columns]\n",
      "path: /Users/yeehinleung/Documents/GreekIsGood/Products/repos/TSFEFS/2. test SafeTSFEFS , name: del8\n",
      "pieces: ['fiztikez', 'mpbkkift', 'rrfbqxih', 'upbyrxyk', 'ikguhtyg', 'ncwebixq']\n",
      "types: ['csv', 'csv', 'csv', 'csv', 'csv', 'csv']\n",
      "fr: 2020-01-01 02:46:40 , to: 2020-01-01 19:26:39\n",
      "frs: ['2020-01-01 02:46:40', '2020-01-01 05:33:20', '2020-01-01 08:20:00', '2020-01-01 11:06:40', '2020-01-01 13:53:20', '2020-01-01 16:40:00']\n",
      "tos: ['2020-01-01 05:33:19', '2020-01-01 08:19:59', '2020-01-01 11:06:39', '2020-01-01 13:53:19', '2020-01-01 16:39:59', '2020-01-01 19:26:39']\n",
      "seq_col: time\n",
      "piece_name_len: 8\n",
      "colnames: ['time', 'day', 'num'] , row_cnt: 60000\n",
      "row_cnts: [10000, 10000, 10000, 10000, 10000, 10000]\n",
      "actions: ['', '', '', '', '', ''] , action_params: [None, None, None, None, None, None]\n",
      "cache: [] , cache_config: {'rows_in_cache': None, 'len_of_cache': 3}\n",
      "dfs: ['Non-emtpy', 'Non-emtpy', 'Non-emtpy', 'Non-emtpy', 'Non-emtpy', 'Non-emtpy']\n",
      "datetime_format: %Y-%m-%d %H:%M:%S\n",
      "seq_col dtype used in read_csv: <class 'str'>\n",
      "seq_col date type (in tuple): (<class 'datetime.datetime'>, <class 'pandas._libs.tslibs.timestamps.Timestamp'>)\n"
     ]
    }
   ],
   "source": [
    "indices = list(range(10000)) + list(range(70000, 80000)) + list(range(80000, 86401))\n",
    "\n",
    "del stsfefs_del8[indices]\n",
    "print(stsfefs_del8.tsfefs.export_dataframe())\n",
    "stsfefs_del8.print_info()\n"
   ]
  },
  {
   "cell_type": "markdown",
   "id": "b40a4086",
   "metadata": {},
   "source": [
    " "
   ]
  },
  {
   "cell_type": "markdown",
   "id": "658ba8cc",
   "metadata": {},
   "source": [
    "# 9. Delete entire by indices, what will remain?\n"
   ]
  },
  {
   "cell_type": "code",
   "execution_count": 16,
   "id": "433c367a",
   "metadata": {},
   "outputs": [
    {
     "name": "stdout",
     "output_type": "stream",
     "text": [
      "Empty DataFrame\n",
      "Columns: []\n",
      "Index: []\n",
      "path: /Users/yeehinleung/Documents/GreekIsGood/Products/repos/TSFEFS/2. test SafeTSFEFS , name: del9\n",
      "pieces: []\n",
      "types: []\n",
      "fr: None , to: None\n",
      "frs: []\n",
      "tos: []\n",
      "seq_col: time\n",
      "piece_name_len: 8\n",
      "colnames: ['time', 'day', 'num'] , row_cnt: 0\n",
      "row_cnts: []\n",
      "actions: [] , action_params: []\n",
      "cache: [] , cache_config: {'rows_in_cache': None, 'len_of_cache': 3}\n",
      "dfs: []\n",
      "datetime_format: %Y-%m-%d %H:%M:%S\n",
      "seq_col dtype used in read_csv: <class 'str'>\n",
      "seq_col date type (in tuple): (<class 'datetime.datetime'>, <class 'pandas._libs.tslibs.timestamps.Timestamp'>)\n"
     ]
    }
   ],
   "source": [
    "del stsfefs_del9[:]\n",
    "print(stsfefs_del9.tsfefs.export_dataframe())\n",
    "stsfefs_del9.print_info()\n"
   ]
  },
  {
   "cell_type": "markdown",
   "id": "88e496e0",
   "metadata": {},
   "source": [
    "<b> Can such empty tsfefs still functioning well, like adding a df?"
   ]
  },
  {
   "cell_type": "code",
   "execution_count": 17,
   "id": "5034552d",
   "metadata": {},
   "outputs": [
    {
     "name": "stdout",
     "output_type": "stream",
     "text": [
      "path: /Users/yeehinleung/Documents/GreekIsGood/Products/repos/TSFEFS/2. test SafeTSFEFS , name: del9\n",
      "pieces: ['fkoxodbs', 'cyxliotm', 'pvlkxguw', 'kaotiryd', 'ueeafmaz', 'akkifvay', 'hvaptwgw', 'yrwkzssw', 'yrlkmepg']\n",
      "types: ['csv', 'csv', 'csv', 'csv', 'csv', 'csv', 'csv', 'csv', 'csv']\n",
      "fr: 2020-01-01 00:00:00 , to: 2020-01-02 00:00:00\n",
      "frs: ['2020-01-01 00:00:00', '2020-01-01 02:46:40', '2020-01-01 05:33:20', '2020-01-01 08:20:00', '2020-01-01 11:06:40', '2020-01-01 13:53:20', '2020-01-01 16:40:00', '2020-01-01 19:26:40', '2020-01-01 22:13:20']\n",
      "tos: ['2020-01-01 02:46:39', '2020-01-01 05:33:19', '2020-01-01 08:19:59', '2020-01-01 11:06:39', '2020-01-01 13:53:19', '2020-01-01 16:39:59', '2020-01-01 19:26:39', '2020-01-01 22:13:19', '2020-01-02 00:00:00']\n",
      "seq_col: time\n",
      "piece_name_len: 8\n",
      "colnames: ['time', 'day', 'num'] , row_cnt: 86401\n",
      "row_cnts: [10000, 10000, 10000, 10000, 10000, 10000, 10000, 10000, 6401]\n",
      "actions: ['', '', '', '', '', '', '', '', ''] , action_params: [None, None, None, None, None, None, None, None, None]\n",
      "cache: [7, 8, 0] , cache_config: {'rows_in_cache': None, 'len_of_cache': 3}\n",
      "dfs: ['Non-emtpy', None, None, None, None, None, None, 'Non-emtpy', 'Non-emtpy']\n",
      "datetime_format: %Y-%m-%d %H:%M:%S\n",
      "seq_col dtype used in read_csv: <class 'str'>\n",
      "seq_col date type (in tuple): (<class 'datetime.datetime'>, <class 'pandas._libs.tslibs.timestamps.Timestamp'>)\n"
     ]
    }
   ],
   "source": [
    "stsfefs_del9 += df\n",
    "stsfefs_del9.print_info()\n"
   ]
  },
  {
   "cell_type": "markdown",
   "id": "109271e6",
   "metadata": {},
   "source": [
    " "
   ]
  },
  {
   "cell_type": "markdown",
   "id": "f90b43aa",
   "metadata": {},
   "source": [
    " "
   ]
  },
  {
   "cell_type": "code",
   "execution_count": 18,
   "id": "9a4c1131",
   "metadata": {},
   "outputs": [],
   "source": [
    "stsfefs_del9.remove()\n",
    "stsfefs_del8.remove()\n",
    "stsfefs_del7.remove()\n",
    "stsfefs_del6.remove()\n",
    "stsfefs_del5.remove()\n",
    "stsfefs_del4.remove()\n",
    "stsfefs_del3.remove()\n",
    "stsfefs_del2.remove()\n",
    "stsfefs_del1.remove()\n",
    "\n",
    "stsfefs_base.remove()\n",
    "tsfefs_dummy.remove()\n"
   ]
  },
  {
   "cell_type": "code",
   "execution_count": null,
   "id": "33b60b36",
   "metadata": {},
   "outputs": [],
   "source": []
  }
 ],
 "metadata": {
  "kernelspec": {
   "display_name": "Python 3 (ipykernel)",
   "language": "python",
   "name": "python3"
  },
  "language_info": {
   "codemirror_mode": {
    "name": "ipython",
    "version": 3
   },
   "file_extension": ".py",
   "mimetype": "text/x-python",
   "name": "python",
   "nbconvert_exporter": "python",
   "pygments_lexer": "ipython3",
   "version": "3.10.5"
  }
 },
 "nbformat": 4,
 "nbformat_minor": 5
}
