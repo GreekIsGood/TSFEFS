{
 "cells": [
  {
   "cell_type": "code",
   "execution_count": 1,
   "id": "07875814",
   "metadata": {},
   "outputs": [],
   "source": [
    "import pandas as pd\n",
    "import numpy as np\n",
    "from datetime import datetime as dt, timedelta as td\n",
    "\n",
    "import json\n",
    "import random\n",
    "import string\n",
    "\n",
    "from copy import deepcopy as dc\n",
    "import os\n",
    "\n",
    "from SafeTSFEFS import *\n"
   ]
  },
  {
   "cell_type": "markdown",
   "id": "073dc716",
   "metadata": {},
   "source": [
    "# Get Test Strategy: \n",
    "## - create a base stsfefs with >= 3 columns,\n",
    "## - clone to each test case."
   ]
  },
  {
   "cell_type": "code",
   "execution_count": 2,
   "id": "0a380f69",
   "metadata": {},
   "outputs": [],
   "source": [
    "# dict_meta = {\n",
    "#     \"piece_name_len\": 8,\n",
    "#     \"time_col\": \"time\", \"datetime_format\": \"%Y-%m-%d %H:%M:%S\", \n",
    "#     \"max_row_per_piece\": 20000,\n",
    "#     \"colnames\":[\"time\",\"day\",\"num\"],\n",
    "#     \"cache_config\":{\"rows_in_cache\":None,\"len_of_cache\":3}\n",
    "# }\n",
    "\n",
    "dict_meta = {\n",
    "    \"piece_name_len\": 8,\n",
    "    \"datetime_format\": \"%Y-%m-%d %H:%M:%S\", \n",
    "    \"max_row_per_piece\": 20000,\n",
    "    \"cache_config\":{\"rows_in_cache\":None,\"len_of_cache\":3}\n",
    "}\n"
   ]
  },
  {
   "cell_type": "code",
   "execution_count": 3,
   "id": "a97f9c32",
   "metadata": {},
   "outputs": [
    {
     "name": "stdout",
     "output_type": "stream",
     "text": [
      "2020-01-01 00:00:00 2020-01-02 00:00:00\n"
     ]
    }
   ],
   "source": [
    "fr, to = \"2020-01-01 00:00:00\", \"2020-01-02 00:00:00\"\n",
    "datetime_format = dict_meta[\"datetime_format\"]\n",
    "fr = dt.strptime(fr,datetime_format)\n",
    "to = dt.strptime(to,datetime_format)\n",
    "ts_gap = (to - fr)\n",
    "seconds = ts_gap.seconds + ts_gap.days*24*60*60\n",
    "# print(seconds)\n",
    "\n",
    "tss = [ fr + td(seconds=i) for i in range(seconds+1) ]\n",
    "print(min(tss),max(tss))\n",
    "# time_col = dict_meta[\"time_col\"]\n",
    "df = pd.DataFrame({\"time\":tss})\n",
    "df[\"day\"] = df[\"time\"].apply(lambda x: int(x.strftime(\"%d\")))\n",
    "df[\"num\"] = df[\"time\"].apply(lambda x: int(x.strftime(\"%Y\")) + int(x.strftime(\"%m\")) + int(x.strftime(\"%d\")) \\\n",
    "                     + int(x.strftime(\"%H\")) + int(x.strftime(\"%M\")) + int(x.strftime(\"%S\")))\n"
   ]
  },
  {
   "cell_type": "code",
   "execution_count": 4,
   "id": "b3ba1b5d",
   "metadata": {},
   "outputs": [
    {
     "name": "stdout",
     "output_type": "stream",
     "text": [
      "path: /Users/yeehinleung/Documents/GreekIsGood/Products/TSFEFS/test SafeTSFEFS , name: base\n",
      "pieces: ['zlwjcvjg']\n",
      "fr: 2020-01-01 00:00:00 , to: 2020-01-02 00:00:00\n",
      "frs: ['2020-01-01 00:00:00']\n",
      "tos: ['2020-01-02 00:00:00']\n",
      "types: ['csv']\n",
      "time_col: time , datetime_format: %Y-%m-%d %H:%M:%S\n",
      "piece_name_len: 8\n",
      "colnames: ['time', 'day', 'num'] , row_cnt: 86401\n",
      "row_cnts: [86401]\n",
      "actions: [''] , action_params: [None]\n",
      "cache: [0] , cache_config: {'rows_in_cache': None, 'len_of_cache': 3}\n"
     ]
    }
   ],
   "source": [
    "stsfefs_base = SafeTSFEFS(os.getcwd(), \"base\", time_col=\"time\", datetime_format=datetime_format, df=df)\n",
    "stsfefs_base.print_tsfefs_info()\n"
   ]
  },
  {
   "cell_type": "markdown",
   "id": "6167f38e",
   "metadata": {},
   "source": [
    "# Get Test Plan\n",
    "# 1. Get column [\"day\"], check type, check cache.\n",
    "# 2. Get columns [\"day\",\"num\"], check type, check cache.\n",
    "# 3. Get some rows by indices, check cache.\n",
    "# 4. Filter some timestamps, get those rows by booleans, check cache.\n",
    "# 5. Get some rows, followed by getting columns [\"day\",\"num\"], check cache.\n",
    "# 6. Getting columns [\"day\",\"num\"], followed by getting some rows, check cache. Compare with 5.\n"
   ]
  },
  {
   "cell_type": "code",
   "execution_count": 5,
   "id": "e89cac9f",
   "metadata": {},
   "outputs": [],
   "source": [
    "stsfefs_get1 = stsfefs_base.clone(stsfefs_base.tsfefs.path, \"get1\")\n",
    "stsfefs_get2 = stsfefs_base.clone(stsfefs_base.tsfefs.path, \"get2\")\n",
    "stsfefs_get3 = stsfefs_base.clone(stsfefs_base.tsfefs.path, \"get3\")\n",
    "stsfefs_get4 = stsfefs_base.clone(stsfefs_base.tsfefs.path, \"get4\")\n",
    "stsfefs_get5 = stsfefs_base.clone(stsfefs_base.tsfefs.path, \"get5\")\n",
    "stsfefs_get6 = stsfefs_base.clone(stsfefs_base.tsfefs.path, \"get6\")\n"
   ]
  },
  {
   "cell_type": "markdown",
   "id": "769e9743",
   "metadata": {},
   "source": [
    "# 1. Get column [\"day\"], check type, check cache.\n"
   ]
  },
  {
   "cell_type": "code",
   "execution_count": 6,
   "id": "9c26ac6d",
   "metadata": {},
   "outputs": [
    {
     "name": "stdout",
     "output_type": "stream",
     "text": [
      "0        1\n",
      "1        1\n",
      "2        1\n",
      "3        1\n",
      "4        1\n",
      "        ..\n",
      "86396    1\n",
      "86397    1\n",
      "86398    1\n",
      "86399    1\n",
      "86400    2\n",
      "Name: day, Length: 86401, dtype: int64\n",
      "<class 'pandas.core.series.Series'>\n",
      "path: /Users/yeehinleung/Documents/GreekIsGood/Products/TSFEFS/test SafeTSFEFS , name: get1\n",
      "pieces: ['zlwjcvjg']\n",
      "fr: 2020-01-01 00:00:00 , to: 2020-01-02 00:00:00\n",
      "frs: ['2020-01-01 00:00:00']\n",
      "tos: ['2020-01-02 00:00:00']\n",
      "types: ['csv']\n",
      "time_col: time , datetime_format: %Y-%m-%d %H:%M:%S\n",
      "piece_name_len: 8\n",
      "colnames: ['time', 'day', 'num'] , row_cnt: 86401\n",
      "row_cnts: [86401]\n",
      "actions: [''] , action_params: [None]\n",
      "cache: [0] , cache_config: {'rows_in_cache': None, 'len_of_cache': 3}\n"
     ]
    }
   ],
   "source": [
    "day = stsfefs_get1[\"day\"]\n",
    "print(day)\n",
    "print(type(day))\n",
    "stsfefs_get1.print_tsfefs_info()\n"
   ]
  },
  {
   "cell_type": "markdown",
   "id": "d20e7734",
   "metadata": {},
   "source": [
    "# 2. Get columns [\"day\",\"num\"], check type, check cache."
   ]
  },
  {
   "cell_type": "code",
   "execution_count": 7,
   "id": "d6055533",
   "metadata": {},
   "outputs": [
    {
     "name": "stdout",
     "output_type": "stream",
     "text": [
      "       day   num\n",
      "0        1  2022\n",
      "1        1  2023\n",
      "2        1  2024\n",
      "3        1  2025\n",
      "4        1  2026\n",
      "...    ...   ...\n",
      "86396    1  2160\n",
      "86397    1  2161\n",
      "86398    1  2162\n",
      "86399    1  2163\n",
      "86400    2  2023\n",
      "\n",
      "[86401 rows x 2 columns]\n",
      "<class 'pandas.core.frame.DataFrame'>\n",
      "path: /Users/yeehinleung/Documents/GreekIsGood/Products/TSFEFS/test SafeTSFEFS , name: get2\n",
      "pieces: ['zlwjcvjg']\n",
      "fr: 2020-01-01 00:00:00 , to: 2020-01-02 00:00:00\n",
      "frs: ['2020-01-01 00:00:00']\n",
      "tos: ['2020-01-02 00:00:00']\n",
      "types: ['csv']\n",
      "time_col: time , datetime_format: %Y-%m-%d %H:%M:%S\n",
      "piece_name_len: 8\n",
      "colnames: ['time', 'day', 'num'] , row_cnt: 86401\n",
      "row_cnts: [86401]\n",
      "actions: [''] , action_params: [None]\n",
      "cache: [0] , cache_config: {'rows_in_cache': None, 'len_of_cache': 3}\n"
     ]
    }
   ],
   "source": [
    "df_ = stsfefs_get2[[\"day\",\"num\"]]\n",
    "print(df_)\n",
    "print(type(df_))\n",
    "stsfefs_get2.print_tsfefs_info()\n"
   ]
  },
  {
   "cell_type": "markdown",
   "id": "c1f950c2",
   "metadata": {},
   "source": [
    "# 3. Get some rows by indices, check cache.\n"
   ]
  },
  {
   "cell_type": "markdown",
   "id": "e65e9251",
   "metadata": {},
   "source": [
    "<b> Since the cache from base is: [7, 8, 0], so let's try to touch the 5th, 6th, and 7th dfs.\n",
    "   "
   ]
  },
  {
   "cell_type": "code",
   "execution_count": 8,
   "id": "f184e609",
   "metadata": {},
   "outputs": [
    {
     "name": "stdout",
     "output_type": "stream",
     "text": [
      "                     time  day   num\n",
      "50001 2020-01-01 13:53:21    1  2109\n",
      "50002 2020-01-01 13:53:22    1  2110\n",
      "50003 2020-01-01 13:53:23    1  2111\n",
      "50004 2020-01-01 13:53:24    1  2112\n",
      "50005 2020-01-01 13:53:25    1  2113\n",
      "...                   ...  ...   ...\n",
      "79994 2020-01-01 22:13:14    1  2071\n",
      "79995 2020-01-01 22:13:15    1  2072\n",
      "79996 2020-01-01 22:13:16    1  2073\n",
      "79997 2020-01-01 22:13:17    1  2074\n",
      "79998 2020-01-01 22:13:18    1  2075\n",
      "\n",
      "[29998 rows x 3 columns]\n",
      "<class 'pandas.core.frame.DataFrame'>\n",
      "path: /Users/yeehinleung/Documents/GreekIsGood/Products/TSFEFS/test SafeTSFEFS , name: get3\n",
      "pieces: ['zlwjcvjg']\n",
      "fr: 2020-01-01 00:00:00 , to: 2020-01-02 00:00:00\n",
      "frs: ['2020-01-01 00:00:00']\n",
      "tos: ['2020-01-02 00:00:00']\n",
      "types: ['csv']\n",
      "time_col: time , datetime_format: %Y-%m-%d %H:%M:%S\n",
      "piece_name_len: 8\n",
      "colnames: ['time', 'day', 'num'] , row_cnt: 86401\n",
      "row_cnts: [86401]\n",
      "actions: [''] , action_params: [None]\n",
      "cache: [0] , cache_config: {'rows_in_cache': None, 'len_of_cache': 3}\n"
     ]
    }
   ],
   "source": [
    "df_ = stsfefs_get3[50001:79999]\n",
    "print(df_)\n",
    "print(type(df_))\n",
    "stsfefs_get3.print_tsfefs_info()\n"
   ]
  },
  {
   "cell_type": "markdown",
   "id": "6651a772",
   "metadata": {},
   "source": [
    "# 4. Filter some timestamps, get those rows by booleans, check cache.\n"
   ]
  },
  {
   "cell_type": "markdown",
   "id": "10683b4c",
   "metadata": {},
   "source": [
    "<b> Target the times of the 3rd, 4th, and 6th dfs.<br>\n",
    "<b> 3rd: ['2020-01-01 08:20:00', '2020-01-01 11:06:39']<br>\n",
    "<b> 4th: ['2020-01-01 11:06:40', '2020-01-01 13:53:19']<br>\n",
    "<b> 6th: ['2020-01-01 16:40:00', '2020-01-01 19:26:39']<br>"
   ]
  },
  {
   "cell_type": "code",
   "execution_count": 9,
   "id": "5adf45fc",
   "metadata": {},
   "outputs": [
    {
     "name": "stdout",
     "output_type": "stream",
     "text": [
      "9\n"
     ]
    }
   ],
   "source": [
    "ts1 = dt.strptime(\"2020-01-01 10:00:01\",dict_meta[\"datetime_format\"])\n",
    "ts2 = dt.strptime(\"2020-01-01 10:00:05\",dict_meta[\"datetime_format\"])\n",
    "B1 = (stsfefs_get4 > ts1) & (stsfefs_get4 < ts2) # 3 records suppose\n",
    "\n",
    "ts1 = dt.strptime(\"2020-01-01 12:00:01\",dict_meta[\"datetime_format\"])\n",
    "ts2 = dt.strptime(\"2020-01-01 12:00:05\",dict_meta[\"datetime_format\"])\n",
    "B2 = (stsfefs_get4 > ts1) & (stsfefs_get4 < ts2) # 3 records suppose\n",
    "\n",
    "ts1 = dt.strptime(\"2020-01-01 17:00:01\",dict_meta[\"datetime_format\"])\n",
    "ts2 = dt.strptime(\"2020-01-01 17:00:05\",dict_meta[\"datetime_format\"])\n",
    "B3 = (stsfefs_get4 > ts1) & (stsfefs_get4 < ts2) # 3 records suppose\n",
    "\n",
    "B = B1 | B2 | B3\n",
    "print(sum(B))\n"
   ]
  },
  {
   "cell_type": "code",
   "execution_count": 10,
   "id": "55a72157",
   "metadata": {},
   "outputs": [
    {
     "name": "stdout",
     "output_type": "stream",
     "text": [
      "                     time  day   num\n",
      "36002 2020-01-01 10:00:02    1  2034\n",
      "36003 2020-01-01 10:00:03    1  2035\n",
      "36004 2020-01-01 10:00:04    1  2036\n",
      "43202 2020-01-01 12:00:02    1  2036\n",
      "43203 2020-01-01 12:00:03    1  2037\n",
      "43204 2020-01-01 12:00:04    1  2038\n",
      "61202 2020-01-01 17:00:02    1  2041\n",
      "61203 2020-01-01 17:00:03    1  2042\n",
      "61204 2020-01-01 17:00:04    1  2043\n",
      "<class 'pandas.core.frame.DataFrame'>\n",
      "path: /Users/yeehinleung/Documents/GreekIsGood/Products/TSFEFS/test SafeTSFEFS , name: get4\n",
      "pieces: ['zlwjcvjg']\n",
      "fr: 2020-01-01 00:00:00 , to: 2020-01-02 00:00:00\n",
      "frs: ['2020-01-01 00:00:00']\n",
      "tos: ['2020-01-02 00:00:00']\n",
      "types: ['csv']\n",
      "time_col: time , datetime_format: %Y-%m-%d %H:%M:%S\n",
      "piece_name_len: 8\n",
      "colnames: ['time', 'day', 'num'] , row_cnt: 86401\n",
      "row_cnts: [86401]\n",
      "actions: [''] , action_params: [None]\n",
      "cache: [0] , cache_config: {'rows_in_cache': None, 'len_of_cache': 3}\n"
     ]
    }
   ],
   "source": [
    "df_ = stsfefs_get4[B]\n",
    "print(df_)\n",
    "print(type(df_))\n",
    "stsfefs_get4.print_tsfefs_info()\n"
   ]
  },
  {
   "cell_type": "markdown",
   "id": "ebe73445",
   "metadata": {},
   "source": [
    "# 5. Get some rows, followed by getting columns [\"day\",\"num\"], check cache.\n"
   ]
  },
  {
   "cell_type": "markdown",
   "id": "cfbcc5fc",
   "metadata": {},
   "source": [
    "<b> Use the same B as case 4."
   ]
  },
  {
   "cell_type": "code",
   "execution_count": 11,
   "id": "c4b9cdb5",
   "metadata": {},
   "outputs": [
    {
     "name": "stdout",
     "output_type": "stream",
     "text": [
      "       day   num\n",
      "36002    1  2034\n",
      "36003    1  2035\n",
      "36004    1  2036\n",
      "43202    1  2036\n",
      "43203    1  2037\n",
      "43204    1  2038\n",
      "61202    1  2041\n",
      "61203    1  2042\n",
      "61204    1  2043\n",
      "<class 'pandas.core.frame.DataFrame'>\n",
      "path: /Users/yeehinleung/Documents/GreekIsGood/Products/TSFEFS/test SafeTSFEFS , name: get5\n",
      "pieces: ['zlwjcvjg']\n",
      "fr: 2020-01-01 00:00:00 , to: 2020-01-02 00:00:00\n",
      "frs: ['2020-01-01 00:00:00']\n",
      "tos: ['2020-01-02 00:00:00']\n",
      "types: ['csv']\n",
      "time_col: time , datetime_format: %Y-%m-%d %H:%M:%S\n",
      "piece_name_len: 8\n",
      "colnames: ['time', 'day', 'num'] , row_cnt: 86401\n",
      "row_cnts: [86401]\n",
      "actions: [''] , action_params: [None]\n",
      "cache: [0] , cache_config: {'rows_in_cache': None, 'len_of_cache': 3}\n"
     ]
    }
   ],
   "source": [
    "df_ = stsfefs_get5[B][[\"day\",\"num\"]]\n",
    "print(df_)\n",
    "print(type(df_))\n",
    "stsfefs_get5.print_tsfefs_info()\n"
   ]
  },
  {
   "cell_type": "markdown",
   "id": "efda01e7",
   "metadata": {},
   "source": [
    "# 6. Getting columns [\"day\",\"num\"], followed by getting some rows, check cache. Compare with 5.\n"
   ]
  },
  {
   "cell_type": "markdown",
   "id": "516af4e0",
   "metadata": {},
   "source": [
    "<b> Same as case 5, switching the accessing order."
   ]
  },
  {
   "cell_type": "code",
   "execution_count": 12,
   "id": "7b5782d5",
   "metadata": {},
   "outputs": [
    {
     "name": "stdout",
     "output_type": "stream",
     "text": [
      "       day   num\n",
      "36002    1  2034\n",
      "36003    1  2035\n",
      "36004    1  2036\n",
      "43202    1  2036\n",
      "43203    1  2037\n",
      "43204    1  2038\n",
      "61202    1  2041\n",
      "61203    1  2042\n",
      "61204    1  2043\n",
      "<class 'pandas.core.frame.DataFrame'>\n",
      "path: /Users/yeehinleung/Documents/GreekIsGood/Products/TSFEFS/test SafeTSFEFS , name: get6\n",
      "pieces: ['zlwjcvjg']\n",
      "fr: 2020-01-01 00:00:00 , to: 2020-01-02 00:00:00\n",
      "frs: ['2020-01-01 00:00:00']\n",
      "tos: ['2020-01-02 00:00:00']\n",
      "types: ['csv']\n",
      "time_col: time , datetime_format: %Y-%m-%d %H:%M:%S\n",
      "piece_name_len: 8\n",
      "colnames: ['time', 'day', 'num'] , row_cnt: 86401\n",
      "row_cnts: [86401]\n",
      "actions: [''] , action_params: [None]\n",
      "cache: [0] , cache_config: {'rows_in_cache': None, 'len_of_cache': 3}\n"
     ]
    }
   ],
   "source": [
    "df_ = stsfefs_get6[[\"day\",\"num\"]][B]\n",
    "print(df_)\n",
    "print(type(df_))\n",
    "stsfefs_get6.print_tsfefs_info()\n"
   ]
  },
  {
   "cell_type": "markdown",
   "id": "5bffe0ef",
   "metadata": {},
   "source": [
    "<b> You can see the cache are completely different for case 5 & 6."
   ]
  },
  {
   "cell_type": "markdown",
   "id": "02e7b20d",
   "metadata": {},
   "source": [
    " "
   ]
  },
  {
   "cell_type": "code",
   "execution_count": 13,
   "id": "716e003c",
   "metadata": {},
   "outputs": [],
   "source": [
    "stsfefs_get6.remove()\n",
    "stsfefs_get5.remove()\n",
    "stsfefs_get4.remove()\n",
    "stsfefs_get3.remove()\n",
    "stsfefs_get2.remove()\n",
    "stsfefs_get1.remove()\n"
   ]
  },
  {
   "cell_type": "markdown",
   "id": "3e565719",
   "metadata": {},
   "source": [
    "# Set Test Strategy: \n",
    "## - use the same base,\n",
    "## - clone to each test case."
   ]
  },
  {
   "cell_type": "markdown",
   "id": "f93c257f",
   "metadata": {},
   "source": [
    " "
   ]
  },
  {
   "cell_type": "markdown",
   "id": "6a629199",
   "metadata": {},
   "source": [
    "# Set Test Plan\n",
    "# 1. Set new single columns by different types of values, check cache.\n",
    "# 2. Modify single columns by different types of values, check cache.\n",
    "# 3. Set new columns [\"day_root\",\"num_root\"], check cache.\n",
    "# 4. Modify columns [\"day\",\"num\"], check cache.\n",
    "# 5. Set some rows by indices, check cache.\n",
    "# 6. Filter some timestamps, set some rows by those booleans.\n"
   ]
  },
  {
   "cell_type": "code",
   "execution_count": 14,
   "id": "cd6e95a3",
   "metadata": {},
   "outputs": [],
   "source": [
    "stsfefs_set1 = stsfefs_base.clone(stsfefs_base.tsfefs.path, \"set1\")\n",
    "stsfefs_set2 = stsfefs_base.clone(stsfefs_base.tsfefs.path, \"set2\")\n",
    "stsfefs_set3 = stsfefs_base.clone(stsfefs_base.tsfefs.path, \"set3\")\n",
    "stsfefs_set4 = stsfefs_base.clone(stsfefs_base.tsfefs.path, \"set4\")\n",
    "stsfefs_set5 = stsfefs_base.clone(stsfefs_base.tsfefs.path, \"set5\")\n",
    "stsfefs_set6 = stsfefs_base.clone(stsfefs_base.tsfefs.path, \"set6\")\n"
   ]
  },
  {
   "cell_type": "markdown",
   "id": "39036a61",
   "metadata": {},
   "source": [
    "# 1. Set new single columns by different types of values, check cache.\n"
   ]
  },
  {
   "cell_type": "markdown",
   "id": "d98875b1",
   "metadata": {},
   "source": [
    "<b> Single value"
   ]
  },
  {
   "cell_type": "code",
   "execution_count": 15,
   "id": "377d050b",
   "metadata": {},
   "outputs": [
    {
     "name": "stdout",
     "output_type": "stream",
     "text": [
      "0        100\n",
      "1        100\n",
      "2        100\n",
      "3        100\n",
      "4        100\n",
      "        ... \n",
      "86396    100\n",
      "86397    100\n",
      "86398    100\n",
      "86399    100\n",
      "86400    100\n",
      "Name: new_col1, Length: 86401, dtype: int64\n",
      "path: /Users/yeehinleung/Documents/GreekIsGood/Products/TSFEFS/test SafeTSFEFS , name: set1\n",
      "pieces: ['zlwjcvjg']\n",
      "fr: 2020-01-01 00:00:00 , to: 2020-01-02 00:00:00\n",
      "frs: ['2020-01-01 00:00:00']\n",
      "tos: ['2020-01-02 00:00:00']\n",
      "types: ['csv']\n",
      "time_col: time , datetime_format: %Y-%m-%d %H:%M:%S\n",
      "piece_name_len: 8\n",
      "colnames: ['time', 'day', 'num', 'new_col1'] , row_cnt: 86401\n",
      "row_cnts: [86401]\n",
      "actions: [''] , action_params: [None]\n",
      "cache: [0] , cache_config: {'rows_in_cache': None, 'len_of_cache': 3}\n"
     ]
    }
   ],
   "source": [
    "stsfefs_set1[\"new_col1\"] = 100\n",
    "S = stsfefs_set1[\"new_col1\"]\n",
    "print(S)\n",
    "stsfefs_set1.print_tsfefs_info()\n"
   ]
  },
  {
   "cell_type": "markdown",
   "id": "f94d1e09",
   "metadata": {},
   "source": [
    "<b> pd.Series"
   ]
  },
  {
   "cell_type": "code",
   "execution_count": 16,
   "id": "1fa4990c",
   "metadata": {},
   "outputs": [
    {
     "name": "stdout",
     "output_type": "stream",
     "text": [
      "0        1.000000\n",
      "1        1.000000\n",
      "2        1.000000\n",
      "3        1.000000\n",
      "4        1.000000\n",
      "           ...   \n",
      "86396    1.000000\n",
      "86397    1.000000\n",
      "86398    1.000000\n",
      "86399    1.000000\n",
      "86400    1.414214\n",
      "Name: new_col2, Length: 86401, dtype: float64\n",
      "path: /Users/yeehinleung/Documents/GreekIsGood/Products/TSFEFS/test SafeTSFEFS , name: set1\n",
      "pieces: ['zlwjcvjg']\n",
      "fr: 2020-01-01 00:00:00 , to: 2020-01-02 00:00:00\n",
      "frs: ['2020-01-01 00:00:00']\n",
      "tos: ['2020-01-02 00:00:00']\n",
      "types: ['csv']\n",
      "time_col: time , datetime_format: %Y-%m-%d %H:%M:%S\n",
      "piece_name_len: 8\n",
      "colnames: ['time', 'day', 'num', 'new_col1', 'new_col2'] , row_cnt: 86401\n",
      "row_cnts: [86401]\n",
      "actions: [''] , action_params: [None]\n",
      "cache: [0] , cache_config: {'rows_in_cache': None, 'len_of_cache': 3}\n"
     ]
    }
   ],
   "source": [
    "S = stsfefs_set1[\"day\"]\n",
    "S = S**0.5\n",
    "stsfefs_set1[\"new_col2\"] = S\n",
    "S = stsfefs_set1[\"new_col2\"]\n",
    "print(S)\n",
    "stsfefs_set1.print_tsfefs_info()\n"
   ]
  },
  {
   "cell_type": "markdown",
   "id": "c75b2952",
   "metadata": {},
   "source": [
    "<b> range"
   ]
  },
  {
   "cell_type": "code",
   "execution_count": 17,
   "id": "33e62680",
   "metadata": {},
   "outputs": [
    {
     "name": "stdout",
     "output_type": "stream",
     "text": [
      "0            0\n",
      "1            1\n",
      "2            2\n",
      "3            3\n",
      "4            4\n",
      "         ...  \n",
      "86396    86396\n",
      "86397    86397\n",
      "86398    86398\n",
      "86399    86399\n",
      "86400    86400\n",
      "Name: new_col3, Length: 86401, dtype: int64\n",
      "path: /Users/yeehinleung/Documents/GreekIsGood/Products/TSFEFS/test SafeTSFEFS , name: set1\n",
      "pieces: ['zlwjcvjg']\n",
      "fr: 2020-01-01 00:00:00 , to: 2020-01-02 00:00:00\n",
      "frs: ['2020-01-01 00:00:00']\n",
      "tos: ['2020-01-02 00:00:00']\n",
      "types: ['csv']\n",
      "time_col: time , datetime_format: %Y-%m-%d %H:%M:%S\n",
      "piece_name_len: 8\n",
      "colnames: ['time', 'day', 'num', 'new_col1', 'new_col2', 'new_col3'] , row_cnt: 86401\n",
      "row_cnts: [86401]\n",
      "actions: [''] , action_params: [None]\n",
      "cache: [0] , cache_config: {'rows_in_cache': None, 'len_of_cache': 3}\n"
     ]
    }
   ],
   "source": [
    "stsfefs_set1[\"new_col3\"] = range(len(stsfefs_set1))\n",
    "S = stsfefs_set1[\"new_col3\"]\n",
    "print(S)\n",
    "stsfefs_set1.print_tsfefs_info()\n"
   ]
  },
  {
   "cell_type": "markdown",
   "id": "58289a5c",
   "metadata": {},
   "source": [
    "<b> list"
   ]
  },
  {
   "cell_type": "code",
   "execution_count": 18,
   "id": "3e51b5d0",
   "metadata": {},
   "outputs": [
    {
     "name": "stdout",
     "output_type": "stream",
     "text": [
      "0            0\n",
      "1            1\n",
      "2            2\n",
      "3            3\n",
      "4            4\n",
      "         ...  \n",
      "86396    86396\n",
      "86397    86397\n",
      "86398    86398\n",
      "86399    86399\n",
      "86400    86400\n",
      "Name: new_col4, Length: 86401, dtype: int64\n",
      "path: /Users/yeehinleung/Documents/GreekIsGood/Products/TSFEFS/test SafeTSFEFS , name: set1\n",
      "pieces: ['zlwjcvjg']\n",
      "fr: 2020-01-01 00:00:00 , to: 2020-01-02 00:00:00\n",
      "frs: ['2020-01-01 00:00:00']\n",
      "tos: ['2020-01-02 00:00:00']\n",
      "types: ['csv']\n",
      "time_col: time , datetime_format: %Y-%m-%d %H:%M:%S\n",
      "piece_name_len: 8\n",
      "colnames: ['time', 'day', 'num', 'new_col1', 'new_col2', 'new_col3', 'new_col4'] , row_cnt: 86401\n",
      "row_cnts: [86401]\n",
      "actions: [''] , action_params: [None]\n",
      "cache: [0] , cache_config: {'rows_in_cache': None, 'len_of_cache': 3}\n"
     ]
    }
   ],
   "source": [
    "stsfefs_set1[\"new_col4\"] = list(range(len(stsfefs_set1)))\n",
    "S = stsfefs_set1[\"new_col4\"]\n",
    "print(S)\n",
    "stsfefs_set1.print_tsfefs_info()\n"
   ]
  },
  {
   "cell_type": "markdown",
   "id": "eee485ad",
   "metadata": {},
   "source": [
    "<b> np.array"
   ]
  },
  {
   "cell_type": "code",
   "execution_count": 19,
   "id": "7c37183e",
   "metadata": {},
   "outputs": [
    {
     "name": "stdout",
     "output_type": "stream",
     "text": [
      "0            0\n",
      "1            1\n",
      "2            2\n",
      "3            3\n",
      "4            4\n",
      "         ...  \n",
      "86396    86396\n",
      "86397    86397\n",
      "86398    86398\n",
      "86399    86399\n",
      "86400    86400\n",
      "Name: new_col5, Length: 86401, dtype: int64\n",
      "path: /Users/yeehinleung/Documents/GreekIsGood/Products/TSFEFS/test SafeTSFEFS , name: set1\n",
      "pieces: ['zlwjcvjg']\n",
      "fr: 2020-01-01 00:00:00 , to: 2020-01-02 00:00:00\n",
      "frs: ['2020-01-01 00:00:00']\n",
      "tos: ['2020-01-02 00:00:00']\n",
      "types: ['csv']\n",
      "time_col: time , datetime_format: %Y-%m-%d %H:%M:%S\n",
      "piece_name_len: 8\n",
      "colnames: ['time', 'day', 'num', 'new_col1', 'new_col2', 'new_col3', 'new_col4', 'new_col5'] , row_cnt: 86401\n",
      "row_cnts: [86401]\n",
      "actions: [''] , action_params: [None]\n",
      "cache: [0] , cache_config: {'rows_in_cache': None, 'len_of_cache': 3}\n"
     ]
    }
   ],
   "source": [
    "stsfefs_set1[\"new_col5\"] = np.array(range(len(stsfefs_set1)))\n",
    "S = stsfefs_set1[\"new_col5\"]\n",
    "print(S)\n",
    "stsfefs_set1.print_tsfefs_info()\n"
   ]
  },
  {
   "cell_type": "markdown",
   "id": "7c36057b",
   "metadata": {},
   "source": [
    "<b> np.array, shape = (n,1) <-- DON'T !!!!"
   ]
  },
  {
   "cell_type": "code",
   "execution_count": 20,
   "id": "4d2e27f3",
   "metadata": {},
   "outputs": [
    {
     "name": "stdout",
     "output_type": "stream",
     "text": [
      "(86401, 1)\n",
      "0            [0]\n",
      "1            [1]\n",
      "2            [2]\n",
      "3            [3]\n",
      "4            [4]\n",
      "          ...   \n",
      "86396    [86396]\n",
      "86397    [86397]\n",
      "86398    [86398]\n",
      "86399    [86399]\n",
      "86400    [86400]\n",
      "Name: new_col6, Length: 86401, dtype: object\n",
      "path: /Users/yeehinleung/Documents/GreekIsGood/Products/TSFEFS/test SafeTSFEFS , name: set1\n",
      "pieces: ['zlwjcvjg']\n",
      "fr: 2020-01-01 00:00:00 , to: 2020-01-02 00:00:00\n",
      "frs: ['2020-01-01 00:00:00']\n",
      "tos: ['2020-01-02 00:00:00']\n",
      "types: ['csv']\n",
      "time_col: time , datetime_format: %Y-%m-%d %H:%M:%S\n",
      "piece_name_len: 8\n",
      "colnames: ['time', 'day', 'num', 'new_col1', 'new_col2', 'new_col3', 'new_col4', 'new_col5', 'new_col6'] , row_cnt: 86401\n",
      "row_cnts: [86401]\n",
      "actions: [''] , action_params: [None]\n",
      "cache: [0] , cache_config: {'rows_in_cache': None, 'len_of_cache': 3}\n"
     ]
    }
   ],
   "source": [
    "arr = np.array(range(len(stsfefs_set1)))\n",
    "arr = arr.reshape(-1,1)\n",
    "print(arr.shape)\n",
    "stsfefs_set1[\"new_col6\"] = arr\n",
    "S = stsfefs_set1[\"new_col6\"]\n",
    "print(S)\n",
    "stsfefs_set1.print_tsfefs_info()\n"
   ]
  },
  {
   "cell_type": "markdown",
   "id": "2577d480",
   "metadata": {},
   "source": [
    "<b> Correct example of np.array, shape = (n,1)"
   ]
  },
  {
   "cell_type": "code",
   "execution_count": 21,
   "id": "ac4a707d",
   "metadata": {},
   "outputs": [
    {
     "name": "stdout",
     "output_type": "stream",
     "text": [
      "(86401, 1)\n",
      "0            0\n",
      "1            1\n",
      "2            2\n",
      "3            3\n",
      "4            4\n",
      "         ...  \n",
      "86396    86396\n",
      "86397    86397\n",
      "86398    86398\n",
      "86399    86399\n",
      "86400    86400\n",
      "Name: new_col6, Length: 86401, dtype: int64\n",
      "path: /Users/yeehinleung/Documents/GreekIsGood/Products/TSFEFS/test SafeTSFEFS , name: set1\n",
      "pieces: ['zlwjcvjg']\n",
      "fr: 2020-01-01 00:00:00 , to: 2020-01-02 00:00:00\n",
      "frs: ['2020-01-01 00:00:00']\n",
      "tos: ['2020-01-02 00:00:00']\n",
      "types: ['csv']\n",
      "time_col: time , datetime_format: %Y-%m-%d %H:%M:%S\n",
      "piece_name_len: 8\n",
      "colnames: ['time', 'day', 'num', 'new_col1', 'new_col2', 'new_col3', 'new_col4', 'new_col5', 'new_col6'] , row_cnt: 86401\n",
      "row_cnts: [86401]\n",
      "actions: [''] , action_params: [None]\n",
      "cache: [0] , cache_config: {'rows_in_cache': None, 'len_of_cache': 3}\n"
     ]
    }
   ],
   "source": [
    "arr = np.array(range(len(stsfefs_set1)))\n",
    "arr = arr.reshape(-1,1)\n",
    "print(arr.shape)\n",
    "stsfefs_set1[[\"new_col6\"]] = arr\n",
    "S = stsfefs_set1[\"new_col6\"]\n",
    "print(S)\n",
    "stsfefs_set1.print_tsfefs_info()\n"
   ]
  },
  {
   "cell_type": "markdown",
   "id": "f34bd08b",
   "metadata": {},
   "source": [
    "<b> DataFrame"
   ]
  },
  {
   "cell_type": "code",
   "execution_count": 22,
   "id": "4889a41a",
   "metadata": {},
   "outputs": [
    {
     "name": "stdout",
     "output_type": "stream",
     "text": [
      "0            0\n",
      "1            1\n",
      "2            2\n",
      "3            3\n",
      "4            4\n",
      "         ...  \n",
      "86396    86396\n",
      "86397    86397\n",
      "86398    86398\n",
      "86399    86399\n",
      "86400    86400\n",
      "Name: new_col7, Length: 86401, dtype: int64\n",
      "path: /Users/yeehinleung/Documents/GreekIsGood/Products/TSFEFS/test SafeTSFEFS , name: set1\n",
      "pieces: ['zlwjcvjg']\n",
      "fr: 2020-01-01 00:00:00 , to: 2020-01-02 00:00:00\n",
      "frs: ['2020-01-01 00:00:00']\n",
      "tos: ['2020-01-02 00:00:00']\n",
      "types: ['csv']\n",
      "time_col: time , datetime_format: %Y-%m-%d %H:%M:%S\n",
      "piece_name_len: 8\n",
      "colnames: ['time', 'day', 'num', 'new_col1', 'new_col2', 'new_col3', 'new_col4', 'new_col5', 'new_col6', 'new_col7'] , row_cnt: 86401\n",
      "row_cnts: [86401]\n",
      "actions: [''] , action_params: [None]\n",
      "cache: [0] , cache_config: {'rows_in_cache': None, 'len_of_cache': 3}\n"
     ]
    }
   ],
   "source": [
    "df_ = pd.DataFrame({\"dummy\":range(len(stsfefs_set1))})\n",
    "stsfefs_set1[\"new_col7\"] = df_\n",
    "S = stsfefs_set1[\"new_col7\"]\n",
    "print(S)\n",
    "stsfefs_set1.print_tsfefs_info()\n"
   ]
  },
  {
   "cell_type": "markdown",
   "id": "66056910",
   "metadata": {},
   "source": [
    " "
   ]
  },
  {
   "cell_type": "markdown",
   "id": "184abb77",
   "metadata": {},
   "source": [
    "# 2. Modify single columns by different types of values, check cache.\n"
   ]
  },
  {
   "cell_type": "markdown",
   "id": "95f7929d",
   "metadata": {},
   "source": [
    "<b> Single value"
   ]
  },
  {
   "cell_type": "code",
   "execution_count": 23,
   "id": "8a5b4116",
   "metadata": {},
   "outputs": [
    {
     "name": "stdout",
     "output_type": "stream",
     "text": [
      "0        100\n",
      "1        100\n",
      "2        100\n",
      "3        100\n",
      "4        100\n",
      "        ... \n",
      "86396    100\n",
      "86397    100\n",
      "86398    100\n",
      "86399    100\n",
      "86400    100\n",
      "Name: day, Length: 86401, dtype: int64\n",
      "path: /Users/yeehinleung/Documents/GreekIsGood/Products/TSFEFS/test SafeTSFEFS , name: set2\n",
      "pieces: ['zlwjcvjg']\n",
      "fr: 2020-01-01 00:00:00 , to: 2020-01-02 00:00:00\n",
      "frs: ['2020-01-01 00:00:00']\n",
      "tos: ['2020-01-02 00:00:00']\n",
      "types: ['csv']\n",
      "time_col: time , datetime_format: %Y-%m-%d %H:%M:%S\n",
      "piece_name_len: 8\n",
      "colnames: ['time', 'day', 'num'] , row_cnt: 86401\n",
      "row_cnts: [86401]\n",
      "actions: [''] , action_params: [None]\n",
      "cache: [0] , cache_config: {'rows_in_cache': None, 'len_of_cache': 3}\n"
     ]
    }
   ],
   "source": [
    "stsfefs_set2[\"day\"] = 100\n",
    "S = stsfefs_set2[\"day\"]\n",
    "print(S)\n",
    "stsfefs_set2.print_tsfefs_info()\n"
   ]
  },
  {
   "cell_type": "markdown",
   "id": "d361b2cc",
   "metadata": {},
   "source": [
    "<b> pd.Series"
   ]
  },
  {
   "cell_type": "code",
   "execution_count": 24,
   "id": "b68eabec",
   "metadata": {},
   "outputs": [
    {
     "name": "stdout",
     "output_type": "stream",
     "text": [
      "0        10.0\n",
      "1        10.0\n",
      "2        10.0\n",
      "3        10.0\n",
      "4        10.0\n",
      "         ... \n",
      "86396    10.0\n",
      "86397    10.0\n",
      "86398    10.0\n",
      "86399    10.0\n",
      "86400    10.0\n",
      "Name: day, Length: 86401, dtype: float64\n",
      "path: /Users/yeehinleung/Documents/GreekIsGood/Products/TSFEFS/test SafeTSFEFS , name: set2\n",
      "pieces: ['zlwjcvjg']\n",
      "fr: 2020-01-01 00:00:00 , to: 2020-01-02 00:00:00\n",
      "frs: ['2020-01-01 00:00:00']\n",
      "tos: ['2020-01-02 00:00:00']\n",
      "types: ['csv']\n",
      "time_col: time , datetime_format: %Y-%m-%d %H:%M:%S\n",
      "piece_name_len: 8\n",
      "colnames: ['time', 'day', 'num'] , row_cnt: 86401\n",
      "row_cnts: [86401]\n",
      "actions: [''] , action_params: [None]\n",
      "cache: [0] , cache_config: {'rows_in_cache': None, 'len_of_cache': 3}\n"
     ]
    }
   ],
   "source": [
    "S = stsfefs_set2[\"day\"]\n",
    "S = S**0.5\n",
    "stsfefs_set2[\"day\"] = S\n",
    "S = stsfefs_set2[\"day\"]\n",
    "print(S)\n",
    "stsfefs_set2.print_tsfefs_info()\n"
   ]
  },
  {
   "cell_type": "markdown",
   "id": "0cc6adde",
   "metadata": {},
   "source": [
    "<b> range"
   ]
  },
  {
   "cell_type": "code",
   "execution_count": 25,
   "id": "da78174c",
   "metadata": {},
   "outputs": [
    {
     "name": "stdout",
     "output_type": "stream",
     "text": [
      "0            0\n",
      "1            1\n",
      "2            2\n",
      "3            3\n",
      "4            4\n",
      "         ...  \n",
      "86396    86396\n",
      "86397    86397\n",
      "86398    86398\n",
      "86399    86399\n",
      "86400    86400\n",
      "Name: day, Length: 86401, dtype: int64\n",
      "path: /Users/yeehinleung/Documents/GreekIsGood/Products/TSFEFS/test SafeTSFEFS , name: set2\n",
      "pieces: ['zlwjcvjg']\n",
      "fr: 2020-01-01 00:00:00 , to: 2020-01-02 00:00:00\n",
      "frs: ['2020-01-01 00:00:00']\n",
      "tos: ['2020-01-02 00:00:00']\n",
      "types: ['csv']\n",
      "time_col: time , datetime_format: %Y-%m-%d %H:%M:%S\n",
      "piece_name_len: 8\n",
      "colnames: ['time', 'day', 'num'] , row_cnt: 86401\n",
      "row_cnts: [86401]\n",
      "actions: [''] , action_params: [None]\n",
      "cache: [0] , cache_config: {'rows_in_cache': None, 'len_of_cache': 3}\n"
     ]
    }
   ],
   "source": [
    "stsfefs_set2[\"day\"] = range(len(stsfefs_set2))\n",
    "S = stsfefs_set2[\"day\"]\n",
    "print(S)\n",
    "stsfefs_set2.print_tsfefs_info()\n"
   ]
  },
  {
   "cell_type": "markdown",
   "id": "8a82351d",
   "metadata": {},
   "source": [
    "<b> list"
   ]
  },
  {
   "cell_type": "code",
   "execution_count": 26,
   "id": "71da7c33",
   "metadata": {},
   "outputs": [
    {
     "name": "stdout",
     "output_type": "stream",
     "text": [
      "0            0\n",
      "1            1\n",
      "2            2\n",
      "3            3\n",
      "4            4\n",
      "         ...  \n",
      "86396    86396\n",
      "86397    86397\n",
      "86398    86398\n",
      "86399    86399\n",
      "86400    86400\n",
      "Name: day, Length: 86401, dtype: int64\n",
      "path: /Users/yeehinleung/Documents/GreekIsGood/Products/TSFEFS/test SafeTSFEFS , name: set2\n",
      "pieces: ['zlwjcvjg']\n",
      "fr: 2020-01-01 00:00:00 , to: 2020-01-02 00:00:00\n",
      "frs: ['2020-01-01 00:00:00']\n",
      "tos: ['2020-01-02 00:00:00']\n",
      "types: ['csv']\n",
      "time_col: time , datetime_format: %Y-%m-%d %H:%M:%S\n",
      "piece_name_len: 8\n",
      "colnames: ['time', 'day', 'num'] , row_cnt: 86401\n",
      "row_cnts: [86401]\n",
      "actions: [''] , action_params: [None]\n",
      "cache: [0] , cache_config: {'rows_in_cache': None, 'len_of_cache': 3}\n"
     ]
    }
   ],
   "source": [
    "stsfefs_set2[\"day\"] = list(range(len(stsfefs_set2)))\n",
    "S = stsfefs_set2[\"day\"]\n",
    "print(S)\n",
    "stsfefs_set2.print_tsfefs_info()\n"
   ]
  },
  {
   "cell_type": "markdown",
   "id": "d4cc690a",
   "metadata": {},
   "source": [
    "<b> np.array"
   ]
  },
  {
   "cell_type": "code",
   "execution_count": 27,
   "id": "d862ef1b",
   "metadata": {},
   "outputs": [
    {
     "name": "stdout",
     "output_type": "stream",
     "text": [
      "0            0\n",
      "1            1\n",
      "2            2\n",
      "3            3\n",
      "4            4\n",
      "         ...  \n",
      "86396    86396\n",
      "86397    86397\n",
      "86398    86398\n",
      "86399    86399\n",
      "86400    86400\n",
      "Name: day, Length: 86401, dtype: int64\n",
      "path: /Users/yeehinleung/Documents/GreekIsGood/Products/TSFEFS/test SafeTSFEFS , name: set2\n",
      "pieces: ['zlwjcvjg']\n",
      "fr: 2020-01-01 00:00:00 , to: 2020-01-02 00:00:00\n",
      "frs: ['2020-01-01 00:00:00']\n",
      "tos: ['2020-01-02 00:00:00']\n",
      "types: ['csv']\n",
      "time_col: time , datetime_format: %Y-%m-%d %H:%M:%S\n",
      "piece_name_len: 8\n",
      "colnames: ['time', 'day', 'num'] , row_cnt: 86401\n",
      "row_cnts: [86401]\n",
      "actions: [''] , action_params: [None]\n",
      "cache: [0] , cache_config: {'rows_in_cache': None, 'len_of_cache': 3}\n"
     ]
    }
   ],
   "source": [
    "stsfefs_set2[\"day\"] = np.array(range(len(stsfefs_set2)))\n",
    "S = stsfefs_set2[\"day\"]\n",
    "print(S)\n",
    "stsfefs_set2.print_tsfefs_info()\n"
   ]
  },
  {
   "cell_type": "markdown",
   "id": "e7079d8f",
   "metadata": {},
   "source": [
    "<b> np.array, shape = (n,1) <-- DON'T !!!!"
   ]
  },
  {
   "cell_type": "code",
   "execution_count": 28,
   "id": "a990d40d",
   "metadata": {},
   "outputs": [
    {
     "name": "stdout",
     "output_type": "stream",
     "text": [
      "(86401, 1)\n",
      "0            [0]\n",
      "1            [1]\n",
      "2            [2]\n",
      "3            [3]\n",
      "4            [4]\n",
      "          ...   \n",
      "86396    [86396]\n",
      "86397    [86397]\n",
      "86398    [86398]\n",
      "86399    [86399]\n",
      "86400    [86400]\n",
      "Name: day, Length: 86401, dtype: object\n",
      "path: /Users/yeehinleung/Documents/GreekIsGood/Products/TSFEFS/test SafeTSFEFS , name: set2\n",
      "pieces: ['zlwjcvjg']\n",
      "fr: 2020-01-01 00:00:00 , to: 2020-01-02 00:00:00\n",
      "frs: ['2020-01-01 00:00:00']\n",
      "tos: ['2020-01-02 00:00:00']\n",
      "types: ['csv']\n",
      "time_col: time , datetime_format: %Y-%m-%d %H:%M:%S\n",
      "piece_name_len: 8\n",
      "colnames: ['time', 'day', 'num'] , row_cnt: 86401\n",
      "row_cnts: [86401]\n",
      "actions: [''] , action_params: [None]\n",
      "cache: [0] , cache_config: {'rows_in_cache': None, 'len_of_cache': 3}\n"
     ]
    }
   ],
   "source": [
    "arr = np.array(range(len(stsfefs_set2)))\n",
    "arr = arr.reshape(-1,1)\n",
    "print(arr.shape)\n",
    "stsfefs_set2[\"day\"] = arr\n",
    "S = stsfefs_set2[\"day\"]\n",
    "print(S)\n",
    "stsfefs_set2.print_tsfefs_info()\n"
   ]
  },
  {
   "cell_type": "markdown",
   "id": "174d810d",
   "metadata": {},
   "source": [
    "<b> Correct example of np.array, shape = (n,1)"
   ]
  },
  {
   "cell_type": "code",
   "execution_count": 29,
   "id": "a45fecfb",
   "metadata": {},
   "outputs": [
    {
     "name": "stdout",
     "output_type": "stream",
     "text": [
      "(86401, 1)\n",
      "0            0\n",
      "1            1\n",
      "2            2\n",
      "3            3\n",
      "4            4\n",
      "         ...  \n",
      "86396    86396\n",
      "86397    86397\n",
      "86398    86398\n",
      "86399    86399\n",
      "86400    86400\n",
      "Name: day, Length: 86401, dtype: int64\n",
      "path: /Users/yeehinleung/Documents/GreekIsGood/Products/TSFEFS/test SafeTSFEFS , name: set2\n",
      "pieces: ['zlwjcvjg']\n",
      "fr: 2020-01-01 00:00:00 , to: 2020-01-02 00:00:00\n",
      "frs: ['2020-01-01 00:00:00']\n",
      "tos: ['2020-01-02 00:00:00']\n",
      "types: ['csv']\n",
      "time_col: time , datetime_format: %Y-%m-%d %H:%M:%S\n",
      "piece_name_len: 8\n",
      "colnames: ['time', 'day', 'num'] , row_cnt: 86401\n",
      "row_cnts: [86401]\n",
      "actions: [''] , action_params: [None]\n",
      "cache: [0] , cache_config: {'rows_in_cache': None, 'len_of_cache': 3}\n"
     ]
    }
   ],
   "source": [
    "arr = np.array(range(len(stsfefs_set2)))\n",
    "arr = arr.reshape(-1,1)\n",
    "print(arr.shape)\n",
    "stsfefs_set2[[\"day\"]] = arr\n",
    "S = stsfefs_set2[\"day\"]\n",
    "print(S)\n",
    "stsfefs_set2.print_tsfefs_info()\n"
   ]
  },
  {
   "cell_type": "markdown",
   "id": "19e12d73",
   "metadata": {},
   "source": [
    "<b> DataFrame"
   ]
  },
  {
   "cell_type": "code",
   "execution_count": 30,
   "id": "c5fa0e84",
   "metadata": {},
   "outputs": [
    {
     "name": "stdout",
     "output_type": "stream",
     "text": [
      "0            0\n",
      "1            1\n",
      "2            2\n",
      "3            3\n",
      "4            4\n",
      "         ...  \n",
      "86396    86396\n",
      "86397    86397\n",
      "86398    86398\n",
      "86399    86399\n",
      "86400    86400\n",
      "Name: day, Length: 86401, dtype: int64\n",
      "path: /Users/yeehinleung/Documents/GreekIsGood/Products/TSFEFS/test SafeTSFEFS , name: set2\n",
      "pieces: ['zlwjcvjg']\n",
      "fr: 2020-01-01 00:00:00 , to: 2020-01-02 00:00:00\n",
      "frs: ['2020-01-01 00:00:00']\n",
      "tos: ['2020-01-02 00:00:00']\n",
      "types: ['csv']\n",
      "time_col: time , datetime_format: %Y-%m-%d %H:%M:%S\n",
      "piece_name_len: 8\n",
      "colnames: ['time', 'day', 'num'] , row_cnt: 86401\n",
      "row_cnts: [86401]\n",
      "actions: [''] , action_params: [None]\n",
      "cache: [0] , cache_config: {'rows_in_cache': None, 'len_of_cache': 3}\n"
     ]
    }
   ],
   "source": [
    "df_ = pd.DataFrame({\"dummy\":range(len(stsfefs_set2))})\n",
    "stsfefs_set2[\"day\"] = df_\n",
    "S = stsfefs_set2[\"day\"]\n",
    "print(S)\n",
    "stsfefs_set2.print_tsfefs_info()\n"
   ]
  },
  {
   "cell_type": "markdown",
   "id": "34a7ee05",
   "metadata": {},
   "source": [
    " "
   ]
  },
  {
   "cell_type": "markdown",
   "id": "77a7d9fd",
   "metadata": {},
   "source": [
    "# 3. Set new columns [\"day_root\",\"num_root\"], check cache. <-- Cannot!\n"
   ]
  },
  {
   "cell_type": "code",
   "execution_count": 31,
   "id": "37727483",
   "metadata": {},
   "outputs": [
    {
     "name": "stdout",
     "output_type": "stream",
     "text": [
      "Some requested column names don't exits.\n",
      "You may consider the \"update\" action.\n",
      "\n",
      "Cannot set multiple new columns at the same time.\n",
      "New single columns have to be set separately.\n"
     ]
    }
   ],
   "source": [
    "try:\n",
    "    df_ = stsfefs_set3[[\"day\",\"num\"]]\n",
    "    df_[\"day\"] = df_[\"day\"].apply(lambda x: x**0.5)\n",
    "    df_[\"num\"] = df_[\"num\"].apply(lambda x: x**0.5)\n",
    "    stsfefs_set3[[\"day_root\",\"num_root\"]] = df_\n",
    "    df_ = stsfefs_set3[[\"day_root\",\"num_root\"]]\n",
    "    print(df_)\n",
    "    stsfefs_set3.print_tsfefs_info()\n",
    "except:\n",
    "    print()\n",
    "    print(\"Cannot set multiple new columns at the same time.\")\n",
    "    print(\"New single columns have to be set separately.\")\n"
   ]
  },
  {
   "cell_type": "markdown",
   "id": "5968ef54",
   "metadata": {},
   "source": [
    " "
   ]
  },
  {
   "cell_type": "markdown",
   "id": "bf887096",
   "metadata": {},
   "source": [
    "# 4. Modify columns [\"day\",\"num\"], check cache.\n"
   ]
  },
  {
   "cell_type": "markdown",
   "id": "a7202488",
   "metadata": {},
   "source": [
    "<b> DataFrame"
   ]
  },
  {
   "cell_type": "code",
   "execution_count": 32,
   "id": "d5a5b641",
   "metadata": {},
   "outputs": [
    {
     "name": "stdout",
     "output_type": "stream",
     "text": [
      "            day        num\n",
      "0      1.000000  44.966654\n",
      "1      1.000000  44.977772\n",
      "2      1.000000  44.988888\n",
      "3      1.000000  45.000000\n",
      "4      1.000000  45.011110\n",
      "...         ...        ...\n",
      "86396  1.000000  46.475800\n",
      "86397  1.000000  46.486557\n",
      "86398  1.000000  46.497312\n",
      "86399  1.000000  46.508064\n",
      "86400  1.414214  44.977772\n",
      "\n",
      "[86401 rows x 2 columns]\n",
      "path: /Users/yeehinleung/Documents/GreekIsGood/Products/TSFEFS/test SafeTSFEFS , name: set4\n",
      "pieces: ['zlwjcvjg']\n",
      "fr: 2020-01-01 00:00:00 , to: 2020-01-02 00:00:00\n",
      "frs: ['2020-01-01 00:00:00']\n",
      "tos: ['2020-01-02 00:00:00']\n",
      "types: ['csv']\n",
      "time_col: time , datetime_format: %Y-%m-%d %H:%M:%S\n",
      "piece_name_len: 8\n",
      "colnames: ['time', 'day', 'num'] , row_cnt: 86401\n",
      "row_cnts: [86401]\n",
      "actions: [''] , action_params: [None]\n",
      "cache: [0] , cache_config: {'rows_in_cache': None, 'len_of_cache': 3}\n"
     ]
    }
   ],
   "source": [
    "df_ = stsfefs_set4[[\"day\",\"num\"]]\n",
    "df_[\"day\"] = df_[\"day\"].apply(lambda x: x**0.5)\n",
    "df_[\"num\"] = df_[\"num\"].apply(lambda x: x**0.5)\n",
    "stsfefs_set4[[\"day\",\"num\"]] = df_\n",
    "df_ = stsfefs_set4[[\"day\",\"num\"]]\n",
    "print(df_)\n",
    "stsfefs_set4.print_tsfefs_info()\n"
   ]
  },
  {
   "cell_type": "markdown",
   "id": "eed058ab",
   "metadata": {},
   "source": [
    "<b> np.array"
   ]
  },
  {
   "cell_type": "code",
   "execution_count": 33,
   "id": "d6403ef8",
   "metadata": {},
   "outputs": [
    {
     "name": "stdout",
     "output_type": "stream",
     "text": [
      "            day        num\n",
      "0      1.414214  44.977772\n",
      "1      1.000000  46.508064\n",
      "2      1.000000  46.497312\n",
      "3      1.000000  46.486557\n",
      "4      1.000000  46.475800\n",
      "...         ...        ...\n",
      "86396  1.000000  45.011110\n",
      "86397  1.000000  45.000000\n",
      "86398  1.000000  44.988888\n",
      "86399  1.000000  44.977772\n",
      "86400  1.000000  44.966654\n",
      "\n",
      "[86401 rows x 2 columns]\n",
      "path: /Users/yeehinleung/Documents/GreekIsGood/Products/TSFEFS/test SafeTSFEFS , name: set4\n",
      "pieces: ['zlwjcvjg']\n",
      "fr: 2020-01-01 00:00:00 , to: 2020-01-02 00:00:00\n",
      "frs: ['2020-01-01 00:00:00']\n",
      "tos: ['2020-01-02 00:00:00']\n",
      "types: ['csv']\n",
      "time_col: time , datetime_format: %Y-%m-%d %H:%M:%S\n",
      "piece_name_len: 8\n",
      "colnames: ['time', 'day', 'num'] , row_cnt: 86401\n",
      "row_cnts: [86401]\n",
      "actions: [''] , action_params: [None]\n",
      "cache: [0] , cache_config: {'rows_in_cache': None, 'len_of_cache': 3}\n"
     ]
    }
   ],
   "source": [
    "arr = np.array(df_.iloc[::-1])\n",
    "stsfefs_set4[[\"day\",\"num\"]] = arr\n",
    "df_ = stsfefs_set4[[\"day\",\"num\"]]\n",
    "print(df_)\n",
    "stsfefs_set4.print_tsfefs_info()\n"
   ]
  },
  {
   "cell_type": "markdown",
   "id": "384d2577",
   "metadata": {},
   "source": [
    " "
   ]
  },
  {
   "cell_type": "markdown",
   "id": "d0a8a844",
   "metadata": {},
   "source": [
    "# 5. Set some rows by indices, check cache.\n"
   ]
  },
  {
   "cell_type": "markdown",
   "id": "239b8204",
   "metadata": {},
   "source": [
    "<b> Let's set the 3rd and 8th dfs."
   ]
  },
  {
   "cell_type": "code",
   "execution_count": 34,
   "id": "5cf5952a",
   "metadata": {},
   "outputs": [],
   "source": [
    "indices = list(range(30010,30014)) + list(range(80010,80014))\n",
    "\n",
    "tss = np.array(stsfefs_set5[stsfefs_set5.tsfefs.time_col])\n",
    "tss = tss[indices]\n",
    "df_ = pd.DataFrame({stsfefs_set5.tsfefs.time_col:tss, \"a\":indices, \"b\":indices})\n",
    "df_[\"a\"] = df_[\"a\"].apply(lambda x: (x**2)%100)\n",
    "df_[\"b\"] = df_[\"b\"].apply(lambda x: int(100*((x**0.5) - int(x**0.5))))\n"
   ]
  },
  {
   "cell_type": "code",
   "execution_count": 35,
   "id": "3d444c0d",
   "metadata": {},
   "outputs": [
    {
     "name": "stdout",
     "output_type": "stream",
     "text": [
      "                     time  day  num\n",
      "30010 2020-01-01 08:20:10    0   23\n",
      "30011 2020-01-01 08:20:11   21   23\n",
      "30012 2020-01-01 08:20:12   44   23\n",
      "30013 2020-01-01 08:20:13   69   24\n",
      "80010 2020-01-01 22:13:30    0   86\n",
      "80011 2020-01-01 22:13:31   21   86\n",
      "80012 2020-01-01 22:13:32   44   86\n",
      "80013 2020-01-01 22:13:33   69   86\n",
      "path: /Users/yeehinleung/Documents/GreekIsGood/Products/TSFEFS/test SafeTSFEFS , name: set5\n",
      "pieces: ['zlwjcvjg']\n",
      "fr: 2020-01-01 00:00:00 , to: 2020-01-02 00:00:00\n",
      "frs: ['2020-01-01 00:00:00']\n",
      "tos: ['2020-01-02 00:00:00']\n",
      "types: ['csv']\n",
      "time_col: time , datetime_format: %Y-%m-%d %H:%M:%S\n",
      "piece_name_len: 8\n",
      "colnames: ['time', 'day', 'num'] , row_cnt: 86401\n",
      "row_cnts: [86401]\n",
      "actions: [''] , action_params: [None]\n",
      "cache: [0] , cache_config: {'rows_in_cache': None, 'len_of_cache': 3}\n"
     ]
    }
   ],
   "source": [
    "stsfefs_set5[indices] = df_\n",
    "df_ = stsfefs_set5[indices]\n",
    "print(df_)\n",
    "stsfefs_set5.print_tsfefs_info()\n"
   ]
  },
  {
   "cell_type": "markdown",
   "id": "b859eaf7",
   "metadata": {},
   "source": [
    " "
   ]
  },
  {
   "cell_type": "markdown",
   "id": "853bfa88",
   "metadata": {},
   "source": [
    "# 6. Filter some timestamps, set some rows by those booleans.\n"
   ]
  },
  {
   "cell_type": "markdown",
   "id": "7cc7bfaa",
   "metadata": {},
   "source": [
    "<b> Select some timestamps from the 3rd and 8th dfs."
   ]
  },
  {
   "cell_type": "code",
   "execution_count": 36,
   "id": "355d0a0b",
   "metadata": {},
   "outputs": [],
   "source": [
    "ts1 = dt.strptime(\"2020-01-01 08:20:10\", dict_meta[\"datetime_format\"])\n",
    "ts2 = dt.strptime(\"2020-01-01 08:20:13\", dict_meta[\"datetime_format\"])\n",
    "B1 = (stsfefs_set6 >= ts1) & (stsfefs_set6 <= ts2)\n",
    "\n",
    "ts1 = dt.strptime(\"2020-01-01 22:13:30\", dict_meta[\"datetime_format\"])\n",
    "ts2 = dt.strptime(\"2020-01-01 22:13:33\", dict_meta[\"datetime_format\"])\n",
    "B2 = (stsfefs_set6 >= ts1) & (stsfefs_set6 <= ts2)\n",
    "\n",
    "B = B1 | B2\n"
   ]
  },
  {
   "cell_type": "code",
   "execution_count": 37,
   "id": "080de844",
   "metadata": {},
   "outputs": [
    {
     "name": "stdout",
     "output_type": "stream",
     "text": [
      "                     time  day  num\n",
      "30010 2020-01-01 08:20:10    0   23\n",
      "30011 2020-01-01 08:20:11   21   23\n",
      "30012 2020-01-01 08:20:12   44   23\n",
      "30013 2020-01-01 08:20:13   69   24\n",
      "80010 2020-01-01 22:13:30    0   86\n",
      "80011 2020-01-01 22:13:31   21   86\n",
      "80012 2020-01-01 22:13:32   44   86\n",
      "80013 2020-01-01 22:13:33   69   86\n",
      "path: /Users/yeehinleung/Documents/GreekIsGood/Products/TSFEFS/test SafeTSFEFS , name: set6\n",
      "pieces: ['zlwjcvjg']\n",
      "fr: 2020-01-01 00:00:00 , to: 2020-01-02 00:00:00\n",
      "frs: ['2020-01-01 00:00:00']\n",
      "tos: ['2020-01-02 00:00:00']\n",
      "types: ['csv']\n",
      "time_col: time , datetime_format: %Y-%m-%d %H:%M:%S\n",
      "piece_name_len: 8\n",
      "colnames: ['time', 'day', 'num'] , row_cnt: 86401\n",
      "row_cnts: [86401]\n",
      "actions: [''] , action_params: [None]\n",
      "cache: [0] , cache_config: {'rows_in_cache': None, 'len_of_cache': 3}\n"
     ]
    }
   ],
   "source": [
    "stsfefs_set6[B] = df_\n",
    "df_ = stsfefs_set6[B]\n",
    "print(df_)\n",
    "stsfefs_set6.print_tsfefs_info()\n"
   ]
  },
  {
   "cell_type": "code",
   "execution_count": 38,
   "id": "6b1f3ecd",
   "metadata": {},
   "outputs": [],
   "source": [
    "stsfefs_set6.remove()\n",
    "stsfefs_set5.remove()\n",
    "stsfefs_set4.remove()\n",
    "stsfefs_set3.remove()\n",
    "stsfefs_set2.remove()\n",
    "stsfefs_set1.remove()\n"
   ]
  },
  {
   "cell_type": "code",
   "execution_count": 39,
   "id": "ce66f1eb",
   "metadata": {},
   "outputs": [],
   "source": [
    "stsfefs_base.remove()\n"
   ]
  },
  {
   "cell_type": "code",
   "execution_count": null,
   "id": "94cb11db",
   "metadata": {},
   "outputs": [],
   "source": []
  }
 ],
 "metadata": {
  "kernelspec": {
   "display_name": "Python 3 (ipykernel)",
   "language": "python",
   "name": "python3"
  },
  "language_info": {
   "codemirror_mode": {
    "name": "ipython",
    "version": 3
   },
   "file_extension": ".py",
   "mimetype": "text/x-python",
   "name": "python",
   "nbconvert_exporter": "python",
   "pygments_lexer": "ipython3",
   "version": "3.10.5"
  }
 },
 "nbformat": 4,
 "nbformat_minor": 5
}
