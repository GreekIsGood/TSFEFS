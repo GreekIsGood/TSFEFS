{
 "cells": [
  {
   "cell_type": "code",
   "execution_count": 1,
   "id": "48ed8933",
   "metadata": {},
   "outputs": [],
   "source": [
    "import pandas as pd\n",
    "import numpy as np\n",
    "from datetime import datetime as dt, timedelta as td\n",
    "\n",
    "import json\n",
    "import random\n",
    "import string\n",
    "\n",
    "from copy import deepcopy as dc\n",
    "import os\n",
    "\n",
    "from SafeTSFEFS import *\n"
   ]
  },
  {
   "cell_type": "markdown",
   "id": "26ad3585",
   "metadata": {},
   "source": [
    " "
   ]
  },
  {
   "cell_type": "code",
   "execution_count": 2,
   "id": "068a17f5",
   "metadata": {},
   "outputs": [],
   "source": [
    "dict_meta = {\n",
    "    \"piece_name_len\": 8,\n",
    "    \"seq_col\": \"time\", \"datetime_format\": \"%Y-%m-%d %H:%M:%S\", \n",
    "    \"max_row_per_piece\": 400000,\n",
    "    \"colnames\":[\"time\", \"day\"],\n",
    "    \"cache_config\":{\"rows_in_cache\":None,\"len_of_cache\":3}\n",
    "}\n"
   ]
  },
  {
   "cell_type": "code",
   "execution_count": 3,
   "id": "43ff9252",
   "metadata": {},
   "outputs": [],
   "source": [
    "path = os.getcwd()\n",
    "name = \"read1\"\n",
    "fullpath = \"%s/%s.%s\"%(path,name,TSFEFS.extension)\n",
    "if not os.path.isdir(fullpath):\n",
    "    os.mkdir(fullpath)\n",
    "\n",
    "json.dump(dict_meta, open(\"%s/%s\"%(fullpath,TSFEFS.meta_json_name),'w'))\n"
   ]
  },
  {
   "cell_type": "code",
   "execution_count": 4,
   "id": "a9c7fad7",
   "metadata": {},
   "outputs": [],
   "source": [
    "fr, to = \"2020-01-01 00:00:00\", \"2020-01-02 00:00:00\"\n",
    "datetime_format = dict_meta[\"datetime_format\"]\n",
    "fr = dt.strptime(fr,datetime_format)\n",
    "to = dt.strptime(to,datetime_format)\n",
    "ts_gap = (to - fr)\n",
    "seconds = ts_gap.seconds + ts_gap.days*24*60*60\n",
    "# print(seconds)\n",
    "\n"
   ]
  },
  {
   "cell_type": "markdown",
   "id": "96010bd6",
   "metadata": {},
   "source": [
    " "
   ]
  },
  {
   "cell_type": "markdown",
   "id": "110361ff",
   "metadata": {},
   "source": [
    "# Read Test Plan\n",
    "# 1. Read from a .tsfefs folder with non-empty df_index with pieces with conflicts.\n"
   ]
  },
  {
   "cell_type": "code",
   "execution_count": 5,
   "id": "5a164377",
   "metadata": {},
   "outputs": [
    {
     "name": "stdout",
     "output_type": "stream",
     "text": [
      "2020-01-01 00:00:00 2020-01-02 00:00:00\n"
     ]
    }
   ],
   "source": [
    "tss = [ fr + td(seconds=i) for i in range(seconds+1) ]\n",
    "print(min(tss),max(tss))\n",
    "df = pd.DataFrame({dict_meta[\"seq_col\"]:tss})\n",
    "df[\"day\"] = df[\"time\"].apply(lambda x: int(x.strftime(\"%d\")))\n",
    "\n",
    "df2 = dc(df)\n",
    "df2[\"time\"] = df2[\"time\"].apply(lambda x: x + td(days=0.5))\n",
    "df2[\"day\"] = df2[\"time\"].apply(lambda x: int(x.strftime(\"%d\")))\n",
    "\n",
    "df_index = pd.DataFrame(\n",
    "    {\"piece\":[\"abcdabcd\",\"efghefgh\"],\"type\":[\"csv\",\"csv\"],\n",
    "     \"fr\":[ min(df[\"time\"]).strftime(datetime_format), min(df2[\"time\"]).strftime(datetime_format) ],\n",
    "     \"to\":[ max(df[\"time\"]).strftime(datetime_format), max(df2[\"time\"]).strftime(datetime_format) ],\n",
    "     \"row_cnt\":[ len(df), len(df2) ]})\n"
   ]
  },
  {
   "cell_type": "code",
   "execution_count": 6,
   "id": "bbdb0354",
   "metadata": {},
   "outputs": [],
   "source": [
    "path = os.getcwd()\n",
    "name = \"read1\"\n",
    "fullpath = \"%s/%s.%s\"%(path,name,TSFEFS.extension)\n",
    "if not os.path.isdir(fullpath):\n",
    "    os.mkdir(fullpath)\n",
    "\n",
    "json.dump(dict_meta, open(\"%s/%s\"%(fullpath,TSFEFS.meta_json_name),'w'))\n",
    "df_index.to_csv(\"%s/%s\"%(fullpath,TSFEFS.index_df_name), index=False)\n",
    "\n",
    "df_ = dc(df)\n",
    "df_[\"time\"] = df_[\"time\"].apply(lambda x: x.strftime(datetime_format))\n",
    "df_.to_csv(\"%s/%s\"%(fullpath,\"abcdabcd\"),index=False)\n",
    "\n",
    "df_ = dc(df2)\n",
    "df_[\"time\"] = df_[\"time\"].apply(lambda x: x.strftime(datetime_format))\n",
    "df_.to_csv(\"%s/%s\"%(fullpath,\"efghefgh\"),index=False)\n"
   ]
  },
  {
   "cell_type": "code",
   "execution_count": 7,
   "id": "bc9b4bba",
   "metadata": {},
   "outputs": [
    {
     "name": "stdout",
     "output_type": "stream",
     "text": [
      "path: /Users/yeehinleung/Documents/GreekIsGood/Products/repos/TSFEFS/2. test SafeTSFEFS , name: read1\n",
      "pieces: ['uxzogdmj', 'fsjvqpub', 'fvcalzqv']\n",
      "types: ['csv', 'csv', 'csv']\n",
      "fr: 2020-01-01 00:00:00 , to: 2020-01-02 12:00:00\n",
      "frs: ['2020-01-01 00:00:00', '2020-01-02 00:00:01', '2020-01-01 12:00:00']\n",
      "tos: ['2020-01-01 11:59:59', '2020-01-02 12:00:00', '2020-01-02 00:00:00']\n",
      "seq_col: time\n",
      "piece_name_len: 8\n",
      "colnames: ['time', 'day'] , row_cnt: 172802\n",
      "row_cnts: [43200, 43200, 86402]\n",
      "actions: ['', '', ''] , action_params: [None, None, None]\n",
      "cache: [2, 1, 0] , cache_config: {'rows_in_cache': None, 'len_of_cache': 3}\n",
      "dfs: ['Non-emtpy', 'Non-emtpy', 'Non-emtpy']\n",
      "datetime_format: %Y-%m-%d %H:%M:%S\n",
      "seq_col dtype used in read_csv: <class 'str'>\n",
      "seq_col date type (in tuple): (<class 'datetime.datetime'>, <class 'pandas._libs.tslibs.timestamps.Timestamp'>)\n"
     ]
    }
   ],
   "source": [
    "stsfefs_read1 = SafeTSFEFS(\"not_a_path\",\"not_a_name\")\n",
    "stsfefs_read1.read(fullpath)\n",
    "stsfefs_read1.print_info()\n"
   ]
  },
  {
   "cell_type": "markdown",
   "id": "56412ded",
   "metadata": {},
   "source": [
    " "
   ]
  },
  {
   "cell_type": "markdown",
   "id": "266ace68",
   "metadata": {},
   "source": [
    " "
   ]
  },
  {
   "cell_type": "markdown",
   "id": "bcdad0c5",
   "metadata": {},
   "source": [
    "# Write Test Plan\n",
    "# 1. Create a stsfefs from df1, add a conflicting df, write to write1.\n"
   ]
  },
  {
   "cell_type": "code",
   "execution_count": 8,
   "id": "c3b86485",
   "metadata": {},
   "outputs": [
    {
     "name": "stdout",
     "output_type": "stream",
     "text": [
      "path: /Users/yeehinleung/Documents/GreekIsGood/Products/repos/TSFEFS/2. test SafeTSFEFS , name: write1\n",
      "pieces: ['veylvndm']\n",
      "types: ['csv']\n",
      "fr: 2020-01-01 00:00:00 , to: 2020-01-02 00:00:00\n",
      "frs: ['2020-01-01 00:00:00']\n",
      "tos: ['2020-01-02 00:00:00']\n",
      "seq_col: time\n",
      "piece_name_len: 8\n",
      "colnames: ['time', 'day'] , row_cnt: 86401\n",
      "row_cnts: [86401]\n",
      "actions: [''] , action_params: [None]\n",
      "cache: [0] , cache_config: {'rows_in_cache': None, 'len_of_cache': 3}\n",
      "dfs: ['Non-emtpy']\n",
      "datetime_format: %Y-%m-%d %H:%M:%S\n",
      "seq_col dtype used in read_csv: <class 'str'>\n",
      "seq_col date type (in tuple): (<class 'datetime.datetime'>, <class 'pandas._libs.tslibs.timestamps.Timestamp'>)\n"
     ]
    }
   ],
   "source": [
    "stsfefs_write1 = SafeTSFEFS(os.getcwd(), \"write1\", seq_col='time', datetime_format=datetime_format, df=df)\n",
    "stsfefs_write1.print_info()\n"
   ]
  },
  {
   "cell_type": "code",
   "execution_count": 9,
   "id": "a98cf23c",
   "metadata": {},
   "outputs": [
    {
     "name": "stdout",
     "output_type": "stream",
     "text": [
      "path: /Users/yeehinleung/Documents/GreekIsGood/Products/repos/TSFEFS/2. test SafeTSFEFS , name: write1\n",
      "pieces: ['vzcisepb']\n",
      "types: ['csv']\n",
      "fr: 2020-01-01 00:00:00 , to: 2020-01-02 12:00:00\n",
      "frs: ['2020-01-01 00:00:00']\n",
      "tos: ['2020-01-02 12:00:00']\n",
      "seq_col: time\n",
      "piece_name_len: 8\n",
      "colnames: ['time', 'day'] , row_cnt: 172802\n",
      "row_cnts: [172802]\n",
      "actions: [''] , action_params: [None]\n",
      "cache: [0] , cache_config: {'rows_in_cache': None, 'len_of_cache': 3}\n",
      "dfs: ['Non-emtpy']\n",
      "datetime_format: %Y-%m-%d %H:%M:%S\n",
      "seq_col dtype used in read_csv: <class 'str'>\n",
      "seq_col date type (in tuple): (<class 'datetime.datetime'>, <class 'pandas._libs.tslibs.timestamps.Timestamp'>)\n"
     ]
    }
   ],
   "source": [
    "stsfefs_write1 += df2\n",
    "stsfefs_write1.print_info()\n"
   ]
  },
  {
   "cell_type": "code",
   "execution_count": 10,
   "id": "d90d4f0e",
   "metadata": {},
   "outputs": [
    {
     "name": "stdout",
     "output_type": "stream",
     "text": [
      "path: /Users/yeehinleung/Documents/GreekIsGood/Products/repos/TSFEFS/2. test SafeTSFEFS , name: write1\n",
      "pieces: ['vzcisepb']\n",
      "types: ['csv']\n",
      "fr: 2020-01-01 00:00:00 , to: 2020-01-02 12:00:00\n",
      "frs: ['2020-01-01 00:00:00']\n",
      "tos: ['2020-01-02 12:00:00']\n",
      "seq_col: time\n",
      "piece_name_len: 8\n",
      "colnames: ['time', 'day'] , row_cnt: 172802\n",
      "row_cnts: [172802]\n",
      "actions: [''] , action_params: [None]\n",
      "cache: [0] , cache_config: {'rows_in_cache': None, 'len_of_cache': 3}\n",
      "dfs: ['Non-emtpy']\n",
      "datetime_format: %Y-%m-%d %H:%M:%S\n",
      "seq_col dtype used in read_csv: <class 'str'>\n",
      "seq_col date type (in tuple): (<class 'datetime.datetime'>, <class 'pandas._libs.tslibs.timestamps.Timestamp'>)\n"
     ]
    }
   ],
   "source": [
    "stsfefs_write1.write()\n",
    "stsfefs_write1.print_info()\n"
   ]
  },
  {
   "cell_type": "markdown",
   "id": "57217b47",
   "metadata": {},
   "source": [
    " "
   ]
  },
  {
   "cell_type": "markdown",
   "id": "8a27fcc0",
   "metadata": {},
   "source": [
    " "
   ]
  },
  {
   "cell_type": "markdown",
   "id": "d4eb530e",
   "metadata": {},
   "source": [
    " "
   ]
  },
  {
   "cell_type": "markdown",
   "id": "451be62b",
   "metadata": {},
   "source": [
    " "
   ]
  },
  {
   "cell_type": "code",
   "execution_count": 11,
   "id": "93b70b1e",
   "metadata": {},
   "outputs": [],
   "source": [
    "stsfefs_write1.remove()\n",
    "stsfefs_read1.remove()\n"
   ]
  }
 ],
 "metadata": {
  "kernelspec": {
   "display_name": "Python 3 (ipykernel)",
   "language": "python",
   "name": "python3"
  },
  "language_info": {
   "codemirror_mode": {
    "name": "ipython",
    "version": 3
   },
   "file_extension": ".py",
   "mimetype": "text/x-python",
   "name": "python",
   "nbconvert_exporter": "python",
   "pygments_lexer": "ipython3",
   "version": "3.10.5"
  }
 },
 "nbformat": 4,
 "nbformat_minor": 5
}
