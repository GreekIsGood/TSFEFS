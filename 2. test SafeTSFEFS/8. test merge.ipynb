{
 "cells": [
  {
   "cell_type": "code",
   "execution_count": 1,
   "id": "89383a43",
   "metadata": {},
   "outputs": [],
   "source": [
    "import pandas as pd\n",
    "import numpy as np\n",
    "from datetime import datetime as dt, timedelta as td\n",
    "\n",
    "import json\n",
    "import random\n",
    "import string\n",
    "\n",
    "from copy import deepcopy as dc\n",
    "import os\n",
    "\n",
    "from SafeTSFEFS import *\n"
   ]
  },
  {
   "cell_type": "markdown",
   "id": "18e6e20a",
   "metadata": {},
   "source": [
    " "
   ]
  },
  {
   "cell_type": "code",
   "execution_count": 2,
   "id": "a97f9c32",
   "metadata": {},
   "outputs": [
    {
     "name": "stdout",
     "output_type": "stream",
     "text": [
      "2020-01-01 00:00:00 2020-01-12 13:46:39\n"
     ]
    }
   ],
   "source": [
    "time_col = \"time\"\n",
    "dtf_base = \"%Y-%m-%d %H:%M:%S\"\n",
    "\n",
    "ts = \"2020-01-01 00:00:00\"\n",
    "ts = dt.strptime(ts, dtf_base)\n",
    "\n",
    "tss = [ ts + td(seconds=i) for i in range(10**6) ]\n",
    "print(min(tss),max(tss))\n",
    "df_base = pd.DataFrame({time_col:tss})\n",
    "df_base[\"day\"] = df_base[time_col].apply(lambda x: int(x.strftime(\"%d\")))\n",
    "df_base[\"num\"] = df_base[time_col].apply(lambda x: int(x.strftime(\"%Y\")) + int(x.strftime(\"%m\")) + int(x.strftime(\"%d\")) \\\n",
    "                     + int(x.strftime(\"%H\")) + int(x.strftime(\"%M\")) + int(x.strftime(\"%S\")))\n"
   ]
  },
  {
   "cell_type": "code",
   "execution_count": 3,
   "id": "29c5e51e",
   "metadata": {},
   "outputs": [
    {
     "name": "stdout",
     "output_type": "stream",
     "text": [
      "      day   num      dummy  day_square  day_root\n",
      "0       1  2022 2000-01-01           1  1.000000\n",
      "1       1  2023 2000-01-01           1  1.000000\n",
      "2       1  2024 2000-01-01           1  1.000000\n",
      "3       1  2025 2000-01-01           1  1.000000\n",
      "4       1  2026 2000-01-01           1  1.000000\n",
      "...   ...   ...        ...         ...       ...\n",
      "1688   12  2159 2000-01-01         144  3.464102\n",
      "1689   12  2160 2000-01-01         144  3.464102\n",
      "1690   12  2161 2000-01-01         144  3.464102\n",
      "1691   12  2162 2000-01-01         144  3.464102\n",
      "1692   12  2163 2000-01-01         144  3.464102\n",
      "\n",
      "[1693 rows x 5 columns]\n"
     ]
    }
   ],
   "source": [
    "df_another = dc(df_base)\n",
    "df_another = df_another[[\"day\",\"num\"]].drop_duplicates().reset_index(drop=True)\n",
    "dtf_another = \"%Y\"\n",
    "df_another[\"dummy\"] = dt.strptime(\"2000\",\"%Y\")\n",
    "df_another[\"day_square\"] = df_another[\"day\"].apply(lambda x: x**2)\n",
    "df_another[\"day_root\"] = df_another[\"day\"].apply(lambda x: x**0.5)\n",
    "print(df_another)\n"
   ]
  },
  {
   "cell_type": "code",
   "execution_count": 4,
   "id": "b3ba1b5d",
   "metadata": {},
   "outputs": [
    {
     "name": "stdout",
     "output_type": "stream",
     "text": [
      "path: /Users/yeehinleung/Documents/GreekIsGood/Products/TSFEFS/2. test SafeTSFEFS , name: base\n",
      "pieces: ['xupjkqua', 'xtswfhrz', 'xfymoqzr', 'uesllzue', 'shghrjnu']\n",
      "fr: 2020-01-01 00:00:00 , to: 2020-01-12 13:46:39\n",
      "frs: ['2020-01-01 00:00:00', '2020-01-03 07:33:20', '2020-01-05 15:06:40', '2020-01-07 22:40:00', '2020-01-10 06:13:20']\n",
      "tos: ['2020-01-03 07:33:19', '2020-01-05 15:06:39', '2020-01-07 22:39:59', '2020-01-10 06:13:19', '2020-01-12 13:46:39']\n",
      "types: ['csv', 'csv', 'csv', 'csv', 'csv']\n",
      "time_col: time , datetime_format: %Y-%m-%d %H:%M:%S\n",
      "piece_name_len: 8\n",
      "colnames: ['time', 'day', 'num'] , row_cnt: 1000000\n",
      "row_cnts: [200000, 200000, 200000, 200000, 200000]\n",
      "actions: ['', '', '', '', ''] , action_params: [None, None, None, None, None]\n",
      "cache: [3, 4, 0] , cache_config: {'rows_in_cache': None, 'len_of_cache': 3}\n"
     ]
    }
   ],
   "source": [
    "stsfefs_base = SafeTSFEFS(os.getcwd(), \"base\", \\\n",
    "                time_col=\"time\", datetime_format=\"%Y-%m-%d %H:%M:%S\", df=df_base)\n",
    "tsfefs_base = stsfefs_base.tsfefs\n",
    "stsfefs_base.print_tsfefs_info()\n"
   ]
  },
  {
   "cell_type": "code",
   "execution_count": 5,
   "id": "ec818ddc",
   "metadata": {},
   "outputs": [
    {
     "name": "stdout",
     "output_type": "stream",
     "text": [
      "path: /Users/yeehinleung/Documents/GreekIsGood/Products/TSFEFS/2. test SafeTSFEFS , name: another\n",
      "pieces: ['uujibjri']\n",
      "fr: 2000-01-01 00:00:00 , to: 2000-01-01 00:00:00\n",
      "frs: ['2000']\n",
      "tos: ['2000']\n",
      "types: ['csv']\n",
      "time_col: dummy , datetime_format: %Y\n",
      "piece_name_len: 8\n",
      "colnames: ['day', 'num', 'dummy', 'day_square', 'day_root'] , row_cnt: 1693\n",
      "row_cnts: [1693]\n",
      "actions: [''] , action_params: [None]\n",
      "cache: [0] , cache_config: {'rows_in_cache': None, 'len_of_cache': 3}\n"
     ]
    }
   ],
   "source": [
    "stsfefs_another = SafeTSFEFS(os.getcwd(), \"another\", \\\n",
    "                time_col=\"dummy\", datetime_format=\"%Y\", df=df_another)\n",
    "tsfefs_another = stsfefs_another.tsfefs\n",
    "stsfefs_another.print_tsfefs_info()\n"
   ]
  },
  {
   "cell_type": "markdown",
   "id": "64ae717a",
   "metadata": {},
   "source": [
    " "
   ]
  },
  {
   "cell_type": "markdown",
   "id": "d394ae9d",
   "metadata": {},
   "source": [
    " "
   ]
  },
  {
   "cell_type": "markdown",
   "id": "0b239d8c",
   "metadata": {},
   "source": [
    "# Instance merge Test Plan\n",
    "# 1. Merge stsfefs base with df_another.\n",
    "# 2. Merge stsfefs base with tsfefs_another.\n",
    "# 3. Merge stsfefs base with stsfefs_another.\n"
   ]
  },
  {
   "cell_type": "code",
   "execution_count": 6,
   "id": "acc7f845",
   "metadata": {},
   "outputs": [],
   "source": [
    "stsfefs_merge1 = stsfefs_base.clone(os.getcwd(), \"merge1\")\n",
    "stsfefs_merge2 = stsfefs_base.clone(os.getcwd(), \"merge2\")\n",
    "stsfefs_merge3 = stsfefs_base.clone(os.getcwd(), \"merge3\")\n"
   ]
  },
  {
   "cell_type": "markdown",
   "id": "c09d93be",
   "metadata": {},
   "source": [
    " "
   ]
  },
  {
   "cell_type": "markdown",
   "id": "1b1652f1",
   "metadata": {},
   "source": [
    "# 1. Merge stsfefs base with df_another.\n"
   ]
  },
  {
   "cell_type": "code",
   "execution_count": 7,
   "id": "c85cf025",
   "metadata": {},
   "outputs": [
    {
     "name": "stdout",
     "output_type": "stream",
     "text": [
      "path: /Users/yeehinleung/Documents/GreekIsGood/Products/TSFEFS/2. test SafeTSFEFS , name: merge1\n",
      "pieces: ['xupjkqua', 'xtswfhrz', 'xfymoqzr', 'uesllzue', 'shghrjnu']\n",
      "fr: 2020-01-01 00:00:00 , to: 2020-01-12 13:46:39\n",
      "frs: ['2020-01-01 00:00:00', '2020-01-03 07:33:20', '2020-01-05 15:06:40', '2020-01-07 22:40:00', '2020-01-10 06:13:20']\n",
      "tos: ['2020-01-03 07:33:19', '2020-01-05 15:06:39', '2020-01-07 22:39:59', '2020-01-10 06:13:19', '2020-01-12 13:46:39']\n",
      "types: ['csv', 'csv', 'csv', 'csv', 'csv']\n",
      "time_col: time , datetime_format: %Y-%m-%d %H:%M:%S\n",
      "piece_name_len: 8\n",
      "colnames: ['time', 'day', 'num', 'day_square', 'day_root'] , row_cnt: 1000000\n",
      "row_cnts: [200000, 200000, 200000, 200000, 200000]\n",
      "actions: ['', '', '', '', ''] , action_params: [None, None, None, None, None]\n",
      "cache: [3, 4, 0] , cache_config: {'rows_in_cache': None, 'len_of_cache': 3}\n",
      "\n",
      "                      time  day   num  day_square  day_root\n",
      "0      2020-01-01 00:00:00    1  2022           1  1.000000\n",
      "1      2020-01-01 00:00:01    1  2023           1  1.000000\n",
      "2      2020-01-01 00:00:02    1  2024           1  1.000000\n",
      "3      2020-01-01 00:00:03    1  2025           1  1.000000\n",
      "4      2020-01-01 00:00:04    1  2026           1  1.000000\n",
      "...                    ...  ...   ...         ...       ...\n",
      "999995 2020-01-12 13:46:35   12  2127         144  3.464102\n",
      "999996 2020-01-12 13:46:36   12  2128         144  3.464102\n",
      "999997 2020-01-12 13:46:37   12  2129         144  3.464102\n",
      "999998 2020-01-12 13:46:38   12  2130         144  3.464102\n",
      "999999 2020-01-12 13:46:39   12  2131         144  3.464102\n",
      "\n",
      "[1000000 rows x 5 columns]\n"
     ]
    }
   ],
   "source": [
    "stsfefs_merge1 = stsfefs_merge1.merge(df_another,[\"day\",\"num\"],target=[\"day_square\",\"day_root\"])\n",
    "stsfefs_merge1.print_tsfefs_info()\n",
    "print()\n",
    "print(stsfefs_merge1.export_dataframe())\n"
   ]
  },
  {
   "cell_type": "markdown",
   "id": "40414308",
   "metadata": {},
   "source": [
    " "
   ]
  },
  {
   "cell_type": "markdown",
   "id": "88e25b64",
   "metadata": {},
   "source": [
    "# 2. Merge stsfefs base with tsfefs_another.\n"
   ]
  },
  {
   "cell_type": "code",
   "execution_count": 8,
   "id": "4798efb3",
   "metadata": {},
   "outputs": [
    {
     "name": "stdout",
     "output_type": "stream",
     "text": [
      "path: /Users/yeehinleung/Documents/GreekIsGood/Products/TSFEFS/2. test SafeTSFEFS , name: merge2\n",
      "pieces: ['xupjkqua', 'xtswfhrz', 'xfymoqzr', 'uesllzue', 'shghrjnu']\n",
      "fr: 2020-01-01 00:00:00 , to: 2020-01-12 13:46:39\n",
      "frs: ['2020-01-01 00:00:00', '2020-01-03 07:33:20', '2020-01-05 15:06:40', '2020-01-07 22:40:00', '2020-01-10 06:13:20']\n",
      "tos: ['2020-01-03 07:33:19', '2020-01-05 15:06:39', '2020-01-07 22:39:59', '2020-01-10 06:13:19', '2020-01-12 13:46:39']\n",
      "types: ['csv', 'csv', 'csv', 'csv', 'csv']\n",
      "time_col: time , datetime_format: %Y-%m-%d %H:%M:%S\n",
      "piece_name_len: 8\n",
      "colnames: ['time', 'day', 'num', 'day_square', 'day_root'] , row_cnt: 1000000\n",
      "row_cnts: [200000, 200000, 200000, 200000, 200000]\n",
      "actions: ['', '', '', '', ''] , action_params: [None, None, None, None, None]\n",
      "cache: [3, 4, 0] , cache_config: {'rows_in_cache': None, 'len_of_cache': 3}\n",
      "\n",
      "                      time  day   num  day_square  day_root\n",
      "0      2020-01-01 00:00:00    1  2022           1  1.000000\n",
      "1      2020-01-01 00:00:01    1  2023           1  1.000000\n",
      "2      2020-01-01 00:00:02    1  2024           1  1.000000\n",
      "3      2020-01-01 00:00:03    1  2025           1  1.000000\n",
      "4      2020-01-01 00:00:04    1  2026           1  1.000000\n",
      "...                    ...  ...   ...         ...       ...\n",
      "999995 2020-01-12 13:46:35   12  2127         144  3.464102\n",
      "999996 2020-01-12 13:46:36   12  2128         144  3.464102\n",
      "999997 2020-01-12 13:46:37   12  2129         144  3.464102\n",
      "999998 2020-01-12 13:46:38   12  2130         144  3.464102\n",
      "999999 2020-01-12 13:46:39   12  2131         144  3.464102\n",
      "\n",
      "[1000000 rows x 5 columns]\n"
     ]
    }
   ],
   "source": [
    "stsfefs_merge2 = stsfefs_merge2.merge(tsfefs_another,[\"day\",\"num\"],target=[\"day_square\",\"day_root\"])\n",
    "stsfefs_merge2.print_tsfefs_info()\n",
    "print()\n",
    "print(stsfefs_merge2.export_dataframe())\n"
   ]
  },
  {
   "cell_type": "markdown",
   "id": "cd0ccc0c",
   "metadata": {},
   "source": [
    " "
   ]
  },
  {
   "cell_type": "markdown",
   "id": "6db11e1f",
   "metadata": {},
   "source": [
    "# 3. Merge stsfefs base with stsfefs_another.\n"
   ]
  },
  {
   "cell_type": "code",
   "execution_count": 9,
   "id": "216b36ea",
   "metadata": {},
   "outputs": [
    {
     "name": "stdout",
     "output_type": "stream",
     "text": [
      "path: /Users/yeehinleung/Documents/GreekIsGood/Products/TSFEFS/2. test SafeTSFEFS , name: merge3\n",
      "pieces: ['xupjkqua', 'xtswfhrz', 'xfymoqzr', 'uesllzue', 'shghrjnu']\n",
      "fr: 2020-01-01 00:00:00 , to: 2020-01-12 13:46:39\n",
      "frs: ['2020-01-01 00:00:00', '2020-01-03 07:33:20', '2020-01-05 15:06:40', '2020-01-07 22:40:00', '2020-01-10 06:13:20']\n",
      "tos: ['2020-01-03 07:33:19', '2020-01-05 15:06:39', '2020-01-07 22:39:59', '2020-01-10 06:13:19', '2020-01-12 13:46:39']\n",
      "types: ['csv', 'csv', 'csv', 'csv', 'csv']\n",
      "time_col: time , datetime_format: %Y-%m-%d %H:%M:%S\n",
      "piece_name_len: 8\n",
      "colnames: ['time', 'day', 'num', 'day_square', 'day_root'] , row_cnt: 1000000\n",
      "row_cnts: [200000, 200000, 200000, 200000, 200000]\n",
      "actions: ['', '', '', '', ''] , action_params: [None, None, None, None, None]\n",
      "cache: [3, 4, 0] , cache_config: {'rows_in_cache': None, 'len_of_cache': 3}\n",
      "\n",
      "                      time  day   num  day_square  day_root\n",
      "0      2020-01-01 00:00:00    1  2022           1  1.000000\n",
      "1      2020-01-01 00:00:01    1  2023           1  1.000000\n",
      "2      2020-01-01 00:00:02    1  2024           1  1.000000\n",
      "3      2020-01-01 00:00:03    1  2025           1  1.000000\n",
      "4      2020-01-01 00:00:04    1  2026           1  1.000000\n",
      "...                    ...  ...   ...         ...       ...\n",
      "999995 2020-01-12 13:46:35   12  2127         144  3.464102\n",
      "999996 2020-01-12 13:46:36   12  2128         144  3.464102\n",
      "999997 2020-01-12 13:46:37   12  2129         144  3.464102\n",
      "999998 2020-01-12 13:46:38   12  2130         144  3.464102\n",
      "999999 2020-01-12 13:46:39   12  2131         144  3.464102\n",
      "\n",
      "[1000000 rows x 5 columns]\n"
     ]
    }
   ],
   "source": [
    "stsfefs_merge3 = stsfefs_merge3.merge(stsfefs_another,[\"day\",\"num\"],target=[\"day_square\",\"day_root\"])\n",
    "stsfefs_merge3.print_tsfefs_info()\n",
    "print()\n",
    "print(stsfefs_merge3.export_dataframe())\n"
   ]
  },
  {
   "cell_type": "markdown",
   "id": "35df2d85",
   "metadata": {},
   "source": [
    " "
   ]
  },
  {
   "cell_type": "code",
   "execution_count": 10,
   "id": "60c1e348",
   "metadata": {},
   "outputs": [],
   "source": [
    "stsfefs_merge1.remove()\n",
    "stsfefs_merge2.remove()\n",
    "stsfefs_merge3.remove()\n"
   ]
  },
  {
   "cell_type": "markdown",
   "id": "843a20f9",
   "metadata": {},
   "source": [
    " "
   ]
  },
  {
   "cell_type": "markdown",
   "id": "36b6bf28",
   "metadata": {},
   "source": [
    " "
   ]
  },
  {
   "cell_type": "markdown",
   "id": "7206ff57",
   "metadata": {},
   "source": [
    " "
   ]
  },
  {
   "cell_type": "code",
   "execution_count": 11,
   "id": "44d9c582",
   "metadata": {},
   "outputs": [],
   "source": [
    "stsfefs_another.remove()\n",
    "stsfefs_base.remove()\n"
   ]
  },
  {
   "cell_type": "markdown",
   "id": "f31ba405",
   "metadata": {},
   "source": [
    " "
   ]
  },
  {
   "cell_type": "markdown",
   "id": "5770fddc",
   "metadata": {},
   "source": [
    " "
   ]
  }
 ],
 "metadata": {
  "kernelspec": {
   "display_name": "Python 3 (ipykernel)",
   "language": "python",
   "name": "python3"
  },
  "language_info": {
   "codemirror_mode": {
    "name": "ipython",
    "version": 3
   },
   "file_extension": ".py",
   "mimetype": "text/x-python",
   "name": "python",
   "nbconvert_exporter": "python",
   "pygments_lexer": "ipython3",
   "version": "3.10.5"
  }
 },
 "nbformat": 4,
 "nbformat_minor": 5
}
