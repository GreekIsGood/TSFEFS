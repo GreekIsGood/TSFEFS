{
 "cells": [
  {
   "cell_type": "code",
   "execution_count": 36,
   "id": "89383a43",
   "metadata": {},
   "outputs": [],
   "source": [
    "import pandas as pd\n",
    "import numpy as np\n",
    "from datetime import datetime as dt, timedelta as td\n",
    "\n",
    "import json\n",
    "import random\n",
    "import string\n",
    "\n",
    "from copy import deepcopy as dc\n",
    "import os\n",
    "\n",
    "from TSFEFS import *\n"
   ]
  },
  {
   "cell_type": "markdown",
   "id": "92100853",
   "metadata": {},
   "source": [
    "<b> You need to create hardcodes.py by yourself.<br>\n",
    "<b> It should hardcode srcfolder, which you read the readata, and <br>\n",
    "<b> dstfolder, which you'd like the tsfefs to be saved. "
   ]
  },
  {
   "cell_type": "code",
   "execution_count": 37,
   "id": "b90891b9",
   "metadata": {},
   "outputs": [
    {
     "name": "stdout",
     "output_type": "stream",
     "text": [
      "srcfolder: /Users/yeehinleung/Documents/GreekIsGood/Products/TSFEFS/XAU_USD_demo\n",
      "['XAU_USD_H8.csv', 'XAU_USD_M.csv', '.DS_Store', 'XAU_USD_M15.csv', 'XAU_USD_H1.csv', 'XAU_USD_W.csv', 'XAU_USD_H4.csv', 'XAU_USD_D.csv']\n",
      "\n",
      "dstfolder: /Users/yeehinleung/Documents/GreekIsGood/Products/TSFEFS/test RealData\n"
     ]
    }
   ],
   "source": [
    "from hardcodes import *\n",
    "# import srcfolder\n",
    "print(\"srcfolder:\", srcfolder)\n",
    "print(os.listdir(srcfolder))\n",
    "print()\n",
    "print(\"dstfolder:\", dstfolder)\n"
   ]
  },
  {
   "cell_type": "markdown",
   "id": "18e6e20a",
   "metadata": {},
   "source": [
    " "
   ]
  },
  {
   "cell_type": "markdown",
   "id": "e9943ffd",
   "metadata": {},
   "source": [
    "# Import Test Plan\n",
    "# 1. Import monthly data, test print all columns.\n",
    "# 2. Test print the last record before \"2013-08-31 21:00:00\".\n",
    "# 3. Import 15 mins data, test export to folder.\n",
    "# 4. Test import from the exported folder.\n",
    "# 5. Create \"features\" until \"2013-08-31 21:00:00\", save as TSFEFS.\n",
    "# 6. Create \"feature\" for those > latest time of the above TSFEFS, save to the same TSFEFS."
   ]
  },
  {
   "cell_type": "markdown",
   "id": "2e25e76d",
   "metadata": {},
   "source": [
    " "
   ]
  },
  {
   "cell_type": "markdown",
   "id": "27f2b6ba",
   "metadata": {},
   "source": [
    " "
   ]
  },
  {
   "cell_type": "markdown",
   "id": "659e5cb2",
   "metadata": {},
   "source": [
    "# 1. Import monthly data, test print all columns.\n"
   ]
  },
  {
   "cell_type": "code",
   "execution_count": 38,
   "id": "2fce43ca",
   "metadata": {},
   "outputs": [],
   "source": [
    "dict_meta = {\n",
    "    \"piece_name_len\": 8,\n",
    "    \"time_col\": \"time\", \"datetime_format\": \"%Y-%m-%d %H:%M:%S.%f\",\n",
    "    \"max_row_per_piece\": 40000,\n",
    "    \"colnames\":[\"time\",\"volume\",\"open\",\"high\",\"low\",\"close\",\\\n",
    "                \"nochange\",\"ret_open\",\"ret_high\",\"ret_low\",\"ret_close\"],\n",
    "    \"cache_config\":{\"rows_in_cache\":None,\"len_of_cache\":5}\n",
    "}\n",
    "    "
   ]
  },
  {
   "cell_type": "code",
   "execution_count": 39,
   "id": "90639255",
   "metadata": {},
   "outputs": [
    {
     "name": "stdout",
     "output_type": "stream",
     "text": [
      "path: /Users/yeehinleung/Documents/GreekIsGood/Products/TSFEFS/test RealData , name: XAU_USD_M\n",
      "pieces: ['nkfqlawp']\n",
      "fr: 2006-03-31 22:00:00 , to: 2021-12-31 22:00:00\n",
      "frs: ['2006-03-31 22:00:00.000000']\n",
      "tos: ['2021-12-31 22:00:00.000000']\n",
      "types: ['csv']\n",
      "time_col: time , datetime_format: %Y-%m-%d %H:%M:%S.%f\n",
      "piece_name_len: 8\n",
      "colnames: ['time', 'volume', 'open', 'high', 'low', 'close', 'nochange', 'ret_open', 'ret_high', 'ret_low', 'ret_close'] , row_cnt: 207\n",
      "row_cnts: [207]\n",
      "actions: [''] , action_params: [None]\n",
      "cache: [0] , cache_config: {'rows_in_cache': None, 'len_of_cache': 5}\n"
     ]
    }
   ],
   "source": [
    "tsfefs_XAU_USD_M = TSFEFS()\n",
    "tsfefs_XAU_USD_M.path = dstfolder\n",
    "tsfefs_XAU_USD_M.name = \"XAU_USD_M\"\n",
    "tsfefs_XAU_USD_M.load_meta(dict_meta)\n",
    "\n",
    "# The 1 month's GOLD src data\n",
    "tsfefs_XAU_USD_M.import_srcfile(\"%s/%s\"%(srcfolder,\"XAU_USD_M.csv\"))\n",
    "tsfefs_XAU_USD_M.take_actions(max_level=3)\n",
    "tsfefs_XAU_USD_M.maintain_cache()\n",
    "tsfefs_XAU_USD_M.print_tsfefs_info()\n"
   ]
  },
  {
   "cell_type": "code",
   "execution_count": 40,
   "id": "97d0ff85",
   "metadata": {},
   "outputs": [
    {
     "name": "stdout",
     "output_type": "stream",
     "text": [
      "                   time   volume      open      high       low     close   \n",
      "0   2006-03-31 22:00:00   103080   583.650   656.000   582.250   654.550  \\\n",
      "1   2006-03-31 22:00:00   103080   583.650   656.000   582.250   654.550   \n",
      "2   2006-04-30 21:00:00   113465   654.550   730.450   636.050   645.100   \n",
      "3   2006-05-31 21:00:00   101844   645.000   645.850   542.250   615.850   \n",
      "4   2006-06-30 21:00:00    77692   615.800   677.550   602.350   636.650   \n",
      "..                  ...      ...       ...       ...       ...       ...   \n",
      "202 2021-08-31 21:00:00  1082396  1814.060  1834.041  1721.710  1757.040   \n",
      "203 2021-09-30 21:00:00  1048371  1756.440  1813.847  1745.990  1783.350   \n",
      "204 2021-10-31 21:00:00  1230009  1782.925  1877.140  1758.861  1774.681   \n",
      "205 2021-11-30 22:00:00   815340  1775.971  1830.386  1753.066  1828.775   \n",
      "206 2021-12-31 22:00:00   834421  1830.935  1853.885  1780.330  1797.165   \n",
      "\n",
      "    nochange  ret_open  ret_high   ret_low  ret_close  \n",
      "0        NaN       NaN       NaN       NaN        NaN  \n",
      "1       True  0.891681  1.002215  0.889542   1.000000  \n",
      "2      False  1.000000  1.115958  0.971736   0.985563  \n",
      "3      False  0.999845  1.001163  0.840567   0.954658  \n",
      "4      False  0.999919  1.100187  0.978079   1.033774  \n",
      "..       ...       ...       ...       ...        ...  \n",
      "202    False  1.000146  1.011162  0.949231   0.968709  \n",
      "203    False  0.999659  1.032331  0.993711   1.014974  \n",
      "204    False  0.999762  1.052592  0.986268   0.995139  \n",
      "205    False  1.000727  1.031389  0.987820   1.030481  \n",
      "206    False  1.001181  1.013731  0.973510   0.982715  \n",
      "\n",
      "[207 rows x 11 columns]\n"
     ]
    }
   ],
   "source": [
    "print(tsfefs_XAU_USD_M.export_dataframe())"
   ]
  },
  {
   "cell_type": "markdown",
   "id": "afba833a",
   "metadata": {},
   "source": [
    " "
   ]
  },
  {
   "cell_type": "markdown",
   "id": "b7a01b2d",
   "metadata": {},
   "source": [
    "# 2. Test print the last record before \"2013-08-31 21:00:00\".\n"
   ]
  },
  {
   "cell_type": "code",
   "execution_count": 41,
   "id": "ece6bf75",
   "metadata": {},
   "outputs": [
    {
     "name": "stdout",
     "output_type": "stream",
     "text": [
      "time         2013-08-31 21:00:00\n",
      "volume                   4522972\n",
      "open                    1393.095\n",
      "high                    1416.445\n",
      "low                     1291.356\n",
      "close                   1328.924\n",
      "nochange                   False\n",
      "ret_open                0.998428\n",
      "ret_high                1.015163\n",
      "ret_low                 0.925512\n",
      "ret_close               0.952437\n",
      "Name: 98, dtype: object\n",
      "\n",
      "2013-08-31 21:00:00\n",
      "4522972\n",
      "1393.095\n",
      "1416.445\n",
      "1291.356\n",
      "1328.924\n",
      "False\n",
      "0.9984282814730724\n",
      "1.015163177781218\n",
      "0.9255121523298416\n",
      "0.9524370595891316\n"
     ]
    }
   ],
   "source": [
    "ts = \"2013-08-31 21:00:00\"\n",
    "ts = dt.strptime(ts, \"%Y-%m-%d %H:%M:%S\")\n",
    "B = tsfefs_XAU_USD_M <= ts\n",
    "print(tsfefs_XAU_USD_M[B].iloc[-1])\n",
    "\n",
    "prev_time, prev_volume, prev_open, prev_high, prev_low, prev_close, \\\n",
    "prev_nochange, prev_ret_open, prev_ret_high, prev_ret_low, prev_ret_close \\\n",
    "= tsfefs_XAU_USD_M[B].iloc[-1]\n",
    "print() \n",
    "print(prev_time)\n",
    "print(prev_volume)\n",
    "print(prev_open)\n",
    "print(prev_high)\n",
    "print(prev_low)\n",
    "print(prev_close)\n",
    "print(prev_nochange)\n",
    "print(prev_ret_open)\n",
    "print(prev_ret_high)\n",
    "print(prev_ret_low)\n",
    "print(prev_ret_close)\n"
   ]
  },
  {
   "cell_type": "markdown",
   "id": "c09d93be",
   "metadata": {},
   "source": [
    " "
   ]
  },
  {
   "cell_type": "markdown",
   "id": "15ff32f6",
   "metadata": {},
   "source": [
    " # 3. Import 15 mins data, test export to folder.\n"
   ]
  },
  {
   "cell_type": "code",
   "execution_count": 42,
   "id": "c6be258f",
   "metadata": {},
   "outputs": [
    {
     "name": "stderr",
     "output_type": "stream",
     "text": [
      "/Users/yeehinleung/Documents/GreekIsGood/Products/TSFEFS/test RealData/TSFEFS.py:1179: DtypeWarning: Columns (6) have mixed types. Specify dtype option on import or set low_memory=False.\n",
      "  df = pd.read_csv(srcfile, dtype={self.time_col:str})\n"
     ]
    },
    {
     "name": "stdout",
     "output_type": "stream",
     "text": [
      "path: /Users/yeehinleung/Documents/GreekIsGood/Products/TSFEFS/test RealData , name: XAU_USD_M15\n",
      "pieces: ['hslzivys', 'zwgnjgvo', 'dtbhapiw', 'xgzaqqfe', 'gdjvxkij', 'exefqtpc', 'wdhgaapf', 'ghddretu', 'wficwnba', 'godrtfcj', 'ngylgogt', 'jazzsdfs', 'shpbdulm', 'llpknqql', 'ixepubwr', 'pjrmilwo', 'yisuilmc', 'dtpogaqg', 'cctbinah']\n",
      "fr: 2006-03-19 20:15:00 , to: 2021-12-30 23:45:00\n",
      "frs: ['2006-03-19 20:15:00.000000', '2007-01-18 14:00:00.000000', '2007-11-12 07:45:00.000000', '2008-09-08 16:30:00.000000', '2009-07-02 21:45:00.000000', '2010-04-30 05:45:00.000000', '2011-02-23 14:15:00.000000', '2011-12-06 07:00:00.000000', '2012-10-01 15:45:00.000000', '2013-08-06 13:30:00.000000', '2014-06-11 06:15:00.000000', '2015-04-15 23:00:00.000000', '2016-02-18 18:45:00.000000', '2016-12-22 01:00:00.000000', '2017-10-27 06:00:00.000000', '2018-09-03 15:15:00.000000', '2019-07-11 07:15:00.000000', '2020-05-18 14:00:00.000000', '2021-03-24 06:00:00.000000']\n",
      "tos: ['2007-01-18 13:45:00.000000', '2007-11-12 07:30:00.000000', '2008-09-08 16:15:00.000000', '2009-07-02 21:00:00.000000', '2010-04-30 05:30:00.000000', '2011-02-23 14:00:00.000000', '2011-12-06 06:45:00.000000', '2012-10-01 15:30:00.000000', '2013-08-06 13:15:00.000000', '2014-06-11 06:00:00.000000', '2015-04-15 22:45:00.000000', '2016-02-18 18:30:00.000000', '2016-12-22 00:45:00.000000', '2017-10-27 05:45:00.000000', '2018-09-03 15:00:00.000000', '2019-07-11 07:00:00.000000', '2020-05-18 13:45:00.000000', '2021-03-24 05:45:00.000000', '2021-12-30 23:45:00.000000']\n",
      "types: ['csv', 'csv', 'csv', 'csv', 'csv', 'csv', 'csv', 'csv', 'csv', 'csv', 'csv', 'csv', 'csv', 'csv', 'csv', 'csv', 'csv', 'csv', 'csv']\n",
      "time_col: time , datetime_format: %Y-%m-%d %H:%M:%S.%f\n",
      "piece_name_len: 8\n",
      "colnames: ['time', 'volume', 'open', 'high', 'low', 'close', 'nochange', 'ret_open', 'ret_high', 'ret_low', 'ret_close'] , row_cnt: 378291\n",
      "row_cnts: [20000, 20000, 20000, 20000, 20000, 20000, 20000, 20000, 20000, 20000, 20000, 20000, 20000, 20000, 20000, 20000, 20000, 20000, 18291]\n",
      "actions: ['', '', '', '', '', '', '', '', '', '', '', '', '', '', '', '', '', '', ''] , action_params: [None, None, None, None, None, None, None, None, None, None, None, None, None, None, None, None, None, None, None]\n",
      "cache: [15, 16, 17, 18, 0] , cache_config: {'rows_in_cache': None, 'len_of_cache': 5}\n"
     ]
    }
   ],
   "source": [
    "tsfefs_XAU_USD_M15 = TSFEFS()\n",
    "tsfefs_XAU_USD_M15.path = dstfolder\n",
    "tsfefs_XAU_USD_M15.name = \"XAU_USD_M15\"\n",
    "tsfefs_XAU_USD_M15.load_meta(dict_meta)\n",
    "\n",
    "# The 1 month's GOLD src data\n",
    "tsfefs_XAU_USD_M15.import_srcfile(\"%s/%s\"%(srcfolder,\"XAU_USD_M15.csv\"))\n",
    "tsfefs_XAU_USD_M15.take_actions(max_level=3)\n",
    "tsfefs_XAU_USD_M15.maintain_cache()\n",
    "tsfefs_XAU_USD_M15.print_tsfefs_info()\n"
   ]
  },
  {
   "cell_type": "code",
   "execution_count": 43,
   "id": "7009e5e1",
   "metadata": {},
   "outputs": [
    {
     "data": {
      "text/plain": [
       "['14. 2017-10-27 06:00:00.000000 ~ 2018-09-03 15:00:00.000000.csv',\n",
       " '1. 2007-01-18 14:00:00.000000 ~ 2007-11-12 07:30:00.000000.csv',\n",
       " '17. 2020-05-18 14:00:00.000000 ~ 2021-03-24 05:45:00.000000.csv',\n",
       " '18. 2021-03-24 06:00:00.000000 ~ 2021-12-30 23:45:00.000000.csv',\n",
       " '10. 2014-06-11 06:15:00.000000 ~ 2015-04-15 22:45:00.000000.csv',\n",
       " '13. 2016-12-22 01:00:00.000000 ~ 2017-10-27 05:45:00.000000.csv',\n",
       " '12. 2016-02-18 18:45:00.000000 ~ 2016-12-22 00:45:00.000000.csv',\n",
       " '3. 2008-09-08 16:30:00.000000 ~ 2009-07-02 21:00:00.000000.csv',\n",
       " '16. 2019-07-11 07:15:00.000000 ~ 2020-05-18 13:45:00.000000.csv',\n",
       " '6. 2011-02-23 14:15:00.000000 ~ 2011-12-06 06:45:00.000000.csv',\n",
       " '5. 2010-04-30 05:45:00.000000 ~ 2011-02-23 14:00:00.000000.csv',\n",
       " '4. 2009-07-02 21:45:00.000000 ~ 2010-04-30 05:30:00.000000.csv',\n",
       " '8. 2012-10-01 15:45:00.000000 ~ 2013-08-06 13:15:00.000000.csv',\n",
       " '11. 2015-04-15 23:00:00.000000 ~ 2016-02-18 18:30:00.000000.csv',\n",
       " '2. 2007-11-12 07:45:00.000000 ~ 2008-09-08 16:15:00.000000.csv',\n",
       " '0. 2006-03-19 20:15:00.000000 ~ 2007-01-18 13:45:00.000000.csv',\n",
       " '7. 2011-12-06 07:00:00.000000 ~ 2012-10-01 15:30:00.000000.csv',\n",
       " '9. 2013-08-06 13:30:00.000000 ~ 2014-06-11 06:00:00.000000.csv',\n",
       " '15. 2018-09-03 15:15:00.000000 ~ 2019-07-11 07:00:00.000000.csv']"
      ]
     },
     "execution_count": 43,
     "metadata": {},
     "output_type": "execute_result"
    }
   ],
   "source": [
    "export_folder = \"%s/%s\"%(srcfolder,\"exported_XAU_USD_M15\")\n",
    "tsfefs_XAU_USD_M15.export_dstfolder(export_folder)\n",
    "os.listdir(export_folder)\n"
   ]
  },
  {
   "cell_type": "markdown",
   "id": "939e6070",
   "metadata": {},
   "source": [
    " "
   ]
  },
  {
   "cell_type": "markdown",
   "id": "6f001951",
   "metadata": {},
   "source": [
    "# 4. Test import from the exported folder.\n"
   ]
  },
  {
   "cell_type": "code",
   "execution_count": 44,
   "id": "34e3db4d",
   "metadata": {},
   "outputs": [
    {
     "name": "stdout",
     "output_type": "stream",
     "text": [
      "path: /Users/yeehinleung/Documents/GreekIsGood/Products/TSFEFS/test RealData , name: imported_XAU_USD_M15\n",
      "pieces: ['lbobugpn', 'xntowzcy', 'nksqtywk', 'sejqanxv', 'fwcoxzsl', 'zixxdutz', 'tccjxsnn', 'mxndrhss', 'mdrmoaie', 'uzfgpywt', 'jynhyrke', 'tsqvdhvr', 'lghyxcbl', 'pnoftmwl', 'xeynkxxp', 'yltanzrb', 'wlqesaim', 'xuzhpwbw', 'odemufva']\n",
      "fr: 2006-03-19 20:15:00 , to: 2021-12-30 23:45:00\n",
      "frs: ['2017-10-27 06:00:00.000000', '2007-01-18 14:00:00.000000', '2020-05-18 14:00:00.000000', '2021-03-24 06:00:00.000000', '2014-06-11 06:15:00.000000', '2016-12-22 01:00:00.000000', '2016-02-18 18:45:00.000000', '2008-09-08 16:30:00.000000', '2019-07-11 07:15:00.000000', '2011-02-23 14:15:00.000000', '2010-04-30 05:45:00.000000', '2009-07-02 21:45:00.000000', '2012-10-01 15:45:00.000000', '2015-04-15 23:00:00.000000', '2007-11-12 07:45:00.000000', '2006-03-19 20:15:00.000000', '2011-12-06 07:00:00.000000', '2013-08-06 13:30:00.000000', '2018-09-03 15:15:00.000000']\n",
      "tos: ['2018-09-03 15:00:00.000000', '2007-11-12 07:30:00.000000', '2021-03-24 05:45:00.000000', '2021-12-30 23:45:00.000000', '2015-04-15 22:45:00.000000', '2017-10-27 05:45:00.000000', '2016-12-22 00:45:00.000000', '2009-07-02 21:00:00.000000', '2020-05-18 13:45:00.000000', '2011-12-06 06:45:00.000000', '2011-02-23 14:00:00.000000', '2010-04-30 05:30:00.000000', '2013-08-06 13:15:00.000000', '2016-02-18 18:30:00.000000', '2008-09-08 16:15:00.000000', '2007-01-18 13:45:00.000000', '2012-10-01 15:30:00.000000', '2014-06-11 06:00:00.000000', '2019-07-11 07:00:00.000000']\n",
      "types: ['csv', 'csv', 'csv', 'csv', 'csv', 'csv', 'csv', 'csv', 'csv', 'csv', 'csv', 'csv', 'csv', 'csv', 'csv', 'csv', 'csv', 'csv', 'csv']\n",
      "time_col: time , datetime_format: %Y-%m-%d %H:%M:%S.%f\n",
      "piece_name_len: 8\n",
      "colnames: ['time', 'volume', 'open', 'high', 'low', 'close', 'nochange', 'ret_open', 'ret_high', 'ret_low', 'ret_close'] , row_cnt: 378291\n",
      "row_cnts: [20000, 20000, 20000, 18291, 20000, 20000, 20000, 20000, 20000, 20000, 20000, 20000, 20000, 20000, 20000, 20000, 20000, 20000, 20000]\n",
      "actions: ['', '', '', '', '', '', '', '', '', '', '', '', '', '', '', '', '', '', ''] , action_params: [None, None, None, None, None, None, None, None, None, None, None, None, None, None, None, None, None, None, None]\n",
      "cache: [] , cache_config: {'rows_in_cache': None, 'len_of_cache': 5}\n"
     ]
    }
   ],
   "source": [
    "tsfefs_XAU_USD_M15_imported = TSFEFS()\n",
    "tsfefs_XAU_USD_M15_imported.path = dstfolder\n",
    "tsfefs_XAU_USD_M15_imported.name = \"imported_XAU_USD_M15\"\n",
    "tsfefs_XAU_USD_M15_imported.load_meta(dict_meta)\n",
    "\n",
    "# The 1 month's GOLD src data\n",
    "tsfefs_XAU_USD_M15_imported.import_srcfolder(export_folder)\n",
    "tsfefs_XAU_USD_M15_imported.take_actions(max_level=3)\n",
    "tsfefs_XAU_USD_M15_imported.maintain_cache()\n",
    "tsfefs_XAU_USD_M15_imported.print_tsfefs_info()\n"
   ]
  },
  {
   "cell_type": "markdown",
   "id": "46bbc20e",
   "metadata": {},
   "source": [
    " "
   ]
  },
  {
   "cell_type": "markdown",
   "id": "98e36eca",
   "metadata": {},
   "source": [
    "# 5. Create \"features\" until \"2013-08-31 21:00:00\", save as TSFEFS.\n"
   ]
  },
  {
   "cell_type": "code",
   "execution_count": 45,
   "id": "7a1e83c3",
   "metadata": {},
   "outputs": [],
   "source": [
    "B = tsfefs_XAU_USD_M15_imported <= ts\n",
    "df_ = tsfefs_XAU_USD_M15_imported[B]\n",
    "# remove the 1st row since it contains NA\n",
    "df_ = df_.iloc[1:].reset_index(drop=True)\n"
   ]
  },
  {
   "cell_type": "code",
   "execution_count": 46,
   "id": "00947a80",
   "metadata": {},
   "outputs": [],
   "source": [
    "feat_cols = [\"volume\",\"open\",\"high\",\"low\",\"close\",\"nochange\",\"ret_open\",\"ret_high\",\"ret_low\",\"ret_close\"]\n",
    "\n",
    "def create_naive_feats(df_):\n",
    "    prev = np.array([0,0,0,0,0,0,0,0,0,0])\n",
    "    rows = []\n",
    "    for idx,row in df_[feat_cols].iterrows():\n",
    "        row = np.array(row)**2 - prev\n",
    "        rows += [ row.tolist() ]\n",
    "        prev = row\n",
    "\n",
    "    df_feat = pd.DataFrame(np.array(rows))\n",
    "    df_feat.columns = [ col + \"_feat\" for col in feat_cols ]\n",
    "    df_feat = pd.concat([df_,df_feat], axis=1)\n",
    "    return df_feat\n"
   ]
  },
  {
   "cell_type": "code",
   "execution_count": 47,
   "id": "58f13f7e",
   "metadata": {},
   "outputs": [
    {
     "name": "stdout",
     "output_type": "stream",
     "text": [
      "                      time  volume      open      high       low     close   \n",
      "0      2006-03-19 20:30:00       1   553.950   553.950   553.950   553.950  \\\n",
      "1      2006-03-19 21:00:00       1   554.050   554.050   554.050   554.050   \n",
      "2      2006-03-19 21:15:00       2   554.050   554.050   554.050   554.050   \n",
      "3      2006-03-20 00:15:00      10   554.050   555.550   553.650   555.550   \n",
      "4      2006-03-20 00:30:00      10   555.650   555.950   555.550   555.650   \n",
      "...                    ...     ...       ...       ...       ...       ...   \n",
      "181695 2013-08-30 19:45:00    1711  1395.107  1395.777  1394.048  1394.250   \n",
      "181696 2013-08-30 20:00:00     887  1394.250  1395.373  1393.491  1393.491   \n",
      "181697 2013-08-30 20:15:00     610  1393.509  1394.514  1393.505  1394.468   \n",
      "181698 2013-08-30 20:30:00     519  1394.461  1395.263  1393.838  1394.941   \n",
      "181699 2013-08-30 20:45:00     608  1394.967  1395.863  1394.808  1395.288   \n",
      "\n",
      "       nochange  ret_open  ret_high   ret_low  ...   volume_feat   \n",
      "0         False  0.999910  0.999910  0.999910  ...  1.000000e+00  \\\n",
      "1         False  1.000181  1.000181  1.000181  ...  0.000000e+00   \n",
      "2          True  1.000000  1.000000  1.000000  ...  4.000000e+00   \n",
      "3         False  1.000000  1.002707  0.999278  ...  9.600000e+01   \n",
      "4         False  1.000180  1.000720  1.000000  ...  4.000000e+00   \n",
      "...         ...       ...       ...       ...  ...           ...   \n",
      "181695    False  1.000004  1.000485  0.999245  ... -5.104641e+09   \n",
      "181696    False  1.000000  1.000805  0.999456  ...  5.105428e+09   \n",
      "181697    False  1.000013  1.000734  1.000010  ... -5.105056e+09   \n",
      "181698    False  0.999995  1.000570  0.999548  ...  5.105325e+09   \n",
      "181699    False  1.000019  1.000661  0.999905  ... -5.104956e+09   \n",
      "\n",
      "           open_feat     high_feat      low_feat    close_feat  nochange_feat   \n",
      "0       3.068606e+05  3.068606e+05  3.068606e+05  3.068606e+05            0.0  \\\n",
      "1       1.108000e+02  1.108000e+02  1.108000e+02  1.108000e+02            0.0   \n",
      "2       3.068606e+05  3.068606e+05  3.068606e+05  3.068606e+05            1.0   \n",
      "3       1.108000e+02  1.775200e+03 -3.322800e+02  1.775200e+03           -1.0   \n",
      "4       3.086361e+05  3.073052e+05  3.089681e+05  3.069717e+05            1.0   \n",
      "...              ...           ...           ...           ...            ...   \n",
      "181695  9.362983e+05  2.038057e+06  5.786930e+05  6.636132e+05          -11.0   \n",
      "181696  1.007635e+06 -9.099123e+04  1.363124e+06  1.278204e+06           11.0   \n",
      "181697  9.342326e+05  2.035661e+06  5.787320e+05  6.663371e+05          -11.0   \n",
      "181698  1.010289e+06 -8.890169e+04  1.364052e+06  1.279523e+06           11.0   \n",
      "181699  9.356441e+05  2.037335e+06  5.814370e+05  6.673053e+05          -11.0   \n",
      "\n",
      "        ret_open_feat  ret_high_feat  ret_low_feat  ret_close_feat  \n",
      "0            0.999820       0.999820      0.999820        0.999820  \n",
      "1            0.000542       0.000542      0.000542        0.000542  \n",
      "2            0.999458       0.999458      0.999458        0.999458  \n",
      "3            0.000542       0.005964     -0.000902        0.005964  \n",
      "4            0.999818       0.995477      1.000902        0.994396  \n",
      "...               ...            ...           ...             ...  \n",
      "181695       0.112011       0.769814      0.567070        0.661674  \n",
      "181696       0.887989       0.231798      0.431842        0.337238  \n",
      "181697       0.112037       0.769671      0.568178        0.664165  \n",
      "181698       0.887953       0.231469      0.430918        0.336513  \n",
      "181699       0.112084       0.769853      0.568891        0.663984  \n",
      "\n",
      "[181700 rows x 21 columns]\n"
     ]
    }
   ],
   "source": [
    "df_feat = create_naive_feats(df_)\n",
    "print(df_feat)\n"
   ]
  },
  {
   "cell_type": "code",
   "execution_count": 48,
   "id": "6d26bd3d",
   "metadata": {},
   "outputs": [],
   "source": [
    "dict_meta_feat = dc(dict_meta)\n",
    "dict_meta_feat[\"colnames\"] += [ col + \"_feat\" for col in feat_cols ]\n"
   ]
  },
  {
   "cell_type": "code",
   "execution_count": 49,
   "id": "3dda4f4f",
   "metadata": {},
   "outputs": [
    {
     "name": "stdout",
     "output_type": "stream",
     "text": [
      "path: /Users/yeehinleung/Documents/GreekIsGood/Products/TSFEFS/test RealData , name: feats\n",
      "pieces: ['vcgnyjlc', 'ieaccmbs', 'mgcckfsm', 'xkzsowsf', 'rklzpuww', 'bycredkg', 'ugedhvpd', 'mooalfus', 'mihxusmy', 'bvqnjjzk']\n",
      "fr: 2006-03-19 20:30:00 , to: 2013-08-30 20:45:00\n",
      "frs: ['2006-03-19 20:30:00.000000', '2007-01-18 14:15:00.000000', '2007-11-12 08:00:00.000000', '2008-09-08 16:45:00.000000', '2009-07-02 22:00:00.000000', '2010-04-30 06:00:00.000000', '2011-02-23 14:30:00.000000', '2011-12-06 07:15:00.000000', '2012-10-01 16:00:00.000000', '2013-08-06 13:45:00.000000']\n",
      "tos: ['2007-01-18 14:00:00.000000', '2007-11-12 07:45:00.000000', '2008-09-08 16:30:00.000000', '2009-07-02 21:45:00.000000', '2010-04-30 05:45:00.000000', '2011-02-23 14:15:00.000000', '2011-12-06 07:00:00.000000', '2012-10-01 15:45:00.000000', '2013-08-06 13:30:00.000000', '2013-08-30 20:45:00.000000']\n",
      "types: ['csv', 'csv', 'csv', 'csv', 'csv', 'csv', 'csv', 'csv', 'csv', 'csv']\n",
      "time_col: time , datetime_format: %Y-%m-%d %H:%M:%S.%f\n",
      "piece_name_len: 8\n",
      "colnames: ['time', 'volume', 'open', 'high', 'low', 'close', 'nochange', 'ret_open', 'ret_high', 'ret_low', 'ret_close', 'volume_feat', 'open_feat', 'high_feat', 'low_feat', 'close_feat', 'nochange_feat', 'ret_open_feat', 'ret_high_feat', 'ret_low_feat', 'ret_close_feat'] , row_cnt: 181700\n",
      "row_cnts: [20000, 20000, 20000, 20000, 20000, 20000, 20000, 20000, 20000, 1700]\n",
      "actions: ['', '', '', '', '', '', '', '', '', ''] , action_params: [None, None, None, None, None, None, None, None, None, None]\n",
      "cache: [6, 7, 8, 9, 0] , cache_config: {'rows_in_cache': None, 'len_of_cache': 5}\n"
     ]
    }
   ],
   "source": [
    "tsfefs_feats = TSFEFS()\n",
    "tsfefs_feats.path = dstfolder\n",
    "tsfefs_feats.name = \"feats\"\n",
    "tsfefs_feats.load_meta(dict_meta_feat)\n",
    "\n",
    "tsfefs_feats.import_dataframe(df_feat)\n",
    "tsfefs_feats.take_actions(max_level=3)\n",
    "tsfefs_feats.maintain_cache()\n",
    "tsfefs_feats.print_tsfefs_info()\n"
   ]
  },
  {
   "cell_type": "markdown",
   "id": "a9ff3cfb",
   "metadata": {},
   "source": [
    " "
   ]
  },
  {
   "cell_type": "markdown",
   "id": "98bec19d",
   "metadata": {},
   "source": [
    "# 6. Create \"feature\" for those > latest time of the above TSFEFS, save to the same TSFEFS."
   ]
  },
  {
   "cell_type": "code",
   "execution_count": 50,
   "id": "f9f05f55",
   "metadata": {},
   "outputs": [],
   "source": [
    "feat_last_ts = max(tsfefs_feats[\"time\"])\n",
    "B = tsfefs_XAU_USD_M15_imported > feat_last_ts\n",
    "df_ = tsfefs_XAU_USD_M15_imported[B].reset_index(drop=True)\n"
   ]
  },
  {
   "cell_type": "code",
   "execution_count": 51,
   "id": "1ef473f4",
   "metadata": {},
   "outputs": [
    {
     "name": "stdout",
     "output_type": "stream",
     "text": [
      "                      time  volume      open      high       low     close   \n",
      "0      2013-09-01 22:00:00    3894  1393.095  1394.360  1382.192  1382.536  \\\n",
      "1      2013-09-01 22:15:00    6212  1382.526  1383.168  1374.030  1378.967   \n",
      "2      2013-09-01 22:30:00    1794  1378.974  1383.956  1378.974  1382.338   \n",
      "3      2013-09-01 22:45:00     911  1382.346  1384.102  1382.006  1382.615   \n",
      "4      2013-09-01 23:00:00    1105  1382.622  1383.076  1380.465  1382.694   \n",
      "...                    ...     ...       ...       ...       ...       ...   \n",
      "196585 2021-12-30 21:45:00      89  1815.275  1815.449  1814.759  1814.760   \n",
      "196586 2021-12-30 23:00:00     118  1815.020  1815.275  1814.525  1815.275   \n",
      "196587 2021-12-30 23:15:00      83  1815.325  1816.087  1815.242  1815.620   \n",
      "196588 2021-12-30 23:30:00      55  1815.670  1816.060  1815.670  1815.880   \n",
      "196589 2021-12-30 23:45:00      62  1815.840  1816.245  1815.385  1815.820   \n",
      "\n",
      "        nochange  ret_open  ret_high   ret_low  ...  volume_feat   \n",
      "0          False  0.998428  0.999335  0.990614  ...   15163236.0  \\\n",
      "1          False  0.999993  1.000457  0.993848  ...   23425708.0   \n",
      "2          False  1.000005  1.003618  1.000005  ...  -20207272.0   \n",
      "3          False  1.000006  1.001276  0.999760  ...   21037193.0   \n",
      "4          False  1.000005  1.000333  0.998445  ...  -19816168.0   \n",
      "...          ...       ...       ...       ...  ...          ...   \n",
      "196585     False  0.999972  1.000068  0.999688  ...  847632373.0   \n",
      "196586     False  1.000143  1.000284  0.999871  ... -847618449.0   \n",
      "196587     False  1.000028  1.000447  0.999982  ...  847625338.0   \n",
      "196588     False  1.000028  1.000242  1.000028  ... -847622313.0   \n",
      "196589     False  0.999978  1.000201  0.999727  ...  847626157.0   \n",
      "\n",
      "           open_feat     high_feat      low_feat    close_feat  nochange_feat   \n",
      "0       1.940714e+06  1.944240e+06  1.910455e+06  1.911406e+06            0.0  \\\n",
      "1      -2.933554e+04 -3.108609e+04 -2.249628e+04 -9.855804e+03            0.0   \n",
      "2       1.930905e+06  1.946420e+06  1.924066e+06  1.920714e+06            0.0   \n",
      "3      -2.002437e+04 -3.068196e+04 -1.412499e+04 -9.089912e+03            0.0   \n",
      "4       1.931668e+06  1.943581e+06  1.919809e+06  1.920933e+06            0.0   \n",
      "...              ...           ...           ...           ...            ...   \n",
      "196585  1.748752e+06  5.363367e+06 -5.929234e+06  5.561622e+05           -1.0   \n",
      "196586  1.545546e+06 -2.068144e+06  9.221735e+06  2.739061e+06            1.0   \n",
      "196587  1.749859e+06  5.366316e+06 -5.926632e+06  5.574149e+05           -1.0   \n",
      "196588  1.546799e+06 -2.068242e+06  9.223289e+06  2.740005e+06            1.0   \n",
      "196589  1.750476e+06  5.366988e+06 -5.927666e+06  5.571970e+05           -1.0   \n",
      "\n",
      "        ret_open_feat  ret_high_feat  ret_low_feat  ret_close_feat  \n",
      "0            0.996859       0.998670      0.981316        0.981805  \n",
      "1            0.003127       0.002244      0.006417        0.013039  \n",
      "2            0.996884       1.005005      0.993594        0.991856  \n",
      "3            0.003128      -0.002451      0.005926        0.008544  \n",
      "4            0.996882       1.003118      0.990966        0.991570  \n",
      "...               ...            ...           ...             ...  \n",
      "196585       0.421691       0.647347     -1.007663       -0.044405  \n",
      "196586       0.578595       0.353220      2.007404        1.044973  \n",
      "196587       0.421460       0.647674     -1.007441       -0.044593  \n",
      "196588       0.578595       0.352810      2.007496        1.044879  \n",
      "196589       0.421361       0.647592     -1.008041       -0.044945  \n",
      "\n",
      "[196590 rows x 21 columns]\n"
     ]
    }
   ],
   "source": [
    "df_feat = create_naive_feats(df_)\n",
    "print(df_feat)\n"
   ]
  },
  {
   "cell_type": "code",
   "execution_count": 52,
   "id": "4f499382",
   "metadata": {},
   "outputs": [
    {
     "name": "stdout",
     "output_type": "stream",
     "text": [
      "path: /Users/yeehinleung/Documents/GreekIsGood/Products/TSFEFS/test RealData , name: feats\n",
      "pieces: ['vcgnyjlc', 'ieaccmbs', 'mgcckfsm', 'xkzsowsf', 'rklzpuww', 'bycredkg', 'ugedhvpd', 'mooalfus', 'mihxusmy', 'bvqnjjzk', 'czysjsan']\n",
      "fr: 2006-03-19 20:30:00 , to: 2021-12-30 23:45:00\n",
      "frs: ['2006-03-19 20:30:00.000000', '2007-01-18 14:15:00.000000', '2007-11-12 08:00:00.000000', '2008-09-08 16:45:00.000000', '2009-07-02 22:00:00.000000', '2010-04-30 06:00:00.000000', '2011-02-23 14:30:00.000000', '2011-12-06 07:15:00.000000', '2012-10-01 16:00:00.000000', '2013-08-06 13:45:00.000000', '2013-09-01 22:00:00.000000']\n",
      "tos: ['2007-01-18 14:00:00.000000', '2007-11-12 07:45:00.000000', '2008-09-08 16:30:00.000000', '2009-07-02 21:45:00.000000', '2010-04-30 05:45:00.000000', '2011-02-23 14:15:00.000000', '2011-12-06 07:00:00.000000', '2012-10-01 15:45:00.000000', '2013-08-06 13:30:00.000000', '2013-08-30 20:45:00.000000', '2021-12-30 23:45:00.000000']\n",
      "types: ['csv', 'csv', 'csv', 'csv', 'csv', 'csv', 'csv', 'csv', 'csv', 'csv', 'csv']\n",
      "time_col: time , datetime_format: %Y-%m-%d %H:%M:%S.%f\n",
      "piece_name_len: 8\n",
      "colnames: ['time', 'volume', 'open', 'high', 'low', 'close', 'nochange', 'ret_open', 'ret_high', 'ret_low', 'ret_close', 'volume_feat', 'open_feat', 'high_feat', 'low_feat', 'close_feat', 'nochange_feat', 'ret_open_feat', 'ret_high_feat', 'ret_low_feat', 'ret_close_feat'] , row_cnt: 378290\n",
      "row_cnts: [20000, 20000, 20000, 20000, 20000, 20000, 20000, 20000, 20000, 1700, 196590]\n",
      "actions: ['', '', '', '', '', '', '', '', '', '', ''] , action_params: [None, None, None, None, None, None, None, None, None, None, None]\n",
      "cache: [10, 6, 7, 8, 9, 0] , cache_config: {'rows_in_cache': None, 'len_of_cache': 5}\n"
     ]
    }
   ],
   "source": [
    "tsfefs_feats += df_feat\n",
    "tsfefs_feats.take_actions(max_level=3)\n",
    "tsfefs_feats.print_tsfefs_info()\n"
   ]
  },
  {
   "cell_type": "markdown",
   "id": "27ebd41a",
   "metadata": {},
   "source": [
    " "
   ]
  },
  {
   "cell_type": "markdown",
   "id": "a61a00fb",
   "metadata": {},
   "source": [
    " "
   ]
  },
  {
   "cell_type": "markdown",
   "id": "eebbf156",
   "metadata": {},
   "source": [
    " "
   ]
  },
  {
   "cell_type": "markdown",
   "id": "96c13dc7",
   "metadata": {},
   "source": [
    " "
   ]
  },
  {
   "cell_type": "code",
   "execution_count": 53,
   "id": "cfa22f7b",
   "metadata": {},
   "outputs": [],
   "source": [
    "tsfefs_feats.remove()\n",
    "tsfefs_XAU_USD_M15_imported.remove()\n",
    "\n",
    "if os.path.isdir(export_folder):\n",
    "    for f in os.listdir(export_folder):\n",
    "        os.remove(\"%s/%s\"%(export_folder,f))\n",
    "    os.rmdir(export_folder)\n",
    "\n",
    "tsfefs_XAU_USD_M15.remove()\n",
    "tsfefs_XAU_USD_M.remove()\n",
    "\n"
   ]
  }
 ],
 "metadata": {
  "kernelspec": {
   "display_name": "Python 3 (ipykernel)",
   "language": "python",
   "name": "python3"
  },
  "language_info": {
   "codemirror_mode": {
    "name": "ipython",
    "version": 3
   },
   "file_extension": ".py",
   "mimetype": "text/x-python",
   "name": "python",
   "nbconvert_exporter": "python",
   "pygments_lexer": "ipython3",
   "version": "3.10.5"
  }
 },
 "nbformat": 4,
 "nbformat_minor": 5
}
