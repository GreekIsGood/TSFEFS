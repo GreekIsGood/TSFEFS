{
 "cells": [
  {
   "cell_type": "code",
   "execution_count": 1,
   "id": "581ac914",
   "metadata": {},
   "outputs": [],
   "source": [
    "import pandas as pd\n",
    "import numpy as np\n",
    "from datetime import datetime as dt, timedelta as td\n",
    "\n",
    "import json\n",
    "import random\n",
    "import string\n",
    "\n",
    "from copy import deepcopy as dc\n",
    "import os\n",
    "\n",
    "from TSFEFS import *\n"
   ]
  },
  {
   "cell_type": "markdown",
   "id": "0e07f1fe",
   "metadata": {},
   "source": [
    "# Test Plan\n",
    "# 1. Create by dict_meta\n",
    "# 2. Init and loads\n",
    "# 3. Import dataframe\n",
    "# 4. Clone\n"
   ]
  },
  {
   "cell_type": "markdown",
   "id": "6edc3616",
   "metadata": {},
   "source": [
    " "
   ]
  },
  {
   "cell_type": "markdown",
   "id": "c9d3a045",
   "metadata": {},
   "source": [
    " "
   ]
  },
  {
   "cell_type": "markdown",
   "id": "eced3e4c",
   "metadata": {},
   "source": [
    "# 1. Create by dict_meta"
   ]
  },
  {
   "cell_type": "code",
   "execution_count": 2,
   "id": "0ac20b4e",
   "metadata": {},
   "outputs": [
    {
     "name": "stdout",
     "output_type": "stream",
     "text": [
      "path: /Users/yeehinleung/Documents/GreekIsGood/Products/TSFEFS/stage3/test cases , name: con1\n",
      "pieces: []\n",
      "fr: None , to: None\n",
      "frs: []\n",
      "tos: []\n",
      "types: []\n",
      "time_col: time , datetime_format: %Y-%m-%d %H:%M:%S\n",
      "piece_name_len: 8\n",
      "colnames: ['time'] , row_cnt: None\n",
      "row_cnts: []\n",
      "actions: [] , action_params: []\n",
      "cache: [] , cache_config: {'rows_in_cache': None, 'len_of_cache': 3}\n",
      "con1.tsfefs created?: False\n"
     ]
    }
   ],
   "source": [
    "dict_meta = {\n",
    "    \"piece_name_len\": 8,\n",
    "    \"time_col\": \"time\", \"datetime_format\": \"%Y-%m-%d %H:%M:%S\", \n",
    "    \"max_row_per_piece\": 400000,\n",
    "    \"colnames\":[\"time\"],\n",
    "    \"cache_config\":{\"rows_in_cache\":None,\"len_of_cache\":3}\n",
    "}\n",
    "\n",
    "\n",
    "tsfefs_con1 = TSFEFS.create(dict_meta, \"con1\")\n",
    "tsfefs_con1.print_tsfefs_info()\n",
    "print(\"con1.tsfefs created?:\", os.path.isdir(\"con1.tsfefs\"))\n",
    "    "
   ]
  },
  {
   "cell_type": "markdown",
   "id": "aaf59d83",
   "metadata": {},
   "source": [
    " "
   ]
  },
  {
   "cell_type": "markdown",
   "id": "7c38c1fa",
   "metadata": {},
   "source": [
    "# 2. Init and loads (not suggested)"
   ]
  },
  {
   "cell_type": "code",
   "execution_count": 3,
   "id": "7af9b23b",
   "metadata": {},
   "outputs": [
    {
     "name": "stdout",
     "output_type": "stream",
     "text": [
      "path: None , name: None\n",
      "pieces: None\n",
      "fr: None , to: None\n",
      "\n",
      "Using default constructor is not suggested.\n",
      "If used, it must be followed up with other functions!\n"
     ]
    }
   ],
   "source": [
    "tsfefs_con2 = TSFEFS()\n",
    "try:\n",
    "    tsfefs_con2.print_tsfefs_info()\n",
    "except:\n",
    "    print()\n",
    "    print(\"Using default constructor is not suggested.\")\n",
    "    print(\"If used, it must be followed up with other functions!\")\n"
   ]
  },
  {
   "cell_type": "code",
   "execution_count": 4,
   "id": "ffb54987",
   "metadata": {},
   "outputs": [],
   "source": [
    "path  = \"/Users/yeehinleung/Documents/GreekIsGood/Products/TSFEFS/stage3\"\n",
    "name = \"con2\"\n",
    "\n",
    "tsfefs_con2.path = path\n",
    "tsfefs_con2.name = name\n",
    "\n"
   ]
  },
  {
   "cell_type": "code",
   "execution_count": 5,
   "id": "ce807fc7",
   "metadata": {},
   "outputs": [],
   "source": [
    "df_index = pd.DataFrame({\"piece\":[],\"type\":[],\"fr\":[],\"to\":[],\"row_cnt\":[]})\n"
   ]
  },
  {
   "cell_type": "code",
   "execution_count": 6,
   "id": "07232ddf",
   "metadata": {},
   "outputs": [
    {
     "name": "stdout",
     "output_type": "stream",
     "text": [
      "path: /Users/yeehinleung/Documents/GreekIsGood/Products/TSFEFS/stage3 , name: con2\n",
      "pieces: []\n",
      "fr: None , to: None\n",
      "frs: []\n",
      "tos: []\n",
      "types: []\n",
      "time_col: time , datetime_format: %Y-%m-%d %H:%M:%S\n",
      "piece_name_len: 8\n",
      "colnames: ['time'] , row_cnt: None\n",
      "row_cnts: []\n",
      "actions: None , action_params: None\n",
      "cache: None , cache_config: {'rows_in_cache': None, 'len_of_cache': 3}\n",
      "con2.tsfefs created?: False\n"
     ]
    }
   ],
   "source": [
    "tsfefs_con2.load_meta(dict_meta)\n",
    "tsfefs_con2.load_index_df(df_index)\n",
    "tsfefs_con2.print_tsfefs_info()\n",
    "print(\"con2.tsfefs created?:\", os.path.isdir(\"con2.tsfefs\"))\n"
   ]
  },
  {
   "cell_type": "markdown",
   "id": "0b259df4",
   "metadata": {},
   "source": [
    " "
   ]
  },
  {
   "cell_type": "markdown",
   "id": "477a61bb",
   "metadata": {},
   "source": [
    "# 3. Import dataframe"
   ]
  },
  {
   "cell_type": "code",
   "execution_count": 7,
   "id": "4bc69834",
   "metadata": {},
   "outputs": [],
   "source": [
    "ts = \"2020-09-08 00:00:00\"\n",
    "datetime_format = \"%Y-%m-%d %H:%M:%S\"\n",
    "ts = dt.strptime(ts, datetime_format)\n",
    "tss = [ ts + td(seconds=i) for i in range(10**6)]\n",
    "df = pd.DataFrame({\"time\":tss})\n"
   ]
  },
  {
   "cell_type": "code",
   "execution_count": 8,
   "id": "1a4f4365",
   "metadata": {},
   "outputs": [
    {
     "name": "stdout",
     "output_type": "stream",
     "text": [
      "path: /Users/yeehinleung/Documents/GreekIsGood/Products/TSFEFS/stage3/test cases , name: con3\n",
      "pieces: ['ypzxztlc', 'afbtjeqa', 'bukjtlhu', 'xltyqfsv', 'auekdqpn']\n",
      "fr: None , to: None\n",
      "Must take action after imported dataframe!\n"
     ]
    }
   ],
   "source": [
    "# Yes, you still need to create the instance first.\n",
    "tsfefs_con3 = TSFEFS.create(dict_meta, \"con3\")\n",
    "tsfefs_con3.import_dataframe(df)\n",
    "try:\n",
    "    tsfefs_con3.print_tsfefs_info()\n",
    "except:\n",
    "    print(\"Must take action after imported dataframe!\")\n",
    "\n"
   ]
  },
  {
   "cell_type": "code",
   "execution_count": 9,
   "id": "8f66c765",
   "metadata": {},
   "outputs": [
    {
     "name": "stdout",
     "output_type": "stream",
     "text": [
      "path: /Users/yeehinleung/Documents/GreekIsGood/Products/TSFEFS/stage3/test cases , name: con3\n",
      "pieces: ['ypzxztlc', 'afbtjeqa', 'bukjtlhu', 'xltyqfsv', 'auekdqpn']\n",
      "fr: 2020-09-08 00:00:00 , to: 2020-09-19 13:46:39\n",
      "frs: ['2020-09-08 00:00:00', '2020-09-10 07:33:20', '2020-09-12 15:06:40', '2020-09-14 22:40:00', '2020-09-17 06:13:20']\n",
      "tos: ['2020-09-10 07:33:19', '2020-09-12 15:06:39', '2020-09-14 22:39:59', '2020-09-17 06:13:19', '2020-09-19 13:46:39']\n",
      "types: ['csv', 'csv', 'csv', 'csv', 'csv']\n",
      "time_col: time , datetime_format: %Y-%m-%d %H:%M:%S\n",
      "piece_name_len: 8\n",
      "colnames: ['time'] , row_cnt: 1000000\n",
      "row_cnts: [200000, 200000, 200000, 200000, 200000]\n",
      "actions: ['save', 'save', 'save', 'save', 'save'] , action_params: [None, None, None, None, None]\n",
      "cache: [1, 2, 3, 4, 0] , cache_config: {'rows_in_cache': None, 'len_of_cache': 3}\n",
      "con3.tsfefs created?: False\n"
     ]
    }
   ],
   "source": [
    "tsfefs_con3.take_actions(max_level=0) # level:update\n",
    "tsfefs_con3.print_tsfefs_info()\n",
    "print(\"con3.tsfefs created?:\", os.path.isdir(\"con3.tsfefs\"))\n"
   ]
  },
  {
   "cell_type": "markdown",
   "id": "bff5ff8a",
   "metadata": {},
   "source": [
    "#### partially clear cache to let it be cloned for the next case"
   ]
  },
  {
   "cell_type": "code",
   "execution_count": 10,
   "id": "5cad545f",
   "metadata": {},
   "outputs": [
    {
     "name": "stdout",
     "output_type": "stream",
     "text": [
      "path: /Users/yeehinleung/Documents/GreekIsGood/Products/TSFEFS/stage3/test cases , name: con3\n",
      "pieces: ['ypzxztlc', 'afbtjeqa', 'bukjtlhu', 'xltyqfsv', 'auekdqpn']\n",
      "fr: 2020-09-08 00:00:00 , to: 2020-09-19 13:46:39\n",
      "frs: ['2020-09-08 00:00:00', '2020-09-10 07:33:20', '2020-09-12 15:06:40', '2020-09-14 22:40:00', '2020-09-17 06:13:20']\n",
      "tos: ['2020-09-10 07:33:19', '2020-09-12 15:06:39', '2020-09-14 22:39:59', '2020-09-17 06:13:19', '2020-09-19 13:46:39']\n",
      "types: ['csv', 'csv', 'csv', 'csv', 'csv']\n",
      "time_col: time , datetime_format: %Y-%m-%d %H:%M:%S\n",
      "piece_name_len: 8\n",
      "colnames: ['time'] , row_cnt: 1000000\n",
      "row_cnts: [200000, 200000, 200000, 200000, 200000]\n",
      "actions: ['', '', '', '', ''] , action_params: [None, None, None, None, None]\n",
      "cache: [3, 4, 0] , cache_config: {'rows_in_cache': None, 'len_of_cache': 3}\n",
      "con3.tsfefs created?: True\n"
     ]
    }
   ],
   "source": [
    "tsfefs_con3.take_actions(max_level=3) # level:save\n",
    "tsfefs_con3.maintain_cache()\n",
    "tsfefs_con3.print_tsfefs_info()\n",
    "print(\"con3.tsfefs created?:\", os.path.isdir(\"con3.tsfefs\"))\n"
   ]
  },
  {
   "cell_type": "markdown",
   "id": "104f45fb",
   "metadata": {},
   "source": [
    " "
   ]
  },
  {
   "cell_type": "markdown",
   "id": "2022b677",
   "metadata": {},
   "source": [
    "# 4. Clone"
   ]
  },
  {
   "cell_type": "code",
   "execution_count": 11,
   "id": "9c004951",
   "metadata": {},
   "outputs": [
    {
     "name": "stdout",
     "output_type": "stream",
     "text": [
      "path: /Users/yeehinleung/Documents/GreekIsGood/Products/TSFEFS/stage3/test cases , name: con4\n",
      "pieces: ['ypzxztlc', 'afbtjeqa', 'bukjtlhu', 'xltyqfsv', 'auekdqpn']\n",
      "fr: 2020-09-08 00:00:00 , to: 2020-09-19 13:46:39\n",
      "frs: ['2020-09-08 00:00:00', '2020-09-10 07:33:20', '2020-09-12 15:06:40', '2020-09-14 22:40:00', '2020-09-17 06:13:20']\n",
      "tos: ['2020-09-10 07:33:19', '2020-09-12 15:06:39', '2020-09-14 22:39:59', '2020-09-17 06:13:19', '2020-09-19 13:46:39']\n",
      "types: ['csv', 'csv', 'csv', 'csv', 'csv']\n",
      "time_col: time , datetime_format: %Y-%m-%d %H:%M:%S\n",
      "piece_name_len: 8\n",
      "colnames: ['time'] , row_cnt: 1000000\n",
      "row_cnts: [200000, 200000, 200000, 200000, 200000]\n",
      "actions: ['save', '', '', 'save', 'save'] , action_params: [None, None, None, None, None]\n",
      "cache: [3, 4, 0] , cache_config: {'rows_in_cache': None, 'len_of_cache': 3}\n",
      "con4.tsfefs created?: True\n"
     ]
    }
   ],
   "source": [
    "# path and name must be specified when clone.\n",
    "tsfefs_con4 = tsfefs_con3.clone(tsfefs_con3.path, \"con4\")\n",
    "tsfefs_con4.print_tsfefs_info()\n",
    "print(\"con4.tsfefs created?:\", os.path.isdir(\"con4.tsfefs\"))\n"
   ]
  },
  {
   "cell_type": "markdown",
   "id": "c91dc70a",
   "metadata": {},
   "source": [
    "### After clone, even the cache is the same.\n",
    "### Very likely to have the folder created."
   ]
  },
  {
   "cell_type": "code",
   "execution_count": 12,
   "id": "5ebe9f96",
   "metadata": {},
   "outputs": [],
   "source": [
    "tsfefs_con4.remove()\n",
    "tsfefs_con3.remove()"
   ]
  }
 ],
 "metadata": {
  "kernelspec": {
   "display_name": "Python 3 (ipykernel)",
   "language": "python",
   "name": "python3"
  },
  "language_info": {
   "codemirror_mode": {
    "name": "ipython",
    "version": 3
   },
   "file_extension": ".py",
   "mimetype": "text/x-python",
   "name": "python",
   "nbconvert_exporter": "python",
   "pygments_lexer": "ipython3",
   "version": "3.10.5"
  }
 },
 "nbformat": 4,
 "nbformat_minor": 5
}
