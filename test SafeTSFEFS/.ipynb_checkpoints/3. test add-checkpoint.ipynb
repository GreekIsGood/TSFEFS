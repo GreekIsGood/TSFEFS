{
 "cells": [
  {
   "cell_type": "code",
   "execution_count": 1,
   "id": "581ac914",
   "metadata": {},
   "outputs": [],
   "source": [
    "import pandas as pd\n",
    "import numpy as np\n",
    "from datetime import datetime as dt, timedelta as td\n",
    "\n",
    "import json\n",
    "import random\n",
    "import string\n",
    "\n",
    "from copy import deepcopy as dc\n",
    "import os\n",
    "\n",
    "from SafeTSFEFS import *\n"
   ]
  },
  {
   "cell_type": "code",
   "execution_count": 2,
   "id": "56a1bc1c",
   "metadata": {},
   "outputs": [],
   "source": [
    "ts = \"2020-09-08 00:00:00\"\n",
    "datetime_format = \"%Y-%m-%d %H:%M:%S\"\n",
    "ts = dt.strptime(ts, datetime_format)\n",
    "tss = [ ts + td(seconds=i) for i in range(10**6)]\n",
    "df = pd.DataFrame({\"time\":tss})\n",
    "df[\"day\"] = df[\"time\"].apply(lambda x: int(x.strftime(\"%d\")))\n"
   ]
  },
  {
   "cell_type": "code",
   "execution_count": 3,
   "id": "08fea469",
   "metadata": {},
   "outputs": [
    {
     "name": "stdout",
     "output_type": "stream",
     "text": [
      "path: /Users/yeehinleung/Documents/GreekIsGood/Products/TSFEFS/test SafeTSFEFS , name: base\n",
      "pieces: ['pvjwjgkx', 'inoqkbux', 'qgmwvfrc', 'qnhmlycg', 'wstmpjbh']\n",
      "fr: 2020-09-08 00:00:00 , to: 2020-09-19 13:46:39\n",
      "frs: ['2020-09-08 00:00:00', '2020-09-10 07:33:20', '2020-09-12 15:06:40', '2020-09-14 22:40:00', '2020-09-17 06:13:20']\n",
      "tos: ['2020-09-10 07:33:19', '2020-09-12 15:06:39', '2020-09-14 22:39:59', '2020-09-17 06:13:19', '2020-09-19 13:46:39']\n",
      "types: ['csv', 'csv', 'csv', 'csv', 'csv']\n",
      "time_col: time , datetime_format: %Y-%m-%d %H:%M:%S\n",
      "piece_name_len: 8\n",
      "colnames: ['time', 'day'] , row_cnt: 1000000\n",
      "row_cnts: [200000, 200000, 200000, 200000, 200000]\n",
      "actions: ['', '', '', '', ''] , action_params: [None, None, None, None, None]\n",
      "cache: [3, 4, 0] , cache_config: {'rows_in_cache': None, 'len_of_cache': 3}\n"
     ]
    }
   ],
   "source": [
    "stsfefs_base = SafeTSFEFS(os.getcwd(), \"base\", time_col=\"time\", datetime_format=datetime_format, df=df)\n",
    "stsfefs_base.print_tsfefs_info()\n"
   ]
  },
  {
   "cell_type": "markdown",
   "id": "b104e6ec",
   "metadata": {},
   "source": [
    " "
   ]
  },
  {
   "cell_type": "markdown",
   "id": "6b53ec82",
   "metadata": {},
   "source": [
    " "
   ]
  },
  {
   "cell_type": "markdown",
   "id": "d5d394a5",
   "metadata": {},
   "source": [
    "### The following test cases,\n",
    "###  - copy from base,\n",
    "###  - resolve_conflict() and maintain_cache() if needed,\n",
    "###  - check consistencies of cache, actions, etc.\n",
    "\n"
   ]
  },
  {
   "cell_type": "markdown",
   "id": "b1dd46dd",
   "metadata": {},
   "source": [
    "# 1. Adding a non-overlapping range of df.\n",
    "# 2. Adding an overlapping range of df, check if resolved and the cache.\n",
    "# 3. Adding a non-overlapping range of tsfefs.\n",
    "# 4. Adding an overlapping range of tsfefs, check if resolved and the cache.\n",
    "# 5. What if it is stsfefs2 = stsfefs + df instead of stsfefs += df?\n",
    "# 6. Consecutive adds. \n",
    "# 7. Adding consecutive adds of dataframes and TSFEFSs\n",
    "# 8. Adding consecutive adds of dataframes and SafeTSFEFSs.\n"
   ]
  },
  {
   "cell_type": "markdown",
   "id": "ebd199e6",
   "metadata": {},
   "source": [
    "  "
   ]
  },
  {
   "cell_type": "code",
   "execution_count": 4,
   "id": "a2855628",
   "metadata": {},
   "outputs": [],
   "source": [
    "stsfefs_add1 = stsfefs_base.clone(stsfefs_base.tsfefs.path, \"add1\")\n",
    "stsfefs_add2 = stsfefs_base.clone(stsfefs_base.tsfefs.path, \"add2\")\n",
    "stsfefs_add3 = stsfefs_base.clone(stsfefs_base.tsfefs.path, \"add3\")\n",
    "stsfefs_add4 = stsfefs_base.clone(stsfefs_base.tsfefs.path, \"add4\")\n",
    "stsfefs_add5 = stsfefs_base.clone(stsfefs_base.tsfefs.path, \"add5\")\n",
    "stsfefs_add6 = stsfefs_base.clone(stsfefs_base.tsfefs.path, \"add6\")\n",
    "stsfefs_add7 = stsfefs_base.clone(stsfefs_base.tsfefs.path, \"add7\")\n",
    "stsfefs_add8 = stsfefs_base.clone(stsfefs_base.tsfefs.path, \"add8\")\n"
   ]
  },
  {
   "cell_type": "markdown",
   "id": "abaf3f5f",
   "metadata": {},
   "source": [
    "# 1. Adding a non-overlapping range of df."
   ]
  },
  {
   "cell_type": "code",
   "execution_count": 5,
   "id": "048b963f",
   "metadata": {},
   "outputs": [],
   "source": [
    "ts = dt.strptime('2020-09-20 00:00:00',stsfefs_add1.tsfefs.datetime_format)\n",
    "tss = [ ts + td(seconds=60*i) for i in range(500000) ]\n",
    "df = pd.DataFrame({stsfefs_add1.tsfefs.time_col:tss})\n",
    "df[\"day\"] = df[\"time\"].apply(lambda x: int(x.strftime(\"%d\")))\n"
   ]
  },
  {
   "cell_type": "code",
   "execution_count": 6,
   "id": "07c79cf8",
   "metadata": {},
   "outputs": [
    {
     "name": "stdout",
     "output_type": "stream",
     "text": [
      "path: /Users/yeehinleung/Documents/GreekIsGood/Products/TSFEFS/test SafeTSFEFS , name: add1\n",
      "pieces: ['pvjwjgkx', 'inoqkbux', 'qgmwvfrc', 'qnhmlycg', 'wstmpjbh', 'wbukioqw', 'fzfxcqzh', 'mwzbbfyk']\n",
      "fr: 2020-09-08 00:00:00 , to: 2021-09-02 05:19:00\n",
      "frs: ['2020-09-08 00:00:00', '2020-09-10 07:33:20', '2020-09-12 15:06:40', '2020-09-14 22:40:00', '2020-09-17 06:13:20', '2020-09-20 00:00:00', '2021-02-05 21:20:00', '2021-06-24 18:40:00']\n",
      "tos: ['2020-09-10 07:33:19', '2020-09-12 15:06:39', '2020-09-14 22:39:59', '2020-09-17 06:13:19', '2020-09-19 13:46:39', '2021-02-05 21:19:00', '2021-06-24 18:39:00', '2021-09-02 05:19:00']\n",
      "types: ['csv', 'csv', 'csv', 'csv', 'csv', 'csv', 'csv', 'csv']\n",
      "time_col: time , datetime_format: %Y-%m-%d %H:%M:%S\n",
      "piece_name_len: 8\n",
      "colnames: ['time', 'day'] , row_cnt: 1500000\n",
      "row_cnts: [200000, 200000, 200000, 200000, 200000, 200000, 200000, 100000]\n",
      "actions: ['', '', '', '', '', '', '', ''] , action_params: [None, None, None, None, None, None, None, None]\n",
      "cache: [3, 4, 0] , cache_config: {'rows_in_cache': None, 'len_of_cache': 3}\n"
     ]
    }
   ],
   "source": [
    "stsfefs_add1 += df\n",
    "stsfefs_add1.print_tsfefs_info()\n"
   ]
  },
  {
   "cell_type": "markdown",
   "id": "40a36f5d",
   "metadata": {},
   "source": [
    " "
   ]
  },
  {
   "cell_type": "markdown",
   "id": "56707b8b",
   "metadata": {},
   "source": [
    "# 2. Adding an overlapping range of df, check if resolved and the cache.\n"
   ]
  },
  {
   "cell_type": "code",
   "execution_count": 7,
   "id": "e1157b47",
   "metadata": {},
   "outputs": [],
   "source": [
    "ts2 = dt.strptime('2020-09-13 00:00:00',stsfefs_add2.tsfefs.datetime_format)\n",
    "tss2 = [ ts2 + td(seconds=2*i) for i in range(500000) ]\n",
    "df2 = pd.DataFrame({stsfefs_add2.tsfefs.time_col:tss2})\n",
    "df2[\"day\"] = df2[\"time\"].apply(lambda x: int(x.strftime(\"%d\")))\n"
   ]
  },
  {
   "cell_type": "code",
   "execution_count": 8,
   "id": "71c19a86",
   "metadata": {},
   "outputs": [
    {
     "name": "stdout",
     "output_type": "stream",
     "text": [
      "path: /Users/yeehinleung/Documents/GreekIsGood/Products/TSFEFS/test SafeTSFEFS , name: add2\n",
      "pieces: ['pvjwjgkx', 'inoqkbux', 'kzwmgvpg', 'yhrpuxho', 'hpoobots', 'fcgnastt']\n",
      "fr: 2020-09-08 00:00:00 , to: 2020-09-24 13:46:38\n",
      "frs: ['2020-09-08 00:00:00', '2020-09-10 07:33:20', '2020-09-12 15:06:40', '2020-09-14 22:40:00', '2020-09-17 06:13:20', '2020-09-19 13:46:40']\n",
      "tos: ['2020-09-10 07:33:19', '2020-09-12 15:06:39', '2020-09-14 22:39:59', '2020-09-17 06:13:19', '2020-09-19 13:46:39', '2020-09-24 13:46:38']\n",
      "types: ['csv', 'csv', 'csv', 'csv', 'csv', 'csv']\n",
      "time_col: time , datetime_format: %Y-%m-%d %H:%M:%S\n",
      "piece_name_len: 8\n",
      "colnames: ['time', 'day'] , row_cnt: 1500000\n",
      "row_cnts: [200000, 200000, 284000, 300000, 300000, 216000]\n",
      "actions: ['', '', '', '', '', ''] , action_params: [None, None, None, None, None, None]\n",
      "cache: [3, 2, 0] , cache_config: {'rows_in_cache': None, 'len_of_cache': 3}\n"
     ]
    }
   ],
   "source": [
    "stsfefs_add2 += df2\n",
    "stsfefs_add2.print_tsfefs_info()\n"
   ]
  },
  {
   "cell_type": "markdown",
   "id": "6030778e",
   "metadata": {},
   "source": [
    " "
   ]
  },
  {
   "cell_type": "markdown",
   "id": "c2b023d3",
   "metadata": {},
   "source": [
    "# 3. Adding a non-overlapping range of tsfefs."
   ]
  },
  {
   "cell_type": "code",
   "execution_count": 9,
   "id": "5498b27b",
   "metadata": {},
   "outputs": [],
   "source": [
    "dict_meta = {\n",
    "    \"piece_name_len\": 8,\n",
    "    \"time_col\": \"time\", \"datetime_format\": \"%Y-%m-%d %H:%M:%S\", \n",
    "    \"max_row_per_piece\": 400000,\n",
    "    \"colnames\":[\"time\",\"day\"],\n",
    "    \"cache_config\":{\"rows_in_cache\":None,\"len_of_cache\":3}\n",
    "}\n"
   ]
  },
  {
   "cell_type": "code",
   "execution_count": 10,
   "id": "4fc3a393",
   "metadata": {},
   "outputs": [
    {
     "name": "stdout",
     "output_type": "stream",
     "text": [
      "path: /Users/yeehinleung/Documents/GreekIsGood/Products/TSFEFS/test SafeTSFEFS , name: _\n",
      "pieces: ['wazssyku', 'bfyffssr', 'rztybgul']\n",
      "fr: 2020-09-20 00:00:00 , to: 2021-09-02 05:19:00\n",
      "frs: ['2020-09-20 00:00:00', '2021-02-05 21:20:00', '2021-06-24 18:40:00']\n",
      "tos: ['2021-02-05 21:19:00', '2021-06-24 18:39:00', '2021-09-02 05:19:00']\n",
      "types: ['csv', 'csv', 'csv']\n",
      "time_col: time , datetime_format: %Y-%m-%d %H:%M:%S\n",
      "piece_name_len: 8\n",
      "colnames: ['time', 'day'] , row_cnt: 500000\n",
      "row_cnts: [200000, 200000, 100000]\n",
      "actions: ['save', 'save', 'save'] , action_params: [None, None, None]\n",
      "cache: [1, 2, 0] , cache_config: {'rows_in_cache': None, 'len_of_cache': 3}\n"
     ]
    }
   ],
   "source": [
    "tsfefs_ = TSFEFS.create(dict_meta, \"_\")\n",
    "tsfefs_.import_dataframe(df)\n",
    "tsfefs_.take_actions(max_level=0)\n",
    "tsfefs_.print_tsfefs_info()\n"
   ]
  },
  {
   "cell_type": "code",
   "execution_count": 11,
   "id": "a2366d73",
   "metadata": {},
   "outputs": [
    {
     "name": "stdout",
     "output_type": "stream",
     "text": [
      "path: /Users/yeehinleung/Documents/GreekIsGood/Products/TSFEFS/test SafeTSFEFS , name: add3\n",
      "pieces: ['pvjwjgkx', 'inoqkbux', 'qgmwvfrc', 'qnhmlycg', 'wstmpjbh', 'fake_name', 'fsovfrke', 'daexwewa']\n",
      "fr: 2020-09-08 00:00:00 , to: 2021-09-02 05:19:00\n",
      "frs: ['2020-09-08 00:00:00', '2020-09-10 07:33:20', '2020-09-12 15:06:40', '2020-09-14 22:40:00', '2020-09-17 06:13:20', '2020-09-20 00:00:00', '2021-02-05 21:20:00', '2021-06-24 18:40:00']\n",
      "tos: ['2020-09-10 07:33:19', '2020-09-12 15:06:39', '2020-09-14 22:39:59', '2020-09-17 06:13:19', '2020-09-19 13:46:39', '2021-02-05 21:19:00', '2021-06-24 18:39:00', '2021-09-02 05:19:00']\n",
      "types: ['csv', 'csv', 'csv', 'csv', 'csv', 'csv', 'csv', 'csv']\n",
      "time_col: time , datetime_format: %Y-%m-%d %H:%M:%S\n",
      "piece_name_len: 8\n",
      "colnames: ['time', 'day'] , row_cnt: 1500000\n",
      "row_cnts: [200000, 200000, 200000, 200000, 200000, 200000, 200000, 100000]\n",
      "actions: ['', '', '', '', '', '', '', ''] , action_params: [None, None, None, None, None, None, None, None]\n",
      "cache: [3, 4, 0] , cache_config: {'rows_in_cache': None, 'len_of_cache': 3}\n"
     ]
    }
   ],
   "source": [
    "stsfefs_add3 += tsfefs_\n",
    "stsfefs_add3.print_tsfefs_info()\n"
   ]
  },
  {
   "cell_type": "markdown",
   "id": "461dcb6f",
   "metadata": {},
   "source": [
    " "
   ]
  },
  {
   "cell_type": "markdown",
   "id": "a971810f",
   "metadata": {},
   "source": [
    "# 4. Adding an overlapping range of tsfefs, check if resolved and the cache.\n"
   ]
  },
  {
   "cell_type": "code",
   "execution_count": 12,
   "id": "b941843c",
   "metadata": {},
   "outputs": [
    {
     "name": "stdout",
     "output_type": "stream",
     "text": [
      "path: /Users/yeehinleung/Documents/GreekIsGood/Products/TSFEFS/test SafeTSFEFS , name: __\n",
      "pieces: ['kndtyzyl', 'czilkxop', 'tviclcto']\n",
      "fr: 2020-09-13 00:00:00 , to: 2020-09-24 13:46:38\n",
      "frs: ['2020-09-13 00:00:00', '2020-09-17 15:06:40', '2020-09-22 06:13:20']\n",
      "tos: ['2020-09-17 15:06:38', '2020-09-22 06:13:18', '2020-09-24 13:46:38']\n",
      "types: ['csv', 'csv', 'csv']\n",
      "time_col: time , datetime_format: %Y-%m-%d %H:%M:%S\n",
      "piece_name_len: 8\n",
      "colnames: ['time', 'day'] , row_cnt: 500000\n",
      "row_cnts: [200000, 200000, 100000]\n",
      "actions: ['save', 'save', 'save'] , action_params: [None, None, None]\n",
      "cache: [1, 2, 0] , cache_config: {'rows_in_cache': None, 'len_of_cache': 3}\n"
     ]
    }
   ],
   "source": [
    "tsfefs__ = TSFEFS.create(dict_meta, \"__\")\n",
    "tsfefs__.import_dataframe(df2)\n",
    "tsfefs__.take_actions(max_level=0)\n",
    "tsfefs__.print_tsfefs_info()\n"
   ]
  },
  {
   "cell_type": "code",
   "execution_count": 13,
   "id": "e93f0edb",
   "metadata": {},
   "outputs": [
    {
     "name": "stdout",
     "output_type": "stream",
     "text": [
      "path: /Users/yeehinleung/Documents/GreekIsGood/Products/TSFEFS/test SafeTSFEFS , name: add4\n",
      "pieces: ['pvjwjgkx', 'inoqkbux', 'yyrcczek', 'rsrcesan', 'zqdhktcy', 'hyaexdnt']\n",
      "fr: 2020-09-08 00:00:00 , to: 2020-09-24 13:46:38\n",
      "frs: ['2020-09-08 00:00:00', '2020-09-10 07:33:20', '2020-09-12 15:06:40', '2020-09-14 22:40:00', '2020-09-17 06:13:20', '2020-09-19 13:46:40']\n",
      "tos: ['2020-09-10 07:33:19', '2020-09-12 15:06:39', '2020-09-14 22:39:59', '2020-09-17 06:13:19', '2020-09-19 13:46:39', '2020-09-24 13:46:38']\n",
      "types: ['csv', 'csv', 'csv', 'csv', 'csv', 'csv']\n",
      "time_col: time , datetime_format: %Y-%m-%d %H:%M:%S\n",
      "piece_name_len: 8\n",
      "colnames: ['time', 'day'] , row_cnt: 1500000\n",
      "row_cnts: [200000, 200000, 284000, 300000, 300000, 216000]\n",
      "actions: ['', '', '', '', '', ''] , action_params: [None, None, None, None, None, None]\n",
      "cache: [3, 2, 0] , cache_config: {'rows_in_cache': None, 'len_of_cache': 3}\n"
     ]
    }
   ],
   "source": [
    "stsfefs_add4 += tsfefs__\n",
    "stsfefs_add4.print_tsfefs_info()\n"
   ]
  },
  {
   "cell_type": "markdown",
   "id": "95d04501",
   "metadata": {},
   "source": [
    " "
   ]
  },
  {
   "cell_type": "markdown",
   "id": "1b08b299",
   "metadata": {},
   "source": [
    "# 5. What if it is stsfefs2 = stsfefs + df instead of stsfefs += df?"
   ]
  },
  {
   "cell_type": "markdown",
   "id": "d10f5f4d",
   "metadata": {},
   "source": [
    "#### make sure tsfefs__ is not changed after being added in case 4.\n"
   ]
  },
  {
   "cell_type": "code",
   "execution_count": 14,
   "id": "4fc391d4",
   "metadata": {},
   "outputs": [
    {
     "name": "stdout",
     "output_type": "stream",
     "text": [
      "path: /Users/yeehinleung/Documents/GreekIsGood/Products/TSFEFS/test SafeTSFEFS , name: __\n",
      "pieces: ['kndtyzyl', 'czilkxop', 'tviclcto']\n",
      "fr: 2020-09-13 00:00:00 , to: 2020-09-24 13:46:38\n",
      "frs: ['2020-09-13 00:00:00', '2020-09-17 15:06:40', '2020-09-22 06:13:20']\n",
      "tos: ['2020-09-17 15:06:38', '2020-09-22 06:13:18', '2020-09-24 13:46:38']\n",
      "types: ['csv', 'csv', 'csv']\n",
      "time_col: time , datetime_format: %Y-%m-%d %H:%M:%S\n",
      "piece_name_len: 8\n",
      "colnames: ['time', 'day'] , row_cnt: 500000\n",
      "row_cnts: [200000, 200000, 100000]\n",
      "actions: ['save', 'save', 'save'] , action_params: [None, None, None]\n",
      "cache: [1, 2, 0] , cache_config: {'rows_in_cache': None, 'len_of_cache': 3}\n"
     ]
    }
   ],
   "source": [
    "tsfefs__.print_tsfefs_info()\n"
   ]
  },
  {
   "cell_type": "code",
   "execution_count": 15,
   "id": "7a8db2e1",
   "metadata": {},
   "outputs": [
    {
     "name": "stdout",
     "output_type": "stream",
     "text": [
      "path: /Users/yeehinleung/Documents/GreekIsGood/Products/TSFEFS/test SafeTSFEFS , name: add5\n",
      "pieces: ['pvjwjgkx', 'inoqkbux', 'shposwyt', 'yfycoqva', 'olodcqei', 'pehtwbxf']\n",
      "fr: 2020-09-08 00:00:00 , to: 2020-09-24 13:46:38\n",
      "frs: ['2020-09-08 00:00:00', '2020-09-10 07:33:20', '2020-09-12 15:06:40', '2020-09-14 22:40:00', '2020-09-17 06:13:20', '2020-09-19 13:46:40']\n",
      "tos: ['2020-09-10 07:33:19', '2020-09-12 15:06:39', '2020-09-14 22:39:59', '2020-09-17 06:13:19', '2020-09-19 13:46:39', '2020-09-24 13:46:38']\n",
      "types: ['csv', 'csv', 'csv', 'csv', 'csv', 'csv']\n",
      "time_col: time , datetime_format: %Y-%m-%d %H:%M:%S\n",
      "piece_name_len: 8\n",
      "colnames: ['time', 'day'] , row_cnt: 1500000\n",
      "row_cnts: [200000, 200000, 284000, 300000, 300000, 216000]\n",
      "actions: ['', '', '', '', '', ''] , action_params: [None, None, None, None, None, None]\n",
      "cache: [3, 2, 0] , cache_config: {'rows_in_cache': None, 'len_of_cache': 3}\n"
     ]
    }
   ],
   "source": [
    "stsfefs2 = stsfefs_add5 + tsfefs__\n",
    "stsfefs2.print_tsfefs_info()\n"
   ]
  },
  {
   "cell_type": "markdown",
   "id": "abca11fa",
   "metadata": {},
   "source": [
    "#### make sure tsfefs__ is not changed after being added in this case.\n"
   ]
  },
  {
   "cell_type": "code",
   "execution_count": 16,
   "id": "b37caa4c",
   "metadata": {},
   "outputs": [
    {
     "name": "stdout",
     "output_type": "stream",
     "text": [
      "path: /Users/yeehinleung/Documents/GreekIsGood/Products/TSFEFS/test SafeTSFEFS , name: __\n",
      "pieces: ['kndtyzyl', 'czilkxop', 'tviclcto']\n",
      "fr: 2020-09-13 00:00:00 , to: 2020-09-24 13:46:38\n",
      "frs: ['2020-09-13 00:00:00', '2020-09-17 15:06:40', '2020-09-22 06:13:20']\n",
      "tos: ['2020-09-17 15:06:38', '2020-09-22 06:13:18', '2020-09-24 13:46:38']\n",
      "types: ['csv', 'csv', 'csv']\n",
      "time_col: time , datetime_format: %Y-%m-%d %H:%M:%S\n",
      "piece_name_len: 8\n",
      "colnames: ['time', 'day'] , row_cnt: 500000\n",
      "row_cnts: [200000, 200000, 100000]\n",
      "actions: ['save', 'save', 'save'] , action_params: [None, None, None]\n",
      "cache: [1, 2, 0] , cache_config: {'rows_in_cache': None, 'len_of_cache': 3}\n"
     ]
    }
   ],
   "source": [
    "tsfefs__.print_tsfefs_info()\n"
   ]
  },
  {
   "cell_type": "markdown",
   "id": "3e037109",
   "metadata": {},
   "source": [
    " "
   ]
  },
  {
   "cell_type": "markdown",
   "id": "ab8af223",
   "metadata": {},
   "source": [
    "# 6. Consecutive adds. "
   ]
  },
  {
   "cell_type": "code",
   "execution_count": 17,
   "id": "df2b48a4",
   "metadata": {},
   "outputs": [
    {
     "name": "stdout",
     "output_type": "stream",
     "text": [
      "path: /Users/yeehinleung/Documents/GreekIsGood/Products/TSFEFS/test SafeTSFEFS , name: add6\n",
      "pieces: ['pvjwjgkx', 'inoqkbux', 'rkoxobjr', 'jquylmiv', 'qczzwaff', 'hastzvlb', 'nlqllvpw', 'agojsdnc', 'ogaqtsgi', 'pkfpzhjr', 'qlpspxgj', 'cebtagye', 'jnhwmfbw']\n",
      "fr: 2020-09-08 00:00:00 , to: 2021-09-02 05:19:00\n",
      "frs: ['2020-09-08 00:00:00', '2020-09-10 07:33:20', '2020-09-12 15:06:40', '2020-09-14 22:40:00', '2020-09-16 02:26:40', '2020-09-17 06:13:20', '2020-09-18 10:00:00', '2020-09-19 13:46:40', '2020-09-21 19:52:14', '2020-09-24 01:38:02', '2020-12-03 00:27:00', '2021-02-10 11:07:00', '2021-04-20 21:47:00']\n",
      "tos: ['2020-09-10 07:33:19', '2020-09-12 15:06:39', '2020-09-14 22:39:59', '2020-09-16 02:26:39', '2020-09-17 06:13:19', '2020-09-18 09:59:59', '2020-09-19 13:46:39', '2020-09-21 19:52:12', '2020-09-24 01:38:00', '2020-12-03 00:26:00', '2021-02-10 11:06:00', '2021-04-20 21:46:00', '2021-09-02 05:19:00']\n",
      "types: ['csv', 'csv', 'csv', 'csv', 'csv', 'csv', 'csv', 'csv', 'csv', 'csv', 'csv', 'csv', 'csv']\n",
      "time_col: time , datetime_format: %Y-%m-%d %H:%M:%S\n",
      "piece_name_len: 8\n",
      "colnames: ['time', 'day'] , row_cnt: 3000000\n",
      "row_cnts: [200000, 200000, 368000, 200000, 200000, 200000, 200000, 200000, 200000, 245174, 200000, 200000, 386826]\n",
      "actions: ['', '', '', '', '', '', '', '', '', '', '', '', ''] , action_params: [None, None, None, None, None, None, None, None, None, None, None, None, None]\n",
      "cache: [3, 2, 0] , cache_config: {'rows_in_cache': None, 'len_of_cache': 3}\n"
     ]
    }
   ],
   "source": [
    "stsfefs_add6 += df\n",
    "stsfefs_add6 += df2\n",
    "stsfefs_add6 += tsfefs_\n",
    "stsfefs_add6 += tsfefs__\n",
    "stsfefs_add6.print_tsfefs_info()\n"
   ]
  },
  {
   "cell_type": "markdown",
   "id": "2ede9dcb",
   "metadata": {},
   "source": [
    "#### make sure tsfefs_ and tsfefs__ are not changed after being added in this case.\n"
   ]
  },
  {
   "cell_type": "code",
   "execution_count": 18,
   "id": "9c842190",
   "metadata": {},
   "outputs": [
    {
     "name": "stdout",
     "output_type": "stream",
     "text": [
      "path: /Users/yeehinleung/Documents/GreekIsGood/Products/TSFEFS/test SafeTSFEFS , name: _\n",
      "pieces: ['wazssyku', 'bfyffssr', 'rztybgul']\n",
      "fr: 2020-09-20 00:00:00 , to: 2021-09-02 05:19:00\n",
      "frs: ['2020-09-20 00:00:00', '2021-02-05 21:20:00', '2021-06-24 18:40:00']\n",
      "tos: ['2021-02-05 21:19:00', '2021-06-24 18:39:00', '2021-09-02 05:19:00']\n",
      "types: ['csv', 'csv', 'csv']\n",
      "time_col: time , datetime_format: %Y-%m-%d %H:%M:%S\n",
      "piece_name_len: 8\n",
      "colnames: ['time', 'day'] , row_cnt: 500000\n",
      "row_cnts: [200000, 200000, 100000]\n",
      "actions: ['save', 'save', 'save'] , action_params: [None, None, None]\n",
      "cache: [1, 2, 0] , cache_config: {'rows_in_cache': None, 'len_of_cache': 3}\n",
      "\n",
      "path: /Users/yeehinleung/Documents/GreekIsGood/Products/TSFEFS/test SafeTSFEFS , name: __\n",
      "pieces: ['kndtyzyl', 'czilkxop', 'tviclcto']\n",
      "fr: 2020-09-13 00:00:00 , to: 2020-09-24 13:46:38\n",
      "frs: ['2020-09-13 00:00:00', '2020-09-17 15:06:40', '2020-09-22 06:13:20']\n",
      "tos: ['2020-09-17 15:06:38', '2020-09-22 06:13:18', '2020-09-24 13:46:38']\n",
      "types: ['csv', 'csv', 'csv']\n",
      "time_col: time , datetime_format: %Y-%m-%d %H:%M:%S\n",
      "piece_name_len: 8\n",
      "colnames: ['time', 'day'] , row_cnt: 500000\n",
      "row_cnts: [200000, 200000, 100000]\n",
      "actions: ['save', 'save', 'save'] , action_params: [None, None, None]\n",
      "cache: [1, 2, 0] , cache_config: {'rows_in_cache': None, 'len_of_cache': 3}\n"
     ]
    }
   ],
   "source": [
    "tsfefs_.print_tsfefs_info()\n",
    "print()\n",
    "tsfefs__.print_tsfefs_info()\n"
   ]
  },
  {
   "cell_type": "markdown",
   "id": "1da82457",
   "metadata": {},
   "source": [
    "# 7. Adding consecutive adds of dataframes and TSFEFSs (Prohibited!)\n"
   ]
  },
  {
   "cell_type": "markdown",
   "id": "181e4d44",
   "metadata": {},
   "source": [
    "#### Show such way of adding is prohibited."
   ]
  },
  {
   "cell_type": "code",
   "execution_count": 19,
   "id": "b04f1295",
   "metadata": {},
   "outputs": [
    {
     "name": "stdout",
     "output_type": "stream",
     "text": [
      "Something goes wrong.\n",
      "See the explanation below.\n"
     ]
    }
   ],
   "source": [
    "try:\n",
    "    stsfefs_add7 += tsfefs__ + df2 + tsfefs_ + df\n",
    "    stsfefs_add7.print_tsfefs_info()\n",
    "except:\n",
    "    print(\"Something goes wrong.\")\n",
    "    print(\"See the explanation below.\")\n"
   ]
  },
  {
   "cell_type": "markdown",
   "id": "b1e156da",
   "metadata": {},
   "source": [
    "<i><b>stsfefs_add7 += tsfefs__ + df2 + tsfefs_ + df</b></i>    &emsp;    cannot be done. <br>\n",
    "<i><b>tsfefs__ + df2 + tsfefs_ + df</b></i>    &emsp;    will modify both    &emsp;    <i><b>tsfefs__</b></i>    &emsp;    and    &emsp;    <i><b>tsfefs_</b></i>.<br> \n",
    "Since     &emsp;    <i><b>tsfefs__</b></i>    &emsp;    and    &emsp;    <i><b>tsfefs_</b></i>    &emsp;    are not up-to-date, taking action on    &emsp;    <i><b>stsfefs_add7</b></i>    &emsp;    will induce an error.\n",
    "\n"
   ]
  },
  {
   "cell_type": "markdown",
   "id": "4ee7cb9e",
   "metadata": {},
   "source": [
    "#### How the RHS stack up the structure"
   ]
  },
  {
   "cell_type": "code",
   "execution_count": 20,
   "id": "5b20756a",
   "metadata": {},
   "outputs": [
    {
     "name": "stdout",
     "output_type": "stream",
     "text": [
      "stsfefs_add7.tsfefs.types: ['csv', 'csv', 'csv', 'csv', 'csv']\n",
      "stsfefs_add7 has not been modified\n",
      "\n",
      "tsfefs__.types: ['csv', 'csv', 'csv', 'csv', 'tsfefs', 'csv']\n",
      "tsfefs__.frs: [Timestamp('2020-09-13 00:00:00'), Timestamp('2020-09-17 15:06:40'), Timestamp('2020-09-22 06:13:20'), None, None, None]\n",
      "tsfefs__.tos: [Timestamp('2020-09-17 15:06:38'), Timestamp('2020-09-22 06:13:18'), Timestamp('2020-09-24 13:46:38'), None, None, None]\n",
      "tsfefs__.has_valid_status(): False\n",
      "tsfefs__ has Nones in frs and tos, which is not updated.\n"
     ]
    }
   ],
   "source": [
    "print(\"stsfefs_add7.tsfefs.types:\", stsfefs_add7.tsfefs.types)\n",
    "print(\"stsfefs_add7 has not been modified\")\n",
    "print()\n",
    "print(\"tsfefs__.types:\", tsfefs__.types)\n",
    "print(\"tsfefs__.frs:\", tsfefs__.frs)\n",
    "print(\"tsfefs__.tos:\", tsfefs__.tos)\n",
    "print(\"tsfefs__.has_valid_status():\", tsfefs__.has_valid_status())\n",
    "print(\"tsfefs__ has Nones in frs and tos, which is not updated.\")\n"
   ]
  },
  {
   "cell_type": "markdown",
   "id": "40acc24c",
   "metadata": {},
   "source": [
    "# 8. Adding consecutive adds of dataframes and SafeTSFEFSs. (Sort of Okay)\n"
   ]
  },
  {
   "cell_type": "code",
   "execution_count": 21,
   "id": "85c4c1c9",
   "metadata": {},
   "outputs": [],
   "source": [
    "tsfefs__.remove()\n",
    "tsfefs_.remove()\n"
   ]
  },
  {
   "cell_type": "code",
   "execution_count": 22,
   "id": "36c02485",
   "metadata": {},
   "outputs": [
    {
     "name": "stdout",
     "output_type": "stream",
     "text": [
      "path: /Users/yeehinleung/Documents/GreekIsGood/Products/TSFEFS/test SafeTSFEFS , name: __\n",
      "pieces: ['tnhnqnfo', 'saisbxbl', 'tgvmzmgk']\n",
      "fr: 2020-09-13 00:00:00 , to: 2020-09-24 13:46:38\n",
      "frs: ['2020-09-13 00:00:00', '2020-09-17 15:06:40', '2020-09-22 06:13:20']\n",
      "tos: ['2020-09-17 15:06:38', '2020-09-22 06:13:18', '2020-09-24 13:46:38']\n",
      "types: ['csv', 'csv', 'csv']\n",
      "time_col: time , datetime_format: %Y-%m-%d %H:%M:%S\n",
      "piece_name_len: 8\n",
      "colnames: ['time', 'day'] , row_cnt: 500000\n",
      "row_cnts: [200000, 200000, 100000]\n",
      "actions: ['', '', ''] , action_params: [None, None, None]\n",
      "cache: [1, 2, 0] , cache_config: {'rows_in_cache': None, 'len_of_cache': 3}\n",
      "\n",
      "path: /Users/yeehinleung/Documents/GreekIsGood/Products/TSFEFS/test SafeTSFEFS , name: _\n",
      "pieces: ['krasladz', 'dermzskn', 'dziwmgvh']\n",
      "fr: 2020-09-20 00:00:00 , to: 2021-09-02 05:19:00\n",
      "frs: ['2020-09-20 00:00:00', '2021-02-05 21:20:00', '2021-06-24 18:40:00']\n",
      "tos: ['2021-02-05 21:19:00', '2021-06-24 18:39:00', '2021-09-02 05:19:00']\n",
      "types: ['csv', 'csv', 'csv']\n",
      "time_col: time , datetime_format: %Y-%m-%d %H:%M:%S\n",
      "piece_name_len: 8\n",
      "colnames: ['time', 'day'] , row_cnt: 500000\n",
      "row_cnts: [200000, 200000, 100000]\n",
      "actions: ['', '', ''] , action_params: [None, None, None]\n",
      "cache: [1, 2, 0] , cache_config: {'rows_in_cache': None, 'len_of_cache': 3}\n"
     ]
    }
   ],
   "source": [
    "stsfefs__ = SafeTSFEFS(os.getcwd(), \"__\", time_col=\"time\", datetime_format=datetime_format, df=df2)\n",
    "stsfefs__.print_tsfefs_info()\n",
    "print()\n",
    "\n",
    "stsfefs_ = SafeTSFEFS(os.getcwd(), \"_\", time_col=\"time\", datetime_format=datetime_format, df=df)\n",
    "stsfefs_.print_tsfefs_info()\n"
   ]
  },
  {
   "cell_type": "code",
   "execution_count": 23,
   "id": "34e21935",
   "metadata": {},
   "outputs": [
    {
     "name": "stdout",
     "output_type": "stream",
     "text": [
      "path: /Users/yeehinleung/Documents/GreekIsGood/Products/TSFEFS/test SafeTSFEFS , name: add8\n",
      "pieces: ['pvjwjgkx', 'inoqkbux', 'kldhgtmy', 'oxoftfsi', 'cqvirgoi', 'txqprnhg', 'nbmqqccc', 'yvnkmmve', 'lxmxqmsk', 'jjiczeoo', 'wqyagvkr', 'esvbwzix', 'zelsbtqn', 'zhnjpayy', 'crrnxema']\n",
      "fr: 2020-09-08 00:00:00 , to: 2021-09-02 05:19:00\n",
      "frs: ['2020-09-08 00:00:00', '2020-09-10 07:33:20', '2020-09-12 15:06:40', '2020-09-14 22:40:00', '2020-09-16 02:26:40', '2020-09-17 06:13:20', '2020-09-18 10:00:00', '2020-09-19 13:46:40', '2020-09-21 19:52:14', '2020-09-24 01:38:02', '2020-11-17 08:00:00', '2021-01-25 18:40:00', '2021-04-05 05:20:00', '2021-06-13 16:00:00', '2021-08-22 02:40:00']\n",
      "tos: ['2020-09-10 07:33:19', '2020-09-12 15:06:39', '2020-09-14 22:39:59', '2020-09-16 02:26:39', '2020-09-17 06:13:19', '2020-09-18 09:59:59', '2020-09-19 13:46:39', '2020-09-21 19:52:12', '2020-09-24 01:38:00', '2020-11-17 07:59:00', '2021-01-25 18:39:00', '2021-04-05 05:19:00', '2021-06-13 15:59:00', '2021-08-22 02:39:00', '2021-09-02 05:19:00']\n",
      "types: ['csv', 'csv', 'csv', 'csv', 'csv', 'csv', 'csv', 'csv', 'csv', 'csv', 'csv', 'csv', 'csv', 'csv', 'csv']\n",
      "time_col: time , datetime_format: %Y-%m-%d %H:%M:%S\n",
      "piece_name_len: 8\n",
      "colnames: ['time', 'day'] , row_cnt: 3000000\n",
      "row_cnts: [200000, 200000, 368000, 200000, 200000, 200000, 200000, 200000, 200000, 200000, 200000, 200000, 200000, 200000, 32000]\n",
      "actions: ['', '', '', '', '', '', '', '', '', '', '', '', '', '', ''] , action_params: [None, None, None, None, None, None, None, None, None, None, None, None, None, None, None]\n",
      "cache: [3, 2, 0] , cache_config: {'rows_in_cache': None, 'len_of_cache': 3}\n",
      "\n",
      "No error!!!\n"
     ]
    }
   ],
   "source": [
    "try:\n",
    "    stsfefs_add8 += stsfefs__ + df2 + stsfefs_ + df\n",
    "    stsfefs_add8.print_tsfefs_info()\n",
    "    print()\n",
    "    print(\"No error!!!\")\n",
    "except:\n",
    "    print(\"Something still goes wrong.\")\n",
    "    print(\"See the explanation below.\")\n"
   ]
  },
  {
   "cell_type": "code",
   "execution_count": 24,
   "id": "306c1376",
   "metadata": {},
   "outputs": [
    {
     "name": "stdout",
     "output_type": "stream",
     "text": [
      "path: /Users/yeehinleung/Documents/GreekIsGood/Products/TSFEFS/test SafeTSFEFS , name: __\n",
      "pieces: ['uszdvmhf', 'iodmdali', 'jkdiudsq', 'nhwnzubk', 'lbplcway', 'kpfwomjn', 'iqqwtitd', 'wedhmmcj', 'xwqlukra', 'ayotukdo']\n",
      "fr: 2020-09-13 00:00:00 , to: 2021-09-02 05:19:00\n",
      "frs: ['2020-09-13 00:00:00', '2020-09-15 07:33:20', '2020-09-17 15:06:40', '2020-09-19 22:40:00', '2020-09-22 06:13:20', '2020-09-24 13:47:00', '2020-12-03 00:27:00', '2021-02-10 11:07:00', '2021-04-20 21:47:00', '2021-06-29 08:27:00']\n",
      "tos: ['2020-09-15 07:33:18', '2020-09-17 15:06:38', '2020-09-19 22:39:58', '2020-09-22 06:13:18', '2020-09-24 13:46:38', '2020-12-03 00:26:00', '2021-02-10 11:06:00', '2021-04-20 21:46:00', '2021-06-29 08:26:00', '2021-09-02 05:19:00']\n",
      "types: ['csv', 'csv', 'csv', 'csv', 'csv', 'csv', 'csv', 'csv', 'csv', 'csv']\n",
      "time_col: time , datetime_format: %Y-%m-%d %H:%M:%S\n",
      "piece_name_len: 8\n",
      "colnames: ['time', 'day'] , row_cnt: 2000000\n",
      "row_cnts: [200000, 200000, 200000, 206508, 206666, 200000, 200000, 200000, 200000, 186826]\n",
      "actions: ['', '', '', '', '', '', '', '', '', ''] , action_params: [None, None, None, None, None, None, None, None, None, None]\n",
      "cache: [2, 1, 0] , cache_config: {'rows_in_cache': None, 'len_of_cache': 3}\n",
      "\n",
      "path: /Users/yeehinleung/Documents/GreekIsGood/Products/TSFEFS/test SafeTSFEFS , name: _\n",
      "pieces: ['krasladz', 'dermzskn', 'dziwmgvh']\n",
      "fr: 2020-09-20 00:00:00 , to: 2021-09-02 05:19:00\n",
      "frs: ['2020-09-20 00:00:00', '2021-02-05 21:20:00', '2021-06-24 18:40:00']\n",
      "tos: ['2021-02-05 21:19:00', '2021-06-24 18:39:00', '2021-09-02 05:19:00']\n",
      "types: ['csv', 'csv', 'csv']\n",
      "time_col: time , datetime_format: %Y-%m-%d %H:%M:%S\n",
      "piece_name_len: 8\n",
      "colnames: ['time', 'day'] , row_cnt: 500000\n",
      "row_cnts: [200000, 200000, 100000]\n",
      "actions: ['', '', ''] , action_params: [None, None, None]\n",
      "cache: [1, 2, 0] , cache_config: {'rows_in_cache': None, 'len_of_cache': 3}\n"
     ]
    }
   ],
   "source": [
    "stsfefs__.print_tsfefs_info()\n",
    "print()\n",
    "stsfefs_.print_tsfefs_info()\n"
   ]
  },
  {
   "cell_type": "markdown",
   "id": "f27bb9af",
   "metadata": {},
   "source": [
    "<b> stsfefs__ is still being modified, which is undesirable, but the adding is successful "
   ]
  },
  {
   "cell_type": "markdown",
   "id": "ea19ab4f",
   "metadata": {},
   "source": [
    " "
   ]
  },
  {
   "cell_type": "markdown",
   "id": "483e8544",
   "metadata": {},
   "source": [
    " "
   ]
  },
  {
   "cell_type": "markdown",
   "id": "d68f47a7",
   "metadata": {},
   "source": [
    " "
   ]
  },
  {
   "cell_type": "code",
   "execution_count": 25,
   "id": "e737cb0b",
   "metadata": {},
   "outputs": [],
   "source": [
    "stsfefs_.remove()\n",
    "stsfefs__.remove()\n",
    "\n",
    "stsfefs_add8.remove()\n",
    "stsfefs_add7.remove()\n",
    "stsfefs_add6.remove()\n",
    "stsfefs_add5.remove()\n",
    "stsfefs_add4.remove()\n",
    "stsfefs_add3.remove()\n",
    "stsfefs_add2.remove()\n",
    "stsfefs_add1.remove()\n",
    "\n",
    "stsfefs_base.remove()\n"
   ]
  },
  {
   "cell_type": "code",
   "execution_count": null,
   "id": "a7c4158e",
   "metadata": {},
   "outputs": [],
   "source": []
  }
 ],
 "metadata": {
  "kernelspec": {
   "display_name": "Python 3 (ipykernel)",
   "language": "python",
   "name": "python3"
  },
  "language_info": {
   "codemirror_mode": {
    "name": "ipython",
    "version": 3
   },
   "file_extension": ".py",
   "mimetype": "text/x-python",
   "name": "python",
   "nbconvert_exporter": "python",
   "pygments_lexer": "ipython3",
   "version": "3.10.5"
  }
 },
 "nbformat": 4,
 "nbformat_minor": 5
}
