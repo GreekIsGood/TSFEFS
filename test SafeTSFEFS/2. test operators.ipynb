{
 "cells": [
  {
   "cell_type": "code",
   "execution_count": 1,
   "id": "581ac914",
   "metadata": {},
   "outputs": [],
   "source": [
    "import pandas as pd\n",
    "import numpy as np\n",
    "from datetime import datetime as dt, timedelta as td\n",
    "\n",
    "import json\n",
    "import random\n",
    "import string\n",
    "\n",
    "from copy import deepcopy as dc\n",
    "import os\n",
    "\n",
    "from SafeTSFEFS import *\n"
   ]
  },
  {
   "cell_type": "markdown",
   "id": "1ebec304",
   "metadata": {},
   "source": [
    "# Test Plan\n",
    "# 1. stsfefs [>,<,>=,<=,==,!=] ts\n",
    "# 2. stsfefs [>,<,>=,<=,==,!=] pd.Series\n",
    "# 3. stsfefs [>,<,>=,<=,==,!=] df\n",
    "# 4. stsfefs [>,<,>=,<=,==,!=] tsfefs2 \n",
    "# 5. stsfefs [>,<,>=,<=,==,!=] stsfefs2 \n",
    "\n"
   ]
  },
  {
   "cell_type": "code",
   "execution_count": 2,
   "id": "4b30f66a",
   "metadata": {},
   "outputs": [],
   "source": [
    "ts = \"2020-09-08 00:00:00\"\n",
    "datetime_format = \"%Y-%m-%d %H:%M:%S\"\n",
    "ts = dt.strptime(ts, datetime_format)\n",
    "tss = [ ts + td(seconds=i) for i in range(10**6)]\n",
    "df = pd.DataFrame({\"time\":tss})\n",
    "df[\"day\"] = df[\"time\"].apply(lambda x: int(x.strftime(\"%d\")))\n"
   ]
  },
  {
   "cell_type": "code",
   "execution_count": 3,
   "id": "4d6ff1fc",
   "metadata": {},
   "outputs": [
    {
     "name": "stdout",
     "output_type": "stream",
     "text": [
      "path: /Users/yeehinleung/Documents/GreekIsGood/Products/TSFEFS/test SafeTSFEFS , name: base\n",
      "pieces: ['zigsfktz', 'ajznsepy', 'qjcjxppw', 'psgncmup', 'yqmdhoik']\n",
      "fr: 2020-09-08 00:00:00 , to: 2020-09-19 13:46:39\n",
      "frs: ['2020-09-08 00:00:00', '2020-09-10 07:33:20', '2020-09-12 15:06:40', '2020-09-14 22:40:00', '2020-09-17 06:13:20']\n",
      "tos: ['2020-09-10 07:33:19', '2020-09-12 15:06:39', '2020-09-14 22:39:59', '2020-09-17 06:13:19', '2020-09-19 13:46:39']\n",
      "types: ['csv', 'csv', 'csv', 'csv', 'csv']\n",
      "time_col: time , datetime_format: %Y-%m-%d %H:%M:%S\n",
      "piece_name_len: 8\n",
      "colnames: ['time', 'day'] , row_cnt: 1000000\n",
      "row_cnts: [200000, 200000, 200000, 200000, 200000]\n",
      "actions: ['', '', '', '', ''] , action_params: [None, None, None, None, None]\n",
      "cache: [3, 4, 0] , cache_config: {'rows_in_cache': None, 'len_of_cache': 3}\n"
     ]
    }
   ],
   "source": [
    "stsfefs_base = SafeTSFEFS(path=os.getcwd(), name=\"base\", time_col=\"time\", datetime_format=datetime_format, df=df)\n",
    "stsfefs_base.print_tsfefs_info()\n"
   ]
  },
  {
   "cell_type": "markdown",
   "id": "ebd199e6",
   "metadata": {},
   "source": [
    " "
   ]
  },
  {
   "cell_type": "code",
   "execution_count": 4,
   "id": "a2855628",
   "metadata": {},
   "outputs": [],
   "source": [
    "stsfefs_op1 = stsfefs_base.clone(stsfefs_base.tsfefs.path, \"op1\")\n",
    "stsfefs_op2 = stsfefs_base.clone(stsfefs_base.tsfefs.path, \"op2\")\n",
    "stsfefs_op3 = stsfefs_base.clone(stsfefs_base.tsfefs.path, \"op3\")\n",
    "stsfefs_op4 = stsfefs_base.clone(stsfefs_base.tsfefs.path, \"op4\")\n",
    "stsfefs_op5 = stsfefs_base.clone(stsfefs_base.tsfefs.path, \"op5\")\n",
    "\n"
   ]
  },
  {
   "cell_type": "markdown",
   "id": "87649bb0",
   "metadata": {},
   "source": [
    " "
   ]
  },
  {
   "cell_type": "markdown",
   "id": "abaf3f5f",
   "metadata": {},
   "source": [
    "# 1. stsfefs [>,<,>=,<=,==,!=] ts"
   ]
  },
  {
   "cell_type": "code",
   "execution_count": 5,
   "id": "07c79cf8",
   "metadata": {},
   "outputs": [
    {
     "name": "stdout",
     "output_type": "stream",
     "text": [
      "path: /Users/yeehinleung/Documents/GreekIsGood/Products/TSFEFS/test SafeTSFEFS , name: op1\n",
      "pieces: ['zigsfktz', 'ajznsepy', 'qjcjxppw', 'psgncmup', 'yqmdhoik']\n",
      "fr: 2020-09-08 00:00:00 , to: 2020-09-19 13:46:39\n",
      "frs: ['2020-09-08 00:00:00', '2020-09-10 07:33:20', '2020-09-12 15:06:40', '2020-09-14 22:40:00', '2020-09-17 06:13:20']\n",
      "tos: ['2020-09-10 07:33:19', '2020-09-12 15:06:39', '2020-09-14 22:39:59', '2020-09-17 06:13:19', '2020-09-19 13:46:39']\n",
      "types: ['csv', 'csv', 'csv', 'csv', 'csv']\n",
      "time_col: time , datetime_format: %Y-%m-%d %H:%M:%S\n",
      "piece_name_len: 8\n",
      "colnames: ['time', 'day'] , row_cnt: 1000000\n",
      "row_cnts: [200000, 200000, 200000, 200000, 200000]\n",
      "actions: ['', '', '', '', ''] , action_params: [None, None, None, None, None]\n",
      "cache: [3, 4, 0] , cache_config: {'rows_in_cache': None, 'len_of_cache': 3}\n",
      "567999\n"
     ]
    }
   ],
   "source": [
    "# Should be within idx = 6\n",
    "ts = dt.strptime(\"2020-09-13 00:00:00\",stsfefs_op1.tsfefs.datetime_format)\n",
    "B = stsfefs_op1 > ts\n",
    "stsfefs_op1.print_tsfefs_info()\n",
    "print(sum(B))\n"
   ]
  },
  {
   "cell_type": "code",
   "execution_count": 6,
   "id": "d7b2e354",
   "metadata": {},
   "outputs": [
    {
     "name": "stdout",
     "output_type": "stream",
     "text": [
      "path: /Users/yeehinleung/Documents/GreekIsGood/Products/TSFEFS/test SafeTSFEFS , name: op1\n",
      "pieces: ['zigsfktz', 'ajznsepy', 'qjcjxppw', 'psgncmup', 'yqmdhoik']\n",
      "fr: 2020-09-08 00:00:00 , to: 2020-09-19 13:46:39\n",
      "frs: ['2020-09-08 00:00:00', '2020-09-10 07:33:20', '2020-09-12 15:06:40', '2020-09-14 22:40:00', '2020-09-17 06:13:20']\n",
      "tos: ['2020-09-10 07:33:19', '2020-09-12 15:06:39', '2020-09-14 22:39:59', '2020-09-17 06:13:19', '2020-09-19 13:46:39']\n",
      "types: ['csv', 'csv', 'csv', 'csv', 'csv']\n",
      "time_col: time , datetime_format: %Y-%m-%d %H:%M:%S\n",
      "piece_name_len: 8\n",
      "colnames: ['time', 'day'] , row_cnt: 1000000\n",
      "row_cnts: [200000, 200000, 200000, 200000, 200000]\n",
      "actions: ['', '', '', '', ''] , action_params: [None, None, None, None, None]\n",
      "cache: [3, 4, 0] , cache_config: {'rows_in_cache': None, 'len_of_cache': 3}\n",
      "432000\n"
     ]
    }
   ],
   "source": [
    "B = stsfefs_op1 < ts\n",
    "stsfefs_op1.print_tsfefs_info()\n",
    "print(sum(B))\n"
   ]
  },
  {
   "cell_type": "code",
   "execution_count": 7,
   "id": "8d38d0ff",
   "metadata": {},
   "outputs": [
    {
     "name": "stdout",
     "output_type": "stream",
     "text": [
      "path: /Users/yeehinleung/Documents/GreekIsGood/Products/TSFEFS/test SafeTSFEFS , name: op1\n",
      "pieces: ['zigsfktz', 'ajznsepy', 'qjcjxppw', 'psgncmup', 'yqmdhoik']\n",
      "fr: 2020-09-08 00:00:00 , to: 2020-09-19 13:46:39\n",
      "frs: ['2020-09-08 00:00:00', '2020-09-10 07:33:20', '2020-09-12 15:06:40', '2020-09-14 22:40:00', '2020-09-17 06:13:20']\n",
      "tos: ['2020-09-10 07:33:19', '2020-09-12 15:06:39', '2020-09-14 22:39:59', '2020-09-17 06:13:19', '2020-09-19 13:46:39']\n",
      "types: ['csv', 'csv', 'csv', 'csv', 'csv']\n",
      "time_col: time , datetime_format: %Y-%m-%d %H:%M:%S\n",
      "piece_name_len: 8\n",
      "colnames: ['time', 'day'] , row_cnt: 1000000\n",
      "row_cnts: [200000, 200000, 200000, 200000, 200000]\n",
      "actions: ['', '', '', '', ''] , action_params: [None, None, None, None, None]\n",
      "cache: [3, 4, 0] , cache_config: {'rows_in_cache': None, 'len_of_cache': 3}\n",
      "568000\n"
     ]
    }
   ],
   "source": [
    "B = stsfefs_op1 >= ts\n",
    "stsfefs_op1.print_tsfefs_info()\n",
    "print(sum(B))\n"
   ]
  },
  {
   "cell_type": "code",
   "execution_count": 8,
   "id": "4f4409e4",
   "metadata": {},
   "outputs": [
    {
     "name": "stdout",
     "output_type": "stream",
     "text": [
      "path: /Users/yeehinleung/Documents/GreekIsGood/Products/TSFEFS/test SafeTSFEFS , name: op1\n",
      "pieces: ['zigsfktz', 'ajznsepy', 'qjcjxppw', 'psgncmup', 'yqmdhoik']\n",
      "fr: 2020-09-08 00:00:00 , to: 2020-09-19 13:46:39\n",
      "frs: ['2020-09-08 00:00:00', '2020-09-10 07:33:20', '2020-09-12 15:06:40', '2020-09-14 22:40:00', '2020-09-17 06:13:20']\n",
      "tos: ['2020-09-10 07:33:19', '2020-09-12 15:06:39', '2020-09-14 22:39:59', '2020-09-17 06:13:19', '2020-09-19 13:46:39']\n",
      "types: ['csv', 'csv', 'csv', 'csv', 'csv']\n",
      "time_col: time , datetime_format: %Y-%m-%d %H:%M:%S\n",
      "piece_name_len: 8\n",
      "colnames: ['time', 'day'] , row_cnt: 1000000\n",
      "row_cnts: [200000, 200000, 200000, 200000, 200000]\n",
      "actions: ['', '', '', '', ''] , action_params: [None, None, None, None, None]\n",
      "cache: [3, 4, 0] , cache_config: {'rows_in_cache': None, 'len_of_cache': 3}\n",
      "432001\n"
     ]
    }
   ],
   "source": [
    "B = stsfefs_op1 <= ts\n",
    "stsfefs_op1.print_tsfefs_info()\n",
    "print(sum(B))\n"
   ]
  },
  {
   "cell_type": "code",
   "execution_count": 9,
   "id": "38543b44",
   "metadata": {},
   "outputs": [
    {
     "name": "stdout",
     "output_type": "stream",
     "text": [
      "path: /Users/yeehinleung/Documents/GreekIsGood/Products/TSFEFS/test SafeTSFEFS , name: op1\n",
      "pieces: ['zigsfktz', 'ajznsepy', 'qjcjxppw', 'psgncmup', 'yqmdhoik']\n",
      "fr: 2020-09-08 00:00:00 , to: 2020-09-19 13:46:39\n",
      "frs: ['2020-09-08 00:00:00', '2020-09-10 07:33:20', '2020-09-12 15:06:40', '2020-09-14 22:40:00', '2020-09-17 06:13:20']\n",
      "tos: ['2020-09-10 07:33:19', '2020-09-12 15:06:39', '2020-09-14 22:39:59', '2020-09-17 06:13:19', '2020-09-19 13:46:39']\n",
      "types: ['csv', 'csv', 'csv', 'csv', 'csv']\n",
      "time_col: time , datetime_format: %Y-%m-%d %H:%M:%S\n",
      "piece_name_len: 8\n",
      "colnames: ['time', 'day'] , row_cnt: 1000000\n",
      "row_cnts: [200000, 200000, 200000, 200000, 200000]\n",
      "actions: ['', '', '', '', ''] , action_params: [None, None, None, None, None]\n",
      "cache: [3, 4, 0] , cache_config: {'rows_in_cache': None, 'len_of_cache': 3}\n",
      "1\n"
     ]
    }
   ],
   "source": [
    "B = stsfefs_op1 == ts\n",
    "stsfefs_op1.print_tsfefs_info()\n",
    "print(sum(B))\n"
   ]
  },
  {
   "cell_type": "code",
   "execution_count": 10,
   "id": "bef9d5d6",
   "metadata": {},
   "outputs": [
    {
     "name": "stdout",
     "output_type": "stream",
     "text": [
      "path: /Users/yeehinleung/Documents/GreekIsGood/Products/TSFEFS/test SafeTSFEFS , name: op1\n",
      "pieces: ['zigsfktz', 'ajznsepy', 'qjcjxppw', 'psgncmup', 'yqmdhoik']\n",
      "fr: 2020-09-08 00:00:00 , to: 2020-09-19 13:46:39\n",
      "frs: ['2020-09-08 00:00:00', '2020-09-10 07:33:20', '2020-09-12 15:06:40', '2020-09-14 22:40:00', '2020-09-17 06:13:20']\n",
      "tos: ['2020-09-10 07:33:19', '2020-09-12 15:06:39', '2020-09-14 22:39:59', '2020-09-17 06:13:19', '2020-09-19 13:46:39']\n",
      "types: ['csv', 'csv', 'csv', 'csv', 'csv']\n",
      "time_col: time , datetime_format: %Y-%m-%d %H:%M:%S\n",
      "piece_name_len: 8\n",
      "colnames: ['time', 'day'] , row_cnt: 1000000\n",
      "row_cnts: [200000, 200000, 200000, 200000, 200000]\n",
      "actions: ['', '', '', '', ''] , action_params: [None, None, None, None, None]\n",
      "cache: [3, 4, 0] , cache_config: {'rows_in_cache': None, 'len_of_cache': 3}\n",
      "999999\n"
     ]
    }
   ],
   "source": [
    "B = stsfefs_op1 != ts\n",
    "stsfefs_op1.print_tsfefs_info()\n",
    "print(sum(B))\n"
   ]
  },
  {
   "cell_type": "markdown",
   "id": "a749d3d2",
   "metadata": {},
   "source": [
    "# 2. stsfefs [>,<,>=,<=,==,!=] pd.Series\n"
   ]
  },
  {
   "cell_type": "code",
   "execution_count": 11,
   "id": "4653b1b4",
   "metadata": {},
   "outputs": [],
   "source": [
    "ts = \"2019-09-01 00:00:00\"\n",
    "datetime_format = \"%Y-%m-%d %H:%M:%S\"\n",
    "ts = dt.strptime(ts, datetime_format)\n",
    "tss = [ ts + td(seconds=i*60) for i in range(10**6) ]\n",
    "S = pd.Series(tss)\n"
   ]
  },
  {
   "cell_type": "code",
   "execution_count": 12,
   "id": "356f9d26",
   "metadata": {},
   "outputs": [
    {
     "name": "stdout",
     "output_type": "stream",
     "text": [
      "path: /Users/yeehinleung/Documents/GreekIsGood/Products/TSFEFS/test SafeTSFEFS , name: op2\n",
      "pieces: ['zigsfktz', 'ajznsepy', 'qjcjxppw', 'psgncmup', 'yqmdhoik']\n",
      "fr: 2020-09-08 00:00:00 , to: 2020-09-19 13:46:39\n",
      "frs: ['2020-09-08 00:00:00', '2020-09-10 07:33:20', '2020-09-12 15:06:40', '2020-09-14 22:40:00', '2020-09-17 06:13:20']\n",
      "tos: ['2020-09-10 07:33:19', '2020-09-12 15:06:39', '2020-09-14 22:39:59', '2020-09-17 06:13:19', '2020-09-19 13:46:39']\n",
      "types: ['csv', 'csv', 'csv', 'csv', 'csv']\n",
      "time_col: time , datetime_format: %Y-%m-%d %H:%M:%S\n",
      "piece_name_len: 8\n",
      "colnames: ['time', 'day'] , row_cnt: 1000000\n",
      "row_cnts: [200000, 200000, 200000, 200000, 200000]\n",
      "actions: ['', '', '', '', ''] , action_params: [None, None, None, None, None]\n",
      "cache: [3, 4, 0] , cache_config: {'rows_in_cache': None, 'len_of_cache': 3}\n",
      "546224\n"
     ]
    }
   ],
   "source": [
    "B = stsfefs_op2 > S\n",
    "stsfefs_op2.print_tsfefs_info()\n",
    "print(sum(B))\n"
   ]
  },
  {
   "cell_type": "code",
   "execution_count": 13,
   "id": "a88cadf6",
   "metadata": {},
   "outputs": [
    {
     "name": "stdout",
     "output_type": "stream",
     "text": [
      "path: /Users/yeehinleung/Documents/GreekIsGood/Products/TSFEFS/test SafeTSFEFS , name: op2\n",
      "pieces: ['zigsfktz', 'ajznsepy', 'qjcjxppw', 'psgncmup', 'yqmdhoik']\n",
      "fr: 2020-09-08 00:00:00 , to: 2020-09-19 13:46:39\n",
      "frs: ['2020-09-08 00:00:00', '2020-09-10 07:33:20', '2020-09-12 15:06:40', '2020-09-14 22:40:00', '2020-09-17 06:13:20']\n",
      "tos: ['2020-09-10 07:33:19', '2020-09-12 15:06:39', '2020-09-14 22:39:59', '2020-09-17 06:13:19', '2020-09-19 13:46:39']\n",
      "types: ['csv', 'csv', 'csv', 'csv', 'csv']\n",
      "time_col: time , datetime_format: %Y-%m-%d %H:%M:%S\n",
      "piece_name_len: 8\n",
      "colnames: ['time', 'day'] , row_cnt: 1000000\n",
      "row_cnts: [200000, 200000, 200000, 200000, 200000]\n",
      "actions: ['', '', '', '', ''] , action_params: [None, None, None, None, None]\n",
      "cache: [3, 4, 0] , cache_config: {'rows_in_cache': None, 'len_of_cache': 3}\n",
      "453776\n"
     ]
    }
   ],
   "source": [
    "B = stsfefs_op2 < S\n",
    "stsfefs_op2.print_tsfefs_info()\n",
    "print(sum(B))\n"
   ]
  },
  {
   "cell_type": "code",
   "execution_count": 14,
   "id": "0f58c2a2",
   "metadata": {},
   "outputs": [
    {
     "name": "stdout",
     "output_type": "stream",
     "text": [
      "path: /Users/yeehinleung/Documents/GreekIsGood/Products/TSFEFS/test SafeTSFEFS , name: op2\n",
      "pieces: ['zigsfktz', 'ajznsepy', 'qjcjxppw', 'psgncmup', 'yqmdhoik']\n",
      "fr: 2020-09-08 00:00:00 , to: 2020-09-19 13:46:39\n",
      "frs: ['2020-09-08 00:00:00', '2020-09-10 07:33:20', '2020-09-12 15:06:40', '2020-09-14 22:40:00', '2020-09-17 06:13:20']\n",
      "tos: ['2020-09-10 07:33:19', '2020-09-12 15:06:39', '2020-09-14 22:39:59', '2020-09-17 06:13:19', '2020-09-19 13:46:39']\n",
      "types: ['csv', 'csv', 'csv', 'csv', 'csv']\n",
      "time_col: time , datetime_format: %Y-%m-%d %H:%M:%S\n",
      "piece_name_len: 8\n",
      "colnames: ['time', 'day'] , row_cnt: 1000000\n",
      "row_cnts: [200000, 200000, 200000, 200000, 200000]\n",
      "actions: ['', '', '', '', ''] , action_params: [None, None, None, None, None]\n",
      "cache: [3, 4, 0] , cache_config: {'rows_in_cache': None, 'len_of_cache': 3}\n",
      "546224\n"
     ]
    }
   ],
   "source": [
    "B = stsfefs_op2 >= S\n",
    "stsfefs_op2.print_tsfefs_info()\n",
    "print(sum(B))\n"
   ]
  },
  {
   "cell_type": "code",
   "execution_count": 15,
   "id": "1dac92b8",
   "metadata": {},
   "outputs": [
    {
     "name": "stdout",
     "output_type": "stream",
     "text": [
      "path: /Users/yeehinleung/Documents/GreekIsGood/Products/TSFEFS/test SafeTSFEFS , name: op2\n",
      "pieces: ['zigsfktz', 'ajznsepy', 'qjcjxppw', 'psgncmup', 'yqmdhoik']\n",
      "fr: 2020-09-08 00:00:00 , to: 2020-09-19 13:46:39\n",
      "frs: ['2020-09-08 00:00:00', '2020-09-10 07:33:20', '2020-09-12 15:06:40', '2020-09-14 22:40:00', '2020-09-17 06:13:20']\n",
      "tos: ['2020-09-10 07:33:19', '2020-09-12 15:06:39', '2020-09-14 22:39:59', '2020-09-17 06:13:19', '2020-09-19 13:46:39']\n",
      "types: ['csv', 'csv', 'csv', 'csv', 'csv']\n",
      "time_col: time , datetime_format: %Y-%m-%d %H:%M:%S\n",
      "piece_name_len: 8\n",
      "colnames: ['time', 'day'] , row_cnt: 1000000\n",
      "row_cnts: [200000, 200000, 200000, 200000, 200000]\n",
      "actions: ['', '', '', '', ''] , action_params: [None, None, None, None, None]\n",
      "cache: [3, 4, 0] , cache_config: {'rows_in_cache': None, 'len_of_cache': 3}\n",
      "453776\n"
     ]
    }
   ],
   "source": [
    "B = stsfefs_op2 <= S\n",
    "stsfefs_op2.print_tsfefs_info()\n",
    "print(sum(B))\n"
   ]
  },
  {
   "cell_type": "code",
   "execution_count": 16,
   "id": "f65ba89e",
   "metadata": {},
   "outputs": [
    {
     "name": "stdout",
     "output_type": "stream",
     "text": [
      "path: /Users/yeehinleung/Documents/GreekIsGood/Products/TSFEFS/test SafeTSFEFS , name: op2\n",
      "pieces: ['zigsfktz', 'ajznsepy', 'qjcjxppw', 'psgncmup', 'yqmdhoik']\n",
      "fr: 2020-09-08 00:00:00 , to: 2020-09-19 13:46:39\n",
      "frs: ['2020-09-08 00:00:00', '2020-09-10 07:33:20', '2020-09-12 15:06:40', '2020-09-14 22:40:00', '2020-09-17 06:13:20']\n",
      "tos: ['2020-09-10 07:33:19', '2020-09-12 15:06:39', '2020-09-14 22:39:59', '2020-09-17 06:13:19', '2020-09-19 13:46:39']\n",
      "types: ['csv', 'csv', 'csv', 'csv', 'csv']\n",
      "time_col: time , datetime_format: %Y-%m-%d %H:%M:%S\n",
      "piece_name_len: 8\n",
      "colnames: ['time', 'day'] , row_cnt: 1000000\n",
      "row_cnts: [200000, 200000, 200000, 200000, 200000]\n",
      "actions: ['', '', '', '', ''] , action_params: [None, None, None, None, None]\n",
      "cache: [3, 4, 0] , cache_config: {'rows_in_cache': None, 'len_of_cache': 3}\n",
      "0\n"
     ]
    }
   ],
   "source": [
    "B = stsfefs_op2 == S\n",
    "stsfefs_op2.print_tsfefs_info()\n",
    "print(sum(B))\n"
   ]
  },
  {
   "cell_type": "code",
   "execution_count": 17,
   "id": "7041ad36",
   "metadata": {},
   "outputs": [
    {
     "name": "stdout",
     "output_type": "stream",
     "text": [
      "path: /Users/yeehinleung/Documents/GreekIsGood/Products/TSFEFS/test SafeTSFEFS , name: op2\n",
      "pieces: ['zigsfktz', 'ajznsepy', 'qjcjxppw', 'psgncmup', 'yqmdhoik']\n",
      "fr: 2020-09-08 00:00:00 , to: 2020-09-19 13:46:39\n",
      "frs: ['2020-09-08 00:00:00', '2020-09-10 07:33:20', '2020-09-12 15:06:40', '2020-09-14 22:40:00', '2020-09-17 06:13:20']\n",
      "tos: ['2020-09-10 07:33:19', '2020-09-12 15:06:39', '2020-09-14 22:39:59', '2020-09-17 06:13:19', '2020-09-19 13:46:39']\n",
      "types: ['csv', 'csv', 'csv', 'csv', 'csv']\n",
      "time_col: time , datetime_format: %Y-%m-%d %H:%M:%S\n",
      "piece_name_len: 8\n",
      "colnames: ['time', 'day'] , row_cnt: 1000000\n",
      "row_cnts: [200000, 200000, 200000, 200000, 200000]\n",
      "actions: ['', '', '', '', ''] , action_params: [None, None, None, None, None]\n",
      "cache: [3, 4, 0] , cache_config: {'rows_in_cache': None, 'len_of_cache': 3}\n",
      "1000000\n"
     ]
    }
   ],
   "source": [
    "B = stsfefs_op2 != S\n",
    "stsfefs_op2.print_tsfefs_info()\n",
    "print(sum(B))\n"
   ]
  },
  {
   "cell_type": "markdown",
   "id": "b344a91e",
   "metadata": {},
   "source": [
    "# 3. stsfefs [>,<,>=,<=,==,!=] df\n"
   ]
  },
  {
   "cell_type": "code",
   "execution_count": 18,
   "id": "0af50faf",
   "metadata": {},
   "outputs": [
    {
     "name": "stdout",
     "output_type": "stream",
     "text": [
      "path: /Users/yeehinleung/Documents/GreekIsGood/Products/TSFEFS/test SafeTSFEFS , name: op3\n",
      "pieces: ['zigsfktz', 'ajznsepy', 'qjcjxppw', 'psgncmup', 'yqmdhoik']\n",
      "fr: 2020-09-08 00:00:00 , to: 2020-09-19 13:46:39\n",
      "frs: ['2020-09-08 00:00:00', '2020-09-10 07:33:20', '2020-09-12 15:06:40', '2020-09-14 22:40:00', '2020-09-17 06:13:20']\n",
      "tos: ['2020-09-10 07:33:19', '2020-09-12 15:06:39', '2020-09-14 22:39:59', '2020-09-17 06:13:19', '2020-09-19 13:46:39']\n",
      "types: ['csv', 'csv', 'csv', 'csv', 'csv']\n",
      "time_col: time , datetime_format: %Y-%m-%d %H:%M:%S\n",
      "piece_name_len: 8\n",
      "colnames: ['time', 'day'] , row_cnt: 1000000\n",
      "row_cnts: [200000, 200000, 200000, 200000, 200000]\n",
      "actions: ['', '', '', '', ''] , action_params: [None, None, None, None, None]\n",
      "cache: [3, 4, 0] , cache_config: {'rows_in_cache': None, 'len_of_cache': 3}\n",
      "546224\n"
     ]
    }
   ],
   "source": [
    "df = pd.DataFrame({stsfefs_op3.tsfefs.time_col:tss})\n",
    "B = stsfefs_op3 > df\n",
    "stsfefs_op3.print_tsfefs_info()\n",
    "print(sum(B))\n"
   ]
  },
  {
   "cell_type": "code",
   "execution_count": 19,
   "id": "e5256d5c",
   "metadata": {},
   "outputs": [
    {
     "name": "stdout",
     "output_type": "stream",
     "text": [
      "path: /Users/yeehinleung/Documents/GreekIsGood/Products/TSFEFS/test SafeTSFEFS , name: op3\n",
      "pieces: ['zigsfktz', 'ajznsepy', 'qjcjxppw', 'psgncmup', 'yqmdhoik']\n",
      "fr: 2020-09-08 00:00:00 , to: 2020-09-19 13:46:39\n",
      "frs: ['2020-09-08 00:00:00', '2020-09-10 07:33:20', '2020-09-12 15:06:40', '2020-09-14 22:40:00', '2020-09-17 06:13:20']\n",
      "tos: ['2020-09-10 07:33:19', '2020-09-12 15:06:39', '2020-09-14 22:39:59', '2020-09-17 06:13:19', '2020-09-19 13:46:39']\n",
      "types: ['csv', 'csv', 'csv', 'csv', 'csv']\n",
      "time_col: time , datetime_format: %Y-%m-%d %H:%M:%S\n",
      "piece_name_len: 8\n",
      "colnames: ['time', 'day'] , row_cnt: 1000000\n",
      "row_cnts: [200000, 200000, 200000, 200000, 200000]\n",
      "actions: ['', '', '', '', ''] , action_params: [None, None, None, None, None]\n",
      "cache: [3, 4, 0] , cache_config: {'rows_in_cache': None, 'len_of_cache': 3}\n",
      "453776\n"
     ]
    }
   ],
   "source": [
    "B = stsfefs_op3 < df\n",
    "stsfefs_op3.print_tsfefs_info()\n",
    "print(sum(B))\n"
   ]
  },
  {
   "cell_type": "code",
   "execution_count": 20,
   "id": "10323bd0",
   "metadata": {},
   "outputs": [
    {
     "name": "stdout",
     "output_type": "stream",
     "text": [
      "path: /Users/yeehinleung/Documents/GreekIsGood/Products/TSFEFS/test SafeTSFEFS , name: op3\n",
      "pieces: ['zigsfktz', 'ajznsepy', 'qjcjxppw', 'psgncmup', 'yqmdhoik']\n",
      "fr: 2020-09-08 00:00:00 , to: 2020-09-19 13:46:39\n",
      "frs: ['2020-09-08 00:00:00', '2020-09-10 07:33:20', '2020-09-12 15:06:40', '2020-09-14 22:40:00', '2020-09-17 06:13:20']\n",
      "tos: ['2020-09-10 07:33:19', '2020-09-12 15:06:39', '2020-09-14 22:39:59', '2020-09-17 06:13:19', '2020-09-19 13:46:39']\n",
      "types: ['csv', 'csv', 'csv', 'csv', 'csv']\n",
      "time_col: time , datetime_format: %Y-%m-%d %H:%M:%S\n",
      "piece_name_len: 8\n",
      "colnames: ['time', 'day'] , row_cnt: 1000000\n",
      "row_cnts: [200000, 200000, 200000, 200000, 200000]\n",
      "actions: ['', '', '', '', ''] , action_params: [None, None, None, None, None]\n",
      "cache: [3, 4, 0] , cache_config: {'rows_in_cache': None, 'len_of_cache': 3}\n",
      "546224\n"
     ]
    }
   ],
   "source": [
    "B = stsfefs_op3 >= df\n",
    "stsfefs_op3.print_tsfefs_info()\n",
    "print(sum(B))\n"
   ]
  },
  {
   "cell_type": "code",
   "execution_count": 21,
   "id": "4d553441",
   "metadata": {},
   "outputs": [
    {
     "name": "stdout",
     "output_type": "stream",
     "text": [
      "path: /Users/yeehinleung/Documents/GreekIsGood/Products/TSFEFS/test SafeTSFEFS , name: op3\n",
      "pieces: ['zigsfktz', 'ajznsepy', 'qjcjxppw', 'psgncmup', 'yqmdhoik']\n",
      "fr: 2020-09-08 00:00:00 , to: 2020-09-19 13:46:39\n",
      "frs: ['2020-09-08 00:00:00', '2020-09-10 07:33:20', '2020-09-12 15:06:40', '2020-09-14 22:40:00', '2020-09-17 06:13:20']\n",
      "tos: ['2020-09-10 07:33:19', '2020-09-12 15:06:39', '2020-09-14 22:39:59', '2020-09-17 06:13:19', '2020-09-19 13:46:39']\n",
      "types: ['csv', 'csv', 'csv', 'csv', 'csv']\n",
      "time_col: time , datetime_format: %Y-%m-%d %H:%M:%S\n",
      "piece_name_len: 8\n",
      "colnames: ['time', 'day'] , row_cnt: 1000000\n",
      "row_cnts: [200000, 200000, 200000, 200000, 200000]\n",
      "actions: ['', '', '', '', ''] , action_params: [None, None, None, None, None]\n",
      "cache: [3, 4, 0] , cache_config: {'rows_in_cache': None, 'len_of_cache': 3}\n",
      "453776\n"
     ]
    }
   ],
   "source": [
    "B = stsfefs_op3 <= df\n",
    "stsfefs_op3.print_tsfefs_info()\n",
    "print(sum(B))\n"
   ]
  },
  {
   "cell_type": "code",
   "execution_count": 22,
   "id": "f9703a77",
   "metadata": {},
   "outputs": [
    {
     "name": "stdout",
     "output_type": "stream",
     "text": [
      "path: /Users/yeehinleung/Documents/GreekIsGood/Products/TSFEFS/test SafeTSFEFS , name: op3\n",
      "pieces: ['zigsfktz', 'ajznsepy', 'qjcjxppw', 'psgncmup', 'yqmdhoik']\n",
      "fr: 2020-09-08 00:00:00 , to: 2020-09-19 13:46:39\n",
      "frs: ['2020-09-08 00:00:00', '2020-09-10 07:33:20', '2020-09-12 15:06:40', '2020-09-14 22:40:00', '2020-09-17 06:13:20']\n",
      "tos: ['2020-09-10 07:33:19', '2020-09-12 15:06:39', '2020-09-14 22:39:59', '2020-09-17 06:13:19', '2020-09-19 13:46:39']\n",
      "types: ['csv', 'csv', 'csv', 'csv', 'csv']\n",
      "time_col: time , datetime_format: %Y-%m-%d %H:%M:%S\n",
      "piece_name_len: 8\n",
      "colnames: ['time', 'day'] , row_cnt: 1000000\n",
      "row_cnts: [200000, 200000, 200000, 200000, 200000]\n",
      "actions: ['', '', '', '', ''] , action_params: [None, None, None, None, None]\n",
      "cache: [3, 4, 0] , cache_config: {'rows_in_cache': None, 'len_of_cache': 3}\n",
      "0\n"
     ]
    }
   ],
   "source": [
    "B = stsfefs_op3 == df\n",
    "stsfefs_op3.print_tsfefs_info()\n",
    "print(sum(B))\n"
   ]
  },
  {
   "cell_type": "code",
   "execution_count": 23,
   "id": "13bf28ea",
   "metadata": {},
   "outputs": [
    {
     "name": "stdout",
     "output_type": "stream",
     "text": [
      "path: /Users/yeehinleung/Documents/GreekIsGood/Products/TSFEFS/test SafeTSFEFS , name: op3\n",
      "pieces: ['zigsfktz', 'ajznsepy', 'qjcjxppw', 'psgncmup', 'yqmdhoik']\n",
      "fr: 2020-09-08 00:00:00 , to: 2020-09-19 13:46:39\n",
      "frs: ['2020-09-08 00:00:00', '2020-09-10 07:33:20', '2020-09-12 15:06:40', '2020-09-14 22:40:00', '2020-09-17 06:13:20']\n",
      "tos: ['2020-09-10 07:33:19', '2020-09-12 15:06:39', '2020-09-14 22:39:59', '2020-09-17 06:13:19', '2020-09-19 13:46:39']\n",
      "types: ['csv', 'csv', 'csv', 'csv', 'csv']\n",
      "time_col: time , datetime_format: %Y-%m-%d %H:%M:%S\n",
      "piece_name_len: 8\n",
      "colnames: ['time', 'day'] , row_cnt: 1000000\n",
      "row_cnts: [200000, 200000, 200000, 200000, 200000]\n",
      "actions: ['', '', '', '', ''] , action_params: [None, None, None, None, None]\n",
      "cache: [3, 4, 0] , cache_config: {'rows_in_cache': None, 'len_of_cache': 3}\n",
      "1000000\n"
     ]
    }
   ],
   "source": [
    "B = stsfefs_op3 != df\n",
    "stsfefs_op3.print_tsfefs_info()\n",
    "print(sum(B))\n"
   ]
  },
  {
   "cell_type": "markdown",
   "id": "b41d7ead",
   "metadata": {},
   "source": [
    "# 4. stsfefs [>,<,>=,<=,==,!=] tsfefs2 \n"
   ]
  },
  {
   "cell_type": "code",
   "execution_count": 24,
   "id": "c1d27836",
   "metadata": {},
   "outputs": [],
   "source": [
    "dict_meta = {\n",
    "    \"piece_name_len\": 8,\n",
    "    \"time_col\": \"time\", \"datetime_format\": \"%Y-%m-%d %H:%M:%S\", \n",
    "    \"max_row_per_piece\": 400000,\n",
    "    \"colnames\":[\"time\"],\n",
    "    \"cache_config\":{\"rows_in_cache\":None,\"len_of_cache\":3}\n",
    "}\n"
   ]
  },
  {
   "cell_type": "code",
   "execution_count": 25,
   "id": "f569bd91",
   "metadata": {},
   "outputs": [
    {
     "name": "stdout",
     "output_type": "stream",
     "text": [
      "path: /Users/yeehinleung/Documents/GreekIsGood/Products/TSFEFS/test SafeTSFEFS , name: _\n",
      "pieces: ['naczlnme', 'dldfvwzv', 'ddatswwt', 'deuthsud', 'kkhgwsgu']\n",
      "fr: 2019-09-01 00:00:00 , to: 2021-07-26 10:39:00\n",
      "frs: ['2019-09-01 00:00:00', '2020-01-17 21:20:00', '2020-06-04 18:40:00', '2020-10-21 16:00:00', '2021-03-09 13:20:00']\n",
      "tos: ['2020-01-17 21:19:00', '2020-06-04 18:39:00', '2020-10-21 15:59:00', '2021-03-09 13:19:00', '2021-07-26 10:39:00']\n",
      "types: ['csv', 'csv', 'csv', 'csv', 'csv']\n",
      "time_col: time , datetime_format: %Y-%m-%d %H:%M:%S\n",
      "piece_name_len: 8\n",
      "colnames: ['time'] , row_cnt: 1000000\n",
      "row_cnts: [200000, 200000, 200000, 200000, 200000]\n",
      "actions: ['save', 'save', 'save', 'save', 'save'] , action_params: [None, None, None, None, None]\n",
      "cache: [1, 2, 3, 4, 0] , cache_config: {'rows_in_cache': None, 'len_of_cache': 3}\n"
     ]
    }
   ],
   "source": [
    "tsfefs_ = TSFEFS.create(dict_meta, \"_\")\n",
    "tsfefs_.import_dataframe(df)\n",
    "tsfefs_.take_actions(max_level=0) # level:update\n",
    "tsfefs_.print_tsfefs_info()\n"
   ]
  },
  {
   "cell_type": "code",
   "execution_count": 26,
   "id": "754bb081",
   "metadata": {},
   "outputs": [
    {
     "name": "stdout",
     "output_type": "stream",
     "text": [
      "path: /Users/yeehinleung/Documents/GreekIsGood/Products/TSFEFS/test SafeTSFEFS , name: op4\n",
      "pieces: ['zigsfktz', 'ajznsepy', 'qjcjxppw', 'psgncmup', 'yqmdhoik']\n",
      "fr: 2020-09-08 00:00:00 , to: 2020-09-19 13:46:39\n",
      "frs: ['2020-09-08 00:00:00', '2020-09-10 07:33:20', '2020-09-12 15:06:40', '2020-09-14 22:40:00', '2020-09-17 06:13:20']\n",
      "tos: ['2020-09-10 07:33:19', '2020-09-12 15:06:39', '2020-09-14 22:39:59', '2020-09-17 06:13:19', '2020-09-19 13:46:39']\n",
      "types: ['csv', 'csv', 'csv', 'csv', 'csv']\n",
      "time_col: time , datetime_format: %Y-%m-%d %H:%M:%S\n",
      "piece_name_len: 8\n",
      "colnames: ['time', 'day'] , row_cnt: 1000000\n",
      "row_cnts: [200000, 200000, 200000, 200000, 200000]\n",
      "actions: ['', '', '', '', ''] , action_params: [None, None, None, None, None]\n",
      "cache: [3, 4, 0] , cache_config: {'rows_in_cache': None, 'len_of_cache': 3}\n",
      "546224\n"
     ]
    }
   ],
   "source": [
    "B = stsfefs_op4 > tsfefs_\n",
    "stsfefs_op4.print_tsfefs_info()\n",
    "print(sum(B))\n"
   ]
  },
  {
   "cell_type": "code",
   "execution_count": 27,
   "id": "487308cc",
   "metadata": {},
   "outputs": [
    {
     "name": "stdout",
     "output_type": "stream",
     "text": [
      "path: /Users/yeehinleung/Documents/GreekIsGood/Products/TSFEFS/test SafeTSFEFS , name: op4\n",
      "pieces: ['zigsfktz', 'ajznsepy', 'qjcjxppw', 'psgncmup', 'yqmdhoik']\n",
      "fr: 2020-09-08 00:00:00 , to: 2020-09-19 13:46:39\n",
      "frs: ['2020-09-08 00:00:00', '2020-09-10 07:33:20', '2020-09-12 15:06:40', '2020-09-14 22:40:00', '2020-09-17 06:13:20']\n",
      "tos: ['2020-09-10 07:33:19', '2020-09-12 15:06:39', '2020-09-14 22:39:59', '2020-09-17 06:13:19', '2020-09-19 13:46:39']\n",
      "types: ['csv', 'csv', 'csv', 'csv', 'csv']\n",
      "time_col: time , datetime_format: %Y-%m-%d %H:%M:%S\n",
      "piece_name_len: 8\n",
      "colnames: ['time', 'day'] , row_cnt: 1000000\n",
      "row_cnts: [200000, 200000, 200000, 200000, 200000]\n",
      "actions: ['', '', '', '', ''] , action_params: [None, None, None, None, None]\n",
      "cache: [3, 4, 0] , cache_config: {'rows_in_cache': None, 'len_of_cache': 3}\n",
      "453776\n"
     ]
    }
   ],
   "source": [
    "B = stsfefs_op4 < tsfefs_\n",
    "stsfefs_op4.print_tsfefs_info()\n",
    "print(sum(B))\n"
   ]
  },
  {
   "cell_type": "code",
   "execution_count": 28,
   "id": "12741ae9",
   "metadata": {},
   "outputs": [
    {
     "name": "stdout",
     "output_type": "stream",
     "text": [
      "path: /Users/yeehinleung/Documents/GreekIsGood/Products/TSFEFS/test SafeTSFEFS , name: op4\n",
      "pieces: ['zigsfktz', 'ajznsepy', 'qjcjxppw', 'psgncmup', 'yqmdhoik']\n",
      "fr: 2020-09-08 00:00:00 , to: 2020-09-19 13:46:39\n",
      "frs: ['2020-09-08 00:00:00', '2020-09-10 07:33:20', '2020-09-12 15:06:40', '2020-09-14 22:40:00', '2020-09-17 06:13:20']\n",
      "tos: ['2020-09-10 07:33:19', '2020-09-12 15:06:39', '2020-09-14 22:39:59', '2020-09-17 06:13:19', '2020-09-19 13:46:39']\n",
      "types: ['csv', 'csv', 'csv', 'csv', 'csv']\n",
      "time_col: time , datetime_format: %Y-%m-%d %H:%M:%S\n",
      "piece_name_len: 8\n",
      "colnames: ['time', 'day'] , row_cnt: 1000000\n",
      "row_cnts: [200000, 200000, 200000, 200000, 200000]\n",
      "actions: ['', '', '', '', ''] , action_params: [None, None, None, None, None]\n",
      "cache: [3, 4, 0] , cache_config: {'rows_in_cache': None, 'len_of_cache': 3}\n",
      "546224\n"
     ]
    }
   ],
   "source": [
    "B = stsfefs_op4 >= tsfefs_\n",
    "stsfefs_op4.print_tsfefs_info()\n",
    "print(sum(B))\n"
   ]
  },
  {
   "cell_type": "code",
   "execution_count": 29,
   "id": "d79aee4b",
   "metadata": {},
   "outputs": [
    {
     "name": "stdout",
     "output_type": "stream",
     "text": [
      "path: /Users/yeehinleung/Documents/GreekIsGood/Products/TSFEFS/test SafeTSFEFS , name: op4\n",
      "pieces: ['zigsfktz', 'ajznsepy', 'qjcjxppw', 'psgncmup', 'yqmdhoik']\n",
      "fr: 2020-09-08 00:00:00 , to: 2020-09-19 13:46:39\n",
      "frs: ['2020-09-08 00:00:00', '2020-09-10 07:33:20', '2020-09-12 15:06:40', '2020-09-14 22:40:00', '2020-09-17 06:13:20']\n",
      "tos: ['2020-09-10 07:33:19', '2020-09-12 15:06:39', '2020-09-14 22:39:59', '2020-09-17 06:13:19', '2020-09-19 13:46:39']\n",
      "types: ['csv', 'csv', 'csv', 'csv', 'csv']\n",
      "time_col: time , datetime_format: %Y-%m-%d %H:%M:%S\n",
      "piece_name_len: 8\n",
      "colnames: ['time', 'day'] , row_cnt: 1000000\n",
      "row_cnts: [200000, 200000, 200000, 200000, 200000]\n",
      "actions: ['', '', '', '', ''] , action_params: [None, None, None, None, None]\n",
      "cache: [3, 4, 0] , cache_config: {'rows_in_cache': None, 'len_of_cache': 3}\n",
      "453776\n"
     ]
    }
   ],
   "source": [
    "B = stsfefs_op4 <= tsfefs_\n",
    "stsfefs_op4.print_tsfefs_info()\n",
    "print(sum(B))\n"
   ]
  },
  {
   "cell_type": "code",
   "execution_count": 30,
   "id": "fa262a73",
   "metadata": {},
   "outputs": [
    {
     "name": "stdout",
     "output_type": "stream",
     "text": [
      "path: /Users/yeehinleung/Documents/GreekIsGood/Products/TSFEFS/test SafeTSFEFS , name: op4\n",
      "pieces: ['zigsfktz', 'ajznsepy', 'qjcjxppw', 'psgncmup', 'yqmdhoik']\n",
      "fr: 2020-09-08 00:00:00 , to: 2020-09-19 13:46:39\n",
      "frs: ['2020-09-08 00:00:00', '2020-09-10 07:33:20', '2020-09-12 15:06:40', '2020-09-14 22:40:00', '2020-09-17 06:13:20']\n",
      "tos: ['2020-09-10 07:33:19', '2020-09-12 15:06:39', '2020-09-14 22:39:59', '2020-09-17 06:13:19', '2020-09-19 13:46:39']\n",
      "types: ['csv', 'csv', 'csv', 'csv', 'csv']\n",
      "time_col: time , datetime_format: %Y-%m-%d %H:%M:%S\n",
      "piece_name_len: 8\n",
      "colnames: ['time', 'day'] , row_cnt: 1000000\n",
      "row_cnts: [200000, 200000, 200000, 200000, 200000]\n",
      "actions: ['', '', '', '', ''] , action_params: [None, None, None, None, None]\n",
      "cache: [3, 4, 0] , cache_config: {'rows_in_cache': None, 'len_of_cache': 3}\n",
      "0\n"
     ]
    }
   ],
   "source": [
    "B = stsfefs_op4 == tsfefs_\n",
    "stsfefs_op4.print_tsfefs_info()\n",
    "print(sum(B))\n"
   ]
  },
  {
   "cell_type": "code",
   "execution_count": 31,
   "id": "3043e9b0",
   "metadata": {},
   "outputs": [
    {
     "name": "stdout",
     "output_type": "stream",
     "text": [
      "path: /Users/yeehinleung/Documents/GreekIsGood/Products/TSFEFS/test SafeTSFEFS , name: op4\n",
      "pieces: ['zigsfktz', 'ajznsepy', 'qjcjxppw', 'psgncmup', 'yqmdhoik']\n",
      "fr: 2020-09-08 00:00:00 , to: 2020-09-19 13:46:39\n",
      "frs: ['2020-09-08 00:00:00', '2020-09-10 07:33:20', '2020-09-12 15:06:40', '2020-09-14 22:40:00', '2020-09-17 06:13:20']\n",
      "tos: ['2020-09-10 07:33:19', '2020-09-12 15:06:39', '2020-09-14 22:39:59', '2020-09-17 06:13:19', '2020-09-19 13:46:39']\n",
      "types: ['csv', 'csv', 'csv', 'csv', 'csv']\n",
      "time_col: time , datetime_format: %Y-%m-%d %H:%M:%S\n",
      "piece_name_len: 8\n",
      "colnames: ['time', 'day'] , row_cnt: 1000000\n",
      "row_cnts: [200000, 200000, 200000, 200000, 200000]\n",
      "actions: ['', '', '', '', ''] , action_params: [None, None, None, None, None]\n",
      "cache: [3, 4, 0] , cache_config: {'rows_in_cache': None, 'len_of_cache': 3}\n",
      "1000000\n"
     ]
    }
   ],
   "source": [
    "B = stsfefs_op4 != tsfefs_\n",
    "stsfefs_op4.print_tsfefs_info()\n",
    "print(sum(B))\n"
   ]
  },
  {
   "cell_type": "markdown",
   "id": "ea59fdcc",
   "metadata": {},
   "source": [
    " "
   ]
  },
  {
   "cell_type": "markdown",
   "id": "96102157",
   "metadata": {},
   "source": [
    "# 5. stsfefs [>,<,>=,<=,==,!=] stsfefs2 \n"
   ]
  },
  {
   "cell_type": "code",
   "execution_count": 32,
   "id": "d3290bd4",
   "metadata": {},
   "outputs": [
    {
     "name": "stdout",
     "output_type": "stream",
     "text": [
      "path: /Users/yeehinleung/Documents/GreekIsGood/Products/TSFEFS/test SafeTSFEFS , name: _\n",
      "pieces: ['naczlnme', 'dldfvwzv', 'ddatswwt', 'deuthsud', 'kkhgwsgu']\n",
      "fr: 2019-09-01 00:00:00 , to: 2021-07-26 10:39:00\n",
      "frs: ['2019-09-01 00:00:00', '2020-01-17 21:20:00', '2020-06-04 18:40:00', '2020-10-21 16:00:00', '2021-03-09 13:20:00']\n",
      "tos: ['2020-01-17 21:19:00', '2020-06-04 18:39:00', '2020-10-21 15:59:00', '2021-03-09 13:19:00', '2021-07-26 10:39:00']\n",
      "types: ['csv', 'csv', 'csv', 'csv', 'csv']\n",
      "time_col: time , datetime_format: %Y-%m-%d %H:%M:%S\n",
      "piece_name_len: 8\n",
      "colnames: ['time'] , row_cnt: 1000000\n",
      "row_cnts: [200000, 200000, 200000, 200000, 200000]\n",
      "actions: ['', '', '', '', ''] , action_params: [None, None, None, None, None]\n",
      "cache: [3, 4, 0] , cache_config: {'rows_in_cache': None, 'len_of_cache': 3}\n"
     ]
    }
   ],
   "source": [
    "stsfefs_ = SafeTSFEFS(path=os.getcwd(), name=\"_\", tsfefs=tsfefs_)\n",
    "stsfefs_.print_tsfefs_info()\n"
   ]
  },
  {
   "cell_type": "code",
   "execution_count": 33,
   "id": "f675c3c4",
   "metadata": {},
   "outputs": [
    {
     "name": "stdout",
     "output_type": "stream",
     "text": [
      "path: /Users/yeehinleung/Documents/GreekIsGood/Products/TSFEFS/test SafeTSFEFS , name: op5\n",
      "pieces: ['zigsfktz', 'ajznsepy', 'qjcjxppw', 'psgncmup', 'yqmdhoik']\n",
      "fr: 2020-09-08 00:00:00 , to: 2020-09-19 13:46:39\n",
      "frs: ['2020-09-08 00:00:00', '2020-09-10 07:33:20', '2020-09-12 15:06:40', '2020-09-14 22:40:00', '2020-09-17 06:13:20']\n",
      "tos: ['2020-09-10 07:33:19', '2020-09-12 15:06:39', '2020-09-14 22:39:59', '2020-09-17 06:13:19', '2020-09-19 13:46:39']\n",
      "types: ['csv', 'csv', 'csv', 'csv', 'csv']\n",
      "time_col: time , datetime_format: %Y-%m-%d %H:%M:%S\n",
      "piece_name_len: 8\n",
      "colnames: ['time', 'day'] , row_cnt: 1000000\n",
      "row_cnts: [200000, 200000, 200000, 200000, 200000]\n",
      "actions: ['', '', '', '', ''] , action_params: [None, None, None, None, None]\n",
      "cache: [3, 4, 0] , cache_config: {'rows_in_cache': None, 'len_of_cache': 3}\n",
      "546224\n"
     ]
    }
   ],
   "source": [
    "B = stsfefs_op5 > stsfefs_\n",
    "stsfefs_op5.print_tsfefs_info()\n",
    "print(sum(B))\n"
   ]
  },
  {
   "cell_type": "code",
   "execution_count": 34,
   "id": "dd5226be",
   "metadata": {},
   "outputs": [
    {
     "name": "stdout",
     "output_type": "stream",
     "text": [
      "path: /Users/yeehinleung/Documents/GreekIsGood/Products/TSFEFS/test SafeTSFEFS , name: op5\n",
      "pieces: ['zigsfktz', 'ajznsepy', 'qjcjxppw', 'psgncmup', 'yqmdhoik']\n",
      "fr: 2020-09-08 00:00:00 , to: 2020-09-19 13:46:39\n",
      "frs: ['2020-09-08 00:00:00', '2020-09-10 07:33:20', '2020-09-12 15:06:40', '2020-09-14 22:40:00', '2020-09-17 06:13:20']\n",
      "tos: ['2020-09-10 07:33:19', '2020-09-12 15:06:39', '2020-09-14 22:39:59', '2020-09-17 06:13:19', '2020-09-19 13:46:39']\n",
      "types: ['csv', 'csv', 'csv', 'csv', 'csv']\n",
      "time_col: time , datetime_format: %Y-%m-%d %H:%M:%S\n",
      "piece_name_len: 8\n",
      "colnames: ['time', 'day'] , row_cnt: 1000000\n",
      "row_cnts: [200000, 200000, 200000, 200000, 200000]\n",
      "actions: ['', '', '', '', ''] , action_params: [None, None, None, None, None]\n",
      "cache: [3, 4, 0] , cache_config: {'rows_in_cache': None, 'len_of_cache': 3}\n",
      "453776\n"
     ]
    }
   ],
   "source": [
    "B = stsfefs_op5 < stsfefs_\n",
    "stsfefs_op5.print_tsfefs_info()\n",
    "print(sum(B))\n"
   ]
  },
  {
   "cell_type": "code",
   "execution_count": 35,
   "id": "4e311287",
   "metadata": {},
   "outputs": [
    {
     "name": "stdout",
     "output_type": "stream",
     "text": [
      "path: /Users/yeehinleung/Documents/GreekIsGood/Products/TSFEFS/test SafeTSFEFS , name: op5\n",
      "pieces: ['zigsfktz', 'ajznsepy', 'qjcjxppw', 'psgncmup', 'yqmdhoik']\n",
      "fr: 2020-09-08 00:00:00 , to: 2020-09-19 13:46:39\n",
      "frs: ['2020-09-08 00:00:00', '2020-09-10 07:33:20', '2020-09-12 15:06:40', '2020-09-14 22:40:00', '2020-09-17 06:13:20']\n",
      "tos: ['2020-09-10 07:33:19', '2020-09-12 15:06:39', '2020-09-14 22:39:59', '2020-09-17 06:13:19', '2020-09-19 13:46:39']\n",
      "types: ['csv', 'csv', 'csv', 'csv', 'csv']\n",
      "time_col: time , datetime_format: %Y-%m-%d %H:%M:%S\n",
      "piece_name_len: 8\n",
      "colnames: ['time', 'day'] , row_cnt: 1000000\n",
      "row_cnts: [200000, 200000, 200000, 200000, 200000]\n",
      "actions: ['', '', '', '', ''] , action_params: [None, None, None, None, None]\n",
      "cache: [3, 4, 0] , cache_config: {'rows_in_cache': None, 'len_of_cache': 3}\n",
      "546224\n"
     ]
    }
   ],
   "source": [
    "B = stsfefs_op5 >= stsfefs_\n",
    "stsfefs_op5.print_tsfefs_info()\n",
    "print(sum(B))\n"
   ]
  },
  {
   "cell_type": "code",
   "execution_count": 36,
   "id": "d27ec7ad",
   "metadata": {},
   "outputs": [
    {
     "name": "stdout",
     "output_type": "stream",
     "text": [
      "path: /Users/yeehinleung/Documents/GreekIsGood/Products/TSFEFS/test SafeTSFEFS , name: op5\n",
      "pieces: ['zigsfktz', 'ajznsepy', 'qjcjxppw', 'psgncmup', 'yqmdhoik']\n",
      "fr: 2020-09-08 00:00:00 , to: 2020-09-19 13:46:39\n",
      "frs: ['2020-09-08 00:00:00', '2020-09-10 07:33:20', '2020-09-12 15:06:40', '2020-09-14 22:40:00', '2020-09-17 06:13:20']\n",
      "tos: ['2020-09-10 07:33:19', '2020-09-12 15:06:39', '2020-09-14 22:39:59', '2020-09-17 06:13:19', '2020-09-19 13:46:39']\n",
      "types: ['csv', 'csv', 'csv', 'csv', 'csv']\n",
      "time_col: time , datetime_format: %Y-%m-%d %H:%M:%S\n",
      "piece_name_len: 8\n",
      "colnames: ['time', 'day'] , row_cnt: 1000000\n",
      "row_cnts: [200000, 200000, 200000, 200000, 200000]\n",
      "actions: ['', '', '', '', ''] , action_params: [None, None, None, None, None]\n",
      "cache: [3, 4, 0] , cache_config: {'rows_in_cache': None, 'len_of_cache': 3}\n",
      "453776\n"
     ]
    }
   ],
   "source": [
    "B = stsfefs_op5 <= stsfefs_\n",
    "stsfefs_op5.print_tsfefs_info()\n",
    "print(sum(B))\n"
   ]
  },
  {
   "cell_type": "code",
   "execution_count": 37,
   "id": "fad624de",
   "metadata": {},
   "outputs": [
    {
     "name": "stdout",
     "output_type": "stream",
     "text": [
      "path: /Users/yeehinleung/Documents/GreekIsGood/Products/TSFEFS/test SafeTSFEFS , name: op5\n",
      "pieces: ['zigsfktz', 'ajznsepy', 'qjcjxppw', 'psgncmup', 'yqmdhoik']\n",
      "fr: 2020-09-08 00:00:00 , to: 2020-09-19 13:46:39\n",
      "frs: ['2020-09-08 00:00:00', '2020-09-10 07:33:20', '2020-09-12 15:06:40', '2020-09-14 22:40:00', '2020-09-17 06:13:20']\n",
      "tos: ['2020-09-10 07:33:19', '2020-09-12 15:06:39', '2020-09-14 22:39:59', '2020-09-17 06:13:19', '2020-09-19 13:46:39']\n",
      "types: ['csv', 'csv', 'csv', 'csv', 'csv']\n",
      "time_col: time , datetime_format: %Y-%m-%d %H:%M:%S\n",
      "piece_name_len: 8\n",
      "colnames: ['time', 'day'] , row_cnt: 1000000\n",
      "row_cnts: [200000, 200000, 200000, 200000, 200000]\n",
      "actions: ['', '', '', '', ''] , action_params: [None, None, None, None, None]\n",
      "cache: [3, 4, 0] , cache_config: {'rows_in_cache': None, 'len_of_cache': 3}\n",
      "0\n"
     ]
    }
   ],
   "source": [
    "B = stsfefs_op5 == stsfefs_\n",
    "stsfefs_op5.print_tsfefs_info()\n",
    "print(sum(B))\n"
   ]
  },
  {
   "cell_type": "code",
   "execution_count": 38,
   "id": "6c4b19bf",
   "metadata": {},
   "outputs": [
    {
     "name": "stdout",
     "output_type": "stream",
     "text": [
      "path: /Users/yeehinleung/Documents/GreekIsGood/Products/TSFEFS/test SafeTSFEFS , name: op5\n",
      "pieces: ['zigsfktz', 'ajznsepy', 'qjcjxppw', 'psgncmup', 'yqmdhoik']\n",
      "fr: 2020-09-08 00:00:00 , to: 2020-09-19 13:46:39\n",
      "frs: ['2020-09-08 00:00:00', '2020-09-10 07:33:20', '2020-09-12 15:06:40', '2020-09-14 22:40:00', '2020-09-17 06:13:20']\n",
      "tos: ['2020-09-10 07:33:19', '2020-09-12 15:06:39', '2020-09-14 22:39:59', '2020-09-17 06:13:19', '2020-09-19 13:46:39']\n",
      "types: ['csv', 'csv', 'csv', 'csv', 'csv']\n",
      "time_col: time , datetime_format: %Y-%m-%d %H:%M:%S\n",
      "piece_name_len: 8\n",
      "colnames: ['time', 'day'] , row_cnt: 1000000\n",
      "row_cnts: [200000, 200000, 200000, 200000, 200000]\n",
      "actions: ['', '', '', '', ''] , action_params: [None, None, None, None, None]\n",
      "cache: [3, 4, 0] , cache_config: {'rows_in_cache': None, 'len_of_cache': 3}\n",
      "1000000\n"
     ]
    }
   ],
   "source": [
    "B = stsfefs_op5 != stsfefs_\n",
    "stsfefs_op5.print_tsfefs_info()\n",
    "print(sum(B))\n"
   ]
  },
  {
   "cell_type": "markdown",
   "id": "df3bf72a",
   "metadata": {},
   "source": [
    " "
   ]
  },
  {
   "cell_type": "markdown",
   "id": "8b11a352",
   "metadata": {},
   "source": [
    " "
   ]
  },
  {
   "cell_type": "markdown",
   "id": "b2585e41",
   "metadata": {},
   "source": [
    " "
   ]
  },
  {
   "cell_type": "markdown",
   "id": "781ea3a9",
   "metadata": {},
   "source": [
    " "
   ]
  },
  {
   "cell_type": "markdown",
   "id": "aec22edf",
   "metadata": {},
   "source": [
    " "
   ]
  },
  {
   "cell_type": "code",
   "execution_count": 39,
   "id": "e2f881ac",
   "metadata": {},
   "outputs": [],
   "source": [
    "stsfefs_.remove()\n",
    "\n",
    "stsfefs_op5.remove()\n",
    "stsfefs_op4.remove()\n",
    "stsfefs_op3.remove()\n",
    "stsfefs_op2.remove()\n",
    "stsfefs_op1.remove()\n",
    "\n",
    "stsfefs_base.remove()\n"
   ]
  },
  {
   "cell_type": "markdown",
   "id": "fe42b0c2",
   "metadata": {},
   "source": [
    " "
   ]
  }
 ],
 "metadata": {
  "kernelspec": {
   "display_name": "Python 3 (ipykernel)",
   "language": "python",
   "name": "python3"
  },
  "language_info": {
   "codemirror_mode": {
    "name": "ipython",
    "version": 3
   },
   "file_extension": ".py",
   "mimetype": "text/x-python",
   "name": "python",
   "nbconvert_exporter": "python",
   "pygments_lexer": "ipython3",
   "version": "3.10.5"
  }
 },
 "nbformat": 4,
 "nbformat_minor": 5
}
