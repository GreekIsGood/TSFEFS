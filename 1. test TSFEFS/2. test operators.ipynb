{
 "cells": [
  {
   "cell_type": "code",
   "execution_count": 1,
   "id": "581ac914",
   "metadata": {},
   "outputs": [],
   "source": [
    "import pandas as pd\n",
    "import numpy as np\n",
    "from datetime import datetime as dt, timedelta as td\n",
    "\n",
    "import json\n",
    "import random\n",
    "import string\n",
    "\n",
    "from copy import deepcopy as dc\n",
    "import os\n",
    "\n",
    "from TSFEFS import *\n"
   ]
  },
  {
   "cell_type": "code",
   "execution_count": 2,
   "id": "0ac20b4e",
   "metadata": {},
   "outputs": [],
   "source": [
    "dict_meta = {\n",
    "    \"piece_name_len\": 8,\n",
    "    \"seq_col\": \"time\", \"datetime_format\": \"%Y-%m-%d %H:%M:%S\", \n",
    "    \"max_row_per_piece\": 400000,\n",
    "    \"colnames\":[\"time\"],\n",
    "    \"cache_config\":{\"rows_in_cache\":None,\"len_of_cache\":3}\n",
    "}\n"
   ]
  },
  {
   "cell_type": "code",
   "execution_count": 3,
   "id": "56a1bc1c",
   "metadata": {},
   "outputs": [],
   "source": [
    "ts = \"2020-09-08 00:00:00\"\n",
    "datetime_format = \"%Y-%m-%d %H:%M:%S\"\n",
    "ts = dt.strptime(ts, datetime_format)\n",
    "tss = [ ts + td(seconds=i) for i in range(10**6)]\n",
    "df = pd.DataFrame({\"time\":tss})\n"
   ]
  },
  {
   "cell_type": "code",
   "execution_count": 4,
   "id": "4a06c6ab",
   "metadata": {},
   "outputs": [
    {
     "name": "stdout",
     "output_type": "stream",
     "text": [
      "op_base.tsfefs created?: False\n",
      "path: /Users/yeehinleung/Documents/GreekIsGood/Products/repos/TSFEFS/1. test TSFEFS , name: op_base\n",
      "pieces: ['moznhala', 'isyplvcx', 'rlqgynvf', 'gcvtdllh', 'quspvezw']\n",
      "types: ['csv', 'csv', 'csv', 'csv', 'csv']\n",
      "fr: None , to: None\n",
      "frs: [None, None, None, None, None]\n",
      "tos: [None, None, None, None, None]\n",
      "seq_col: time\n",
      "piece_name_len: 8\n",
      "colnames: ['time'] , row_cnt: None\n",
      "row_cnts: [None, None, None, None, None]\n",
      "actions: ['update', 'update', 'update', 'update', 'update'] , action_params: [None, None, None, None, None]\n",
      "cache: [1, 2, 3, 4, 0] , cache_config: {'rows_in_cache': None, 'len_of_cache': 3}\n",
      "dfs: ['Non-emtpy', 'Non-emtpy', 'Non-emtpy', 'Non-emtpy', 'Non-emtpy']\n",
      "datetime_format: %Y-%m-%d %H:%M:%S\n",
      "seq_col dtype used in read_csv: <class 'str'>\n",
      "seq_col date type (in tuple): (<class 'datetime.datetime'>, <class 'pandas._libs.tslibs.timestamps.Timestamp'>)\n"
     ]
    }
   ],
   "source": [
    "tsfefs_base = TSFEFS.create(dict_meta, \"op_base\")\n",
    "tsfefs_base.import_dataframe(df)\n",
    "print(\"op_base.tsfefs created?:\", os.path.isdir(\"op_base.tsfefs\"))\n",
    "# printing info will prompt error.\n",
    "# import_dataframe() must be followed by take_actions()\n",
    "try:\n",
    "    tsfefs_base.print_info()\n",
    "except Exception as error:\n",
    "    print(error)\n",
    "\n"
   ]
  },
  {
   "cell_type": "code",
   "execution_count": 5,
   "id": "6abb5761",
   "metadata": {},
   "outputs": [
    {
     "name": "stdout",
     "output_type": "stream",
     "text": [
      "path: /Users/yeehinleung/Documents/GreekIsGood/Products/repos/TSFEFS/1. test TSFEFS , name: op_base\n",
      "pieces: ['moznhala', 'isyplvcx', 'rlqgynvf', 'gcvtdllh', 'quspvezw']\n",
      "types: ['csv', 'csv', 'csv', 'csv', 'csv']\n",
      "fr: 2020-09-08 00:00:00 , to: 2020-09-19 13:46:39\n",
      "frs: ['2020-09-08 00:00:00', '2020-09-10 07:33:20', '2020-09-12 15:06:40', '2020-09-14 22:40:00', '2020-09-17 06:13:20']\n",
      "tos: ['2020-09-10 07:33:19', '2020-09-12 15:06:39', '2020-09-14 22:39:59', '2020-09-17 06:13:19', '2020-09-19 13:46:39']\n",
      "seq_col: time\n",
      "piece_name_len: 8\n",
      "colnames: ['time'] , row_cnt: 1000000\n",
      "row_cnts: [200000, 200000, 200000, 200000, 200000]\n",
      "actions: ['save', 'save', 'save', 'save', 'save'] , action_params: [None, None, None, None, None]\n",
      "cache: [1, 2, 3, 4, 0] , cache_config: {'rows_in_cache': None, 'len_of_cache': 3}\n",
      "dfs: ['Non-emtpy', 'Non-emtpy', 'Non-emtpy', 'Non-emtpy', 'Non-emtpy']\n",
      "datetime_format: %Y-%m-%d %H:%M:%S\n",
      "seq_col dtype used in read_csv: <class 'str'>\n",
      "seq_col date type (in tuple): (<class 'datetime.datetime'>, <class 'pandas._libs.tslibs.timestamps.Timestamp'>)\n",
      "op_base.tsfefs created?: False\n"
     ]
    }
   ],
   "source": [
    "tsfefs_base.take_actions(max_level=0) # level:update\n",
    "tsfefs_base.print_info()\n",
    "print(\"op_base.tsfefs created?:\", os.path.isdir(\"op_base.tsfefs\"))\n"
   ]
  },
  {
   "cell_type": "code",
   "execution_count": 6,
   "id": "0e75c60e",
   "metadata": {},
   "outputs": [
    {
     "name": "stdout",
     "output_type": "stream",
     "text": [
      "path: /Users/yeehinleung/Documents/GreekIsGood/Products/repos/TSFEFS/1. test TSFEFS , name: op_base\n",
      "pieces: ['moznhala', 'isyplvcx', 'rlqgynvf', 'gcvtdllh', 'quspvezw']\n",
      "types: ['csv', 'csv', 'csv', 'csv', 'csv']\n",
      "fr: 2020-09-08 00:00:00 , to: 2020-09-19 13:46:39\n",
      "frs: ['2020-09-08 00:00:00', '2020-09-10 07:33:20', '2020-09-12 15:06:40', '2020-09-14 22:40:00', '2020-09-17 06:13:20']\n",
      "tos: ['2020-09-10 07:33:19', '2020-09-12 15:06:39', '2020-09-14 22:39:59', '2020-09-17 06:13:19', '2020-09-19 13:46:39']\n",
      "seq_col: time\n",
      "piece_name_len: 8\n",
      "colnames: ['time'] , row_cnt: 1000000\n",
      "row_cnts: [200000, 200000, 200000, 200000, 200000]\n",
      "actions: ['', '', '', '', ''] , action_params: [None, None, None, None, None]\n",
      "cache: [1, 2, 3, 4, 0] , cache_config: {'rows_in_cache': None, 'len_of_cache': 3}\n",
      "dfs: ['Non-emtpy', 'Non-emtpy', 'Non-emtpy', 'Non-emtpy', 'Non-emtpy']\n",
      "datetime_format: %Y-%m-%d %H:%M:%S\n",
      "seq_col dtype used in read_csv: <class 'str'>\n",
      "seq_col date type (in tuple): (<class 'datetime.datetime'>, <class 'pandas._libs.tslibs.timestamps.Timestamp'>)\n",
      "op_base.tsfefs created?: True\n"
     ]
    }
   ],
   "source": [
    "tsfefs_base.take_actions(max_level=3) # level:save\n",
    "tsfefs_base.print_info()\n",
    "print(\"op_base.tsfefs created?:\", os.path.isdir(\"op_base.tsfefs\"))\n"
   ]
  },
  {
   "cell_type": "markdown",
   "id": "7b6d52f7",
   "metadata": {},
   "source": [
    "#### Reduce cache to see the test cases will make any change to the cache."
   ]
  },
  {
   "cell_type": "code",
   "execution_count": 7,
   "id": "6f09bcc1",
   "metadata": {},
   "outputs": [
    {
     "name": "stdout",
     "output_type": "stream",
     "text": [
      "path: /Users/yeehinleung/Documents/GreekIsGood/Products/repos/TSFEFS/1. test TSFEFS , name: op_base\n",
      "pieces: ['moznhala', 'isyplvcx', 'rlqgynvf', 'gcvtdllh', 'quspvezw']\n",
      "types: ['csv', 'csv', 'csv', 'csv', 'csv']\n",
      "fr: 2020-09-08 00:00:00 , to: 2020-09-19 13:46:39\n",
      "frs: ['2020-09-08 00:00:00', '2020-09-10 07:33:20', '2020-09-12 15:06:40', '2020-09-14 22:40:00', '2020-09-17 06:13:20']\n",
      "tos: ['2020-09-10 07:33:19', '2020-09-12 15:06:39', '2020-09-14 22:39:59', '2020-09-17 06:13:19', '2020-09-19 13:46:39']\n",
      "seq_col: time\n",
      "piece_name_len: 8\n",
      "colnames: ['time'] , row_cnt: 1000000\n",
      "row_cnts: [200000, 200000, 200000, 200000, 200000]\n",
      "actions: ['', '', '', '', ''] , action_params: [None, None, None, None, None]\n",
      "cache: [3, 4, 0] , cache_config: {'rows_in_cache': None, 'len_of_cache': 3}\n",
      "dfs: ['Non-emtpy', None, None, 'Non-emtpy', 'Non-emtpy']\n",
      "datetime_format: %Y-%m-%d %H:%M:%S\n",
      "seq_col dtype used in read_csv: <class 'str'>\n",
      "seq_col date type (in tuple): (<class 'datetime.datetime'>, <class 'pandas._libs.tslibs.timestamps.Timestamp'>)\n"
     ]
    }
   ],
   "source": [
    "tsfefs_base.resolve_conflict()\n",
    "tsfefs_base.take_actions(max_level=3)\n",
    "tsfefs_base.maintain_cache()\n",
    "tsfefs_base.print_info()\n"
   ]
  },
  {
   "cell_type": "markdown",
   "id": "b104e6ec",
   "metadata": {},
   "source": [
    " "
   ]
  },
  {
   "cell_type": "markdown",
   "id": "6b53ec82",
   "metadata": {},
   "source": [
    " "
   ]
  },
  {
   "cell_type": "markdown",
   "id": "d5d394a5",
   "metadata": {},
   "source": [
    "### The following test cases,\n",
    "###  - copy from base,\n",
    "###  - maintain_cache() for each,\n",
    "###  - check consistencies of cache, actions, etc.\n",
    "\n"
   ]
  },
  {
   "cell_type": "markdown",
   "id": "b1dd46dd",
   "metadata": {},
   "source": [
    "# 1. tsfefs [>,<,>=,<=,==,!=] ts\n",
    "# 2. tsfefs [>,<,>=,<=,==,!=] pd.Series\n",
    "# 3. tsfefs [>,<,>=,<=,==,!=] df\n",
    "# 4. tsfefs [>,<,>=,<=,==,!=] tsfefs2 \n"
   ]
  },
  {
   "cell_type": "markdown",
   "id": "ebd199e6",
   "metadata": {},
   "source": [
    " "
   ]
  },
  {
   "cell_type": "code",
   "execution_count": 8,
   "id": "a2855628",
   "metadata": {},
   "outputs": [],
   "source": [
    "tsfefs_op1 = tsfefs_base.clone(tsfefs_base.path, \"op1\")\n",
    "tsfefs_op2 = tsfefs_base.clone(tsfefs_base.path, \"op2\")\n",
    "tsfefs_op3 = tsfefs_base.clone(tsfefs_base.path, \"op3\")\n",
    "tsfefs_op4 = tsfefs_base.clone(tsfefs_base.path, \"op4\")\n",
    "\n",
    "tsfefs_base.remove()\n",
    "del tsfefs_base; tsfefs_base = None\n"
   ]
  },
  {
   "cell_type": "markdown",
   "id": "abaf3f5f",
   "metadata": {},
   "source": [
    "# 1. tsfefs [>,<,>=,<=,==,!=] ts"
   ]
  },
  {
   "cell_type": "code",
   "execution_count": 9,
   "id": "07c79cf8",
   "metadata": {},
   "outputs": [
    {
     "name": "stdout",
     "output_type": "stream",
     "text": [
      "path: /Users/yeehinleung/Documents/GreekIsGood/Products/repos/TSFEFS/1. test TSFEFS , name: op1\n",
      "pieces: ['moznhala', 'isyplvcx', 'rlqgynvf', 'gcvtdllh', 'quspvezw']\n",
      "types: ['csv', 'csv', 'csv', 'csv', 'csv']\n",
      "fr: 2020-09-08 00:00:00 , to: 2020-09-19 13:46:39\n",
      "frs: ['2020-09-08 00:00:00', '2020-09-10 07:33:20', '2020-09-12 15:06:40', '2020-09-14 22:40:00', '2020-09-17 06:13:20']\n",
      "tos: ['2020-09-10 07:33:19', '2020-09-12 15:06:39', '2020-09-14 22:39:59', '2020-09-17 06:13:19', '2020-09-19 13:46:39']\n",
      "seq_col: time\n",
      "piece_name_len: 8\n",
      "colnames: ['time'] , row_cnt: 1000000\n",
      "row_cnts: [200000, 200000, 200000, 200000, 200000]\n",
      "actions: ['save', '', '', 'save', 'save'] , action_params: [None, None, None, None, None]\n",
      "cache: [3, 4, 0] , cache_config: {'rows_in_cache': None, 'len_of_cache': 3}\n",
      "dfs: ['Non-emtpy', None, None, 'Non-emtpy', 'Non-emtpy']\n",
      "datetime_format: %Y-%m-%d %H:%M:%S\n",
      "seq_col dtype used in read_csv: <class 'str'>\n",
      "seq_col date type (in tuple): (<class 'datetime.datetime'>, <class 'pandas._libs.tslibs.timestamps.Timestamp'>)\n",
      "567999\n"
     ]
    }
   ],
   "source": [
    "# Should be within idx = 6\n",
    "ts = dt.strptime(\"2020-09-13 00:00:00\",tsfefs_op1.datetime_format)\n",
    "B = tsfefs_op1 > ts\n",
    "tsfefs_op1.print_info()\n",
    "print(sum(B))\n"
   ]
  },
  {
   "cell_type": "code",
   "execution_count": 10,
   "id": "d7b2e354",
   "metadata": {},
   "outputs": [
    {
     "name": "stdout",
     "output_type": "stream",
     "text": [
      "path: /Users/yeehinleung/Documents/GreekIsGood/Products/repos/TSFEFS/1. test TSFEFS , name: op1\n",
      "pieces: ['moznhala', 'isyplvcx', 'rlqgynvf', 'gcvtdllh', 'quspvezw']\n",
      "types: ['csv', 'csv', 'csv', 'csv', 'csv']\n",
      "fr: 2020-09-08 00:00:00 , to: 2020-09-19 13:46:39\n",
      "frs: ['2020-09-08 00:00:00', '2020-09-10 07:33:20', '2020-09-12 15:06:40', '2020-09-14 22:40:00', '2020-09-17 06:13:20']\n",
      "tos: ['2020-09-10 07:33:19', '2020-09-12 15:06:39', '2020-09-14 22:39:59', '2020-09-17 06:13:19', '2020-09-19 13:46:39']\n",
      "seq_col: time\n",
      "piece_name_len: 8\n",
      "colnames: ['time'] , row_cnt: 1000000\n",
      "row_cnts: [200000, 200000, 200000, 200000, 200000]\n",
      "actions: ['save', '', '', 'save', 'save'] , action_params: [None, None, None, None, None]\n",
      "cache: [3, 4, 0] , cache_config: {'rows_in_cache': None, 'len_of_cache': 3}\n",
      "dfs: ['Non-emtpy', None, None, 'Non-emtpy', 'Non-emtpy']\n",
      "datetime_format: %Y-%m-%d %H:%M:%S\n",
      "seq_col dtype used in read_csv: <class 'str'>\n",
      "seq_col date type (in tuple): (<class 'datetime.datetime'>, <class 'pandas._libs.tslibs.timestamps.Timestamp'>)\n",
      "432000\n"
     ]
    }
   ],
   "source": [
    "B = tsfefs_op1 < ts\n",
    "tsfefs_op1.print_info()\n",
    "print(sum(B))\n"
   ]
  },
  {
   "cell_type": "code",
   "execution_count": 11,
   "id": "8d38d0ff",
   "metadata": {},
   "outputs": [
    {
     "name": "stdout",
     "output_type": "stream",
     "text": [
      "path: /Users/yeehinleung/Documents/GreekIsGood/Products/repos/TSFEFS/1. test TSFEFS , name: op1\n",
      "pieces: ['moznhala', 'isyplvcx', 'rlqgynvf', 'gcvtdllh', 'quspvezw']\n",
      "types: ['csv', 'csv', 'csv', 'csv', 'csv']\n",
      "fr: 2020-09-08 00:00:00 , to: 2020-09-19 13:46:39\n",
      "frs: ['2020-09-08 00:00:00', '2020-09-10 07:33:20', '2020-09-12 15:06:40', '2020-09-14 22:40:00', '2020-09-17 06:13:20']\n",
      "tos: ['2020-09-10 07:33:19', '2020-09-12 15:06:39', '2020-09-14 22:39:59', '2020-09-17 06:13:19', '2020-09-19 13:46:39']\n",
      "seq_col: time\n",
      "piece_name_len: 8\n",
      "colnames: ['time'] , row_cnt: 1000000\n",
      "row_cnts: [200000, 200000, 200000, 200000, 200000]\n",
      "actions: ['save', '', '', 'save', 'save'] , action_params: [None, None, None, None, None]\n",
      "cache: [3, 4, 0] , cache_config: {'rows_in_cache': None, 'len_of_cache': 3}\n",
      "dfs: ['Non-emtpy', None, None, 'Non-emtpy', 'Non-emtpy']\n",
      "datetime_format: %Y-%m-%d %H:%M:%S\n",
      "seq_col dtype used in read_csv: <class 'str'>\n",
      "seq_col date type (in tuple): (<class 'datetime.datetime'>, <class 'pandas._libs.tslibs.timestamps.Timestamp'>)\n",
      "568000\n"
     ]
    }
   ],
   "source": [
    "B = tsfefs_op1 >= ts\n",
    "tsfefs_op1.print_info()\n",
    "print(sum(B))\n"
   ]
  },
  {
   "cell_type": "code",
   "execution_count": 12,
   "id": "4f4409e4",
   "metadata": {},
   "outputs": [
    {
     "name": "stdout",
     "output_type": "stream",
     "text": [
      "path: /Users/yeehinleung/Documents/GreekIsGood/Products/repos/TSFEFS/1. test TSFEFS , name: op1\n",
      "pieces: ['moznhala', 'isyplvcx', 'rlqgynvf', 'gcvtdllh', 'quspvezw']\n",
      "types: ['csv', 'csv', 'csv', 'csv', 'csv']\n",
      "fr: 2020-09-08 00:00:00 , to: 2020-09-19 13:46:39\n",
      "frs: ['2020-09-08 00:00:00', '2020-09-10 07:33:20', '2020-09-12 15:06:40', '2020-09-14 22:40:00', '2020-09-17 06:13:20']\n",
      "tos: ['2020-09-10 07:33:19', '2020-09-12 15:06:39', '2020-09-14 22:39:59', '2020-09-17 06:13:19', '2020-09-19 13:46:39']\n",
      "seq_col: time\n",
      "piece_name_len: 8\n",
      "colnames: ['time'] , row_cnt: 1000000\n",
      "row_cnts: [200000, 200000, 200000, 200000, 200000]\n",
      "actions: ['save', '', '', 'save', 'save'] , action_params: [None, None, None, None, None]\n",
      "cache: [3, 4, 0] , cache_config: {'rows_in_cache': None, 'len_of_cache': 3}\n",
      "dfs: ['Non-emtpy', None, None, 'Non-emtpy', 'Non-emtpy']\n",
      "datetime_format: %Y-%m-%d %H:%M:%S\n",
      "seq_col dtype used in read_csv: <class 'str'>\n",
      "seq_col date type (in tuple): (<class 'datetime.datetime'>, <class 'pandas._libs.tslibs.timestamps.Timestamp'>)\n",
      "432001\n"
     ]
    }
   ],
   "source": [
    "B = tsfefs_op1 <= ts\n",
    "tsfefs_op1.print_info()\n",
    "print(sum(B))\n"
   ]
  },
  {
   "cell_type": "code",
   "execution_count": 13,
   "id": "38543b44",
   "metadata": {},
   "outputs": [
    {
     "name": "stdout",
     "output_type": "stream",
     "text": [
      "path: /Users/yeehinleung/Documents/GreekIsGood/Products/repos/TSFEFS/1. test TSFEFS , name: op1\n",
      "pieces: ['moznhala', 'isyplvcx', 'rlqgynvf', 'gcvtdllh', 'quspvezw']\n",
      "types: ['csv', 'csv', 'csv', 'csv', 'csv']\n",
      "fr: 2020-09-08 00:00:00 , to: 2020-09-19 13:46:39\n",
      "frs: ['2020-09-08 00:00:00', '2020-09-10 07:33:20', '2020-09-12 15:06:40', '2020-09-14 22:40:00', '2020-09-17 06:13:20']\n",
      "tos: ['2020-09-10 07:33:19', '2020-09-12 15:06:39', '2020-09-14 22:39:59', '2020-09-17 06:13:19', '2020-09-19 13:46:39']\n",
      "seq_col: time\n",
      "piece_name_len: 8\n",
      "colnames: ['time'] , row_cnt: 1000000\n",
      "row_cnts: [200000, 200000, 200000, 200000, 200000]\n",
      "actions: ['save', '', '', 'save', 'save'] , action_params: [None, None, None, None, None]\n",
      "cache: [3, 4, 0] , cache_config: {'rows_in_cache': None, 'len_of_cache': 3}\n",
      "dfs: ['Non-emtpy', None, None, 'Non-emtpy', 'Non-emtpy']\n",
      "datetime_format: %Y-%m-%d %H:%M:%S\n",
      "seq_col dtype used in read_csv: <class 'str'>\n",
      "seq_col date type (in tuple): (<class 'datetime.datetime'>, <class 'pandas._libs.tslibs.timestamps.Timestamp'>)\n",
      "1\n"
     ]
    }
   ],
   "source": [
    "B = tsfefs_op1 == ts\n",
    "tsfefs_op1.print_info()\n",
    "print(sum(B))\n"
   ]
  },
  {
   "cell_type": "code",
   "execution_count": 14,
   "id": "bef9d5d6",
   "metadata": {},
   "outputs": [
    {
     "name": "stdout",
     "output_type": "stream",
     "text": [
      "path: /Users/yeehinleung/Documents/GreekIsGood/Products/repos/TSFEFS/1. test TSFEFS , name: op1\n",
      "pieces: ['moznhala', 'isyplvcx', 'rlqgynvf', 'gcvtdllh', 'quspvezw']\n",
      "types: ['csv', 'csv', 'csv', 'csv', 'csv']\n",
      "fr: 2020-09-08 00:00:00 , to: 2020-09-19 13:46:39\n",
      "frs: ['2020-09-08 00:00:00', '2020-09-10 07:33:20', '2020-09-12 15:06:40', '2020-09-14 22:40:00', '2020-09-17 06:13:20']\n",
      "tos: ['2020-09-10 07:33:19', '2020-09-12 15:06:39', '2020-09-14 22:39:59', '2020-09-17 06:13:19', '2020-09-19 13:46:39']\n",
      "seq_col: time\n",
      "piece_name_len: 8\n",
      "colnames: ['time'] , row_cnt: 1000000\n",
      "row_cnts: [200000, 200000, 200000, 200000, 200000]\n",
      "actions: ['save', '', '', 'save', 'save'] , action_params: [None, None, None, None, None]\n",
      "cache: [3, 4, 0] , cache_config: {'rows_in_cache': None, 'len_of_cache': 3}\n",
      "dfs: ['Non-emtpy', None, None, 'Non-emtpy', 'Non-emtpy']\n",
      "datetime_format: %Y-%m-%d %H:%M:%S\n",
      "seq_col dtype used in read_csv: <class 'str'>\n",
      "seq_col date type (in tuple): (<class 'datetime.datetime'>, <class 'pandas._libs.tslibs.timestamps.Timestamp'>)\n",
      "999999\n"
     ]
    }
   ],
   "source": [
    "B = tsfefs_op1 != ts\n",
    "tsfefs_op1.print_info()\n",
    "print(sum(B))\n"
   ]
  },
  {
   "cell_type": "markdown",
   "id": "a749d3d2",
   "metadata": {},
   "source": [
    "# 2. tsfefs [>,<,>=,<=,==,!=] pd.Series\n"
   ]
  },
  {
   "cell_type": "code",
   "execution_count": 15,
   "id": "4653b1b4",
   "metadata": {},
   "outputs": [],
   "source": [
    "ts = \"2019-09-01 00:00:00\"\n",
    "datetime_format = \"%Y-%m-%d %H:%M:%S\"\n",
    "ts = dt.strptime(ts, datetime_format)\n",
    "tss = [ ts + td(seconds=i*60) for i in range(10**6) ]\n",
    "S = pd.Series(tss)\n"
   ]
  },
  {
   "cell_type": "code",
   "execution_count": 16,
   "id": "356f9d26",
   "metadata": {},
   "outputs": [
    {
     "name": "stdout",
     "output_type": "stream",
     "text": [
      "path: /Users/yeehinleung/Documents/GreekIsGood/Products/repos/TSFEFS/1. test TSFEFS , name: op2\n",
      "pieces: ['moznhala', 'isyplvcx', 'rlqgynvf', 'gcvtdllh', 'quspvezw']\n",
      "types: ['csv', 'csv', 'csv', 'csv', 'csv']\n",
      "fr: 2020-09-08 00:00:00 , to: 2020-09-19 13:46:39\n",
      "frs: ['2020-09-08 00:00:00', '2020-09-10 07:33:20', '2020-09-12 15:06:40', '2020-09-14 22:40:00', '2020-09-17 06:13:20']\n",
      "tos: ['2020-09-10 07:33:19', '2020-09-12 15:06:39', '2020-09-14 22:39:59', '2020-09-17 06:13:19', '2020-09-19 13:46:39']\n",
      "seq_col: time\n",
      "piece_name_len: 8\n",
      "colnames: ['time'] , row_cnt: 1000000\n",
      "row_cnts: [200000, 200000, 200000, 200000, 200000]\n",
      "actions: ['save', '', '', 'save', 'save'] , action_params: [None, None, None, None, None]\n",
      "cache: [3, 4, 0] , cache_config: {'rows_in_cache': None, 'len_of_cache': 3}\n",
      "dfs: ['Non-emtpy', None, None, 'Non-emtpy', 'Non-emtpy']\n",
      "datetime_format: %Y-%m-%d %H:%M:%S\n",
      "seq_col dtype used in read_csv: <class 'str'>\n",
      "seq_col date type (in tuple): (<class 'datetime.datetime'>, <class 'pandas._libs.tslibs.timestamps.Timestamp'>)\n",
      "546224\n"
     ]
    }
   ],
   "source": [
    "B = tsfefs_op2 > S\n",
    "tsfefs_op2.print_info()\n",
    "print(sum(B))\n"
   ]
  },
  {
   "cell_type": "code",
   "execution_count": 17,
   "id": "a88cadf6",
   "metadata": {},
   "outputs": [
    {
     "name": "stdout",
     "output_type": "stream",
     "text": [
      "path: /Users/yeehinleung/Documents/GreekIsGood/Products/repos/TSFEFS/1. test TSFEFS , name: op2\n",
      "pieces: ['moznhala', 'isyplvcx', 'rlqgynvf', 'gcvtdllh', 'quspvezw']\n",
      "types: ['csv', 'csv', 'csv', 'csv', 'csv']\n",
      "fr: 2020-09-08 00:00:00 , to: 2020-09-19 13:46:39\n",
      "frs: ['2020-09-08 00:00:00', '2020-09-10 07:33:20', '2020-09-12 15:06:40', '2020-09-14 22:40:00', '2020-09-17 06:13:20']\n",
      "tos: ['2020-09-10 07:33:19', '2020-09-12 15:06:39', '2020-09-14 22:39:59', '2020-09-17 06:13:19', '2020-09-19 13:46:39']\n",
      "seq_col: time\n",
      "piece_name_len: 8\n",
      "colnames: ['time'] , row_cnt: 1000000\n",
      "row_cnts: [200000, 200000, 200000, 200000, 200000]\n",
      "actions: ['save', '', '', 'save', 'save'] , action_params: [None, None, None, None, None]\n",
      "cache: [3, 4, 0] , cache_config: {'rows_in_cache': None, 'len_of_cache': 3}\n",
      "dfs: ['Non-emtpy', None, None, 'Non-emtpy', 'Non-emtpy']\n",
      "datetime_format: %Y-%m-%d %H:%M:%S\n",
      "seq_col dtype used in read_csv: <class 'str'>\n",
      "seq_col date type (in tuple): (<class 'datetime.datetime'>, <class 'pandas._libs.tslibs.timestamps.Timestamp'>)\n",
      "453776\n"
     ]
    }
   ],
   "source": [
    "B = tsfefs_op2 < S\n",
    "tsfefs_op2.print_info()\n",
    "print(sum(B))\n"
   ]
  },
  {
   "cell_type": "code",
   "execution_count": 18,
   "id": "0f58c2a2",
   "metadata": {},
   "outputs": [
    {
     "name": "stdout",
     "output_type": "stream",
     "text": [
      "path: /Users/yeehinleung/Documents/GreekIsGood/Products/repos/TSFEFS/1. test TSFEFS , name: op2\n",
      "pieces: ['moznhala', 'isyplvcx', 'rlqgynvf', 'gcvtdllh', 'quspvezw']\n",
      "types: ['csv', 'csv', 'csv', 'csv', 'csv']\n",
      "fr: 2020-09-08 00:00:00 , to: 2020-09-19 13:46:39\n",
      "frs: ['2020-09-08 00:00:00', '2020-09-10 07:33:20', '2020-09-12 15:06:40', '2020-09-14 22:40:00', '2020-09-17 06:13:20']\n",
      "tos: ['2020-09-10 07:33:19', '2020-09-12 15:06:39', '2020-09-14 22:39:59', '2020-09-17 06:13:19', '2020-09-19 13:46:39']\n",
      "seq_col: time\n",
      "piece_name_len: 8\n",
      "colnames: ['time'] , row_cnt: 1000000\n",
      "row_cnts: [200000, 200000, 200000, 200000, 200000]\n",
      "actions: ['save', '', '', 'save', 'save'] , action_params: [None, None, None, None, None]\n",
      "cache: [3, 4, 0] , cache_config: {'rows_in_cache': None, 'len_of_cache': 3}\n",
      "dfs: ['Non-emtpy', None, None, 'Non-emtpy', 'Non-emtpy']\n",
      "datetime_format: %Y-%m-%d %H:%M:%S\n",
      "seq_col dtype used in read_csv: <class 'str'>\n",
      "seq_col date type (in tuple): (<class 'datetime.datetime'>, <class 'pandas._libs.tslibs.timestamps.Timestamp'>)\n",
      "546224\n"
     ]
    }
   ],
   "source": [
    "B = tsfefs_op2 >= S\n",
    "tsfefs_op2.print_info()\n",
    "print(sum(B))\n"
   ]
  },
  {
   "cell_type": "code",
   "execution_count": 19,
   "id": "1dac92b8",
   "metadata": {},
   "outputs": [
    {
     "name": "stdout",
     "output_type": "stream",
     "text": [
      "path: /Users/yeehinleung/Documents/GreekIsGood/Products/repos/TSFEFS/1. test TSFEFS , name: op2\n",
      "pieces: ['moznhala', 'isyplvcx', 'rlqgynvf', 'gcvtdllh', 'quspvezw']\n",
      "types: ['csv', 'csv', 'csv', 'csv', 'csv']\n",
      "fr: 2020-09-08 00:00:00 , to: 2020-09-19 13:46:39\n",
      "frs: ['2020-09-08 00:00:00', '2020-09-10 07:33:20', '2020-09-12 15:06:40', '2020-09-14 22:40:00', '2020-09-17 06:13:20']\n",
      "tos: ['2020-09-10 07:33:19', '2020-09-12 15:06:39', '2020-09-14 22:39:59', '2020-09-17 06:13:19', '2020-09-19 13:46:39']\n",
      "seq_col: time\n",
      "piece_name_len: 8\n",
      "colnames: ['time'] , row_cnt: 1000000\n",
      "row_cnts: [200000, 200000, 200000, 200000, 200000]\n",
      "actions: ['save', '', '', 'save', 'save'] , action_params: [None, None, None, None, None]\n",
      "cache: [3, 4, 0] , cache_config: {'rows_in_cache': None, 'len_of_cache': 3}\n",
      "dfs: ['Non-emtpy', None, None, 'Non-emtpy', 'Non-emtpy']\n",
      "datetime_format: %Y-%m-%d %H:%M:%S\n",
      "seq_col dtype used in read_csv: <class 'str'>\n",
      "seq_col date type (in tuple): (<class 'datetime.datetime'>, <class 'pandas._libs.tslibs.timestamps.Timestamp'>)\n",
      "453776\n"
     ]
    }
   ],
   "source": [
    "B = tsfefs_op2 <= S\n",
    "tsfefs_op2.print_info()\n",
    "print(sum(B))\n"
   ]
  },
  {
   "cell_type": "code",
   "execution_count": 20,
   "id": "f65ba89e",
   "metadata": {},
   "outputs": [
    {
     "name": "stdout",
     "output_type": "stream",
     "text": [
      "path: /Users/yeehinleung/Documents/GreekIsGood/Products/repos/TSFEFS/1. test TSFEFS , name: op2\n",
      "pieces: ['moznhala', 'isyplvcx', 'rlqgynvf', 'gcvtdllh', 'quspvezw']\n",
      "types: ['csv', 'csv', 'csv', 'csv', 'csv']\n",
      "fr: 2020-09-08 00:00:00 , to: 2020-09-19 13:46:39\n",
      "frs: ['2020-09-08 00:00:00', '2020-09-10 07:33:20', '2020-09-12 15:06:40', '2020-09-14 22:40:00', '2020-09-17 06:13:20']\n",
      "tos: ['2020-09-10 07:33:19', '2020-09-12 15:06:39', '2020-09-14 22:39:59', '2020-09-17 06:13:19', '2020-09-19 13:46:39']\n",
      "seq_col: time\n",
      "piece_name_len: 8\n",
      "colnames: ['time'] , row_cnt: 1000000\n",
      "row_cnts: [200000, 200000, 200000, 200000, 200000]\n",
      "actions: ['save', '', '', 'save', 'save'] , action_params: [None, None, None, None, None]\n",
      "cache: [3, 4, 0] , cache_config: {'rows_in_cache': None, 'len_of_cache': 3}\n",
      "dfs: ['Non-emtpy', None, None, 'Non-emtpy', 'Non-emtpy']\n",
      "datetime_format: %Y-%m-%d %H:%M:%S\n",
      "seq_col dtype used in read_csv: <class 'str'>\n",
      "seq_col date type (in tuple): (<class 'datetime.datetime'>, <class 'pandas._libs.tslibs.timestamps.Timestamp'>)\n",
      "0\n"
     ]
    }
   ],
   "source": [
    "B = tsfefs_op2 == S\n",
    "tsfefs_op2.print_info()\n",
    "print(sum(B))\n"
   ]
  },
  {
   "cell_type": "code",
   "execution_count": 21,
   "id": "7041ad36",
   "metadata": {},
   "outputs": [
    {
     "name": "stdout",
     "output_type": "stream",
     "text": [
      "path: /Users/yeehinleung/Documents/GreekIsGood/Products/repos/TSFEFS/1. test TSFEFS , name: op2\n",
      "pieces: ['moznhala', 'isyplvcx', 'rlqgynvf', 'gcvtdllh', 'quspvezw']\n",
      "types: ['csv', 'csv', 'csv', 'csv', 'csv']\n",
      "fr: 2020-09-08 00:00:00 , to: 2020-09-19 13:46:39\n",
      "frs: ['2020-09-08 00:00:00', '2020-09-10 07:33:20', '2020-09-12 15:06:40', '2020-09-14 22:40:00', '2020-09-17 06:13:20']\n",
      "tos: ['2020-09-10 07:33:19', '2020-09-12 15:06:39', '2020-09-14 22:39:59', '2020-09-17 06:13:19', '2020-09-19 13:46:39']\n",
      "seq_col: time\n",
      "piece_name_len: 8\n",
      "colnames: ['time'] , row_cnt: 1000000\n",
      "row_cnts: [200000, 200000, 200000, 200000, 200000]\n",
      "actions: ['save', '', '', 'save', 'save'] , action_params: [None, None, None, None, None]\n",
      "cache: [3, 4, 0] , cache_config: {'rows_in_cache': None, 'len_of_cache': 3}\n",
      "dfs: ['Non-emtpy', None, None, 'Non-emtpy', 'Non-emtpy']\n",
      "datetime_format: %Y-%m-%d %H:%M:%S\n",
      "seq_col dtype used in read_csv: <class 'str'>\n",
      "seq_col date type (in tuple): (<class 'datetime.datetime'>, <class 'pandas._libs.tslibs.timestamps.Timestamp'>)\n",
      "1000000\n"
     ]
    }
   ],
   "source": [
    "B = tsfefs_op2 != S\n",
    "tsfefs_op2.print_info()\n",
    "print(sum(B))\n"
   ]
  },
  {
   "cell_type": "markdown",
   "id": "b344a91e",
   "metadata": {},
   "source": [
    "# 3. tsfefs [>,<,>=,<=,==,!=] df\n"
   ]
  },
  {
   "cell_type": "code",
   "execution_count": 22,
   "id": "0af50faf",
   "metadata": {},
   "outputs": [
    {
     "name": "stdout",
     "output_type": "stream",
     "text": [
      "path: /Users/yeehinleung/Documents/GreekIsGood/Products/repos/TSFEFS/1. test TSFEFS , name: op3\n",
      "pieces: ['moznhala', 'isyplvcx', 'rlqgynvf', 'gcvtdllh', 'quspvezw']\n",
      "types: ['csv', 'csv', 'csv', 'csv', 'csv']\n",
      "fr: 2020-09-08 00:00:00 , to: 2020-09-19 13:46:39\n",
      "frs: ['2020-09-08 00:00:00', '2020-09-10 07:33:20', '2020-09-12 15:06:40', '2020-09-14 22:40:00', '2020-09-17 06:13:20']\n",
      "tos: ['2020-09-10 07:33:19', '2020-09-12 15:06:39', '2020-09-14 22:39:59', '2020-09-17 06:13:19', '2020-09-19 13:46:39']\n",
      "seq_col: time\n",
      "piece_name_len: 8\n",
      "colnames: ['time'] , row_cnt: 1000000\n",
      "row_cnts: [200000, 200000, 200000, 200000, 200000]\n",
      "actions: ['save', '', '', 'save', 'save'] , action_params: [None, None, None, None, None]\n",
      "cache: [3, 4, 0] , cache_config: {'rows_in_cache': None, 'len_of_cache': 3}\n",
      "dfs: ['Non-emtpy', None, None, 'Non-emtpy', 'Non-emtpy']\n",
      "datetime_format: %Y-%m-%d %H:%M:%S\n",
      "seq_col dtype used in read_csv: <class 'str'>\n",
      "seq_col date type (in tuple): (<class 'datetime.datetime'>, <class 'pandas._libs.tslibs.timestamps.Timestamp'>)\n",
      "546224\n"
     ]
    }
   ],
   "source": [
    "df = pd.DataFrame({tsfefs_op3.seq_col:tss})\n",
    "B = tsfefs_op3 > df\n",
    "tsfefs_op3.print_info()\n",
    "print(sum(B))\n"
   ]
  },
  {
   "cell_type": "code",
   "execution_count": 23,
   "id": "e5256d5c",
   "metadata": {},
   "outputs": [
    {
     "name": "stdout",
     "output_type": "stream",
     "text": [
      "path: /Users/yeehinleung/Documents/GreekIsGood/Products/repos/TSFEFS/1. test TSFEFS , name: op3\n",
      "pieces: ['moznhala', 'isyplvcx', 'rlqgynvf', 'gcvtdllh', 'quspvezw']\n",
      "types: ['csv', 'csv', 'csv', 'csv', 'csv']\n",
      "fr: 2020-09-08 00:00:00 , to: 2020-09-19 13:46:39\n",
      "frs: ['2020-09-08 00:00:00', '2020-09-10 07:33:20', '2020-09-12 15:06:40', '2020-09-14 22:40:00', '2020-09-17 06:13:20']\n",
      "tos: ['2020-09-10 07:33:19', '2020-09-12 15:06:39', '2020-09-14 22:39:59', '2020-09-17 06:13:19', '2020-09-19 13:46:39']\n",
      "seq_col: time\n",
      "piece_name_len: 8\n",
      "colnames: ['time'] , row_cnt: 1000000\n",
      "row_cnts: [200000, 200000, 200000, 200000, 200000]\n",
      "actions: ['save', '', '', 'save', 'save'] , action_params: [None, None, None, None, None]\n",
      "cache: [3, 4, 0] , cache_config: {'rows_in_cache': None, 'len_of_cache': 3}\n",
      "dfs: ['Non-emtpy', None, None, 'Non-emtpy', 'Non-emtpy']\n",
      "datetime_format: %Y-%m-%d %H:%M:%S\n",
      "seq_col dtype used in read_csv: <class 'str'>\n",
      "seq_col date type (in tuple): (<class 'datetime.datetime'>, <class 'pandas._libs.tslibs.timestamps.Timestamp'>)\n",
      "453776\n"
     ]
    }
   ],
   "source": [
    "B = tsfefs_op3 < df\n",
    "tsfefs_op3.print_info()\n",
    "print(sum(B))\n"
   ]
  },
  {
   "cell_type": "code",
   "execution_count": 24,
   "id": "10323bd0",
   "metadata": {},
   "outputs": [
    {
     "name": "stdout",
     "output_type": "stream",
     "text": [
      "path: /Users/yeehinleung/Documents/GreekIsGood/Products/repos/TSFEFS/1. test TSFEFS , name: op3\n",
      "pieces: ['moznhala', 'isyplvcx', 'rlqgynvf', 'gcvtdllh', 'quspvezw']\n",
      "types: ['csv', 'csv', 'csv', 'csv', 'csv']\n",
      "fr: 2020-09-08 00:00:00 , to: 2020-09-19 13:46:39\n",
      "frs: ['2020-09-08 00:00:00', '2020-09-10 07:33:20', '2020-09-12 15:06:40', '2020-09-14 22:40:00', '2020-09-17 06:13:20']\n",
      "tos: ['2020-09-10 07:33:19', '2020-09-12 15:06:39', '2020-09-14 22:39:59', '2020-09-17 06:13:19', '2020-09-19 13:46:39']\n",
      "seq_col: time\n",
      "piece_name_len: 8\n",
      "colnames: ['time'] , row_cnt: 1000000\n",
      "row_cnts: [200000, 200000, 200000, 200000, 200000]\n",
      "actions: ['save', '', '', 'save', 'save'] , action_params: [None, None, None, None, None]\n",
      "cache: [3, 4, 0] , cache_config: {'rows_in_cache': None, 'len_of_cache': 3}\n",
      "dfs: ['Non-emtpy', None, None, 'Non-emtpy', 'Non-emtpy']\n",
      "datetime_format: %Y-%m-%d %H:%M:%S\n",
      "seq_col dtype used in read_csv: <class 'str'>\n",
      "seq_col date type (in tuple): (<class 'datetime.datetime'>, <class 'pandas._libs.tslibs.timestamps.Timestamp'>)\n",
      "546224\n"
     ]
    }
   ],
   "source": [
    "B = tsfefs_op3 >= df\n",
    "tsfefs_op3.print_info()\n",
    "print(sum(B))\n"
   ]
  },
  {
   "cell_type": "code",
   "execution_count": 25,
   "id": "4d553441",
   "metadata": {},
   "outputs": [
    {
     "name": "stdout",
     "output_type": "stream",
     "text": [
      "path: /Users/yeehinleung/Documents/GreekIsGood/Products/repos/TSFEFS/1. test TSFEFS , name: op3\n",
      "pieces: ['moznhala', 'isyplvcx', 'rlqgynvf', 'gcvtdllh', 'quspvezw']\n",
      "types: ['csv', 'csv', 'csv', 'csv', 'csv']\n",
      "fr: 2020-09-08 00:00:00 , to: 2020-09-19 13:46:39\n",
      "frs: ['2020-09-08 00:00:00', '2020-09-10 07:33:20', '2020-09-12 15:06:40', '2020-09-14 22:40:00', '2020-09-17 06:13:20']\n",
      "tos: ['2020-09-10 07:33:19', '2020-09-12 15:06:39', '2020-09-14 22:39:59', '2020-09-17 06:13:19', '2020-09-19 13:46:39']\n",
      "seq_col: time\n",
      "piece_name_len: 8\n",
      "colnames: ['time'] , row_cnt: 1000000\n",
      "row_cnts: [200000, 200000, 200000, 200000, 200000]\n",
      "actions: ['save', '', '', 'save', 'save'] , action_params: [None, None, None, None, None]\n",
      "cache: [3, 4, 0] , cache_config: {'rows_in_cache': None, 'len_of_cache': 3}\n",
      "dfs: ['Non-emtpy', None, None, 'Non-emtpy', 'Non-emtpy']\n",
      "datetime_format: %Y-%m-%d %H:%M:%S\n",
      "seq_col dtype used in read_csv: <class 'str'>\n",
      "seq_col date type (in tuple): (<class 'datetime.datetime'>, <class 'pandas._libs.tslibs.timestamps.Timestamp'>)\n",
      "453776\n"
     ]
    }
   ],
   "source": [
    "B = tsfefs_op3 <= df\n",
    "tsfefs_op3.print_info()\n",
    "print(sum(B))\n"
   ]
  },
  {
   "cell_type": "code",
   "execution_count": 26,
   "id": "f9703a77",
   "metadata": {},
   "outputs": [
    {
     "name": "stdout",
     "output_type": "stream",
     "text": [
      "path: /Users/yeehinleung/Documents/GreekIsGood/Products/repos/TSFEFS/1. test TSFEFS , name: op3\n",
      "pieces: ['moznhala', 'isyplvcx', 'rlqgynvf', 'gcvtdllh', 'quspvezw']\n",
      "types: ['csv', 'csv', 'csv', 'csv', 'csv']\n",
      "fr: 2020-09-08 00:00:00 , to: 2020-09-19 13:46:39\n",
      "frs: ['2020-09-08 00:00:00', '2020-09-10 07:33:20', '2020-09-12 15:06:40', '2020-09-14 22:40:00', '2020-09-17 06:13:20']\n",
      "tos: ['2020-09-10 07:33:19', '2020-09-12 15:06:39', '2020-09-14 22:39:59', '2020-09-17 06:13:19', '2020-09-19 13:46:39']\n",
      "seq_col: time\n",
      "piece_name_len: 8\n",
      "colnames: ['time'] , row_cnt: 1000000\n",
      "row_cnts: [200000, 200000, 200000, 200000, 200000]\n",
      "actions: ['save', '', '', 'save', 'save'] , action_params: [None, None, None, None, None]\n",
      "cache: [3, 4, 0] , cache_config: {'rows_in_cache': None, 'len_of_cache': 3}\n",
      "dfs: ['Non-emtpy', None, None, 'Non-emtpy', 'Non-emtpy']\n",
      "datetime_format: %Y-%m-%d %H:%M:%S\n",
      "seq_col dtype used in read_csv: <class 'str'>\n",
      "seq_col date type (in tuple): (<class 'datetime.datetime'>, <class 'pandas._libs.tslibs.timestamps.Timestamp'>)\n",
      "0\n"
     ]
    }
   ],
   "source": [
    "B = tsfefs_op3 == df\n",
    "tsfefs_op3.print_info()\n",
    "print(sum(B))\n"
   ]
  },
  {
   "cell_type": "code",
   "execution_count": 27,
   "id": "13bf28ea",
   "metadata": {},
   "outputs": [
    {
     "name": "stdout",
     "output_type": "stream",
     "text": [
      "path: /Users/yeehinleung/Documents/GreekIsGood/Products/repos/TSFEFS/1. test TSFEFS , name: op3\n",
      "pieces: ['moznhala', 'isyplvcx', 'rlqgynvf', 'gcvtdllh', 'quspvezw']\n",
      "types: ['csv', 'csv', 'csv', 'csv', 'csv']\n",
      "fr: 2020-09-08 00:00:00 , to: 2020-09-19 13:46:39\n",
      "frs: ['2020-09-08 00:00:00', '2020-09-10 07:33:20', '2020-09-12 15:06:40', '2020-09-14 22:40:00', '2020-09-17 06:13:20']\n",
      "tos: ['2020-09-10 07:33:19', '2020-09-12 15:06:39', '2020-09-14 22:39:59', '2020-09-17 06:13:19', '2020-09-19 13:46:39']\n",
      "seq_col: time\n",
      "piece_name_len: 8\n",
      "colnames: ['time'] , row_cnt: 1000000\n",
      "row_cnts: [200000, 200000, 200000, 200000, 200000]\n",
      "actions: ['save', '', '', 'save', 'save'] , action_params: [None, None, None, None, None]\n",
      "cache: [3, 4, 0] , cache_config: {'rows_in_cache': None, 'len_of_cache': 3}\n",
      "dfs: ['Non-emtpy', None, None, 'Non-emtpy', 'Non-emtpy']\n",
      "datetime_format: %Y-%m-%d %H:%M:%S\n",
      "seq_col dtype used in read_csv: <class 'str'>\n",
      "seq_col date type (in tuple): (<class 'datetime.datetime'>, <class 'pandas._libs.tslibs.timestamps.Timestamp'>)\n",
      "1000000\n"
     ]
    }
   ],
   "source": [
    "B = tsfefs_op3 != df\n",
    "tsfefs_op3.print_info()\n",
    "print(sum(B))\n"
   ]
  },
  {
   "cell_type": "markdown",
   "id": "b41d7ead",
   "metadata": {},
   "source": [
    "# 4. tsfefs [>,<,>=,<=,==,!=] tsfefs2 \n"
   ]
  },
  {
   "cell_type": "code",
   "execution_count": 28,
   "id": "f569bd91",
   "metadata": {},
   "outputs": [
    {
     "name": "stdout",
     "output_type": "stream",
     "text": [
      "path: /Users/yeehinleung/Documents/GreekIsGood/Products/repos/TSFEFS/1. test TSFEFS , name: _\n",
      "pieces: ['plytzsmf', 'ttndbbsl', 'opylgain', 'mwbhvhfu', 'hzftkagz']\n",
      "types: ['csv', 'csv', 'csv', 'csv', 'csv']\n",
      "fr: 2019-09-01 00:00:00 , to: 2021-07-26 10:39:00\n",
      "frs: ['2019-09-01 00:00:00', '2020-01-17 21:20:00', '2020-06-04 18:40:00', '2020-10-21 16:00:00', '2021-03-09 13:20:00']\n",
      "tos: ['2020-01-17 21:19:00', '2020-06-04 18:39:00', '2020-10-21 15:59:00', '2021-03-09 13:19:00', '2021-07-26 10:39:00']\n",
      "seq_col: time\n",
      "piece_name_len: 8\n",
      "colnames: ['time'] , row_cnt: 1000000\n",
      "row_cnts: [200000, 200000, 200000, 200000, 200000]\n",
      "actions: ['save', 'save', 'save', 'save', 'save'] , action_params: [None, None, None, None, None]\n",
      "cache: [1, 2, 3, 4, 0] , cache_config: {'rows_in_cache': None, 'len_of_cache': 3}\n",
      "dfs: ['Non-emtpy', 'Non-emtpy', 'Non-emtpy', 'Non-emtpy', 'Non-emtpy']\n",
      "datetime_format: %Y-%m-%d %H:%M:%S\n",
      "seq_col dtype used in read_csv: <class 'str'>\n",
      "seq_col date type (in tuple): (<class 'datetime.datetime'>, <class 'pandas._libs.tslibs.timestamps.Timestamp'>)\n"
     ]
    }
   ],
   "source": [
    "tsfefs_ = TSFEFS.create(dict_meta, \"_\")\n",
    "tsfefs_.import_dataframe(df)\n",
    "tsfefs_.take_actions(max_level=0) # level:update\n",
    "tsfefs_.print_info()\n"
   ]
  },
  {
   "cell_type": "code",
   "execution_count": 29,
   "id": "754bb081",
   "metadata": {},
   "outputs": [
    {
     "name": "stdout",
     "output_type": "stream",
     "text": [
      "path: /Users/yeehinleung/Documents/GreekIsGood/Products/repos/TSFEFS/1. test TSFEFS , name: op4\n",
      "pieces: ['moznhala', 'isyplvcx', 'rlqgynvf', 'gcvtdllh', 'quspvezw']\n",
      "types: ['csv', 'csv', 'csv', 'csv', 'csv']\n",
      "fr: 2020-09-08 00:00:00 , to: 2020-09-19 13:46:39\n",
      "frs: ['2020-09-08 00:00:00', '2020-09-10 07:33:20', '2020-09-12 15:06:40', '2020-09-14 22:40:00', '2020-09-17 06:13:20']\n",
      "tos: ['2020-09-10 07:33:19', '2020-09-12 15:06:39', '2020-09-14 22:39:59', '2020-09-17 06:13:19', '2020-09-19 13:46:39']\n",
      "seq_col: time\n",
      "piece_name_len: 8\n",
      "colnames: ['time'] , row_cnt: 1000000\n",
      "row_cnts: [200000, 200000, 200000, 200000, 200000]\n",
      "actions: ['save', '', '', 'save', 'save'] , action_params: [None, None, None, None, None]\n",
      "cache: [3, 4, 0] , cache_config: {'rows_in_cache': None, 'len_of_cache': 3}\n",
      "dfs: ['Non-emtpy', None, None, 'Non-emtpy', 'Non-emtpy']\n",
      "datetime_format: %Y-%m-%d %H:%M:%S\n",
      "seq_col dtype used in read_csv: <class 'str'>\n",
      "seq_col date type (in tuple): (<class 'datetime.datetime'>, <class 'pandas._libs.tslibs.timestamps.Timestamp'>)\n",
      "546224\n"
     ]
    }
   ],
   "source": [
    "B = tsfefs_op4 > tsfefs_\n",
    "tsfefs_op4.print_info()\n",
    "print(sum(B))\n"
   ]
  },
  {
   "cell_type": "code",
   "execution_count": 30,
   "id": "487308cc",
   "metadata": {},
   "outputs": [
    {
     "name": "stdout",
     "output_type": "stream",
     "text": [
      "path: /Users/yeehinleung/Documents/GreekIsGood/Products/repos/TSFEFS/1. test TSFEFS , name: op4\n",
      "pieces: ['moznhala', 'isyplvcx', 'rlqgynvf', 'gcvtdllh', 'quspvezw']\n",
      "types: ['csv', 'csv', 'csv', 'csv', 'csv']\n",
      "fr: 2020-09-08 00:00:00 , to: 2020-09-19 13:46:39\n",
      "frs: ['2020-09-08 00:00:00', '2020-09-10 07:33:20', '2020-09-12 15:06:40', '2020-09-14 22:40:00', '2020-09-17 06:13:20']\n",
      "tos: ['2020-09-10 07:33:19', '2020-09-12 15:06:39', '2020-09-14 22:39:59', '2020-09-17 06:13:19', '2020-09-19 13:46:39']\n",
      "seq_col: time\n",
      "piece_name_len: 8\n",
      "colnames: ['time'] , row_cnt: 1000000\n",
      "row_cnts: [200000, 200000, 200000, 200000, 200000]\n",
      "actions: ['save', '', '', 'save', 'save'] , action_params: [None, None, None, None, None]\n",
      "cache: [3, 4, 0] , cache_config: {'rows_in_cache': None, 'len_of_cache': 3}\n",
      "dfs: ['Non-emtpy', None, None, 'Non-emtpy', 'Non-emtpy']\n",
      "datetime_format: %Y-%m-%d %H:%M:%S\n",
      "seq_col dtype used in read_csv: <class 'str'>\n",
      "seq_col date type (in tuple): (<class 'datetime.datetime'>, <class 'pandas._libs.tslibs.timestamps.Timestamp'>)\n",
      "453776\n"
     ]
    }
   ],
   "source": [
    "B = tsfefs_op4 < tsfefs_\n",
    "tsfefs_op4.print_info()\n",
    "print(sum(B))\n"
   ]
  },
  {
   "cell_type": "code",
   "execution_count": 31,
   "id": "12741ae9",
   "metadata": {},
   "outputs": [
    {
     "name": "stdout",
     "output_type": "stream",
     "text": [
      "path: /Users/yeehinleung/Documents/GreekIsGood/Products/repos/TSFEFS/1. test TSFEFS , name: op4\n",
      "pieces: ['moznhala', 'isyplvcx', 'rlqgynvf', 'gcvtdllh', 'quspvezw']\n",
      "types: ['csv', 'csv', 'csv', 'csv', 'csv']\n",
      "fr: 2020-09-08 00:00:00 , to: 2020-09-19 13:46:39\n",
      "frs: ['2020-09-08 00:00:00', '2020-09-10 07:33:20', '2020-09-12 15:06:40', '2020-09-14 22:40:00', '2020-09-17 06:13:20']\n",
      "tos: ['2020-09-10 07:33:19', '2020-09-12 15:06:39', '2020-09-14 22:39:59', '2020-09-17 06:13:19', '2020-09-19 13:46:39']\n",
      "seq_col: time\n",
      "piece_name_len: 8\n",
      "colnames: ['time'] , row_cnt: 1000000\n",
      "row_cnts: [200000, 200000, 200000, 200000, 200000]\n",
      "actions: ['save', '', '', 'save', 'save'] , action_params: [None, None, None, None, None]\n",
      "cache: [3, 4, 0] , cache_config: {'rows_in_cache': None, 'len_of_cache': 3}\n",
      "dfs: ['Non-emtpy', None, None, 'Non-emtpy', 'Non-emtpy']\n",
      "datetime_format: %Y-%m-%d %H:%M:%S\n",
      "seq_col dtype used in read_csv: <class 'str'>\n",
      "seq_col date type (in tuple): (<class 'datetime.datetime'>, <class 'pandas._libs.tslibs.timestamps.Timestamp'>)\n",
      "546224\n"
     ]
    }
   ],
   "source": [
    "B = tsfefs_op4 >= tsfefs_\n",
    "tsfefs_op4.print_info()\n",
    "print(sum(B))\n"
   ]
  },
  {
   "cell_type": "code",
   "execution_count": 32,
   "id": "d79aee4b",
   "metadata": {},
   "outputs": [
    {
     "name": "stdout",
     "output_type": "stream",
     "text": [
      "path: /Users/yeehinleung/Documents/GreekIsGood/Products/repos/TSFEFS/1. test TSFEFS , name: op4\n",
      "pieces: ['moznhala', 'isyplvcx', 'rlqgynvf', 'gcvtdllh', 'quspvezw']\n",
      "types: ['csv', 'csv', 'csv', 'csv', 'csv']\n",
      "fr: 2020-09-08 00:00:00 , to: 2020-09-19 13:46:39\n",
      "frs: ['2020-09-08 00:00:00', '2020-09-10 07:33:20', '2020-09-12 15:06:40', '2020-09-14 22:40:00', '2020-09-17 06:13:20']\n",
      "tos: ['2020-09-10 07:33:19', '2020-09-12 15:06:39', '2020-09-14 22:39:59', '2020-09-17 06:13:19', '2020-09-19 13:46:39']\n",
      "seq_col: time\n",
      "piece_name_len: 8\n",
      "colnames: ['time'] , row_cnt: 1000000\n",
      "row_cnts: [200000, 200000, 200000, 200000, 200000]\n",
      "actions: ['save', '', '', 'save', 'save'] , action_params: [None, None, None, None, None]\n",
      "cache: [3, 4, 0] , cache_config: {'rows_in_cache': None, 'len_of_cache': 3}\n",
      "dfs: ['Non-emtpy', None, None, 'Non-emtpy', 'Non-emtpy']\n",
      "datetime_format: %Y-%m-%d %H:%M:%S\n",
      "seq_col dtype used in read_csv: <class 'str'>\n",
      "seq_col date type (in tuple): (<class 'datetime.datetime'>, <class 'pandas._libs.tslibs.timestamps.Timestamp'>)\n",
      "453776\n"
     ]
    }
   ],
   "source": [
    "B = tsfefs_op4 <= tsfefs_\n",
    "tsfefs_op4.print_info()\n",
    "print(sum(B))\n"
   ]
  },
  {
   "cell_type": "code",
   "execution_count": 33,
   "id": "fa262a73",
   "metadata": {},
   "outputs": [
    {
     "name": "stdout",
     "output_type": "stream",
     "text": [
      "path: /Users/yeehinleung/Documents/GreekIsGood/Products/repos/TSFEFS/1. test TSFEFS , name: op4\n",
      "pieces: ['moznhala', 'isyplvcx', 'rlqgynvf', 'gcvtdllh', 'quspvezw']\n",
      "types: ['csv', 'csv', 'csv', 'csv', 'csv']\n",
      "fr: 2020-09-08 00:00:00 , to: 2020-09-19 13:46:39\n",
      "frs: ['2020-09-08 00:00:00', '2020-09-10 07:33:20', '2020-09-12 15:06:40', '2020-09-14 22:40:00', '2020-09-17 06:13:20']\n",
      "tos: ['2020-09-10 07:33:19', '2020-09-12 15:06:39', '2020-09-14 22:39:59', '2020-09-17 06:13:19', '2020-09-19 13:46:39']\n",
      "seq_col: time\n",
      "piece_name_len: 8\n",
      "colnames: ['time'] , row_cnt: 1000000\n",
      "row_cnts: [200000, 200000, 200000, 200000, 200000]\n",
      "actions: ['save', '', '', 'save', 'save'] , action_params: [None, None, None, None, None]\n",
      "cache: [3, 4, 0] , cache_config: {'rows_in_cache': None, 'len_of_cache': 3}\n",
      "dfs: ['Non-emtpy', None, None, 'Non-emtpy', 'Non-emtpy']\n",
      "datetime_format: %Y-%m-%d %H:%M:%S\n",
      "seq_col dtype used in read_csv: <class 'str'>\n",
      "seq_col date type (in tuple): (<class 'datetime.datetime'>, <class 'pandas._libs.tslibs.timestamps.Timestamp'>)\n",
      "0\n"
     ]
    }
   ],
   "source": [
    "B = tsfefs_op4 == tsfefs_\n",
    "tsfefs_op4.print_info()\n",
    "print(sum(B))\n"
   ]
  },
  {
   "cell_type": "code",
   "execution_count": 34,
   "id": "3043e9b0",
   "metadata": {},
   "outputs": [
    {
     "name": "stdout",
     "output_type": "stream",
     "text": [
      "path: /Users/yeehinleung/Documents/GreekIsGood/Products/repos/TSFEFS/1. test TSFEFS , name: op4\n",
      "pieces: ['moznhala', 'isyplvcx', 'rlqgynvf', 'gcvtdllh', 'quspvezw']\n",
      "types: ['csv', 'csv', 'csv', 'csv', 'csv']\n",
      "fr: 2020-09-08 00:00:00 , to: 2020-09-19 13:46:39\n",
      "frs: ['2020-09-08 00:00:00', '2020-09-10 07:33:20', '2020-09-12 15:06:40', '2020-09-14 22:40:00', '2020-09-17 06:13:20']\n",
      "tos: ['2020-09-10 07:33:19', '2020-09-12 15:06:39', '2020-09-14 22:39:59', '2020-09-17 06:13:19', '2020-09-19 13:46:39']\n",
      "seq_col: time\n",
      "piece_name_len: 8\n",
      "colnames: ['time'] , row_cnt: 1000000\n",
      "row_cnts: [200000, 200000, 200000, 200000, 200000]\n",
      "actions: ['save', '', '', 'save', 'save'] , action_params: [None, None, None, None, None]\n",
      "cache: [3, 4, 0] , cache_config: {'rows_in_cache': None, 'len_of_cache': 3}\n",
      "dfs: ['Non-emtpy', None, None, 'Non-emtpy', 'Non-emtpy']\n",
      "datetime_format: %Y-%m-%d %H:%M:%S\n",
      "seq_col dtype used in read_csv: <class 'str'>\n",
      "seq_col date type (in tuple): (<class 'datetime.datetime'>, <class 'pandas._libs.tslibs.timestamps.Timestamp'>)\n",
      "1000000\n"
     ]
    }
   ],
   "source": [
    "B = tsfefs_op4 != tsfefs_\n",
    "tsfefs_op4.print_info()\n",
    "print(sum(B))\n"
   ]
  },
  {
   "cell_type": "markdown",
   "id": "ea59fdcc",
   "metadata": {},
   "source": [
    " "
   ]
  },
  {
   "cell_type": "markdown",
   "id": "8b11a352",
   "metadata": {},
   "source": [
    " "
   ]
  },
  {
   "cell_type": "markdown",
   "id": "781ea3a9",
   "metadata": {},
   "source": [
    " "
   ]
  },
  {
   "cell_type": "code",
   "execution_count": 35,
   "id": "e2f881ac",
   "metadata": {},
   "outputs": [],
   "source": [
    "tsfefs_.remove()\n",
    "tsfefs_op4.remove()\n",
    "tsfefs_op3.remove()\n",
    "tsfefs_op2.remove()\n",
    "tsfefs_op1.remove()\n"
   ]
  },
  {
   "cell_type": "markdown",
   "id": "fe42b0c2",
   "metadata": {},
   "source": [
    " "
   ]
  }
 ],
 "metadata": {
  "kernelspec": {
   "display_name": "Python 3 (ipykernel)",
   "language": "python",
   "name": "python3"
  },
  "language_info": {
   "codemirror_mode": {
    "name": "ipython",
    "version": 3
   },
   "file_extension": ".py",
   "mimetype": "text/x-python",
   "name": "python",
   "nbconvert_exporter": "python",
   "pygments_lexer": "ipython3",
   "version": "3.10.5"
  }
 },
 "nbformat": 4,
 "nbformat_minor": 5
}
