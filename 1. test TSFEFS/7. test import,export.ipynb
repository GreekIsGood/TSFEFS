{
 "cells": [
  {
   "cell_type": "code",
   "execution_count": 1,
   "id": "89383a43",
   "metadata": {},
   "outputs": [],
   "source": [
    "import pandas as pd\n",
    "import numpy as np\n",
    "from datetime import datetime as dt, timedelta as td\n",
    "\n",
    "import json\n",
    "import random\n",
    "import string\n",
    "\n",
    "from copy import deepcopy as dc\n",
    "import os\n",
    "\n",
    "from TSFEFS import *\n"
   ]
  },
  {
   "cell_type": "markdown",
   "id": "17466353",
   "metadata": {},
   "source": [
    "# Some of the imports / exports were tested / used in the previous tests.\n",
    "# Nevermind, we'll do all purposely this time."
   ]
  },
  {
   "cell_type": "markdown",
   "id": "18e6e20a",
   "metadata": {},
   "source": [
    " "
   ]
  },
  {
   "cell_type": "markdown",
   "id": "e9943ffd",
   "metadata": {},
   "source": [
    "# Import Test Strategy\n",
    "#  - Create a base, which is a skin with empty content.\n",
    "#  - Each test will clone the skin and import different contents."
   ]
  },
  {
   "cell_type": "code",
   "execution_count": 2,
   "id": "0a380f69",
   "metadata": {},
   "outputs": [],
   "source": [
    "dict_meta = {\n",
    "    \"piece_name_len\": 8,\n",
    "    \"seq_col\": \"time\", \"datetime_format\": \"%Y-%m-%d %H:%M:%S\", \n",
    "    \"max_row_per_piece\": 20000,\n",
    "    \"colnames\":[\"time\",\"day\",\"num\"],\n",
    "    \"cache_config\":{\"rows_in_cache\":None,\"len_of_cache\":3}\n",
    "}\n"
   ]
  },
  {
   "cell_type": "code",
   "execution_count": 3,
   "id": "a97f9c32",
   "metadata": {},
   "outputs": [
    {
     "name": "stdout",
     "output_type": "stream",
     "text": [
      "2020-01-01 00:00:00 2020-01-02 00:00:00\n"
     ]
    }
   ],
   "source": [
    "fr, to = \"2020-01-01 00:00:00\", \"2020-01-02 00:00:00\"\n",
    "fr = dt.strptime(fr,dict_meta[\"datetime_format\"])\n",
    "to = dt.strptime(to,dict_meta[\"datetime_format\"])\n",
    "ts_gap = (to - fr)\n",
    "seconds = ts_gap.seconds + ts_gap.days*24*60*60\n",
    "# print(seconds)\n",
    "\n",
    "tss = [ fr + td(seconds=i) for i in range(seconds+1) ]\n",
    "print(min(tss),max(tss))\n",
    "seq_col = dict_meta[\"seq_col\"]\n",
    "datetime_format = dict_meta[\"datetime_format\"]\n",
    "df = pd.DataFrame({seq_col:tss})\n",
    "df[\"day\"] = df[seq_col].apply(lambda x: int(x.strftime(\"%d\")))\n",
    "df[\"num\"] = df[seq_col].apply(lambda x: int(x.strftime(\"%Y\")) + int(x.strftime(\"%m\")) + int(x.strftime(\"%d\")) \\\n",
    "                     + int(x.strftime(\"%H\")) + int(x.strftime(\"%M\")) + int(x.strftime(\"%S\")))\n"
   ]
  },
  {
   "cell_type": "code",
   "execution_count": 4,
   "id": "b3ba1b5d",
   "metadata": {},
   "outputs": [],
   "source": [
    "tsfefs_base = TSFEFS.create(dict_meta, \"base\")\n"
   ]
  },
  {
   "cell_type": "markdown",
   "id": "64ae717a",
   "metadata": {},
   "source": [
    " "
   ]
  },
  {
   "cell_type": "markdown",
   "id": "0b239d8c",
   "metadata": {},
   "source": [
    "# Import Test Plan\n",
    "# 1. Import by dataframe\n",
    "# 2. Import by srcfile.\n",
    "# 3. Import by srcfolder.\n"
   ]
  },
  {
   "cell_type": "code",
   "execution_count": 5,
   "id": "8e476cd5",
   "metadata": {},
   "outputs": [],
   "source": [
    "tsfefs_im1 = tsfefs_base.clone(tsfefs_base.path, \"im1\")\n",
    "tsfefs_im2 = tsfefs_base.clone(tsfefs_base.path, \"im2\")\n",
    "tsfefs_im3 = tsfefs_base.clone(tsfefs_base.path, \"im3\")\n"
   ]
  },
  {
   "cell_type": "markdown",
   "id": "c09d93be",
   "metadata": {},
   "source": [
    " "
   ]
  },
  {
   "cell_type": "markdown",
   "id": "1b1652f1",
   "metadata": {},
   "source": [
    "# 1. Import by dataframe"
   ]
  },
  {
   "cell_type": "code",
   "execution_count": 6,
   "id": "c85cf025",
   "metadata": {},
   "outputs": [
    {
     "name": "stdout",
     "output_type": "stream",
     "text": [
      "path: /Users/yeehinleung/Documents/GreekIsGood/Products/repos/TSFEFS/1. test TSFEFS , name: im1\n",
      "pieces: ['iazlzalk', 'ulqodnyl', 'mrnbwcwr', 'fuphqnho', 'jwgxtvdd', 'mofjdciu', 'mbvprhqh', 'mbzdlcjn', 'iyxkjcyb']\n",
      "types: ['csv', 'csv', 'csv', 'csv', 'csv', 'csv', 'csv', 'csv', 'csv']\n",
      "fr: 2020-01-01 00:00:00 , to: 2020-01-02 00:00:00\n",
      "frs: [Timestamp('2020-01-01 00:00:00'), None, None, None, None, None, None, None, None]\n",
      "tos: [Timestamp('2020-01-02 00:00:00'), None, None, None, None, None, None, None, None]\n",
      "seq_col: time\n",
      "piece_name_len: 8\n",
      "colnames: ['time', 'day', 'num'] , row_cnt: 86401\n",
      "row_cnts: [86401, None, None, None, None, None, None, None, None]\n",
      "actions: ['update', 'update', 'update', 'update', 'update', 'update', 'update', 'update', 'update'] , action_params: [None, None, None, None, None, None, None, None, None]\n",
      "cache: [1, 2, 3, 4, 5, 6, 7, 8, 0] , cache_config: {'rows_in_cache': None, 'len_of_cache': 3}\n",
      "dfs: ['Non-emtpy', 'Non-emtpy', 'Non-emtpy', 'Non-emtpy', 'Non-emtpy', 'Non-emtpy', 'Non-emtpy', 'Non-emtpy', 'Non-emtpy']\n",
      "datetime_format: %Y-%m-%d %H:%M:%S\n",
      "seq_col dtype used in read_csv: <class 'str'>\n",
      "seq_col date type (in tuple): (<class 'datetime.datetime'>, <class 'pandas._libs.tslibs.timestamps.Timestamp'>)\n"
     ]
    }
   ],
   "source": [
    "tsfefs_im1.import_dataframe(df)\n",
    "try:\n",
    "    tsfefs_im1.print_info()\n",
    "except:\n",
    "    print(\"Can't print unless it's updated\")\n"
   ]
  },
  {
   "cell_type": "code",
   "execution_count": 7,
   "id": "bc55abdb",
   "metadata": {},
   "outputs": [
    {
     "name": "stdout",
     "output_type": "stream",
     "text": [
      "path: /Users/yeehinleung/Documents/GreekIsGood/Products/repos/TSFEFS/1. test TSFEFS , name: im1\n",
      "pieces: ['iazlzalk', 'ulqodnyl', 'mrnbwcwr', 'fuphqnho', 'jwgxtvdd', 'mofjdciu', 'mbvprhqh', 'mbzdlcjn', 'iyxkjcyb']\n",
      "types: ['csv', 'csv', 'csv', 'csv', 'csv', 'csv', 'csv', 'csv', 'csv']\n",
      "fr: 2020-01-01 00:00:00 , to: 2020-01-02 00:00:00\n",
      "frs: ['2020-01-01 00:00:00', '2020-01-01 02:46:40', '2020-01-01 05:33:20', '2020-01-01 08:20:00', '2020-01-01 11:06:40', '2020-01-01 13:53:20', '2020-01-01 16:40:00', '2020-01-01 19:26:40', '2020-01-01 22:13:20']\n",
      "tos: ['2020-01-01 02:46:39', '2020-01-01 05:33:19', '2020-01-01 08:19:59', '2020-01-01 11:06:39', '2020-01-01 13:53:19', '2020-01-01 16:39:59', '2020-01-01 19:26:39', '2020-01-01 22:13:19', '2020-01-02 00:00:00']\n",
      "seq_col: time\n",
      "piece_name_len: 8\n",
      "colnames: ['time', 'day', 'num'] , row_cnt: 86401\n",
      "row_cnts: [10000, 10000, 10000, 10000, 10000, 10000, 10000, 10000, 6401]\n",
      "actions: ['', '', '', '', '', '', '', '', ''] , action_params: [None, None, None, None, None, None, None, None, None]\n",
      "cache: [7, 8, 0] , cache_config: {'rows_in_cache': None, 'len_of_cache': 3}\n",
      "dfs: ['Non-emtpy', None, None, None, None, None, None, 'Non-emtpy', 'Non-emtpy']\n",
      "datetime_format: %Y-%m-%d %H:%M:%S\n",
      "seq_col dtype used in read_csv: <class 'str'>\n",
      "seq_col date type (in tuple): (<class 'datetime.datetime'>, <class 'pandas._libs.tslibs.timestamps.Timestamp'>)\n"
     ]
    }
   ],
   "source": [
    "tsfefs_im1.take_actions(max_level=3)\n",
    "tsfefs_im1.maintain_cache()\n",
    "tsfefs_im1.print_info()\n"
   ]
  },
  {
   "cell_type": "markdown",
   "id": "d9d1f332",
   "metadata": {},
   "source": [
    " "
   ]
  },
  {
   "cell_type": "markdown",
   "id": "24b10d81",
   "metadata": {},
   "source": [
    "# 2. Import by srcfile.\n"
   ]
  },
  {
   "cell_type": "code",
   "execution_count": 8,
   "id": "519d7097",
   "metadata": {},
   "outputs": [],
   "source": [
    "if not os.path.isdir(\"import2\"):\n",
    "    os.mkdir(\"import2\")\n",
    "df_ = dc(df)\n",
    "df_[seq_col] = df_[seq_col].apply(lambda x: x.strftime(datetime_format))\n",
    "df_.to_csv(\"import2/import2.csv\",index=False)\n"
   ]
  },
  {
   "cell_type": "code",
   "execution_count": 9,
   "id": "3118b3bf",
   "metadata": {},
   "outputs": [
    {
     "name": "stdout",
     "output_type": "stream",
     "text": [
      "path: /Users/yeehinleung/Documents/GreekIsGood/Products/repos/TSFEFS/1. test TSFEFS , name: im2\n",
      "pieces: ['ygpqipov', 'inelfcud', 'ukliagir', 'zaedgwqo', 'yscpehuf', 'qittjdgo', 'qzomkqsh', 'fuqgqgly', 'mshbmsui']\n",
      "types: ['csv', 'csv', 'csv', 'csv', 'csv', 'csv', 'csv', 'csv', 'csv']\n",
      "fr: 2020-01-01 00:00:00 , to: 2020-01-02 00:00:00\n",
      "frs: [Timestamp('2020-01-01 00:00:00'), None, None, None, None, None, None, None, None]\n",
      "tos: [Timestamp('2020-01-02 00:00:00'), None, None, None, None, None, None, None, None]\n",
      "seq_col: time\n",
      "piece_name_len: 8\n",
      "colnames: ['time', 'day', 'num'] , row_cnt: 86401\n",
      "row_cnts: [86401, None, None, None, None, None, None, None, None]\n",
      "actions: ['update', 'update', 'update', 'update', 'update', 'update', 'update', 'update', 'update'] , action_params: [None, None, None, None, None, None, None, None, None]\n",
      "cache: [1, 2, 3, 4, 5, 6, 7, 8, 0] , cache_config: {'rows_in_cache': None, 'len_of_cache': 3}\n",
      "dfs: ['Non-emtpy', 'Non-emtpy', 'Non-emtpy', 'Non-emtpy', 'Non-emtpy', 'Non-emtpy', 'Non-emtpy', 'Non-emtpy', 'Non-emtpy']\n",
      "datetime_format: %Y-%m-%d %H:%M:%S\n",
      "seq_col dtype used in read_csv: <class 'str'>\n",
      "seq_col date type (in tuple): (<class 'datetime.datetime'>, <class 'pandas._libs.tslibs.timestamps.Timestamp'>)\n"
     ]
    }
   ],
   "source": [
    "tsfefs_im2.import_srcfile(\"import2/import2.csv\")\n",
    "try:\n",
    "    tsfefs_im2.print_info()\n",
    "except:\n",
    "    print(\"Can't print unless it's updated\")\n"
   ]
  },
  {
   "cell_type": "code",
   "execution_count": 10,
   "id": "63bc27d5",
   "metadata": {},
   "outputs": [
    {
     "name": "stdout",
     "output_type": "stream",
     "text": [
      "path: /Users/yeehinleung/Documents/GreekIsGood/Products/repos/TSFEFS/1. test TSFEFS , name: im2\n",
      "pieces: ['ygpqipov', 'inelfcud', 'ukliagir', 'zaedgwqo', 'yscpehuf', 'qittjdgo', 'qzomkqsh', 'fuqgqgly', 'mshbmsui']\n",
      "types: ['csv', 'csv', 'csv', 'csv', 'csv', 'csv', 'csv', 'csv', 'csv']\n",
      "fr: 2020-01-01 00:00:00 , to: 2020-01-02 00:00:00\n",
      "frs: ['2020-01-01 00:00:00', '2020-01-01 02:46:40', '2020-01-01 05:33:20', '2020-01-01 08:20:00', '2020-01-01 11:06:40', '2020-01-01 13:53:20', '2020-01-01 16:40:00', '2020-01-01 19:26:40', '2020-01-01 22:13:20']\n",
      "tos: ['2020-01-01 02:46:39', '2020-01-01 05:33:19', '2020-01-01 08:19:59', '2020-01-01 11:06:39', '2020-01-01 13:53:19', '2020-01-01 16:39:59', '2020-01-01 19:26:39', '2020-01-01 22:13:19', '2020-01-02 00:00:00']\n",
      "seq_col: time\n",
      "piece_name_len: 8\n",
      "colnames: ['time', 'day', 'num'] , row_cnt: 86401\n",
      "row_cnts: [10000, 10000, 10000, 10000, 10000, 10000, 10000, 10000, 6401]\n",
      "actions: ['', '', '', '', '', '', '', '', ''] , action_params: [None, None, None, None, None, None, None, None, None]\n",
      "cache: [7, 8, 0] , cache_config: {'rows_in_cache': None, 'len_of_cache': 3}\n",
      "dfs: ['Non-emtpy', None, None, None, None, None, None, 'Non-emtpy', 'Non-emtpy']\n",
      "datetime_format: %Y-%m-%d %H:%M:%S\n",
      "seq_col dtype used in read_csv: <class 'str'>\n",
      "seq_col date type (in tuple): (<class 'datetime.datetime'>, <class 'pandas._libs.tslibs.timestamps.Timestamp'>)\n"
     ]
    }
   ],
   "source": [
    "tsfefs_im2.take_actions(max_level=3)\n",
    "tsfefs_im2.maintain_cache()\n",
    "tsfefs_im2.print_info()\n"
   ]
  },
  {
   "cell_type": "markdown",
   "id": "15ff32f6",
   "metadata": {},
   "source": [
    " "
   ]
  },
  {
   "cell_type": "markdown",
   "id": "2f8fc89d",
   "metadata": {},
   "source": [
    "# 3. Import by srcfolder."
   ]
  },
  {
   "cell_type": "code",
   "execution_count": 11,
   "id": "e8af46fc",
   "metadata": {},
   "outputs": [],
   "source": [
    "if not os.path.isdir(\"import3\"):\n",
    "    os.mkdir(\"import3\")\n",
    "\n",
    "df_.to_csv(\"import3/import3_1.csv\",index=False)\n",
    "\n",
    "# let df2 be all time shifted 1 day\n",
    "df2 = dc(df)\n",
    "df2[\"time\"] = df2[\"time\"].apply(lambda x: x + td(days=1))\n",
    "\n",
    "df_ = dc(df2)\n",
    "df_[seq_col] = df_[seq_col].apply(lambda x: x.strftime(datetime_format))\n",
    "df_.to_csv(\"import3/import3_2.csv\",index=False)\n"
   ]
  },
  {
   "cell_type": "code",
   "execution_count": 12,
   "id": "f887dec4",
   "metadata": {},
   "outputs": [
    {
     "name": "stdout",
     "output_type": "stream",
     "text": [
      "path: /Users/yeehinleung/Documents/GreekIsGood/Products/repos/TSFEFS/1. test TSFEFS , name: im3\n",
      "pieces: ['ruzwiqno', 'vrbfqjpa']\n",
      "types: ['csv', 'csv']\n",
      "fr: 2020-01-01 00:00:00 , to: 2020-01-03 00:00:00\n",
      "frs: ['2020-01-01 00:00:00', '2020-01-02 00:00:00']\n",
      "tos: ['2020-01-02 00:00:00', '2020-01-03 00:00:00']\n",
      "seq_col: time\n",
      "piece_name_len: 8\n",
      "colnames: ['time', 'day', 'num'] , row_cnt: 172802\n",
      "row_cnts: [86401, 86401]\n",
      "actions: ['', ''] , action_params: [None, None]\n",
      "cache: [] , cache_config: {'rows_in_cache': None, 'len_of_cache': 3}\n",
      "dfs: [None, None]\n",
      "datetime_format: %Y-%m-%d %H:%M:%S\n",
      "seq_col dtype used in read_csv: <class 'str'>\n",
      "seq_col date type (in tuple): (<class 'datetime.datetime'>, <class 'pandas._libs.tslibs.timestamps.Timestamp'>)\n"
     ]
    }
   ],
   "source": [
    "tsfefs_im3.import_srcfolder(\"import3\")\n",
    "try:\n",
    "    tsfefs_im3.print_info()\n",
    "except:\n",
    "    print(\"Can't print unless it's updated\")\n"
   ]
  },
  {
   "cell_type": "code",
   "execution_count": 13,
   "id": "1626c705",
   "metadata": {},
   "outputs": [
    {
     "name": "stdout",
     "output_type": "stream",
     "text": [
      "path: /Users/yeehinleung/Documents/GreekIsGood/Products/repos/TSFEFS/1. test TSFEFS , name: im3\n",
      "pieces: ['ruzwiqno', 'vrbfqjpa']\n",
      "types: ['csv', 'csv']\n",
      "fr: 2020-01-01 00:00:00 , to: 2020-01-03 00:00:00\n",
      "frs: ['2020-01-01 00:00:00', '2020-01-02 00:00:00']\n",
      "tos: ['2020-01-02 00:00:00', '2020-01-03 00:00:00']\n",
      "seq_col: time\n",
      "piece_name_len: 8\n",
      "colnames: ['time', 'day', 'num'] , row_cnt: 172802\n",
      "row_cnts: [86401, 86401]\n",
      "actions: ['', ''] , action_params: [None, None]\n",
      "cache: [] , cache_config: {'rows_in_cache': None, 'len_of_cache': 3}\n",
      "dfs: [None, None]\n",
      "datetime_format: %Y-%m-%d %H:%M:%S\n",
      "seq_col dtype used in read_csv: <class 'str'>\n",
      "seq_col date type (in tuple): (<class 'datetime.datetime'>, <class 'pandas._libs.tslibs.timestamps.Timestamp'>)\n"
     ]
    }
   ],
   "source": [
    "tsfefs_im3.take_actions(max_level=3)\n",
    "tsfefs_im3.maintain_cache()\n",
    "tsfefs_im3.print_info()\n"
   ]
  },
  {
   "cell_type": "markdown",
   "id": "7f9c8925",
   "metadata": {},
   "source": [
    " "
   ]
  },
  {
   "cell_type": "markdown",
   "id": "01d34daa",
   "metadata": {},
   "source": [
    " "
   ]
  },
  {
   "cell_type": "markdown",
   "id": "0bf66321",
   "metadata": {},
   "source": [
    " "
   ]
  },
  {
   "cell_type": "code",
   "execution_count": 14,
   "id": "264cf84a",
   "metadata": {},
   "outputs": [],
   "source": [
    "tsfefs_im3.remove()\n",
    "tsfefs_im2.remove()\n",
    "tsfefs_im1.remove()\n",
    "\n",
    "for f in os.listdir(\"import3\"):\n",
    "    os.remove(\"import3/%s\"%f)\n",
    "os.rmdir(\"import3\")\n",
    "\n",
    "for f in os.listdir(\"import2\"):\n",
    "    os.remove(\"import2/%s\"%f)\n",
    "os.rmdir(\"import2\")\n",
    "\n"
   ]
  },
  {
   "cell_type": "markdown",
   "id": "b1ffa8dc",
   "metadata": {},
   "source": [
    " "
   ]
  },
  {
   "cell_type": "markdown",
   "id": "dde37bf8",
   "metadata": {},
   "source": [
    " "
   ]
  },
  {
   "cell_type": "markdown",
   "id": "e872495f",
   "metadata": {},
   "source": [
    " "
   ]
  },
  {
   "cell_type": "markdown",
   "id": "dcdec40f",
   "metadata": {},
   "source": [
    "# Export Test Strategy\n",
    "#  - The base will be filled (imported) with df.\n",
    "#  - Each test will clone the base and export different contents."
   ]
  },
  {
   "cell_type": "code",
   "execution_count": 15,
   "id": "dcebc619",
   "metadata": {},
   "outputs": [
    {
     "name": "stdout",
     "output_type": "stream",
     "text": [
      "path: /Users/yeehinleung/Documents/GreekIsGood/Products/repos/TSFEFS/1. test TSFEFS , name: base\n",
      "pieces: ['abqjgvwv', 'ebcpyhzr', 'gokavuwy', 'gvrnasnr', 'kzttufxq', 'njilccgd', 'fvoazrvz', 'jyqpncdq', 'lbijsmsu']\n",
      "types: ['csv', 'csv', 'csv', 'csv', 'csv', 'csv', 'csv', 'csv', 'csv']\n",
      "fr: 2020-01-01 00:00:00 , to: 2020-01-02 00:00:00\n",
      "frs: ['2020-01-01 00:00:00', '2020-01-01 02:46:40', '2020-01-01 05:33:20', '2020-01-01 08:20:00', '2020-01-01 11:06:40', '2020-01-01 13:53:20', '2020-01-01 16:40:00', '2020-01-01 19:26:40', '2020-01-01 22:13:20']\n",
      "tos: ['2020-01-01 02:46:39', '2020-01-01 05:33:19', '2020-01-01 08:19:59', '2020-01-01 11:06:39', '2020-01-01 13:53:19', '2020-01-01 16:39:59', '2020-01-01 19:26:39', '2020-01-01 22:13:19', '2020-01-02 00:00:00']\n",
      "seq_col: time\n",
      "piece_name_len: 8\n",
      "colnames: ['time', 'day', 'num'] , row_cnt: 86401\n",
      "row_cnts: [10000, 10000, 10000, 10000, 10000, 10000, 10000, 10000, 6401]\n",
      "actions: ['', '', '', '', '', '', '', '', ''] , action_params: [None, None, None, None, None, None, None, None, None]\n",
      "cache: [7, 8, 0] , cache_config: {'rows_in_cache': None, 'len_of_cache': 3}\n",
      "dfs: ['Non-emtpy', None, None, None, None, None, None, 'Non-emtpy', 'Non-emtpy']\n",
      "datetime_format: %Y-%m-%d %H:%M:%S\n",
      "seq_col dtype used in read_csv: <class 'str'>\n",
      "seq_col date type (in tuple): (<class 'datetime.datetime'>, <class 'pandas._libs.tslibs.timestamps.Timestamp'>)\n"
     ]
    }
   ],
   "source": [
    "tsfefs_base.import_dataframe(df)\n",
    "tsfefs_base.take_actions(max_level=3)\n",
    "tsfefs_base.maintain_cache()\n",
    "tsfefs_base.print_info()\n"
   ]
  },
  {
   "cell_type": "markdown",
   "id": "7f34aff3",
   "metadata": {},
   "source": [
    "# Export Test Plan\n",
    "# 1. Export to dataframe\n",
    "# 2. Export to dstfile\n",
    "# 3. Export to dstfolder\n"
   ]
  },
  {
   "cell_type": "code",
   "execution_count": 16,
   "id": "11a3246b",
   "metadata": {},
   "outputs": [],
   "source": [
    "tsfefs_ex1 = tsfefs_base.clone(tsfefs_base.path, \"ex1\")\n",
    "tsfefs_ex2 = tsfefs_base.clone(tsfefs_base.path, \"ex2\")\n",
    "tsfefs_ex3 = tsfefs_base.clone(tsfefs_base.path, \"ex3\")\n"
   ]
  },
  {
   "cell_type": "markdown",
   "id": "10aa8052",
   "metadata": {},
   "source": [
    "# 1. Export to dataframe\n"
   ]
  },
  {
   "cell_type": "code",
   "execution_count": 17,
   "id": "a3c3f8e7",
   "metadata": {},
   "outputs": [
    {
     "name": "stdout",
     "output_type": "stream",
     "text": [
      "path: /Users/yeehinleung/Documents/GreekIsGood/Products/repos/TSFEFS/1. test TSFEFS , name: ex1\n",
      "pieces: ['abqjgvwv', 'ebcpyhzr', 'gokavuwy', 'gvrnasnr', 'kzttufxq', 'njilccgd', 'fvoazrvz', 'jyqpncdq', 'lbijsmsu']\n",
      "types: ['csv', 'csv', 'csv', 'csv', 'csv', 'csv', 'csv', 'csv', 'csv']\n",
      "fr: 2020-01-01 00:00:00 , to: 2020-01-02 00:00:00\n",
      "frs: ['2020-01-01 00:00:00', '2020-01-01 02:46:40', '2020-01-01 05:33:20', '2020-01-01 08:20:00', '2020-01-01 11:06:40', '2020-01-01 13:53:20', '2020-01-01 16:40:00', '2020-01-01 19:26:40', '2020-01-01 22:13:20']\n",
      "tos: ['2020-01-01 02:46:39', '2020-01-01 05:33:19', '2020-01-01 08:19:59', '2020-01-01 11:06:39', '2020-01-01 13:53:19', '2020-01-01 16:39:59', '2020-01-01 19:26:39', '2020-01-01 22:13:19', '2020-01-02 00:00:00']\n",
      "seq_col: time\n",
      "piece_name_len: 8\n",
      "colnames: ['time', 'day', 'num'] , row_cnt: 86401\n",
      "row_cnts: [10000, 10000, 10000, 10000, 10000, 10000, 10000, 10000, 6401]\n",
      "actions: ['save', '', '', '', '', '', '', 'save', 'save'] , action_params: [None, None, None, None, None, None, None, None, None]\n",
      "cache: [7, 8, 0] , cache_config: {'rows_in_cache': None, 'len_of_cache': 3}\n",
      "dfs: ['Non-emtpy', 'Non-emtpy', 'Non-emtpy', 'Non-emtpy', 'Non-emtpy', 'Non-emtpy', 'Non-emtpy', 'Non-emtpy', 'Non-emtpy']\n",
      "datetime_format: %Y-%m-%d %H:%M:%S\n",
      "seq_col dtype used in read_csv: <class 'str'>\n",
      "seq_col date type (in tuple): (<class 'datetime.datetime'>, <class 'pandas._libs.tslibs.timestamps.Timestamp'>)\n"
     ]
    }
   ],
   "source": [
    "df = tsfefs_ex1.export_dataframe()\n",
    "tsfefs_ex1.print_info()\n"
   ]
  },
  {
   "cell_type": "code",
   "execution_count": 18,
   "id": "5480e57d",
   "metadata": {},
   "outputs": [
    {
     "name": "stdout",
     "output_type": "stream",
     "text": [
      "                     time  day   num\n",
      "0     2020-01-01 00:00:00    1  2022\n",
      "1     2020-01-01 00:00:01    1  2023\n",
      "2     2020-01-01 00:00:02    1  2024\n",
      "3     2020-01-01 00:00:03    1  2025\n",
      "4     2020-01-01 00:00:04    1  2026\n",
      "...                   ...  ...   ...\n",
      "86396 2020-01-01 23:59:56    1  2160\n",
      "86397 2020-01-01 23:59:57    1  2161\n",
      "86398 2020-01-01 23:59:58    1  2162\n",
      "86399 2020-01-01 23:59:59    1  2163\n",
      "86400 2020-01-02 00:00:00    2  2023\n",
      "\n",
      "[86401 rows x 3 columns]\n"
     ]
    }
   ],
   "source": [
    "print(df)\n"
   ]
  },
  {
   "cell_type": "markdown",
   "id": "9cf411d3",
   "metadata": {},
   "source": [
    "# 2. Export to dstfile\n"
   ]
  },
  {
   "cell_type": "code",
   "execution_count": 19,
   "id": "97f9dfc4",
   "metadata": {},
   "outputs": [
    {
     "name": "stdout",
     "output_type": "stream",
     "text": [
      "/Users/yeehinleung/Documents/GreekIsGood/Products/repos/TSFEFS/1. test TSFEFS/export2/export2.csv\n"
     ]
    }
   ],
   "source": [
    "fullpath = \"%s/export2\"%os.getcwd()\n",
    "if not os.path.isdir(fullpath):\n",
    "    os.mkdir(fullpath)\n",
    "dstfile = \"%s/export2.csv\"%fullpath \n",
    "print(dstfile)\n"
   ]
  },
  {
   "cell_type": "code",
   "execution_count": 20,
   "id": "1ce79779",
   "metadata": {},
   "outputs": [
    {
     "name": "stdout",
     "output_type": "stream",
     "text": [
      "path: /Users/yeehinleung/Documents/GreekIsGood/Products/repos/TSFEFS/1. test TSFEFS , name: ex2\n",
      "pieces: ['abqjgvwv', 'ebcpyhzr', 'gokavuwy', 'gvrnasnr', 'kzttufxq', 'njilccgd', 'fvoazrvz', 'jyqpncdq', 'lbijsmsu']\n",
      "types: ['csv', 'csv', 'csv', 'csv', 'csv', 'csv', 'csv', 'csv', 'csv']\n",
      "fr: 2020-01-01 00:00:00 , to: 2020-01-02 00:00:00\n",
      "frs: ['2020-01-01 00:00:00', '2020-01-01 02:46:40', '2020-01-01 05:33:20', '2020-01-01 08:20:00', '2020-01-01 11:06:40', '2020-01-01 13:53:20', '2020-01-01 16:40:00', '2020-01-01 19:26:40', '2020-01-01 22:13:20']\n",
      "tos: ['2020-01-01 02:46:39', '2020-01-01 05:33:19', '2020-01-01 08:19:59', '2020-01-01 11:06:39', '2020-01-01 13:53:19', '2020-01-01 16:39:59', '2020-01-01 19:26:39', '2020-01-01 22:13:19', '2020-01-02 00:00:00']\n",
      "seq_col: time\n",
      "piece_name_len: 8\n",
      "colnames: ['time', 'day', 'num'] , row_cnt: 86401\n",
      "row_cnts: [10000, 10000, 10000, 10000, 10000, 10000, 10000, 10000, 6401]\n",
      "actions: ['save', '', '', '', '', '', '', 'save', 'save'] , action_params: [None, None, None, None, None, None, None, None, None]\n",
      "cache: [7, 8, 0] , cache_config: {'rows_in_cache': None, 'len_of_cache': 3}\n",
      "dfs: ['Non-emtpy', 'Non-emtpy', 'Non-emtpy', 'Non-emtpy', 'Non-emtpy', 'Non-emtpy', 'Non-emtpy', 'Non-emtpy', 'Non-emtpy']\n",
      "datetime_format: %Y-%m-%d %H:%M:%S\n",
      "seq_col dtype used in read_csv: <class 'str'>\n",
      "seq_col date type (in tuple): (<class 'datetime.datetime'>, <class 'pandas._libs.tslibs.timestamps.Timestamp'>)\n"
     ]
    }
   ],
   "source": [
    "tsfefs_ex2.export_dstfile(dstfile)\n",
    "tsfefs_ex2.print_info()\n"
   ]
  },
  {
   "cell_type": "code",
   "execution_count": 21,
   "id": "037f5c8e",
   "metadata": {},
   "outputs": [
    {
     "name": "stdout",
     "output_type": "stream",
     "text": [
      "['export2.csv']\n",
      "86401\n"
     ]
    }
   ],
   "source": [
    "print(os.listdir(fullpath))\n",
    "df = pd.read_csv(dstfile)\n",
    "print(len(df))\n"
   ]
  },
  {
   "cell_type": "markdown",
   "id": "272bebca",
   "metadata": {},
   "source": [
    "# 3. Export to dstfolder"
   ]
  },
  {
   "cell_type": "code",
   "execution_count": 22,
   "id": "ed70f506",
   "metadata": {},
   "outputs": [
    {
     "name": "stdout",
     "output_type": "stream",
     "text": [
      "/Users/yeehinleung/Documents/GreekIsGood/Products/repos/TSFEFS/1. test TSFEFS/export3\n"
     ]
    }
   ],
   "source": [
    "dstfolder = \"%s/export3\"%os.getcwd()\n",
    "print(dstfolder)\n"
   ]
  },
  {
   "cell_type": "code",
   "execution_count": 23,
   "id": "409d1632",
   "metadata": {},
   "outputs": [
    {
     "name": "stdout",
     "output_type": "stream",
     "text": [
      "path: /Users/yeehinleung/Documents/GreekIsGood/Products/repos/TSFEFS/1. test TSFEFS , name: ex3\n",
      "pieces: ['abqjgvwv', 'ebcpyhzr', 'gokavuwy', 'gvrnasnr', 'kzttufxq', 'njilccgd', 'fvoazrvz', 'jyqpncdq', 'lbijsmsu']\n",
      "types: ['csv', 'csv', 'csv', 'csv', 'csv', 'csv', 'csv', 'csv', 'csv']\n",
      "fr: 2020-01-01 00:00:00 , to: 2020-01-02 00:00:00\n",
      "frs: ['2020-01-01 00:00:00', '2020-01-01 02:46:40', '2020-01-01 05:33:20', '2020-01-01 08:20:00', '2020-01-01 11:06:40', '2020-01-01 13:53:20', '2020-01-01 16:40:00', '2020-01-01 19:26:40', '2020-01-01 22:13:20']\n",
      "tos: ['2020-01-01 02:46:39', '2020-01-01 05:33:19', '2020-01-01 08:19:59', '2020-01-01 11:06:39', '2020-01-01 13:53:19', '2020-01-01 16:39:59', '2020-01-01 19:26:39', '2020-01-01 22:13:19', '2020-01-02 00:00:00']\n",
      "seq_col: time\n",
      "piece_name_len: 8\n",
      "colnames: ['time', 'day', 'num'] , row_cnt: 86401\n",
      "row_cnts: [10000, 10000, 10000, 10000, 10000, 10000, 10000, 10000, 6401]\n",
      "actions: ['save', '', '', '', '', '', '', 'save', 'save'] , action_params: [None, None, None, None, None, None, None, None, None]\n",
      "cache: [7, 8, 0] , cache_config: {'rows_in_cache': None, 'len_of_cache': 3}\n",
      "dfs: ['Non-emtpy', None, None, None, None, None, None, 'Non-emtpy', 'Non-emtpy']\n",
      "datetime_format: %Y-%m-%d %H:%M:%S\n",
      "seq_col dtype used in read_csv: <class 'str'>\n",
      "seq_col date type (in tuple): (<class 'datetime.datetime'>, <class 'pandas._libs.tslibs.timestamps.Timestamp'>)\n",
      "\n",
      "Can't export to folder with pending action(s).\n"
     ]
    }
   ],
   "source": [
    "try:\n",
    "    tsfefs_ex3.print_info()\n",
    "    tsfefs_ex3.export_dstfolder(dstfolder)\n",
    "except:\n",
    "    print()\n",
    "    print(\"Can't export to folder with pending action(s).\")\n"
   ]
  },
  {
   "cell_type": "code",
   "execution_count": 24,
   "id": "1b75e5c4",
   "metadata": {},
   "outputs": [
    {
     "name": "stdout",
     "output_type": "stream",
     "text": [
      "path: /Users/yeehinleung/Documents/GreekIsGood/Products/repos/TSFEFS/1. test TSFEFS , name: ex3\n",
      "pieces: ['abqjgvwv', 'ebcpyhzr', 'gokavuwy', 'gvrnasnr', 'kzttufxq', 'njilccgd', 'fvoazrvz', 'jyqpncdq', 'lbijsmsu']\n",
      "types: ['csv', 'csv', 'csv', 'csv', 'csv', 'csv', 'csv', 'csv', 'csv']\n",
      "fr: 2020-01-01 00:00:00 , to: 2020-01-02 00:00:00\n",
      "frs: ['2020-01-01 00:00:00', '2020-01-01 02:46:40', '2020-01-01 05:33:20', '2020-01-01 08:20:00', '2020-01-01 11:06:40', '2020-01-01 13:53:20', '2020-01-01 16:40:00', '2020-01-01 19:26:40', '2020-01-01 22:13:20']\n",
      "tos: ['2020-01-01 02:46:39', '2020-01-01 05:33:19', '2020-01-01 08:19:59', '2020-01-01 11:06:39', '2020-01-01 13:53:19', '2020-01-01 16:39:59', '2020-01-01 19:26:39', '2020-01-01 22:13:19', '2020-01-02 00:00:00']\n",
      "seq_col: time\n",
      "piece_name_len: 8\n",
      "colnames: ['time', 'day', 'num'] , row_cnt: 86401\n",
      "row_cnts: [10000, 10000, 10000, 10000, 10000, 10000, 10000, 10000, 6401]\n",
      "actions: ['', '', '', '', '', '', '', '', ''] , action_params: [None, None, None, None, None, None, None, None, None]\n",
      "cache: [7, 8, 0] , cache_config: {'rows_in_cache': None, 'len_of_cache': 3}\n",
      "dfs: ['Non-emtpy', None, None, None, None, None, None, 'Non-emtpy', 'Non-emtpy']\n",
      "datetime_format: %Y-%m-%d %H:%M:%S\n",
      "seq_col dtype used in read_csv: <class 'str'>\n",
      "seq_col date type (in tuple): (<class 'datetime.datetime'>, <class 'pandas._libs.tslibs.timestamps.Timestamp'>)\n"
     ]
    }
   ],
   "source": [
    "tsfefs_ex3.take_actions(max_level=4)\n",
    "tsfefs_ex3.export_dstfolder(dstfolder)\n",
    "tsfefs_ex3.print_info()\n"
   ]
  },
  {
   "cell_type": "code",
   "execution_count": 25,
   "id": "163460c0",
   "metadata": {},
   "outputs": [
    {
     "name": "stdout",
     "output_type": "stream",
     "text": [
      "['0. 2020-01-01 00:00:00 ~ 2020-01-01 02:46:39.csv', '1. 2020-01-01 02:46:40 ~ 2020-01-01 05:33:19.csv', '2. 2020-01-01 05:33:20 ~ 2020-01-01 08:19:59.csv', '3. 2020-01-01 08:20:00 ~ 2020-01-01 11:06:39.csv', '4. 2020-01-01 11:06:40 ~ 2020-01-01 13:53:19.csv', '5. 2020-01-01 13:53:20 ~ 2020-01-01 16:39:59.csv', '6. 2020-01-01 16:40:00 ~ 2020-01-01 19:26:39.csv', '7. 2020-01-01 19:26:40 ~ 2020-01-01 22:13:19.csv', '8. 2020-01-01 22:13:20 ~ 2020-01-02 00:00:00.csv']\n",
      "\n",
      "[10000, 10000, 10000, 10000, 10000, 10000, 10000, 10000, 6401]\n"
     ]
    }
   ],
   "source": [
    "files = sorted(os.listdir(dstfolder))\n",
    "print(files)\n",
    "print()\n",
    "files = [ \"%s/%s\"%(dstfolder,f) for f in files ]\n",
    "print([ len(pd.read_csv(f)) for f in files ])\n"
   ]
  },
  {
   "cell_type": "markdown",
   "id": "c21d70ad",
   "metadata": {},
   "source": [
    " "
   ]
  },
  {
   "cell_type": "markdown",
   "id": "682854c9",
   "metadata": {},
   "source": [
    " "
   ]
  },
  {
   "cell_type": "markdown",
   "id": "c3ca3bf3",
   "metadata": {},
   "source": [
    " "
   ]
  },
  {
   "cell_type": "code",
   "execution_count": 26,
   "id": "da0af85b",
   "metadata": {},
   "outputs": [],
   "source": [
    "tsfefs_ex3.remove()\n",
    "tsfefs_ex2.remove()\n",
    "tsfefs_ex1.remove()\n",
    "\n",
    "for f in os.listdir(\"export3\"):\n",
    "    os.remove(\"export3/%s\"%f)\n",
    "os.rmdir(\"export3\")\n",
    "\n",
    "for f in os.listdir(\"export2\"):\n",
    "    os.remove(\"export2/%s\"%f)\n",
    "os.rmdir(\"export2\")\n"
   ]
  },
  {
   "cell_type": "code",
   "execution_count": 27,
   "id": "114701d1",
   "metadata": {},
   "outputs": [],
   "source": [
    "tsfefs_base.remove()\n"
   ]
  },
  {
   "cell_type": "code",
   "execution_count": null,
   "id": "371f9b43",
   "metadata": {},
   "outputs": [],
   "source": []
  },
  {
   "cell_type": "markdown",
   "id": "5770fddc",
   "metadata": {},
   "source": [
    " "
   ]
  }
 ],
 "metadata": {
  "kernelspec": {
   "display_name": "Python 3 (ipykernel)",
   "language": "python",
   "name": "python3"
  },
  "language_info": {
   "codemirror_mode": {
    "name": "ipython",
    "version": 3
   },
   "file_extension": ".py",
   "mimetype": "text/x-python",
   "name": "python",
   "nbconvert_exporter": "python",
   "pygments_lexer": "ipython3",
   "version": "3.10.5"
  }
 },
 "nbformat": 4,
 "nbformat_minor": 5
}
