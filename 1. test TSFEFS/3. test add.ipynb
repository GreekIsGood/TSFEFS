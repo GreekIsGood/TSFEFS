{
 "cells": [
  {
   "cell_type": "code",
   "execution_count": 1,
   "id": "581ac914",
   "metadata": {},
   "outputs": [],
   "source": [
    "import pandas as pd\n",
    "import numpy as np\n",
    "from datetime import datetime as dt, timedelta as td\n",
    "\n",
    "import json\n",
    "import random\n",
    "import string\n",
    "\n",
    "from copy import deepcopy as dc\n",
    "import os\n",
    "\n",
    "from TSFEFS import *\n"
   ]
  },
  {
   "cell_type": "code",
   "execution_count": 2,
   "id": "0ac20b4e",
   "metadata": {},
   "outputs": [],
   "source": [
    "dict_meta = {\n",
    "    \"piece_name_len\": 8,\n",
    "    \"time_col\": \"time\", \"datetime_format\": \"%Y-%m-%d %H:%M:%S\", \n",
    "    \"max_row_per_piece\": 400000,\n",
    "    \"colnames\":[\"time\"],\n",
    "    \"cache_config\":{\"rows_in_cache\":None,\"len_of_cache\":3}\n",
    "}\n"
   ]
  },
  {
   "cell_type": "code",
   "execution_count": 3,
   "id": "56a1bc1c",
   "metadata": {},
   "outputs": [],
   "source": [
    "ts = \"2020-09-08 00:00:00\"\n",
    "datetime_format = \"%Y-%m-%d %H:%M:%S\"\n",
    "ts = dt.strptime(ts, datetime_format)\n",
    "tss = [ ts + td(seconds=i) for i in range(10**6)]\n",
    "df = pd.DataFrame({\"time\":tss})\n"
   ]
  },
  {
   "cell_type": "code",
   "execution_count": 4,
   "id": "4a06c6ab",
   "metadata": {},
   "outputs": [
    {
     "name": "stdout",
     "output_type": "stream",
     "text": [
      "op_base.tsfefs created?: False\n",
      "path: /Users/yeehinleung/Documents/GreekIsGood/Products/TSFEFS/test TSFEFS , name: op_base\n",
      "pieces: ['tlbkqajr', 'zvrrdgbw', 'yuiqvteb', 'njffcyqx', 'tourpigh']\n",
      "fr: None , to: None\n",
      "'NoneType' object has no attribute 'strftime'\n"
     ]
    }
   ],
   "source": [
    "tsfefs_base = TSFEFS.create(dict_meta, \"op_base\")\n",
    "tsfefs_base.import_dataframe(df)\n",
    "print(\"op_base.tsfefs created?:\", os.path.isdir(\"op_base.tsfefs\"))\n",
    "# printing info will prompt error.\n",
    "# import_dataframe() must be followed by take_actions()\n",
    "try:\n",
    "    tsfefs_base.print_tsfefs_info()\n",
    "except Exception as error:\n",
    "    print(error)\n",
    "\n"
   ]
  },
  {
   "cell_type": "code",
   "execution_count": 5,
   "id": "6abb5761",
   "metadata": {},
   "outputs": [
    {
     "name": "stdout",
     "output_type": "stream",
     "text": [
      "path: /Users/yeehinleung/Documents/GreekIsGood/Products/TSFEFS/test TSFEFS , name: op_base\n",
      "pieces: ['tlbkqajr', 'zvrrdgbw', 'yuiqvteb', 'njffcyqx', 'tourpigh']\n",
      "fr: 2020-09-08 00:00:00 , to: 2020-09-19 13:46:39\n",
      "frs: ['2020-09-08 00:00:00', '2020-09-10 07:33:20', '2020-09-12 15:06:40', '2020-09-14 22:40:00', '2020-09-17 06:13:20']\n",
      "tos: ['2020-09-10 07:33:19', '2020-09-12 15:06:39', '2020-09-14 22:39:59', '2020-09-17 06:13:19', '2020-09-19 13:46:39']\n",
      "types: ['csv', 'csv', 'csv', 'csv', 'csv']\n",
      "time_col: time , datetime_format: %Y-%m-%d %H:%M:%S\n",
      "piece_name_len: 8\n",
      "colnames: ['time'] , row_cnt: 1000000\n",
      "row_cnts: [200000, 200000, 200000, 200000, 200000]\n",
      "actions: ['save', 'save', 'save', 'save', 'save'] , action_params: [None, None, None, None, None]\n",
      "cache: [1, 2, 3, 4, 0] , cache_config: {'rows_in_cache': None, 'len_of_cache': 3}\n",
      "op_base.tsfefs created?: False\n"
     ]
    }
   ],
   "source": [
    "tsfefs_base.take_actions(max_level=0) # level:update\n",
    "tsfefs_base.print_tsfefs_info()\n",
    "print(\"op_base.tsfefs created?:\", os.path.isdir(\"op_base.tsfefs\"))\n"
   ]
  },
  {
   "cell_type": "code",
   "execution_count": 6,
   "id": "0e75c60e",
   "metadata": {},
   "outputs": [
    {
     "name": "stdout",
     "output_type": "stream",
     "text": [
      "path: /Users/yeehinleung/Documents/GreekIsGood/Products/TSFEFS/test TSFEFS , name: op_base\n",
      "pieces: ['tlbkqajr', 'zvrrdgbw', 'yuiqvteb', 'njffcyqx', 'tourpigh']\n",
      "fr: 2020-09-08 00:00:00 , to: 2020-09-19 13:46:39\n",
      "frs: ['2020-09-08 00:00:00', '2020-09-10 07:33:20', '2020-09-12 15:06:40', '2020-09-14 22:40:00', '2020-09-17 06:13:20']\n",
      "tos: ['2020-09-10 07:33:19', '2020-09-12 15:06:39', '2020-09-14 22:39:59', '2020-09-17 06:13:19', '2020-09-19 13:46:39']\n",
      "types: ['csv', 'csv', 'csv', 'csv', 'csv']\n",
      "time_col: time , datetime_format: %Y-%m-%d %H:%M:%S\n",
      "piece_name_len: 8\n",
      "colnames: ['time'] , row_cnt: 1000000\n",
      "row_cnts: [200000, 200000, 200000, 200000, 200000]\n",
      "actions: ['', '', '', '', ''] , action_params: [None, None, None, None, None]\n",
      "cache: [1, 2, 3, 4, 0] , cache_config: {'rows_in_cache': None, 'len_of_cache': 3}\n",
      "op_base.tsfefs created?: True\n"
     ]
    }
   ],
   "source": [
    "tsfefs_base.take_actions(max_level=3) # level:save\n",
    "tsfefs_base.print_tsfefs_info()\n",
    "print(\"op_base.tsfefs created?:\", os.path.isdir(\"op_base.tsfefs\"))\n"
   ]
  },
  {
   "cell_type": "markdown",
   "id": "7b6d52f7",
   "metadata": {},
   "source": [
    "#### Reduce cache to see the test cases will make any change to the cache."
   ]
  },
  {
   "cell_type": "code",
   "execution_count": 7,
   "id": "6f09bcc1",
   "metadata": {},
   "outputs": [
    {
     "name": "stdout",
     "output_type": "stream",
     "text": [
      "path: /Users/yeehinleung/Documents/GreekIsGood/Products/TSFEFS/test TSFEFS , name: op_base\n",
      "pieces: ['tlbkqajr', 'zvrrdgbw', 'yuiqvteb', 'njffcyqx', 'tourpigh']\n",
      "fr: 2020-09-08 00:00:00 , to: 2020-09-19 13:46:39\n",
      "frs: ['2020-09-08 00:00:00', '2020-09-10 07:33:20', '2020-09-12 15:06:40', '2020-09-14 22:40:00', '2020-09-17 06:13:20']\n",
      "tos: ['2020-09-10 07:33:19', '2020-09-12 15:06:39', '2020-09-14 22:39:59', '2020-09-17 06:13:19', '2020-09-19 13:46:39']\n",
      "types: ['csv', 'csv', 'csv', 'csv', 'csv']\n",
      "time_col: time , datetime_format: %Y-%m-%d %H:%M:%S\n",
      "piece_name_len: 8\n",
      "colnames: ['time'] , row_cnt: 1000000\n",
      "row_cnts: [200000, 200000, 200000, 200000, 200000]\n",
      "actions: ['', '', '', '', ''] , action_params: [None, None, None, None, None]\n",
      "cache: [3, 4, 0] , cache_config: {'rows_in_cache': None, 'len_of_cache': 3}\n"
     ]
    }
   ],
   "source": [
    "tsfefs_base.resolve_conflict()\n",
    "tsfefs_base.take_actions(max_level=3)\n",
    "tsfefs_base.maintain_cache()\n",
    "tsfefs_base.print_tsfefs_info()\n"
   ]
  },
  {
   "cell_type": "markdown",
   "id": "b104e6ec",
   "metadata": {},
   "source": [
    " "
   ]
  },
  {
   "cell_type": "markdown",
   "id": "6b53ec82",
   "metadata": {},
   "source": [
    " "
   ]
  },
  {
   "cell_type": "markdown",
   "id": "d5d394a5",
   "metadata": {},
   "source": [
    "### The following test cases,\n",
    "###  - copy from base,\n",
    "###  - resolve_conflict() and maintain_cache() if needed,\n",
    "###  - check consistencies of cache, actions, etc.\n",
    "\n"
   ]
  },
  {
   "cell_type": "markdown",
   "id": "b1dd46dd",
   "metadata": {},
   "source": [
    "# 1. Adding a non-overlapping range of df.\n",
    "# 2. Adding an overlapping range of df, then resolve and maintain cache.\n",
    "# 3. Adding a non-overlapping range of tsfefs.\n",
    "# 4. Adding an overlapping range of tsfefs, then resolve and maintain cache.\n",
    "# 5. What if it is tsfefs2 = tsfefs + df instead of tsfefs += df?\n",
    "# 6. Consecutive adds. \n",
    "# 7. Adding consecutive adds.\n"
   ]
  },
  {
   "cell_type": "markdown",
   "id": "ebd199e6",
   "metadata": {},
   "source": [
    "  "
   ]
  },
  {
   "cell_type": "code",
   "execution_count": 8,
   "id": "a2855628",
   "metadata": {},
   "outputs": [],
   "source": [
    "tsfefs_add1 = tsfefs_base.clone(tsfefs_base.path, \"add1\")\n",
    "tsfefs_add2 = tsfefs_base.clone(tsfefs_base.path, \"add2\")\n",
    "tsfefs_add3 = tsfefs_base.clone(tsfefs_base.path, \"add3\")\n",
    "tsfefs_add4 = tsfefs_base.clone(tsfefs_base.path, \"add4\")\n",
    "tsfefs_add5 = tsfefs_base.clone(tsfefs_base.path, \"add5\")\n",
    "tsfefs_add6 = tsfefs_base.clone(tsfefs_base.path, \"add6\")\n",
    "tsfefs_add7 = tsfefs_base.clone(tsfefs_base.path, \"add7\")\n"
   ]
  },
  {
   "cell_type": "markdown",
   "id": "abaf3f5f",
   "metadata": {},
   "source": [
    "# 1. Adding a non-overlapping range of df."
   ]
  },
  {
   "cell_type": "code",
   "execution_count": 9,
   "id": "07c79cf8",
   "metadata": {},
   "outputs": [
    {
     "name": "stdout",
     "output_type": "stream",
     "text": [
      "path: /Users/yeehinleung/Documents/GreekIsGood/Products/TSFEFS/test TSFEFS , name: add1\n",
      "pieces: ['tlbkqajr', 'zvrrdgbw', 'yuiqvteb', 'njffcyqx', 'tourpigh', 'bjwjbroe', 'tvukwfrx', 'mhzujoej']\n",
      "fr: 2020-09-08 00:00:00 , to: 2021-09-02 05:19:00\n",
      "frs: ['2020-09-08 00:00:00', '2020-09-10 07:33:20', '2020-09-12 15:06:40', '2020-09-14 22:40:00', '2020-09-17 06:13:20', '2020-09-20 00:00:00', '2021-02-05 21:20:00', '2021-06-24 18:40:00']\n",
      "tos: ['2020-09-10 07:33:19', '2020-09-12 15:06:39', '2020-09-14 22:39:59', '2020-09-17 06:13:19', '2020-09-19 13:46:39', '2021-02-05 21:19:00', '2021-06-24 18:39:00', '2021-09-02 05:19:00']\n",
      "types: ['csv', 'csv', 'csv', 'csv', 'csv', 'csv', 'csv', 'csv']\n",
      "time_col: time , datetime_format: %Y-%m-%d %H:%M:%S\n",
      "piece_name_len: 8\n",
      "colnames: ['time'] , row_cnt: 1500000\n",
      "row_cnts: [200000, 200000, 200000, 200000, 200000, 200000, 200000, 100000]\n",
      "actions: ['', '', '', '', '', '', '', ''] , action_params: [None, None, None, None, None, None, None, None]\n",
      "cache: [3, 4, 0] , cache_config: {'rows_in_cache': None, 'len_of_cache': 3}\n"
     ]
    }
   ],
   "source": [
    "# Should be within idx = 6\n",
    "ts = dt.strptime('2020-09-20 00:00:00',tsfefs_add1.datetime_format)\n",
    "tss = [ ts + td(seconds=60*i) for i in range(500000) ]\n",
    "df = pd.DataFrame({tsfefs_add1.time_col:tss})\n",
    "\n",
    "tsfefs_add1 += df\n",
    "tsfefs_add1.take_actions(max_level=0)\n",
    "tsfefs_add1.resolve_conflict()\n",
    "tsfefs_add1.optimize_files() # will have all actions done to the highest level inside\n",
    "tsfefs_add1.maintain_cache()\n",
    "tsfefs_add1.print_tsfefs_info()\n"
   ]
  },
  {
   "cell_type": "markdown",
   "id": "40a36f5d",
   "metadata": {},
   "source": [
    " "
   ]
  },
  {
   "cell_type": "markdown",
   "id": "56707b8b",
   "metadata": {},
   "source": [
    "# 2. Adding an overlapping range of df, then resolve and maintain cache."
   ]
  },
  {
   "cell_type": "code",
   "execution_count": 10,
   "id": "71c19a86",
   "metadata": {},
   "outputs": [
    {
     "name": "stdout",
     "output_type": "stream",
     "text": [
      "path: /Users/yeehinleung/Documents/GreekIsGood/Products/TSFEFS/test TSFEFS , name: add2\n",
      "pieces: ['tlbkqajr', 'zvrrdgbw', 'reupvifg', 'wgbajqzf', 'ewjkbkme', 'xhytnciw']\n",
      "fr: 2020-09-08 00:00:00 , to: 2020-09-24 13:46:38\n",
      "frs: ['2020-09-08 00:00:00', '2020-09-10 07:33:20', '2020-09-12 15:06:40', '2020-09-14 22:40:00', '2020-09-17 06:13:20', '2020-09-19 13:46:40']\n",
      "tos: ['2020-09-10 07:33:19', '2020-09-12 15:06:39', '2020-09-14 22:39:59', '2020-09-17 06:13:19', '2020-09-19 13:46:39', '2020-09-24 13:46:38']\n",
      "types: ['csv', 'csv', 'csv', 'csv', 'csv', 'csv']\n",
      "time_col: time , datetime_format: %Y-%m-%d %H:%M:%S\n",
      "piece_name_len: 8\n",
      "colnames: ['time'] , row_cnt: 1500000\n",
      "row_cnts: [200000, 200000, 284000, 300000, 300000, 216000]\n",
      "actions: ['', '', '', '', '', ''] , action_params: [None, None, None, None, None, None]\n",
      "cache: [3, 2, 0] , cache_config: {'rows_in_cache': None, 'len_of_cache': 3}\n"
     ]
    }
   ],
   "source": [
    "# Should be within idx = 6\n",
    "ts2 = dt.strptime('2020-09-13 00:00:00',tsfefs_add2.datetime_format)\n",
    "tss2 = [ ts2 + td(seconds=2*i) for i in range(500000) ]\n",
    "df2 = pd.DataFrame({tsfefs_add2.time_col:tss2})\n",
    "\n",
    "tsfefs_add2 += df2\n",
    "tsfefs_add2.take_actions(max_level=0)\n",
    "tsfefs_add2.resolve_conflict()\n",
    "tsfefs_add2.optimize_files() # will have all actions done to the highest level inside\n",
    "tsfefs_add2.maintain_cache()\n",
    "tsfefs_add2.print_tsfefs_info()\n"
   ]
  },
  {
   "cell_type": "markdown",
   "id": "6030778e",
   "metadata": {},
   "source": [
    " "
   ]
  },
  {
   "cell_type": "markdown",
   "id": "c2b023d3",
   "metadata": {},
   "source": [
    "# 3. Adding a non-overlapping range of tsfefs."
   ]
  },
  {
   "cell_type": "code",
   "execution_count": 11,
   "id": "4fc3a393",
   "metadata": {},
   "outputs": [],
   "source": [
    "tsfefs_ = TSFEFS.create(dict_meta, \"_\")\n",
    "tsfefs_.import_dataframe(df)\n",
    "tsfefs_.take_actions(max_level=0)\n"
   ]
  },
  {
   "cell_type": "code",
   "execution_count": 12,
   "id": "a2366d73",
   "metadata": {},
   "outputs": [
    {
     "name": "stdout",
     "output_type": "stream",
     "text": [
      "path: /Users/yeehinleung/Documents/GreekIsGood/Products/TSFEFS/test TSFEFS , name: add3\n",
      "pieces: ['tlbkqajr', 'zvrrdgbw', 'yuiqvteb', 'njffcyqx', 'tourpigh', '_']\n",
      "fr: 2020-09-08 00:00:00 , to: 2021-09-02 05:19:00\n",
      "frs: ['2020-09-08 00:00:00', '2020-09-10 07:33:20', '2020-09-12 15:06:40', '2020-09-14 22:40:00', '2020-09-17 06:13:20', '2020-09-20 00:00:00']\n",
      "tos: ['2020-09-10 07:33:19', '2020-09-12 15:06:39', '2020-09-14 22:39:59', '2020-09-17 06:13:19', '2020-09-19 13:46:39', '2021-09-02 05:19:00']\n",
      "types: ['csv', 'csv', 'csv', 'csv', 'csv', 'tsfefs']\n",
      "time_col: time , datetime_format: %Y-%m-%d %H:%M:%S\n",
      "piece_name_len: 8\n",
      "colnames: ['time'] , row_cnt: 1500000\n",
      "row_cnts: [200000, 200000, 200000, 200000, 200000, 500000]\n",
      "actions: ['save', '', '', 'save', 'save', 'save'] , action_params: [None, None, None, None, None, None]\n",
      "cache: [5, 3, 4, 0] , cache_config: {'rows_in_cache': None, 'len_of_cache': 3}\n"
     ]
    }
   ],
   "source": [
    "tsfefs_add3 += tsfefs_\n",
    "tsfefs_add3.take_actions(max_level=0)\n",
    "tsfefs_add3.print_tsfefs_info()\n"
   ]
  },
  {
   "cell_type": "code",
   "execution_count": 13,
   "id": "1ba8eb7e",
   "metadata": {},
   "outputs": [
    {
     "name": "stdout",
     "output_type": "stream",
     "text": [
      "path: /Users/yeehinleung/Documents/GreekIsGood/Products/TSFEFS/test TSFEFS , name: add3\n",
      "pieces: ['tlbkqajr', 'zvrrdgbw', 'yuiqvteb', 'njffcyqx', 'tourpigh', '_', 'kehaspsi', 'mztpucrv']\n",
      "fr: 2020-09-08 00:00:00 , to: 2021-09-02 05:19:00\n",
      "frs: ['2020-09-08 00:00:00', '2020-09-10 07:33:20', '2020-09-12 15:06:40', '2020-09-14 22:40:00', '2020-09-17 06:13:20', '2020-09-20 00:00:00', '2021-02-05 21:20:00', '2021-06-24 18:40:00']\n",
      "tos: ['2020-09-10 07:33:19', '2020-09-12 15:06:39', '2020-09-14 22:39:59', '2020-09-17 06:13:19', '2020-09-19 13:46:39', '2021-02-05 21:19:00', '2021-06-24 18:39:00', '2021-09-02 05:19:00']\n",
      "types: ['csv', 'csv', 'csv', 'csv', 'csv', 'csv', 'csv', 'csv']\n",
      "time_col: time , datetime_format: %Y-%m-%d %H:%M:%S\n",
      "piece_name_len: 8\n",
      "colnames: ['time'] , row_cnt: 1500000\n",
      "row_cnts: [200000, 200000, 200000, 200000, 200000, 200000, 200000, 100000]\n",
      "actions: ['', '', '', '', '', '', '', ''] , action_params: [None, None, None, None, None, None, None, None]\n",
      "cache: [3, 4, 0] , cache_config: {'rows_in_cache': None, 'len_of_cache': 3}\n"
     ]
    }
   ],
   "source": [
    "tsfefs_add3.resolve_conflict()\n",
    "tsfefs_add3.optimize_files() # will have all actions done to the highest level inside\n",
    "tsfefs_add3.maintain_cache()\n",
    "tsfefs_add3.print_tsfefs_info()\n"
   ]
  },
  {
   "cell_type": "markdown",
   "id": "461dcb6f",
   "metadata": {},
   "source": [
    " "
   ]
  },
  {
   "cell_type": "markdown",
   "id": "a971810f",
   "metadata": {},
   "source": [
    "# 4. Adding an overlapping range of tsfefs, then resolve and maintain cache."
   ]
  },
  {
   "cell_type": "code",
   "execution_count": 14,
   "id": "b941843c",
   "metadata": {},
   "outputs": [],
   "source": [
    "tsfefs__ = TSFEFS.create(dict_meta, \"__\")\n",
    "tsfefs__.import_dataframe(df2)\n",
    "tsfefs__.take_actions(max_level=0)\n"
   ]
  },
  {
   "cell_type": "code",
   "execution_count": 15,
   "id": "e93f0edb",
   "metadata": {},
   "outputs": [
    {
     "name": "stdout",
     "output_type": "stream",
     "text": [
      "path: /Users/yeehinleung/Documents/GreekIsGood/Products/TSFEFS/test TSFEFS , name: add4\n",
      "pieces: ['tlbkqajr', 'zvrrdgbw', 'yuiqvteb', 'njffcyqx', 'tourpigh', '__']\n",
      "fr: 2020-09-08 00:00:00 , to: 2020-09-24 13:46:38\n",
      "frs: ['2020-09-08 00:00:00', '2020-09-10 07:33:20', '2020-09-12 15:06:40', '2020-09-14 22:40:00', '2020-09-17 06:13:20', '2020-09-13 00:00:00']\n",
      "tos: ['2020-09-10 07:33:19', '2020-09-12 15:06:39', '2020-09-14 22:39:59', '2020-09-17 06:13:19', '2020-09-19 13:46:39', '2020-09-24 13:46:38']\n",
      "types: ['csv', 'csv', 'csv', 'csv', 'csv', 'tsfefs']\n",
      "time_col: time , datetime_format: %Y-%m-%d %H:%M:%S\n",
      "piece_name_len: 8\n",
      "colnames: ['time'] , row_cnt: 1500000\n",
      "row_cnts: [200000, 200000, 200000, 200000, 200000, 500000]\n",
      "actions: ['save', '', '', 'save', 'save', 'save'] , action_params: [None, None, None, None, None, None]\n",
      "cache: [5, 3, 4, 0] , cache_config: {'rows_in_cache': None, 'len_of_cache': 3}\n"
     ]
    }
   ],
   "source": [
    "tsfefs_add4 += tsfefs__\n",
    "tsfefs_add4.take_actions(max_level=0)\n",
    "tsfefs_add4.print_tsfefs_info()\n"
   ]
  },
  {
   "cell_type": "code",
   "execution_count": 16,
   "id": "b19a5328",
   "metadata": {},
   "outputs": [
    {
     "name": "stdout",
     "output_type": "stream",
     "text": [
      "path: /Users/yeehinleung/Documents/GreekIsGood/Products/TSFEFS/test TSFEFS , name: add4\n",
      "pieces: ['tlbkqajr', 'zvrrdgbw', 'jiplouyc', 'heubsgsb', 'quyreqdc', 'mexhpvtj']\n",
      "fr: 2020-09-08 00:00:00 , to: 2020-09-24 13:46:38\n",
      "frs: ['2020-09-08 00:00:00', '2020-09-10 07:33:20', '2020-09-12 15:06:40', '2020-09-14 22:40:00', '2020-09-17 06:13:20', '2020-09-19 13:46:40']\n",
      "tos: ['2020-09-10 07:33:19', '2020-09-12 15:06:39', '2020-09-14 22:39:59', '2020-09-17 06:13:19', '2020-09-19 13:46:39', '2020-09-24 13:46:38']\n",
      "types: ['csv', 'csv', 'csv', 'csv', 'csv', 'csv']\n",
      "time_col: time , datetime_format: %Y-%m-%d %H:%M:%S\n",
      "piece_name_len: 8\n",
      "colnames: ['time'] , row_cnt: 1500000\n",
      "row_cnts: [200000, 200000, 284000, 300000, 300000, 216000]\n",
      "actions: ['', '', '', '', '', ''] , action_params: [None, None, None, None, None, None]\n",
      "cache: [3, 2, 0] , cache_config: {'rows_in_cache': None, 'len_of_cache': 3}\n"
     ]
    }
   ],
   "source": [
    "tsfefs_add4.resolve_conflict()\n",
    "tsfefs_add4.optimize_files() # will have all actions done to the highest level inside\n",
    "tsfefs_add4.maintain_cache()\n",
    "tsfefs_add4.print_tsfefs_info()\n"
   ]
  },
  {
   "cell_type": "markdown",
   "id": "95d04501",
   "metadata": {},
   "source": [
    " "
   ]
  },
  {
   "cell_type": "markdown",
   "id": "1b08b299",
   "metadata": {},
   "source": [
    "# 5. What if it is tsfefs2 = tsfefs + df instead of tsfefs += df?"
   ]
  },
  {
   "cell_type": "code",
   "execution_count": 17,
   "id": "4fc391d4",
   "metadata": {},
   "outputs": [
    {
     "name": "stdout",
     "output_type": "stream",
     "text": [
      "path: /Users/yeehinleung/Documents/GreekIsGood/Products/TSFEFS/test TSFEFS , name: __\n",
      "pieces: ['sqmbclzh', 'pbaxtbou', 'hrdzdthx']\n",
      "fr: 2020-09-13 00:00:00 , to: 2020-09-24 13:46:38\n",
      "frs: ['2020-09-13 00:00:00', '2020-09-17 15:06:40', '2020-09-22 06:13:20']\n",
      "tos: ['2020-09-17 15:06:38', '2020-09-22 06:13:18', '2020-09-24 13:46:38']\n",
      "types: ['csv', 'csv', 'csv']\n",
      "time_col: time , datetime_format: %Y-%m-%d %H:%M:%S\n",
      "piece_name_len: 8\n",
      "colnames: ['time'] , row_cnt: 500000\n",
      "row_cnts: [200000, 200000, 100000]\n",
      "actions: ['save', 'save', 'save'] , action_params: [None, None, None]\n",
      "cache: [1, 2, 0] , cache_config: {'rows_in_cache': None, 'len_of_cache': 3}\n"
     ]
    }
   ],
   "source": [
    "# make sure tsfefs__ is not changed after being added in case 4.\n",
    "tsfefs__.print_tsfefs_info()\n"
   ]
  },
  {
   "cell_type": "code",
   "execution_count": 18,
   "id": "7a8db2e1",
   "metadata": {},
   "outputs": [
    {
     "name": "stdout",
     "output_type": "stream",
     "text": [
      "path: /Users/yeehinleung/Documents/GreekIsGood/Products/TSFEFS/test TSFEFS , name: add5\n",
      "pieces: ['tlbkqajr', 'zvrrdgbw', 'pzfotjab', 'ytstrvvc', 'mmosihsl', 'xaocbezg']\n",
      "fr: 2020-09-08 00:00:00 , to: 2020-09-24 13:46:38\n",
      "frs: ['2020-09-08 00:00:00', '2020-09-10 07:33:20', '2020-09-12 15:06:40', '2020-09-14 22:40:00', '2020-09-17 06:13:20', '2020-09-19 13:46:40']\n",
      "tos: ['2020-09-10 07:33:19', '2020-09-12 15:06:39', '2020-09-14 22:39:59', '2020-09-17 06:13:19', '2020-09-19 13:46:39', '2020-09-24 13:46:38']\n",
      "types: ['csv', 'csv', 'csv', 'csv', 'csv', 'csv']\n",
      "time_col: time , datetime_format: %Y-%m-%d %H:%M:%S\n",
      "piece_name_len: 8\n",
      "colnames: ['time'] , row_cnt: 1500000\n",
      "row_cnts: [200000, 200000, 284000, 300000, 300000, 216000]\n",
      "actions: ['', '', '', '', '', ''] , action_params: [None, None, None, None, None, None]\n",
      "cache: [3, 2, 0] , cache_config: {'rows_in_cache': None, 'len_of_cache': 3}\n"
     ]
    }
   ],
   "source": [
    "tsfefs2 = tsfefs_add5 + tsfefs__\n",
    "tsfefs2.take_actions(max_level=0)\n",
    "tsfefs2.resolve_conflict()\n",
    "tsfefs2.optimize_files() # will have all actions done to the highest level inside\n",
    "tsfefs2.maintain_cache()\n",
    "tsfefs2.print_tsfefs_info()\n"
   ]
  },
  {
   "cell_type": "markdown",
   "id": "3e037109",
   "metadata": {},
   "source": [
    " "
   ]
  },
  {
   "cell_type": "markdown",
   "id": "ab8af223",
   "metadata": {},
   "source": [
    "# 6. Consecutive adds. "
   ]
  },
  {
   "cell_type": "code",
   "execution_count": 19,
   "id": "df2b48a4",
   "metadata": {},
   "outputs": [
    {
     "name": "stdout",
     "output_type": "stream",
     "text": [
      "path: /Users/yeehinleung/Documents/GreekIsGood/Products/TSFEFS/test TSFEFS , name: add6\n",
      "pieces: ['tlbkqajr', 'zvrrdgbw', 'bvvyxikl', 'xxnkytju', 'vqqtrsxo', 'gfyuabfr', 'jqavlnyy', 'hddsqcwy', 'vhsdtbge', 'rjhjxzzm', 'wjmvevlb', 'kkisptgp', 'nywhmpaq', 'fuompgkf']\n",
      "fr: 2020-09-08 00:00:00 , to: 2021-09-02 05:19:00\n",
      "frs: ['2020-09-08 00:00:00', '2020-09-10 07:33:20', '2020-09-12 15:06:40', '2020-09-14 22:40:00', '2020-09-16 02:26:40', '2020-09-17 06:13:20', '2020-09-18 10:00:00', '2020-09-19 13:46:40', '2020-09-22 05:45:48', '2020-09-24 11:31:36', '2020-12-03 00:27:00', '2021-02-10 11:07:00', '2021-04-20 21:47:00', '2021-06-29 08:27:00']\n",
      "tos: ['2020-09-10 07:33:19', '2020-09-12 15:06:39', '2020-09-14 22:39:59', '2020-09-16 02:26:39', '2020-09-17 06:13:19', '2020-09-18 09:59:59', '2020-09-19 13:46:39', '2020-09-22 05:45:46', '2020-09-24 11:31:34', '2020-12-03 00:26:00', '2021-02-10 11:06:00', '2021-04-20 21:46:00', '2021-06-29 08:26:00', '2021-09-02 05:19:00']\n",
      "types: ['csv', 'csv', 'csv', 'csv', 'csv', 'csv', 'csv', 'csv', 'csv', 'csv', 'csv', 'csv', 'csv', 'csv']\n",
      "time_col: time , datetime_format: %Y-%m-%d %H:%M:%S\n",
      "piece_name_len: 8\n",
      "colnames: ['time'] , row_cnt: 3000000\n",
      "row_cnts: [200000, 200000, 368000, 200000, 200000, 200000, 200000, 236800, 200000, 208374, 200000, 200000, 200000, 186826]\n",
      "actions: ['', '', '', '', '', '', '', '', '', '', '', '', '', ''] , action_params: [None, None, None, None, None, None, None, None, None, None, None, None, None, None]\n",
      "cache: [3, 2, 0] , cache_config: {'rows_in_cache': None, 'len_of_cache': 3}\n"
     ]
    }
   ],
   "source": [
    "tsfefs_add6 += df\n",
    "tsfefs_add6 += df2\n",
    "tsfefs_add6 += tsfefs_\n",
    "tsfefs_add6 += tsfefs__\n",
    "tsfefs_add6.take_actions(max_level=0)\n",
    "tsfefs_add6.resolve_conflict()\n",
    "tsfefs_add6.optimize_files() # will have all actions done to the highest level inside\n",
    "tsfefs_add6.maintain_cache()\n",
    "tsfefs_add6.print_tsfefs_info()\n"
   ]
  },
  {
   "cell_type": "markdown",
   "id": "b69cc26d",
   "metadata": {},
   "source": [
    " "
   ]
  },
  {
   "cell_type": "markdown",
   "id": "1da82457",
   "metadata": {},
   "source": [
    "# 7. Adding consecutive adds. (Prohibited!)"
   ]
  },
  {
   "cell_type": "markdown",
   "id": "181e4d44",
   "metadata": {},
   "source": [
    "#### Show such way of adding is prohibited."
   ]
  },
  {
   "cell_type": "code",
   "execution_count": 20,
   "id": "cd957e1e",
   "metadata": {},
   "outputs": [],
   "source": [
    "tsfefs__ = TSFEFS.create(dict_meta, \"__\")\n",
    "tsfefs__.import_dataframe(df2)\n",
    "tsfefs__.take_actions(max_level=0)\n",
    "\n",
    "tsfefs_ = TSFEFS.create(dict_meta, \"_\")\n",
    "tsfefs_.import_dataframe(df)\n",
    "tsfefs_.take_actions(max_level=0)\n",
    "\n",
    "tsfefs_add7 = tsfefs_base.clone(tsfefs_base.path, \"add7\")\n",
    "\n"
   ]
  },
  {
   "cell_type": "code",
   "execution_count": 21,
   "id": "5cea84e5",
   "metadata": {},
   "outputs": [
    {
     "name": "stdout",
     "output_type": "stream",
     "text": [
      "path: /Users/yeehinleung/Documents/GreekIsGood/Products/TSFEFS/test TSFEFS , name: _\n",
      "pieces: ['fmpbwrrr', 'hsjlntcl', 'ittwcbee']\n",
      "fr: 2020-09-20 00:00:00 , to: 2021-09-02 05:19:00\n",
      "frs: ['2020-09-20 00:00:00', '2021-02-05 21:20:00', '2021-06-24 18:40:00']\n",
      "tos: ['2021-02-05 21:19:00', '2021-06-24 18:39:00', '2021-09-02 05:19:00']\n",
      "types: ['csv', 'csv', 'csv']\n",
      "time_col: time , datetime_format: %Y-%m-%d %H:%M:%S\n",
      "piece_name_len: 8\n",
      "colnames: ['time'] , row_cnt: 500000\n",
      "row_cnts: [200000, 200000, 100000]\n",
      "actions: ['save', 'save', 'save'] , action_params: [None, None, None]\n",
      "cache: [1, 2, 0] , cache_config: {'rows_in_cache': None, 'len_of_cache': 3}\n",
      "\n",
      "path: /Users/yeehinleung/Documents/GreekIsGood/Products/TSFEFS/test TSFEFS , name: __\n",
      "pieces: ['wpcxhtcn', 'troayxjz', 'vntkqmhs']\n",
      "fr: 2020-09-13 00:00:00 , to: 2020-09-24 13:46:38\n",
      "frs: ['2020-09-13 00:00:00', '2020-09-17 15:06:40', '2020-09-22 06:13:20']\n",
      "tos: ['2020-09-17 15:06:38', '2020-09-22 06:13:18', '2020-09-24 13:46:38']\n",
      "types: ['csv', 'csv', 'csv']\n",
      "time_col: time , datetime_format: %Y-%m-%d %H:%M:%S\n",
      "piece_name_len: 8\n",
      "colnames: ['time'] , row_cnt: 500000\n",
      "row_cnts: [200000, 200000, 100000]\n",
      "actions: ['save', 'save', 'save'] , action_params: [None, None, None]\n",
      "cache: [1, 2, 0] , cache_config: {'rows_in_cache': None, 'len_of_cache': 3}\n"
     ]
    }
   ],
   "source": [
    "# Show the original statuses\n",
    "tsfefs_.print_tsfefs_info()\n",
    "print()\n",
    "tsfefs__.print_tsfefs_info()\n"
   ]
  },
  {
   "cell_type": "code",
   "execution_count": 22,
   "id": "b04f1295",
   "metadata": {},
   "outputs": [
    {
     "name": "stdout",
     "output_type": "stream",
     "text": [
      "Something goes wrong.\n",
      "See the explanation below.\n"
     ]
    }
   ],
   "source": [
    "try:\n",
    "    tsfefs_add7 += tsfefs__ + df2 + tsfefs_ + df\n",
    "    tsfefs_add7.take_actions(max_level=0)\n",
    "    tsfefs_add7.print_tsfefs_info()\n",
    "except:\n",
    "    print(\"Something goes wrong.\")\n",
    "    print(\"See the explanation below.\")\n"
   ]
  },
  {
   "cell_type": "markdown",
   "id": "b1e156da",
   "metadata": {},
   "source": [
    "<i><b>tsfefs_add7 += tsfefs__ + df2 + tsfefs_ + df</b></i>    &emsp;    cannot be done. <br>\n",
    "<i><b>tsfefs__ + df2 + tsfefs_ + df</b></i>    &emsp;    will modify both    &emsp;    <i><b>tsfefs__</b></i>    &emsp;    and    &emsp;    <i><b>tsfefs_</b></i>.<br> \n",
    "Since     &emsp;    <i><b>tsfefs__</b></i>    &emsp;    and    &emsp;    <i><b>tsfefs_</b></i>    &emsp;    are not up-to-date, taking action on    &emsp;    <i><b>tsfefs_add7</b></i>    &emsp;    will induce an error.\n",
    "\n"
   ]
  },
  {
   "cell_type": "markdown",
   "id": "4ee7cb9e",
   "metadata": {},
   "source": [
    "#### How the RHS stack up the structure"
   ]
  },
  {
   "cell_type": "code",
   "execution_count": 23,
   "id": "5b20756a",
   "metadata": {},
   "outputs": [
    {
     "name": "stdout",
     "output_type": "stream",
     "text": [
      "tsfefs_add7.types: ['csv', 'csv', 'csv', 'csv', 'csv']\n",
      "tsfefs_add7 has not been modified\n",
      "\n",
      "tsfefs__.types: ['csv', 'csv', 'csv', 'csv', 'tsfefs', 'csv']\n",
      "tsfefs__.frs: [Timestamp('2020-09-13 00:00:00'), Timestamp('2020-09-17 15:06:40'), Timestamp('2020-09-22 06:13:20'), None, None, None]\n",
      "tsfefs__.tos: [Timestamp('2020-09-17 15:06:38'), Timestamp('2020-09-22 06:13:18'), Timestamp('2020-09-24 13:46:38'), None, None, None]\n",
      "tsfefs__.has_valid_status(): False\n",
      "tsfefs__ has Nones in frs and tos, which is not updated.\n"
     ]
    }
   ],
   "source": [
    "print(\"tsfefs_add7.types:\", tsfefs_add7.types)\n",
    "print(\"tsfefs_add7 has not been modified\")\n",
    "print()\n",
    "print(\"tsfefs__.types:\", tsfefs__.types)\n",
    "print(\"tsfefs__.frs:\", tsfefs__.frs)\n",
    "print(\"tsfefs__.tos:\", tsfefs__.tos)\n",
    "print(\"tsfefs__.has_valid_status():\", tsfefs__.has_valid_status())\n",
    "print(\"tsfefs__ has Nones in frs and tos, which is not updated.\")\n"
   ]
  },
  {
   "cell_type": "markdown",
   "id": "483e8544",
   "metadata": {},
   "source": [
    " "
   ]
  },
  {
   "cell_type": "markdown",
   "id": "d68f47a7",
   "metadata": {},
   "source": [
    " "
   ]
  },
  {
   "cell_type": "code",
   "execution_count": 24,
   "id": "e737cb0b",
   "metadata": {},
   "outputs": [],
   "source": [
    "tsfefs_.remove()\n",
    "tsfefs__.remove()\n",
    "tsfefs_add7.remove()\n",
    "tsfefs_add6.remove()\n",
    "tsfefs_add5.remove()\n",
    "tsfefs_add4.remove()\n",
    "tsfefs_add3.remove()\n",
    "tsfefs_add2.remove()\n",
    "tsfefs_add1.remove()\n",
    "\n",
    "tsfefs_base.remove()\n"
   ]
  },
  {
   "cell_type": "code",
   "execution_count": null,
   "id": "a7c4158e",
   "metadata": {},
   "outputs": [],
   "source": []
  }
 ],
 "metadata": {
  "kernelspec": {
   "display_name": "Python 3 (ipykernel)",
   "language": "python",
   "name": "python3"
  },
  "language_info": {
   "codemirror_mode": {
    "name": "ipython",
    "version": 3
   },
   "file_extension": ".py",
   "mimetype": "text/x-python",
   "name": "python",
   "nbconvert_exporter": "python",
   "pygments_lexer": "ipython3",
   "version": "3.10.5"
  }
 },
 "nbformat": 4,
 "nbformat_minor": 5
}
