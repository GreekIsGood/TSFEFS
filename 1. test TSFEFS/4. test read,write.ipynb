{
 "cells": [
  {
   "cell_type": "code",
   "execution_count": 1,
   "id": "48ed8933",
   "metadata": {},
   "outputs": [],
   "source": [
    "import pandas as pd\n",
    "import numpy as np\n",
    "from datetime import datetime as dt, timedelta as td\n",
    "\n",
    "import json\n",
    "import random\n",
    "import string\n",
    "\n",
    "from copy import deepcopy as dc\n",
    "import os\n",
    "\n",
    "from TSFEFS import *\n"
   ]
  },
  {
   "cell_type": "markdown",
   "id": "b28e29cc",
   "metadata": {},
   "source": [
    "# Read Test Plan\n",
    "# 1. Read from a .tsfefs folder with df_index file missing.\n",
    "# 2. Read from a .tsfefs folder with an empty df_index file.\n",
    "# 3. Read from a .tsfefs folder with non-empty df_index, but without pieces.\n",
    "# 4. Read from a .tsfefs folder with non-empty df_index with pieces.\n"
   ]
  },
  {
   "cell_type": "markdown",
   "id": "072a18ee",
   "metadata": {},
   "source": [
    " "
   ]
  },
  {
   "cell_type": "markdown",
   "id": "26ad3585",
   "metadata": {},
   "source": [
    " "
   ]
  },
  {
   "cell_type": "markdown",
   "id": "143ff76d",
   "metadata": {},
   "source": [
    "# 1. Read from a .tsfefs folder with df_index file missing.\n"
   ]
  },
  {
   "cell_type": "code",
   "execution_count": 2,
   "id": "068a17f5",
   "metadata": {},
   "outputs": [],
   "source": [
    "dict_meta = {\n",
    "    \"piece_name_len\": 8,\n",
    "    \"time_col\": \"time\", \"datetime_format\": \"%Y-%m-%d %H:%M:%S\", \n",
    "    \"max_row_per_piece\": 400000,\n",
    "    \"colnames\":[\"time\"],\n",
    "    \"cache_config\":{\"rows_in_cache\":None,\"len_of_cache\":3}\n",
    "}\n"
   ]
  },
  {
   "cell_type": "code",
   "execution_count": 3,
   "id": "43ff9252",
   "metadata": {},
   "outputs": [],
   "source": [
    "path = os.getcwd()\n",
    "name = \"read1\"\n",
    "fullpath = \"%s/%s.%s\"%(path,name,TSFEFS.extension)\n",
    "if not os.path.isdir(fullpath):\n",
    "    os.mkdir(fullpath)\n",
    "\n",
    "json.dump(dict_meta, open(\"%s/%s\"%(fullpath,TSFEFS.meta_json_name),'w'))\n"
   ]
  },
  {
   "cell_type": "code",
   "execution_count": 4,
   "id": "001f8ac1",
   "metadata": {},
   "outputs": [
    {
     "name": "stdout",
     "output_type": "stream",
     "text": [
      "Can't read without the index file\n",
      "Remove folder /Users/yeehinleung/Documents/GreekIsGood/Products/TSFEFS/test TSFEFS/read1.tsfefs\n"
     ]
    }
   ],
   "source": [
    "tsfefs_read1 = TSFEFS()\n",
    "try:\n",
    "    tsfefs_read1.read(fullpath)\n",
    "except:\n",
    "    print(\"Can't read without the index file\")\n",
    "    print(\"Remove folder %s\"%fullpath)\n",
    "    for f in os.listdir(fullpath):\n",
    "        os.remove(\"%s/%s\"%(fullpath,f))\n",
    "    os.rmdir(fullpath)    \n"
   ]
  },
  {
   "cell_type": "markdown",
   "id": "f1c4ebf1",
   "metadata": {},
   "source": [
    " "
   ]
  },
  {
   "cell_type": "markdown",
   "id": "d5fb1395",
   "metadata": {},
   "source": [
    "# 2. Read from a .tsfefs folder with an empty df_index file."
   ]
  },
  {
   "cell_type": "code",
   "execution_count": 5,
   "id": "c4f4a98c",
   "metadata": {},
   "outputs": [],
   "source": [
    "df_index = pd.DataFrame({\"piece\":[],\"type\":[],\"fr\":[],\"to\":[],\"row_cnt\":[]})\n"
   ]
  },
  {
   "cell_type": "code",
   "execution_count": 6,
   "id": "a8309116",
   "metadata": {},
   "outputs": [],
   "source": [
    "path = os.getcwd()\n",
    "name = \"read2\"\n",
    "fullpath = \"%s/%s.%s\"%(path,name,TSFEFS.extension)\n",
    "if not os.path.isdir(fullpath):\n",
    "    os.mkdir(fullpath)\n",
    "\n",
    "json.dump(dict_meta, open(\"%s/%s\"%(fullpath,TSFEFS.meta_json_name),'w'))\n",
    "df_index.to_csv(\"%s/%s\"%(fullpath,TSFEFS.index_df_name), index=False)\n"
   ]
  },
  {
   "cell_type": "code",
   "execution_count": 7,
   "id": "9a1a056d",
   "metadata": {},
   "outputs": [],
   "source": [
    "tsfefs_read2 = TSFEFS()\n",
    "try:\n",
    "    tsfefs_read2.read(fullpath)\n",
    "except:\n",
    "    print(\"Can't read without the index file\")\n",
    "    print(\"Remove folder %s\"%fullpath)\n",
    "    for f in os.listdir(fullpath):\n",
    "        os.remove(\"%s/%s\"%(fullpath,f))\n",
    "    os.rmdir(fullpath)    \n"
   ]
  },
  {
   "cell_type": "code",
   "execution_count": 8,
   "id": "3941cc4b",
   "metadata": {},
   "outputs": [
    {
     "name": "stdout",
     "output_type": "stream",
     "text": [
      "path: /Users/yeehinleung/Documents/GreekIsGood/Products/TSFEFS/test TSFEFS , name: read2\n",
      "pieces: []\n",
      "fr: None , to: None\n",
      "frs: []\n",
      "tos: []\n",
      "types: []\n",
      "time_col: time , datetime_format: %Y-%m-%d %H:%M:%S\n",
      "piece_name_len: 8\n",
      "colnames: ['time'] , row_cnt: None\n",
      "row_cnts: []\n",
      "actions: [] , action_params: []\n",
      "cache: [] , cache_config: {'rows_in_cache': None, 'len_of_cache': 3}\n"
     ]
    }
   ],
   "source": [
    "tsfefs_read2.print_tsfefs_info()\n"
   ]
  },
  {
   "cell_type": "code",
   "execution_count": 9,
   "id": "fb797247",
   "metadata": {},
   "outputs": [],
   "source": [
    "tsfefs_read2.remove()\n",
    "del tsfefs_read2; tsfefs_read2 = None\n"
   ]
  },
  {
   "cell_type": "markdown",
   "id": "1e469d95",
   "metadata": {},
   "source": [
    " "
   ]
  },
  {
   "cell_type": "markdown",
   "id": "5d1873fc",
   "metadata": {},
   "source": [
    "# 3. Read from a .tsfefs folder with non-empty df_index, but without pieces.\n"
   ]
  },
  {
   "cell_type": "code",
   "execution_count": 10,
   "id": "a9c7fad7",
   "metadata": {},
   "outputs": [],
   "source": [
    "fr, to = \"2020-01-01 00:00:00\", \"2020-01-02 00:00:00\"\n",
    "fr = dt.strptime(fr,dict_meta[\"datetime_format\"])\n",
    "to = dt.strptime(to,dict_meta[\"datetime_format\"])\n",
    "ts_gap = (to - fr)\n",
    "seconds = ts_gap.seconds + ts_gap.days*24*60*60\n",
    "# print(seconds)\n",
    "\n",
    "df_index = pd.DataFrame({\"piece\":[\"abcdefgh\"],\"type\":[\"csv\"],\"fr\":[\"2020-01-01 00:00:00\"],\"to\":[\"2020-01-02 00:00:00\"],\"row_cnt\":[seconds+1]})\n"
   ]
  },
  {
   "cell_type": "code",
   "execution_count": 11,
   "id": "ab9bf242",
   "metadata": {},
   "outputs": [],
   "source": [
    "path = os.getcwd()\n",
    "name = \"read3\"\n",
    "fullpath = \"%s/%s.%s\"%(path,name,TSFEFS.extension)\n",
    "if not os.path.isdir(fullpath):\n",
    "    os.mkdir(fullpath)\n",
    "\n",
    "json.dump(dict_meta, open(\"%s/%s\"%(fullpath,TSFEFS.meta_json_name),'w'))\n",
    "df_index.to_csv(\"%s/%s\"%(fullpath,TSFEFS.index_df_name), index=False)\n"
   ]
  },
  {
   "cell_type": "code",
   "execution_count": 12,
   "id": "ed48b468",
   "metadata": {},
   "outputs": [],
   "source": [
    "tsfefs_read3 = TSFEFS()\n",
    "try:\n",
    "    tsfefs_read3.read(fullpath)\n",
    "except:\n",
    "    print(\"Can't read without the index file\")\n",
    "    print(\"Remove folder %s\"%fullpath)\n",
    "    for f in os.listdir(fullpath):\n",
    "        os.remove(\"%s/%s\"%(fullpath,f))\n",
    "    os.rmdir(fullpath)\n"
   ]
  },
  {
   "cell_type": "code",
   "execution_count": 13,
   "id": "6425cf00",
   "metadata": {},
   "outputs": [
    {
     "name": "stdout",
     "output_type": "stream",
     "text": [
      "path: /Users/yeehinleung/Documents/GreekIsGood/Products/TSFEFS/test TSFEFS , name: read3\n",
      "pieces: ['abcdefgh']\n",
      "fr: 2020-01-01 00:00:00 , to: 2020-01-02 00:00:00\n",
      "frs: ['2020-01-01 00:00:00']\n",
      "tos: ['2020-01-02 00:00:00']\n",
      "types: ['csv']\n",
      "time_col: time , datetime_format: %Y-%m-%d %H:%M:%S\n",
      "piece_name_len: 8\n",
      "colnames: ['time'] , row_cnt: 86401\n",
      "row_cnts: [86401]\n",
      "actions: [''] , action_params: [None]\n",
      "cache: [] , cache_config: {'rows_in_cache': None, 'len_of_cache': 3}\n"
     ]
    }
   ],
   "source": [
    "tsfefs_read3.print_tsfefs_info()\n"
   ]
  },
  {
   "cell_type": "markdown",
   "id": "a63c8b53",
   "metadata": {},
   "source": [
    "#### What will happen when accessing \"time\" column without the piece?"
   ]
  },
  {
   "cell_type": "code",
   "execution_count": 14,
   "id": "6938b53e",
   "metadata": {},
   "outputs": [
    {
     "name": "stdout",
     "output_type": "stream",
     "text": [
      "Error because the file piece doesn't exist.\n",
      "Remove folder /Users/yeehinleung/Documents/GreekIsGood/Products/TSFEFS/test TSFEFS/read3.tsfefs\n"
     ]
    }
   ],
   "source": [
    "try:\n",
    "    print(tsfefs_read3[\"time\"])\n",
    "except:\n",
    "    print(\"Error because the file piece doesn't exist.\")\n",
    "    print(\"Remove folder %s\"%fullpath)\n",
    "    for f in os.listdir(fullpath):\n",
    "        os.remove(\"%s/%s\"%(fullpath,f))\n",
    "    os.rmdir(fullpath)\n"
   ]
  },
  {
   "cell_type": "markdown",
   "id": "96010bd6",
   "metadata": {},
   "source": [
    " "
   ]
  },
  {
   "cell_type": "markdown",
   "id": "110361ff",
   "metadata": {},
   "source": [
    "# 4. Read from a .tsfefs folder with non-empty df_index with pieces."
   ]
  },
  {
   "cell_type": "code",
   "execution_count": 15,
   "id": "5a164377",
   "metadata": {},
   "outputs": [
    {
     "name": "stdout",
     "output_type": "stream",
     "text": [
      "2020-01-01 00:00:00 2020-01-02 00:00:00\n"
     ]
    }
   ],
   "source": [
    "tss = [ fr + td(seconds=i) for i in range(seconds+1) ]\n",
    "print(min(tss),max(tss))\n",
    "df = pd.DataFrame({dict_meta[\"time_col\"]:tss})\n"
   ]
  },
  {
   "cell_type": "code",
   "execution_count": 16,
   "id": "bbdb0354",
   "metadata": {},
   "outputs": [],
   "source": [
    "path = os.getcwd()\n",
    "name = \"read4\"\n",
    "fullpath = \"%s/%s.%s\"%(path,name,TSFEFS.extension)\n",
    "if not os.path.isdir(fullpath):\n",
    "    os.mkdir(fullpath)\n",
    "\n",
    "json.dump(dict_meta, open(\"%s/%s\"%(fullpath,TSFEFS.meta_json_name),'w'))\n",
    "df_index.to_csv(\"%s/%s\"%(fullpath,TSFEFS.index_df_name), index=False)\n",
    "df.to_csv(\"%s/%s\"%(fullpath,\"abcdefgh\"),index=False)\n"
   ]
  },
  {
   "cell_type": "code",
   "execution_count": 17,
   "id": "bc9b4bba",
   "metadata": {},
   "outputs": [],
   "source": [
    "tsfefs_read4 = TSFEFS()\n",
    "try:\n",
    "    tsfefs_read4.read(fullpath)\n",
    "except:\n",
    "    print(\"Can't read without the index file\")\n",
    "    print(\"Remove folder %s\"%fullpath)\n",
    "    for f in os.listdir(fullpath):\n",
    "        os.remove(\"%s/%s\"%(fullpath,f))\n",
    "    os.rmdir(fullpath)\n"
   ]
  },
  {
   "cell_type": "code",
   "execution_count": 18,
   "id": "7b4b9237",
   "metadata": {},
   "outputs": [
    {
     "name": "stdout",
     "output_type": "stream",
     "text": [
      "0       2020-01-01 00:00:00\n",
      "1       2020-01-01 00:00:01\n",
      "2       2020-01-01 00:00:02\n",
      "3       2020-01-01 00:00:03\n",
      "4       2020-01-01 00:00:04\n",
      "                ...        \n",
      "86396   2020-01-01 23:59:56\n",
      "86397   2020-01-01 23:59:57\n",
      "86398   2020-01-01 23:59:58\n",
      "86399   2020-01-01 23:59:59\n",
      "86400   2020-01-02 00:00:00\n",
      "Name: time, Length: 86401, dtype: datetime64[ns]\n"
     ]
    }
   ],
   "source": [
    "try:\n",
    "    print(tsfefs_read4[\"time\"])\n",
    "except:\n",
    "    print(\"Error because the file piece doesn't exist.\")\n",
    "    print(\"Remove folder %s\"%fullpath)\n",
    "    for f in os.listdir(fullpath):\n",
    "        os.remove(\"%s/%s\"%(fullpath,f))\n",
    "    os.rmdir(fullpath)\n"
   ]
  },
  {
   "cell_type": "code",
   "execution_count": 19,
   "id": "7efbc753",
   "metadata": {},
   "outputs": [],
   "source": [
    "tsfefs_read4.remove()\n"
   ]
  },
  {
   "cell_type": "markdown",
   "id": "266ace68",
   "metadata": {},
   "source": [
    " "
   ]
  },
  {
   "cell_type": "markdown",
   "id": "073dc716",
   "metadata": {},
   "source": [
    "# Write Test Strategy: \n",
    "## - base tsfefs instance create by load() and import(),\n",
    "## - copy to each case,\n",
    "## - try various write().\n"
   ]
  },
  {
   "cell_type": "code",
   "execution_count": 20,
   "id": "9735a669",
   "metadata": {},
   "outputs": [
    {
     "name": "stdout",
     "output_type": "stream",
     "text": [
      "path: /Users/yeehinleung/Documents/GreekIsGood/Products/TSFEFS/test TSFEFS , name: base\n",
      "pieces: ['hbngiumq']\n",
      "fr: 2020-01-01 00:00:00 , to: 2020-01-02 00:00:00\n",
      "frs: ['2020-01-01 00:00:00']\n",
      "tos: ['2020-01-02 00:00:00']\n",
      "types: ['csv']\n",
      "time_col: time , datetime_format: %Y-%m-%d %H:%M:%S\n",
      "piece_name_len: 8\n",
      "colnames: ['time'] , row_cnt: 86401\n",
      "row_cnts: [86401]\n",
      "actions: ['save'] , action_params: [None]\n",
      "cache: [0] , cache_config: {'rows_in_cache': None, 'len_of_cache': 3}\n"
     ]
    }
   ],
   "source": [
    "tsfefs_base = TSFEFS.create(dict_meta, \"base\")\n",
    "tsfefs_base.import_dataframe(df)\n",
    "tsfefs_base.take_actions(max_level=0)\n",
    "tsfefs_base.print_tsfefs_info()\n"
   ]
  },
  {
   "cell_type": "markdown",
   "id": "6167f38e",
   "metadata": {},
   "source": [
    "# Write Test Plan\n",
    "# 1. Clone and write as write1.\n",
    "# 2. Clone, add a non-conflicting dataframe, and write as write2.\n",
    "# 3. Clone, add a conflicting dataframe, and write as write3.\n",
    "# 4. Clone, add a non-conflicting tsfefs_, and write as write4.\n",
    "# 5. Clone, add a conflicting tsfefs_, and write as write5."
   ]
  },
  {
   "cell_type": "markdown",
   "id": "a66c637f",
   "metadata": {},
   "source": [
    " "
   ]
  },
  {
   "cell_type": "markdown",
   "id": "0d6d7776",
   "metadata": {},
   "source": [
    "# 1. Clone and write as write1.\n"
   ]
  },
  {
   "cell_type": "code",
   "execution_count": 21,
   "id": "c3b86485",
   "metadata": {},
   "outputs": [
    {
     "name": "stdout",
     "output_type": "stream",
     "text": [
      "path: /Users/yeehinleung/Documents/GreekIsGood/Products/TSFEFS/test TSFEFS , name: write1\n",
      "pieces: ['hbngiumq']\n",
      "fr: 2020-01-01 00:00:00 , to: 2020-01-02 00:00:00\n",
      "frs: ['2020-01-01 00:00:00']\n",
      "tos: ['2020-01-02 00:00:00']\n",
      "types: ['csv']\n",
      "time_col: time , datetime_format: %Y-%m-%d %H:%M:%S\n",
      "piece_name_len: 8\n",
      "colnames: ['time'] , row_cnt: 86401\n",
      "row_cnts: [86401]\n",
      "actions: ['save'] , action_params: [None]\n",
      "cache: [0] , cache_config: {'rows_in_cache': None, 'len_of_cache': 3}\n"
     ]
    }
   ],
   "source": [
    "tsfefs_write1 = tsfefs_base.clone(tsfefs_base.path, \"write1\")\n",
    "tsfefs_write1.print_tsfefs_info()\n"
   ]
  },
  {
   "cell_type": "code",
   "execution_count": 22,
   "id": "a31f75f5",
   "metadata": {},
   "outputs": [
    {
     "name": "stdout",
     "output_type": "stream",
     "text": [
      "Actions not cleared, cannot write.\n"
     ]
    }
   ],
   "source": [
    "fullpath = \"%s/%s.%s\"%(tsfefs_write1.path,tsfefs_write1.name,TSFEFS.extension)\n",
    "try:\n",
    "    tsfefs_write1.write(fullpath)\n",
    "except:\n",
    "    print(\"Actions not cleared, cannot write.\")\n"
   ]
  },
  {
   "cell_type": "code",
   "execution_count": 23,
   "id": "113d0f3f",
   "metadata": {},
   "outputs": [
    {
     "name": "stdout",
     "output_type": "stream",
     "text": [
      "path: /Users/yeehinleung/Documents/GreekIsGood/Products/TSFEFS/test TSFEFS , name: write1\n",
      "pieces: ['hbngiumq']\n",
      "fr: 2020-01-01 00:00:00 , to: 2020-01-02 00:00:00\n",
      "frs: ['2020-01-01 00:00:00']\n",
      "tos: ['2020-01-02 00:00:00']\n",
      "types: ['csv']\n",
      "time_col: time , datetime_format: %Y-%m-%d %H:%M:%S\n",
      "piece_name_len: 8\n",
      "colnames: ['time'] , row_cnt: 86401\n",
      "row_cnts: [86401]\n",
      "actions: [''] , action_params: [None]\n",
      "cache: [0] , cache_config: {'rows_in_cache': None, 'len_of_cache': 3}\n"
     ]
    }
   ],
   "source": [
    "tsfefs_write1.take_actions(max_level=4)\n",
    "tsfefs_write1.write(fullpath)\n",
    "tsfefs_write1.print_tsfefs_info()\n",
    "del tsfefs_write1; tsfefs_write1 = None\n"
   ]
  },
  {
   "cell_type": "markdown",
   "id": "dce58acb",
   "metadata": {},
   "source": [
    "#### check by reading it again."
   ]
  },
  {
   "cell_type": "code",
   "execution_count": 24,
   "id": "ca191051",
   "metadata": {},
   "outputs": [
    {
     "name": "stdout",
     "output_type": "stream",
     "text": [
      "0       2020-01-01 00:00:00\n",
      "1       2020-01-01 00:00:01\n",
      "2       2020-01-01 00:00:02\n",
      "3       2020-01-01 00:00:03\n",
      "4       2020-01-01 00:00:04\n",
      "                ...        \n",
      "86396   2020-01-01 23:59:56\n",
      "86397   2020-01-01 23:59:57\n",
      "86398   2020-01-01 23:59:58\n",
      "86399   2020-01-01 23:59:59\n",
      "86400   2020-01-02 00:00:00\n",
      "Name: time, Length: 86401, dtype: datetime64[ns]\n",
      "\n",
      "path: /Users/yeehinleung/Documents/GreekIsGood/Products/TSFEFS/test TSFEFS , name: write1\n",
      "pieces: ['hbngiumq']\n",
      "fr: 2020-01-01 00:00:00 , to: 2020-01-02 00:00:00\n",
      "frs: ['2020-01-01 00:00:00']\n",
      "tos: ['2020-01-02 00:00:00']\n",
      "types: ['csv']\n",
      "time_col: time , datetime_format: %Y-%m-%d %H:%M:%S\n",
      "piece_name_len: 8\n",
      "colnames: ['time'] , row_cnt: 86401\n",
      "row_cnts: [86401]\n",
      "actions: [''] , action_params: [None]\n",
      "cache: [] , cache_config: {'rows_in_cache': None, 'len_of_cache': 3}\n"
     ]
    }
   ],
   "source": [
    "tsfefs_write1 = TSFEFS()\n",
    "tsfefs_write1.read(fullpath)\n",
    "print(tsfefs_write1[tsfefs_write1.time_col])\n",
    "print()\n",
    "tsfefs_write1.print_tsfefs_info()\n",
    "tsfefs_write1.remove()\n"
   ]
  },
  {
   "cell_type": "markdown",
   "id": "e6cc8366",
   "metadata": {},
   "source": [
    " "
   ]
  },
  {
   "cell_type": "markdown",
   "id": "bd8f4691",
   "metadata": {},
   "source": [
    "# 2. Clone, add a non-conflicting dataframe, and write as write2.\n"
   ]
  },
  {
   "cell_type": "code",
   "execution_count": 25,
   "id": "e5fce7e7",
   "metadata": {},
   "outputs": [
    {
     "name": "stdout",
     "output_type": "stream",
     "text": [
      "2020-01-02 00:00:00 2020-01-03 00:00:00\n"
     ]
    }
   ],
   "source": [
    "tss2 = [ ts + td(days=1) for ts in tss ]\n",
    "print(min(tss2),max(tss2))\n",
    "df2 = pd.DataFrame({dict_meta[\"time_col\"]:tss2})\n"
   ]
  },
  {
   "cell_type": "code",
   "execution_count": 26,
   "id": "29e91869",
   "metadata": {},
   "outputs": [
    {
     "name": "stdout",
     "output_type": "stream",
     "text": [
      "path: /Users/yeehinleung/Documents/GreekIsGood/Products/TSFEFS/test TSFEFS , name: write2\n",
      "pieces: ['hbngiumq', 'ccuvspxr']\n",
      "fr: 2020-01-01 00:00:00 , to: 2020-01-03 00:00:00\n",
      "frs: ['2020-01-01 00:00:00', '2020-01-02 00:00:00']\n",
      "tos: ['2020-01-02 00:00:00', '2020-01-03 00:00:00']\n",
      "types: ['csv', 'csv']\n",
      "time_col: time , datetime_format: %Y-%m-%d %H:%M:%S\n",
      "piece_name_len: 8\n",
      "colnames: ['time'] , row_cnt: 172802\n",
      "row_cnts: [86401, 86401]\n",
      "actions: ['save', 'save'] , action_params: [None, None]\n",
      "cache: [1, 0] , cache_config: {'rows_in_cache': None, 'len_of_cache': 3}\n"
     ]
    }
   ],
   "source": [
    "tsfefs_write2 = tsfefs_base.clone(tsfefs_base.path, \"write2\")\n",
    "tsfefs_write2 += df2\n",
    "tsfefs_write2.take_actions(max_level=0)\n",
    "tsfefs_write2.print_tsfefs_info()\n"
   ]
  },
  {
   "cell_type": "code",
   "execution_count": 27,
   "id": "fd27dc37",
   "metadata": {},
   "outputs": [
    {
     "name": "stdout",
     "output_type": "stream",
     "text": [
      "path: /Users/yeehinleung/Documents/GreekIsGood/Products/TSFEFS/test TSFEFS , name: write2\n",
      "pieces: ['hbngiumq', 'ccuvspxr']\n",
      "fr: 2020-01-01 00:00:00 , to: 2020-01-03 00:00:00\n",
      "frs: ['2020-01-01 00:00:00', '2020-01-02 00:00:00']\n",
      "tos: ['2020-01-02 00:00:00', '2020-01-03 00:00:00']\n",
      "types: ['csv', 'csv']\n",
      "time_col: time , datetime_format: %Y-%m-%d %H:%M:%S\n",
      "piece_name_len: 8\n",
      "colnames: ['time'] , row_cnt: 172802\n",
      "row_cnts: [86401, 86401]\n",
      "actions: ['', ''] , action_params: [None, None]\n",
      "cache: [1, 0] , cache_config: {'rows_in_cache': None, 'len_of_cache': 3}\n"
     ]
    }
   ],
   "source": [
    "tsfefs_write2.take_actions(max_level=4)\n",
    "fullpath = \"%s/%s.%s\"%(tsfefs_write2.path,tsfefs_write2.name,TSFEFS.extension)\n",
    "tsfefs_write2.write(fullpath)\n",
    "tsfefs_write2.print_tsfefs_info()\n",
    "del tsfefs_write2; tsfefs_write2 = None\n"
   ]
  },
  {
   "cell_type": "markdown",
   "id": "9424252a",
   "metadata": {},
   "source": [
    "#### check by reading it again."
   ]
  },
  {
   "cell_type": "code",
   "execution_count": 28,
   "id": "ec78f47f",
   "metadata": {},
   "outputs": [
    {
     "name": "stdout",
     "output_type": "stream",
     "text": [
      "0        2020-01-01 00:00:00\n",
      "1        2020-01-01 00:00:01\n",
      "2        2020-01-01 00:00:02\n",
      "3        2020-01-01 00:00:03\n",
      "4        2020-01-01 00:00:04\n",
      "                 ...        \n",
      "172797   2020-01-02 23:59:56\n",
      "172798   2020-01-02 23:59:57\n",
      "172799   2020-01-02 23:59:58\n",
      "172800   2020-01-02 23:59:59\n",
      "172801   2020-01-03 00:00:00\n",
      "Name: time, Length: 172802, dtype: datetime64[ns]\n",
      "\n",
      "path: /Users/yeehinleung/Documents/GreekIsGood/Products/TSFEFS/test TSFEFS , name: write2\n",
      "pieces: ['hbngiumq', 'ccuvspxr']\n",
      "fr: 2020-01-01 00:00:00 , to: 2020-01-03 00:00:00\n",
      "frs: ['2020-01-01 00:00:00', '2020-01-02 00:00:00']\n",
      "tos: ['2020-01-02 00:00:00', '2020-01-03 00:00:00']\n",
      "types: ['csv', 'csv']\n",
      "time_col: time , datetime_format: %Y-%m-%d %H:%M:%S\n",
      "piece_name_len: 8\n",
      "colnames: ['time'] , row_cnt: 172802\n",
      "row_cnts: [86401, 86401]\n",
      "actions: ['', ''] , action_params: [None, None]\n",
      "cache: [] , cache_config: {'rows_in_cache': None, 'len_of_cache': 3}\n"
     ]
    }
   ],
   "source": [
    "tsfefs_write2 = TSFEFS()\n",
    "tsfefs_write2.read(fullpath)\n",
    "print(tsfefs_write2[tsfefs_write2.time_col])\n",
    "print()\n",
    "tsfefs_write2.print_tsfefs_info()\n",
    "tsfefs_write2.remove()\n"
   ]
  },
  {
   "cell_type": "markdown",
   "id": "2505d455",
   "metadata": {},
   "source": [
    " "
   ]
  },
  {
   "cell_type": "markdown",
   "id": "a43b369f",
   "metadata": {},
   "source": [
    "# 3. Clone, add a conflicting dataframe, and write as write3.\n"
   ]
  },
  {
   "cell_type": "code",
   "execution_count": 29,
   "id": "db47ffe3",
   "metadata": {},
   "outputs": [
    {
     "name": "stdout",
     "output_type": "stream",
     "text": [
      "2020-01-01 12:00:00 2020-01-02 12:00:00\n"
     ]
    }
   ],
   "source": [
    "tss3 = [ ts + td(days=0.5) for ts in tss ]\n",
    "print(min(tss3),max(tss3))\n",
    "df3 = pd.DataFrame({dict_meta[\"time_col\"]:tss3})\n"
   ]
  },
  {
   "cell_type": "code",
   "execution_count": 30,
   "id": "78ed6e8a",
   "metadata": {},
   "outputs": [
    {
     "name": "stdout",
     "output_type": "stream",
     "text": [
      "path: /Users/yeehinleung/Documents/GreekIsGood/Products/TSFEFS/test TSFEFS , name: write3\n",
      "pieces: ['hbngiumq', 'gzliayqf']\n",
      "fr: 2020-01-01 00:00:00 , to: 2020-01-02 12:00:00\n",
      "frs: ['2020-01-01 00:00:00', '2020-01-01 12:00:00']\n",
      "tos: ['2020-01-02 00:00:00', '2020-01-02 12:00:00']\n",
      "types: ['csv', 'csv']\n",
      "time_col: time , datetime_format: %Y-%m-%d %H:%M:%S\n",
      "piece_name_len: 8\n",
      "colnames: ['time'] , row_cnt: 172802\n",
      "row_cnts: [86401, 86401]\n",
      "actions: ['save', 'save'] , action_params: [None, None]\n",
      "cache: [1, 0] , cache_config: {'rows_in_cache': None, 'len_of_cache': 3}\n"
     ]
    }
   ],
   "source": [
    "tsfefs_write3 = tsfefs_base.clone(tsfefs_base.path, \"write3\")\n",
    "tsfefs_write3 += df3\n",
    "tsfefs_write3.take_actions(max_level=0)\n",
    "tsfefs_write3.print_tsfefs_info()\n"
   ]
  },
  {
   "cell_type": "code",
   "execution_count": 31,
   "id": "82398f24",
   "metadata": {},
   "outputs": [
    {
     "name": "stdout",
     "output_type": "stream",
     "text": [
      "path: /Users/yeehinleung/Documents/GreekIsGood/Products/TSFEFS/test TSFEFS , name: write3\n",
      "pieces: ['hbngiumq', 'gzliayqf']\n",
      "fr: 2020-01-01 00:00:00 , to: 2020-01-02 12:00:00\n",
      "frs: ['2020-01-01 00:00:00', '2020-01-01 12:00:00']\n",
      "tos: ['2020-01-02 00:00:00', '2020-01-02 12:00:00']\n",
      "types: ['csv', 'csv']\n",
      "time_col: time , datetime_format: %Y-%m-%d %H:%M:%S\n",
      "piece_name_len: 8\n",
      "colnames: ['time'] , row_cnt: 172802\n",
      "row_cnts: [86401, 86401]\n",
      "actions: ['', ''] , action_params: [None, None]\n",
      "cache: [1, 0] , cache_config: {'rows_in_cache': None, 'len_of_cache': 3}\n"
     ]
    }
   ],
   "source": [
    "tsfefs_write3.take_actions(max_level=4)\n",
    "fullpath = \"%s/%s.%s\"%(tsfefs_write3.path,tsfefs_write3.name,TSFEFS.extension)\n",
    "tsfefs_write3.write(fullpath)\n",
    "tsfefs_write3.print_tsfefs_info()\n",
    "del tsfefs_write3; tsfefs_write3 = None\n"
   ]
  },
  {
   "cell_type": "markdown",
   "id": "ede7bdad",
   "metadata": {},
   "source": [
    "#### check by reading it again."
   ]
  },
  {
   "cell_type": "code",
   "execution_count": 32,
   "id": "218be946",
   "metadata": {},
   "outputs": [
    {
     "name": "stdout",
     "output_type": "stream",
     "text": [
      "Conclusion: can be saved with conflicting times, but must resolve_conflict() after read and before access.\n",
      "\n",
      "0        2020-01-01 00:00:00\n",
      "1        2020-01-01 00:00:01\n",
      "2        2020-01-01 00:00:02\n",
      "3        2020-01-01 00:00:03\n",
      "4        2020-01-01 00:00:04\n",
      "                 ...        \n",
      "172797   2020-01-02 11:59:56\n",
      "172798   2020-01-02 11:59:57\n",
      "172799   2020-01-02 11:59:58\n",
      "172800   2020-01-02 11:59:59\n",
      "172801   2020-01-02 12:00:00\n",
      "Name: time, Length: 172802, dtype: datetime64[ns]\n",
      "\n",
      "path: /Users/yeehinleung/Documents/GreekIsGood/Products/TSFEFS/test TSFEFS , name: write3\n",
      "pieces: ['rfothaet', 'qtptrbec', 'mevvhsik']\n",
      "fr: 2020-01-01 00:00:00 , to: 2020-01-02 12:00:00\n",
      "frs: ['2020-01-01 00:00:00', '2020-01-02 00:00:01', '2020-01-01 12:00:00']\n",
      "tos: ['2020-01-01 11:59:59', '2020-01-02 12:00:00', '2020-01-02 00:00:00']\n",
      "types: ['csv', 'csv', 'csv']\n",
      "time_col: time , datetime_format: %Y-%m-%d %H:%M:%S\n",
      "piece_name_len: 8\n",
      "colnames: ['time'] , row_cnt: 172802\n",
      "row_cnts: [43200, 43200, 86402]\n",
      "actions: ['', '', ''] , action_params: [None, None, None]\n",
      "cache: [2, 1, 0] , cache_config: {'rows_in_cache': None, 'len_of_cache': 3}\n"
     ]
    }
   ],
   "source": [
    "tsfefs_write3 = TSFEFS()\n",
    "tsfefs_write3.read(fullpath)\n",
    "\n",
    "try:\n",
    "    print(tsfefs_write3[tsfefs_write3.time_col])\n",
    "    print()\n",
    "    tsfefs_write3.print_tsfefs_info()\n",
    "    tsfefs_write3.remove()\n",
    "except:\n",
    "    print(\"Conclusion: can be saved with conflicting times, but must resolve_conflict() after read and before access.\")\n",
    "    print()\n",
    "    tsfefs_write3.resolve_conflict()\n",
    "    print(tsfefs_write3[tsfefs_write3.time_col])\n",
    "    print()\n",
    "    tsfefs_write3.print_tsfefs_info()\n",
    "    tsfefs_write3.remove()\n"
   ]
  },
  {
   "cell_type": "markdown",
   "id": "0fc805aa",
   "metadata": {},
   "source": [
    " "
   ]
  },
  {
   "cell_type": "markdown",
   "id": "577012e0",
   "metadata": {},
   "source": [
    "# 4. Clone, add a non-conflicting tsfefs_, and write as write4.\n"
   ]
  },
  {
   "cell_type": "code",
   "execution_count": 33,
   "id": "6cde1d89",
   "metadata": {},
   "outputs": [
    {
     "name": "stdout",
     "output_type": "stream",
     "text": [
      "path: /Users/yeehinleung/Documents/GreekIsGood/Products/TSFEFS/test TSFEFS , name: _\n",
      "pieces: ['qwamvhyu']\n",
      "fr: 2020-01-02 00:00:00 , to: 2020-01-03 00:00:00\n",
      "frs: ['2020-01-02 00:00:00']\n",
      "tos: ['2020-01-03 00:00:00']\n",
      "types: ['csv']\n",
      "time_col: time , datetime_format: %Y-%m-%d %H:%M:%S\n",
      "piece_name_len: 8\n",
      "colnames: ['time'] , row_cnt: 86401\n",
      "row_cnts: [86401]\n",
      "actions: ['save'] , action_params: [None]\n",
      "cache: [0] , cache_config: {'rows_in_cache': None, 'len_of_cache': 3}\n"
     ]
    }
   ],
   "source": [
    "# This is the tsfefs to be added\n",
    "tsfefs_ = TSFEFS.create(dict_meta, \"_\")\n",
    "tsfefs_.import_dataframe(df2)\n",
    "tsfefs_.take_actions(max_level=0)\n",
    "tsfefs_.print_tsfefs_info()\n"
   ]
  },
  {
   "cell_type": "code",
   "execution_count": 34,
   "id": "c143958a",
   "metadata": {},
   "outputs": [
    {
     "name": "stdout",
     "output_type": "stream",
     "text": [
      "path: /Users/yeehinleung/Documents/GreekIsGood/Products/TSFEFS/test TSFEFS , name: write4\n",
      "pieces: ['hbngiumq', '_']\n",
      "fr: 2020-01-01 00:00:00 , to: 2020-01-03 00:00:00\n",
      "frs: ['2020-01-01 00:00:00', '2020-01-02 00:00:00']\n",
      "tos: ['2020-01-02 00:00:00', '2020-01-03 00:00:00']\n",
      "types: ['csv', 'tsfefs']\n",
      "time_col: time , datetime_format: %Y-%m-%d %H:%M:%S\n",
      "piece_name_len: 8\n",
      "colnames: ['time'] , row_cnt: 172802\n",
      "row_cnts: [86401, 86401]\n",
      "actions: ['save', 'save'] , action_params: [None, None]\n",
      "cache: [1, 0] , cache_config: {'rows_in_cache': None, 'len_of_cache': 3}\n"
     ]
    }
   ],
   "source": [
    "tsfefs_write4 = tsfefs_base.clone(tsfefs_base.path, \"write4\")\n",
    "tsfefs_write4 += tsfefs_\n",
    "tsfefs_write4.take_actions(max_level=0)\n",
    "tsfefs_write4.print_tsfefs_info()\n"
   ]
  },
  {
   "cell_type": "code",
   "execution_count": 35,
   "id": "58785478",
   "metadata": {},
   "outputs": [
    {
     "name": "stdout",
     "output_type": "stream",
     "text": [
      "path: /Users/yeehinleung/Documents/GreekIsGood/Products/TSFEFS/test TSFEFS , name: write4\n",
      "pieces: ['hbngiumq', '_']\n",
      "fr: 2020-01-01 00:00:00 , to: 2020-01-03 00:00:00\n",
      "frs: ['2020-01-01 00:00:00', '2020-01-02 00:00:00']\n",
      "tos: ['2020-01-02 00:00:00', '2020-01-03 00:00:00']\n",
      "types: ['csv', 'tsfefs']\n",
      "time_col: time , datetime_format: %Y-%m-%d %H:%M:%S\n",
      "piece_name_len: 8\n",
      "colnames: ['time'] , row_cnt: 172802\n",
      "row_cnts: [86401, 86401]\n",
      "actions: ['', ''] , action_params: [None, None]\n",
      "cache: [1, 0] , cache_config: {'rows_in_cache': None, 'len_of_cache': 3}\n"
     ]
    }
   ],
   "source": [
    "tsfefs_write4.take_actions(max_level=4)\n",
    "fullpath = \"%s/%s.%s\"%(tsfefs_write4.path,tsfefs_write4.name,TSFEFS.extension)\n",
    "tsfefs_write4.write(fullpath)\n",
    "tsfefs_write4.print_tsfefs_info()\n",
    "del tsfefs_write4; tsfefs_write4 = None\n"
   ]
  },
  {
   "cell_type": "markdown",
   "id": "24c8ce98",
   "metadata": {},
   "source": [
    "#### check by reading it again."
   ]
  },
  {
   "cell_type": "code",
   "execution_count": 36,
   "id": "f31b5b21",
   "metadata": {},
   "outputs": [
    {
     "name": "stdout",
     "output_type": "stream",
     "text": [
      "0        2020-01-01 00:00:00\n",
      "1        2020-01-01 00:00:01\n",
      "2        2020-01-01 00:00:02\n",
      "3        2020-01-01 00:00:03\n",
      "4        2020-01-01 00:00:04\n",
      "                 ...        \n",
      "172797   2020-01-02 23:59:56\n",
      "172798   2020-01-02 23:59:57\n",
      "172799   2020-01-02 23:59:58\n",
      "172800   2020-01-02 23:59:59\n",
      "172801   2020-01-03 00:00:00\n",
      "Name: time, Length: 172802, dtype: datetime64[ns]\n",
      "\n",
      "path: /Users/yeehinleung/Documents/GreekIsGood/Products/TSFEFS/test TSFEFS , name: write4\n",
      "pieces: ['hbngiumq', '_']\n",
      "fr: 2020-01-01 00:00:00 , to: 2020-01-03 00:00:00\n",
      "frs: ['2020-01-01 00:00:00', '2020-01-02 00:00:00']\n",
      "tos: ['2020-01-02 00:00:00', '2020-01-03 00:00:00']\n",
      "types: ['csv', 'tsfefs']\n",
      "time_col: time , datetime_format: %Y-%m-%d %H:%M:%S\n",
      "piece_name_len: 8\n",
      "colnames: ['time'] , row_cnt: 172802\n",
      "row_cnts: [86401, 86401]\n",
      "actions: ['', ''] , action_params: [None, None]\n",
      "cache: [] , cache_config: {'rows_in_cache': None, 'len_of_cache': 3}\n"
     ]
    }
   ],
   "source": [
    "tsfefs_write4 = TSFEFS()\n",
    "tsfefs_write4.read(fullpath)\n",
    "\n",
    "print(tsfefs_write4[tsfefs_write4.time_col])\n",
    "print()\n",
    "tsfefs_write4.print_tsfefs_info()\n",
    "tsfefs_write4.remove()\n"
   ]
  },
  {
   "cell_type": "markdown",
   "id": "d65fe12c",
   "metadata": {},
   "source": [
    " "
   ]
  },
  {
   "cell_type": "markdown",
   "id": "46cedc52",
   "metadata": {},
   "source": [
    "# 5. Clone, add a conflicting tsfefs_, and write as write5. "
   ]
  },
  {
   "cell_type": "code",
   "execution_count": 37,
   "id": "e5e09c92",
   "metadata": {},
   "outputs": [
    {
     "name": "stdout",
     "output_type": "stream",
     "text": [
      "path: /Users/yeehinleung/Documents/GreekIsGood/Products/TSFEFS/test TSFEFS , name: _\n",
      "pieces: ['pgsbernc']\n",
      "fr: 2020-01-01 12:00:00 , to: 2020-01-02 12:00:00\n",
      "frs: ['2020-01-01 12:00:00']\n",
      "tos: ['2020-01-02 12:00:00']\n",
      "types: ['csv']\n",
      "time_col: time , datetime_format: %Y-%m-%d %H:%M:%S\n",
      "piece_name_len: 8\n",
      "colnames: ['time'] , row_cnt: 86401\n",
      "row_cnts: [86401]\n",
      "actions: ['save'] , action_params: [None]\n",
      "cache: [0] , cache_config: {'rows_in_cache': None, 'len_of_cache': 3}\n"
     ]
    }
   ],
   "source": [
    "# This is the tsfefs to be added\n",
    "tsfefs_ = TSFEFS.create(dict_meta, \"_\")\n",
    "tsfefs_.import_dataframe(df3)\n",
    "tsfefs_.take_actions(max_level=0)\n",
    "tsfefs_.print_tsfefs_info()\n"
   ]
  },
  {
   "cell_type": "code",
   "execution_count": 38,
   "id": "58575ca1",
   "metadata": {},
   "outputs": [
    {
     "name": "stdout",
     "output_type": "stream",
     "text": [
      "path: /Users/yeehinleung/Documents/GreekIsGood/Products/TSFEFS/test TSFEFS , name: write5\n",
      "pieces: ['hbngiumq', '_']\n",
      "fr: 2020-01-01 00:00:00 , to: 2020-01-02 12:00:00\n",
      "frs: ['2020-01-01 00:00:00', '2020-01-01 12:00:00']\n",
      "tos: ['2020-01-02 00:00:00', '2020-01-02 12:00:00']\n",
      "types: ['csv', 'tsfefs']\n",
      "time_col: time , datetime_format: %Y-%m-%d %H:%M:%S\n",
      "piece_name_len: 8\n",
      "colnames: ['time'] , row_cnt: 172802\n",
      "row_cnts: [86401, 86401]\n",
      "actions: ['save', 'save'] , action_params: [None, None]\n",
      "cache: [1, 0] , cache_config: {'rows_in_cache': None, 'len_of_cache': 3}\n"
     ]
    }
   ],
   "source": [
    "tsfefs_write5 = tsfefs_base.clone(tsfefs_base.path, \"write5\")\n",
    "tsfefs_write5 += tsfefs_\n",
    "tsfefs_write5.take_actions(max_level=0)\n",
    "tsfefs_write5.print_tsfefs_info()\n"
   ]
  },
  {
   "cell_type": "code",
   "execution_count": 39,
   "id": "64cd6c42",
   "metadata": {},
   "outputs": [
    {
     "name": "stdout",
     "output_type": "stream",
     "text": [
      "path: /Users/yeehinleung/Documents/GreekIsGood/Products/TSFEFS/test TSFEFS , name: write5\n",
      "pieces: ['hbngiumq', '_']\n",
      "fr: 2020-01-01 00:00:00 , to: 2020-01-02 12:00:00\n",
      "frs: ['2020-01-01 00:00:00', '2020-01-01 12:00:00']\n",
      "tos: ['2020-01-02 00:00:00', '2020-01-02 12:00:00']\n",
      "types: ['csv', 'tsfefs']\n",
      "time_col: time , datetime_format: %Y-%m-%d %H:%M:%S\n",
      "piece_name_len: 8\n",
      "colnames: ['time'] , row_cnt: 172802\n",
      "row_cnts: [86401, 86401]\n",
      "actions: ['', ''] , action_params: [None, None]\n",
      "cache: [1, 0] , cache_config: {'rows_in_cache': None, 'len_of_cache': 3}\n"
     ]
    }
   ],
   "source": [
    "tsfefs_write5.take_actions(max_level=4)\n",
    "fullpath = \"%s/%s.%s\"%(tsfefs_write5.path,tsfefs_write5.name,TSFEFS.extension)\n",
    "tsfefs_write5.write(fullpath)\n",
    "tsfefs_write5.print_tsfefs_info()\n",
    "del tsfefs_write5; tsfefs_write5 = None\n"
   ]
  },
  {
   "cell_type": "markdown",
   "id": "2ee105e1",
   "metadata": {},
   "source": [
    "#### check by reading it again."
   ]
  },
  {
   "cell_type": "code",
   "execution_count": 40,
   "id": "93a6c84c",
   "metadata": {},
   "outputs": [
    {
     "name": "stdout",
     "output_type": "stream",
     "text": [
      "Conclusion: can be saved with conflicting times, but must resolve_conflict() after read and before access.\n",
      "\n",
      "0        2020-01-01 00:00:00\n",
      "1        2020-01-01 00:00:01\n",
      "2        2020-01-01 00:00:02\n",
      "3        2020-01-01 00:00:03\n",
      "4        2020-01-01 00:00:04\n",
      "                 ...        \n",
      "172797   2020-01-02 11:59:56\n",
      "172798   2020-01-02 11:59:57\n",
      "172799   2020-01-02 11:59:58\n",
      "172800   2020-01-02 11:59:59\n",
      "172801   2020-01-02 12:00:00\n",
      "Name: time, Length: 172802, dtype: datetime64[ns]\n",
      "\n",
      "path: /Users/yeehinleung/Documents/GreekIsGood/Products/TSFEFS/test TSFEFS , name: write5\n",
      "pieces: ['tvsxfkbj', 'ougvispi', 'qddfcmix']\n",
      "fr: 2020-01-01 00:00:00 , to: 2020-01-02 12:00:00\n",
      "frs: ['2020-01-01 00:00:00', '2020-01-02 00:00:01', '2020-01-01 12:00:00']\n",
      "tos: ['2020-01-01 11:59:59', '2020-01-02 12:00:00', '2020-01-02 00:00:00']\n",
      "types: ['csv', 'csv', 'csv']\n",
      "time_col: time , datetime_format: %Y-%m-%d %H:%M:%S\n",
      "piece_name_len: 8\n",
      "colnames: ['time'] , row_cnt: 172802\n",
      "row_cnts: [43200, 43200, 86402]\n",
      "actions: ['', '', ''] , action_params: [None, None, None]\n",
      "cache: [2, 1, 0] , cache_config: {'rows_in_cache': None, 'len_of_cache': 3}\n"
     ]
    }
   ],
   "source": [
    "tsfefs_write5 = TSFEFS()\n",
    "tsfefs_write5.read(fullpath)\n",
    "\n",
    "try:\n",
    "    print(tsfefs_write5[tsfefs_write5.time_col])\n",
    "    print()\n",
    "    tsfefs_write5.print_tsfefs_info()\n",
    "    tsfefs_write5.remove()\n",
    "except:\n",
    "    print(\"Conclusion: can be saved with conflicting times, but must resolve_conflict() after read and before access.\")\n",
    "    print()\n",
    "    tsfefs_write5.resolve_conflict()\n",
    "    print(tsfefs_write5[tsfefs_write5.time_col])\n",
    "    print()\n",
    "    tsfefs_write5.print_tsfefs_info()\n",
    "    tsfefs_write5.remove()\n"
   ]
  },
  {
   "cell_type": "markdown",
   "id": "b3fd594a",
   "metadata": {},
   "source": [
    " "
   ]
  },
  {
   "cell_type": "code",
   "execution_count": null,
   "id": "56eebd49",
   "metadata": {},
   "outputs": [],
   "source": []
  }
 ],
 "metadata": {
  "kernelspec": {
   "display_name": "Python 3 (ipykernel)",
   "language": "python",
   "name": "python3"
  },
  "language_info": {
   "codemirror_mode": {
    "name": "ipython",
    "version": 3
   },
   "file_extension": ".py",
   "mimetype": "text/x-python",
   "name": "python",
   "nbconvert_exporter": "python",
   "pygments_lexer": "ipython3",
   "version": "3.10.5"
  }
 },
 "nbformat": 4,
 "nbformat_minor": 5
}
