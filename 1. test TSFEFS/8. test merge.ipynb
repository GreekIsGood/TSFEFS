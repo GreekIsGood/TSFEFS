{
 "cells": [
  {
   "cell_type": "code",
   "execution_count": 1,
   "id": "89383a43",
   "metadata": {},
   "outputs": [],
   "source": [
    "import pandas as pd\n",
    "import numpy as np\n",
    "from datetime import datetime as dt, timedelta as td\n",
    "\n",
    "import json\n",
    "import random\n",
    "import string\n",
    "\n",
    "from copy import deepcopy as dc\n",
    "import os\n",
    "\n",
    "from TSFEFS import *\n"
   ]
  },
  {
   "cell_type": "markdown",
   "id": "18e6e20a",
   "metadata": {},
   "source": [
    " "
   ]
  },
  {
   "cell_type": "markdown",
   "id": "e9943ffd",
   "metadata": {},
   "source": [
    "# Merge Test Preparation\n",
    "#  - Create a base tsfefs, with timestamps, and columns \"day\" and \"num\".\n",
    "#  - Create an \"another\", for both df and tsfefs.\n",
    "#  - The \"another\" should have a dummy seq_col.\n",
    "#  - The \"another\" will have columns \"day\", \"num\", and \"day_square\"."
   ]
  },
  {
   "cell_type": "code",
   "execution_count": 2,
   "id": "0a380f69",
   "metadata": {},
   "outputs": [],
   "source": [
    "dict_meta_base = {\n",
    "    \"piece_name_len\": 8,\n",
    "    \"seq_col\": \"time\", \"datetime_format\": \"%Y-%m-%d %H:%M:%S\", \n",
    "    \"max_row_per_piece\": 200000,\n",
    "    \"colnames\":[\"time\", \"day\", \"num\"],\n",
    "    \"cache_config\":{\"rows_in_cache\":None,\"len_of_cache\":3}\n",
    "}\n",
    "\n",
    "dict_meta_another = {\n",
    "    \"piece_name_len\": 8,\n",
    "    \"seq_col\": \"dummy\", \"datetime_format\": \"%Y\", \n",
    "    \"max_row_per_piece\": 200000,\n",
    "    \"colnames\":[\"dummy\", \"day\", \"num\", \"day_square\", \"day_root\"],\n",
    "    \"cache_config\":{\"rows_in_cache\":None,\"len_of_cache\":3}\n",
    "}\n"
   ]
  },
  {
   "cell_type": "code",
   "execution_count": 3,
   "id": "a97f9c32",
   "metadata": {},
   "outputs": [
    {
     "name": "stdout",
     "output_type": "stream",
     "text": [
      "2020-01-01 00:00:00 2020-01-12 13:46:39\n"
     ]
    }
   ],
   "source": [
    "ts = \"2020-01-01 00:00:00\"\n",
    "ts = dt.strptime(ts, dict_meta_base[\"datetime_format\"])\n",
    "\n",
    "tss = [ ts + td(seconds=i) for i in range(10**6) ]\n",
    "print(min(tss),max(tss))\n",
    "seq_col = dict_meta_base[\"seq_col\"]\n",
    "dtf_base = dict_meta_base[\"datetime_format\"]\n",
    "df_base = pd.DataFrame({seq_col:tss})\n",
    "df_base[\"day\"] = df_base[seq_col].apply(lambda x: int(x.strftime(\"%d\")))\n",
    "df_base[\"num\"] = df_base[seq_col].apply(lambda x: int(x.strftime(\"%Y\")) + int(x.strftime(\"%m\")) + int(x.strftime(\"%d\")) \\\n",
    "                     + int(x.strftime(\"%H\")) + int(x.strftime(\"%M\")) + int(x.strftime(\"%S\")))\n"
   ]
  },
  {
   "cell_type": "code",
   "execution_count": 4,
   "id": "29c5e51e",
   "metadata": {},
   "outputs": [
    {
     "name": "stdout",
     "output_type": "stream",
     "text": [
      "      day   num      dummy  day_square  day_root\n",
      "0       1  2022 2000-01-01           1  1.000000\n",
      "1       1  2023 2000-01-01           1  1.000000\n",
      "2       1  2024 2000-01-01           1  1.000000\n",
      "3       1  2025 2000-01-01           1  1.000000\n",
      "4       1  2026 2000-01-01           1  1.000000\n",
      "...   ...   ...        ...         ...       ...\n",
      "1688   12  2159 2000-01-01         144  3.464102\n",
      "1689   12  2160 2000-01-01         144  3.464102\n",
      "1690   12  2161 2000-01-01         144  3.464102\n",
      "1691   12  2162 2000-01-01         144  3.464102\n",
      "1692   12  2163 2000-01-01         144  3.464102\n",
      "\n",
      "[1693 rows x 5 columns]\n"
     ]
    }
   ],
   "source": [
    "df_another = dc(df_base)\n",
    "df_another = df_another[[\"day\",\"num\"]].drop_duplicates().reset_index(drop=True)\n",
    "dtf_another = \"%Y\"\n",
    "df_another[\"dummy\"] = dt.strptime(\"2000\",\"%Y\")\n",
    "df_another[\"day_square\"] = df_another[\"day\"].apply(lambda x: x**2)\n",
    "df_another[\"day_root\"] = df_another[\"day\"].apply(lambda x: x**0.5)\n",
    "print(df_another)\n"
   ]
  },
  {
   "cell_type": "code",
   "execution_count": 5,
   "id": "b3ba1b5d",
   "metadata": {},
   "outputs": [
    {
     "name": "stdout",
     "output_type": "stream",
     "text": [
      "path: /Users/yeehinleung/Documents/GreekIsGood/Products/repos/TSFEFS/1. test TSFEFS , name: base\n",
      "pieces: ['yqxpqhcp', 'srsprklr', 'hdtyrhit', 'bikilqvk', 'jzvehbyr', 'snnvdzda', 'aiayjynw', 'yexxburl', 'tpndsmva', 'zdsxfldg']\n",
      "types: ['csv', 'csv', 'csv', 'csv', 'csv', 'csv', 'csv', 'csv', 'csv', 'csv']\n",
      "fr: 2020-01-01 00:00:00 , to: 2020-01-12 13:46:39\n",
      "frs: ['2020-01-01 00:00:00', '2020-01-02 03:46:40', '2020-01-03 07:33:20', '2020-01-04 11:20:00', '2020-01-05 15:06:40', '2020-01-06 18:53:20', '2020-01-07 22:40:00', '2020-01-09 02:26:40', '2020-01-10 06:13:20', '2020-01-11 10:00:00']\n",
      "tos: ['2020-01-02 03:46:39', '2020-01-03 07:33:19', '2020-01-04 11:19:59', '2020-01-05 15:06:39', '2020-01-06 18:53:19', '2020-01-07 22:39:59', '2020-01-09 02:26:39', '2020-01-10 06:13:19', '2020-01-11 09:59:59', '2020-01-12 13:46:39']\n",
      "seq_col: time\n",
      "piece_name_len: 8\n",
      "colnames: ['time', 'day', 'num'] , row_cnt: 1000000\n",
      "row_cnts: [100000, 100000, 100000, 100000, 100000, 100000, 100000, 100000, 100000, 100000]\n",
      "actions: ['', '', '', '', '', '', '', '', '', ''] , action_params: [None, None, None, None, None, None, None, None, None, None]\n",
      "cache: [8, 9, 0] , cache_config: {'rows_in_cache': None, 'len_of_cache': 3}\n",
      "dfs: ['Non-emtpy', None, None, None, None, None, None, None, 'Non-emtpy', 'Non-emtpy']\n",
      "datetime_format: %Y-%m-%d %H:%M:%S\n",
      "seq_col dtype used in read_csv: <class 'str'>\n",
      "seq_col date type (in tuple): (<class 'datetime.datetime'>, <class 'pandas._libs.tslibs.timestamps.Timestamp'>)\n"
     ]
    }
   ],
   "source": [
    "tsfefs_base = TSFEFS.create(dict_meta_base, \"base\")\n",
    "tsfefs_base.import_dataframe(df_base)\n",
    "tsfefs_base.take_actions(max_level=3)\n",
    "tsfefs_base.maintain_cache()\n",
    "tsfefs_base.print_info()\n"
   ]
  },
  {
   "cell_type": "code",
   "execution_count": 6,
   "id": "ec818ddc",
   "metadata": {},
   "outputs": [
    {
     "name": "stdout",
     "output_type": "stream",
     "text": [
      "path: /Users/yeehinleung/Documents/GreekIsGood/Products/repos/TSFEFS/1. test TSFEFS , name: another\n",
      "pieces: ['cqtqoxpm']\n",
      "types: ['csv']\n",
      "fr: 2000-01-01 00:00:00 , to: 2000-01-01 00:00:00\n",
      "frs: ['2000']\n",
      "tos: ['2000']\n",
      "seq_col: dummy\n",
      "piece_name_len: 8\n",
      "colnames: ['dummy', 'day', 'num', 'day_square', 'day_root'] , row_cnt: 1693\n",
      "row_cnts: [1693]\n",
      "actions: [''] , action_params: [None]\n",
      "cache: [0] , cache_config: {'rows_in_cache': None, 'len_of_cache': 3}\n",
      "dfs: ['Non-emtpy']\n",
      "datetime_format: %Y\n",
      "seq_col dtype used in read_csv: <class 'str'>\n",
      "seq_col date type (in tuple): (<class 'datetime.datetime'>, <class 'pandas._libs.tslibs.timestamps.Timestamp'>)\n"
     ]
    }
   ],
   "source": [
    "tsfefs_another = TSFEFS.create(dict_meta_another, \"another\")\n",
    "tsfefs_another.import_dataframe(df_another)\n",
    "tsfefs_another.take_actions(max_level=3)\n",
    "tsfefs_another.maintain_cache()\n",
    "tsfefs_another.print_info()\n"
   ]
  },
  {
   "cell_type": "markdown",
   "id": "64ae717a",
   "metadata": {},
   "source": [
    " "
   ]
  },
  {
   "cell_type": "markdown",
   "id": "d394ae9d",
   "metadata": {},
   "source": [
    " "
   ]
  },
  {
   "cell_type": "markdown",
   "id": "0b239d8c",
   "metadata": {},
   "source": [
    "# Merge w DataFrame Test Plan\n",
    "# 1. Merge tsfefs base with df_another, on \"day\", target \"day_square\".\n",
    "# 2. Merge tsfefs base with df_another, on \"day\", target [\"day_square\",\"day_root\"].\n",
    "# 3. Merge tsfefs base with df_another, on [\"day\",\"num], target \"day_square\".\n",
    "# 4. Merge tsfefs base with df_another, on [\"day\",\"num], target [\"day_square\",\"day_root\"].\n",
    "# 5. Merge tsfefs base with df_another, on [\"day\",\"num], target = None.\n"
   ]
  },
  {
   "cell_type": "code",
   "execution_count": 7,
   "id": "acc7f845",
   "metadata": {},
   "outputs": [],
   "source": [
    "tsfefs_merge1 = tsfefs_base.clone(tsfefs_base.path, \"merge1\")\n",
    "tsfefs_merge2 = tsfefs_base.clone(tsfefs_base.path, \"merge2\")\n",
    "tsfefs_merge3 = tsfefs_base.clone(tsfefs_base.path, \"merge3\")\n",
    "tsfefs_merge4 = tsfefs_base.clone(tsfefs_base.path, \"merge4\")\n",
    "tsfefs_merge5 = tsfefs_base.clone(tsfefs_base.path, \"merge5\")\n"
   ]
  },
  {
   "cell_type": "markdown",
   "id": "c09d93be",
   "metadata": {},
   "source": [
    " "
   ]
  },
  {
   "cell_type": "markdown",
   "id": "1b1652f1",
   "metadata": {},
   "source": [
    "# 1. Merge tsfefs base with df_another, on \"day\", target \"day_square\".\n"
   ]
  },
  {
   "cell_type": "code",
   "execution_count": 8,
   "id": "c85cf025",
   "metadata": {},
   "outputs": [
    {
     "name": "stdout",
     "output_type": "stream",
     "text": [
      "path: /Users/yeehinleung/Documents/GreekIsGood/Products/repos/TSFEFS/1. test TSFEFS , name: merge1\n",
      "pieces: ['yqxpqhcp', 'srsprklr', 'hdtyrhit', 'bikilqvk', 'jzvehbyr', 'snnvdzda', 'aiayjynw', 'yexxburl', 'tpndsmva', 'zdsxfldg']\n",
      "types: ['csv', 'csv', 'csv', 'csv', 'csv', 'csv', 'csv', 'csv', 'csv', 'csv']\n",
      "fr: 2020-01-01 00:00:00 , to: 2020-01-12 13:46:39\n",
      "frs: ['2020-01-01 00:00:00', '2020-01-02 03:46:40', '2020-01-03 07:33:20', '2020-01-04 11:20:00', '2020-01-05 15:06:40', '2020-01-06 18:53:20', '2020-01-07 22:40:00', '2020-01-09 02:26:40', '2020-01-10 06:13:20', '2020-01-11 10:00:00']\n",
      "tos: ['2020-01-02 03:46:39', '2020-01-03 07:33:19', '2020-01-04 11:19:59', '2020-01-05 15:06:39', '2020-01-06 18:53:19', '2020-01-07 22:39:59', '2020-01-09 02:26:39', '2020-01-10 06:13:19', '2020-01-11 09:59:59', '2020-01-12 13:46:39']\n",
      "seq_col: time\n",
      "piece_name_len: 8\n",
      "colnames: ['time', 'day', 'num', 'day_square'] , row_cnt: 1000000\n",
      "row_cnts: [100000, 100000, 100000, 100000, 100000, 100000, 100000, 100000, 100000, 100000]\n",
      "actions: ['', '', '', '', '', '', '', '', '', ''] , action_params: [None, None, None, None, None, None, None, None, None, None]\n",
      "cache: [8, 9, 0] , cache_config: {'rows_in_cache': None, 'len_of_cache': 3}\n",
      "dfs: ['Non-emtpy', None, None, None, None, None, None, None, 'Non-emtpy', 'Non-emtpy']\n",
      "datetime_format: %Y-%m-%d %H:%M:%S\n",
      "seq_col dtype used in read_csv: <class 'str'>\n",
      "seq_col date type (in tuple): (<class 'datetime.datetime'>, <class 'pandas._libs.tslibs.timestamps.Timestamp'>)\n"
     ]
    }
   ],
   "source": [
    "tsfefs_merge1 = tsfefs_merge1.merge(df_another,\"day\",target=\"day_square\")\n",
    "tsfefs_merge1.take_actions(max_level=3)\n",
    "# tsfefs_merge1.maintain_cache()\n",
    "tsfefs_merge1.print_info()\n"
   ]
  },
  {
   "cell_type": "code",
   "execution_count": 9,
   "id": "daf24451",
   "metadata": {},
   "outputs": [
    {
     "name": "stdout",
     "output_type": "stream",
     "text": [
      "                      time  day   num  day_square\n",
      "0      2020-01-01 00:00:00    1  2022           1\n",
      "1      2020-01-01 00:00:01    1  2023           1\n",
      "2      2020-01-01 00:00:02    1  2024           1\n",
      "3      2020-01-01 00:00:03    1  2025           1\n",
      "4      2020-01-01 00:00:04    1  2026           1\n",
      "...                    ...  ...   ...         ...\n",
      "999995 2020-01-12 13:46:35   12  2127         144\n",
      "999996 2020-01-12 13:46:36   12  2128         144\n",
      "999997 2020-01-12 13:46:37   12  2129         144\n",
      "999998 2020-01-12 13:46:38   12  2130         144\n",
      "999999 2020-01-12 13:46:39   12  2131         144\n",
      "\n",
      "[1000000 rows x 4 columns]\n"
     ]
    }
   ],
   "source": [
    "print(tsfefs_merge1.export_dataframe())\n"
   ]
  },
  {
   "cell_type": "markdown",
   "id": "40414308",
   "metadata": {},
   "source": [
    " "
   ]
  },
  {
   "cell_type": "markdown",
   "id": "88e25b64",
   "metadata": {},
   "source": [
    "# 2. Merge tsfefs base with df_another, on \"day\", target [\"day_square\",\"day_root\"].\n"
   ]
  },
  {
   "cell_type": "code",
   "execution_count": 10,
   "id": "4798efb3",
   "metadata": {},
   "outputs": [
    {
     "name": "stdout",
     "output_type": "stream",
     "text": [
      "path: /Users/yeehinleung/Documents/GreekIsGood/Products/repos/TSFEFS/1. test TSFEFS , name: merge2\n",
      "pieces: ['yqxpqhcp', 'srsprklr', 'hdtyrhit', 'bikilqvk', 'jzvehbyr', 'snnvdzda', 'aiayjynw', 'yexxburl', 'tpndsmva', 'zdsxfldg']\n",
      "types: ['csv', 'csv', 'csv', 'csv', 'csv', 'csv', 'csv', 'csv', 'csv', 'csv']\n",
      "fr: 2020-01-01 00:00:00 , to: 2020-01-12 13:46:39\n",
      "frs: ['2020-01-01 00:00:00', '2020-01-02 03:46:40', '2020-01-03 07:33:20', '2020-01-04 11:20:00', '2020-01-05 15:06:40', '2020-01-06 18:53:20', '2020-01-07 22:40:00', '2020-01-09 02:26:40', '2020-01-10 06:13:20', '2020-01-11 10:00:00']\n",
      "tos: ['2020-01-02 03:46:39', '2020-01-03 07:33:19', '2020-01-04 11:19:59', '2020-01-05 15:06:39', '2020-01-06 18:53:19', '2020-01-07 22:39:59', '2020-01-09 02:26:39', '2020-01-10 06:13:19', '2020-01-11 09:59:59', '2020-01-12 13:46:39']\n",
      "seq_col: time\n",
      "piece_name_len: 8\n",
      "colnames: ['time', 'day', 'num', 'day_square', 'day_root'] , row_cnt: 1000000\n",
      "row_cnts: [100000, 100000, 100000, 100000, 100000, 100000, 100000, 100000, 100000, 100000]\n",
      "actions: ['', '', '', '', '', '', '', '', '', ''] , action_params: [None, None, None, None, None, None, None, None, None, None]\n",
      "cache: [8, 9, 0] , cache_config: {'rows_in_cache': None, 'len_of_cache': 3}\n",
      "dfs: ['Non-emtpy', None, None, None, None, None, None, None, 'Non-emtpy', 'Non-emtpy']\n",
      "datetime_format: %Y-%m-%d %H:%M:%S\n",
      "seq_col dtype used in read_csv: <class 'str'>\n",
      "seq_col date type (in tuple): (<class 'datetime.datetime'>, <class 'pandas._libs.tslibs.timestamps.Timestamp'>)\n"
     ]
    }
   ],
   "source": [
    "tsfefs_merge2 = tsfefs_merge2.merge(df_another,\"day\",target=[\"day_square\",\"day_root\"])\n",
    "tsfefs_merge2.take_actions(max_level=3)\n",
    "# tsfefs_merge2.maintain_cache()\n",
    "tsfefs_merge2.print_info()\n"
   ]
  },
  {
   "cell_type": "code",
   "execution_count": 11,
   "id": "9703832c",
   "metadata": {},
   "outputs": [
    {
     "name": "stdout",
     "output_type": "stream",
     "text": [
      "                      time  day   num  day_square  day_root\n",
      "0      2020-01-01 00:00:00    1  2022           1  1.000000\n",
      "1      2020-01-01 00:00:01    1  2023           1  1.000000\n",
      "2      2020-01-01 00:00:02    1  2024           1  1.000000\n",
      "3      2020-01-01 00:00:03    1  2025           1  1.000000\n",
      "4      2020-01-01 00:00:04    1  2026           1  1.000000\n",
      "...                    ...  ...   ...         ...       ...\n",
      "999995 2020-01-12 13:46:35   12  2127         144  3.464102\n",
      "999996 2020-01-12 13:46:36   12  2128         144  3.464102\n",
      "999997 2020-01-12 13:46:37   12  2129         144  3.464102\n",
      "999998 2020-01-12 13:46:38   12  2130         144  3.464102\n",
      "999999 2020-01-12 13:46:39   12  2131         144  3.464102\n",
      "\n",
      "[1000000 rows x 5 columns]\n"
     ]
    }
   ],
   "source": [
    "print(tsfefs_merge2.export_dataframe())\n"
   ]
  },
  {
   "cell_type": "markdown",
   "id": "cd0ccc0c",
   "metadata": {},
   "source": [
    " "
   ]
  },
  {
   "cell_type": "markdown",
   "id": "6db11e1f",
   "metadata": {},
   "source": [
    "# 3. Merge tsfefs base with df_another, on [\"day\",\"num], target \"day_square\".\n"
   ]
  },
  {
   "cell_type": "code",
   "execution_count": 12,
   "id": "216b36ea",
   "metadata": {},
   "outputs": [
    {
     "name": "stdout",
     "output_type": "stream",
     "text": [
      "path: /Users/yeehinleung/Documents/GreekIsGood/Products/repos/TSFEFS/1. test TSFEFS , name: merge3\n",
      "pieces: ['yqxpqhcp', 'srsprklr', 'hdtyrhit', 'bikilqvk', 'jzvehbyr', 'snnvdzda', 'aiayjynw', 'yexxburl', 'tpndsmva', 'zdsxfldg']\n",
      "types: ['csv', 'csv', 'csv', 'csv', 'csv', 'csv', 'csv', 'csv', 'csv', 'csv']\n",
      "fr: 2020-01-01 00:00:00 , to: 2020-01-12 13:46:39\n",
      "frs: ['2020-01-01 00:00:00', '2020-01-02 03:46:40', '2020-01-03 07:33:20', '2020-01-04 11:20:00', '2020-01-05 15:06:40', '2020-01-06 18:53:20', '2020-01-07 22:40:00', '2020-01-09 02:26:40', '2020-01-10 06:13:20', '2020-01-11 10:00:00']\n",
      "tos: ['2020-01-02 03:46:39', '2020-01-03 07:33:19', '2020-01-04 11:19:59', '2020-01-05 15:06:39', '2020-01-06 18:53:19', '2020-01-07 22:39:59', '2020-01-09 02:26:39', '2020-01-10 06:13:19', '2020-01-11 09:59:59', '2020-01-12 13:46:39']\n",
      "seq_col: time\n",
      "piece_name_len: 8\n",
      "colnames: ['time', 'day', 'num', 'day_square'] , row_cnt: 1000000\n",
      "row_cnts: [100000, 100000, 100000, 100000, 100000, 100000, 100000, 100000, 100000, 100000]\n",
      "actions: ['', '', '', '', '', '', '', '', '', ''] , action_params: [None, None, None, None, None, None, None, None, None, None]\n",
      "cache: [8, 9, 0] , cache_config: {'rows_in_cache': None, 'len_of_cache': 3}\n",
      "dfs: ['Non-emtpy', None, None, None, None, None, None, None, 'Non-emtpy', 'Non-emtpy']\n",
      "datetime_format: %Y-%m-%d %H:%M:%S\n",
      "seq_col dtype used in read_csv: <class 'str'>\n",
      "seq_col date type (in tuple): (<class 'datetime.datetime'>, <class 'pandas._libs.tslibs.timestamps.Timestamp'>)\n"
     ]
    }
   ],
   "source": [
    "tsfefs_merge3 = tsfefs_merge3.merge(df_another,[\"day\",\"num\"],target=\"day_square\")\n",
    "tsfefs_merge3.take_actions(max_level=3)\n",
    "# tsfefs_merge2.maintain_cache()\n",
    "tsfefs_merge3.print_info()\n"
   ]
  },
  {
   "cell_type": "code",
   "execution_count": 13,
   "id": "bd1f3ef9",
   "metadata": {},
   "outputs": [
    {
     "name": "stdout",
     "output_type": "stream",
     "text": [
      "                      time  day   num  day_square\n",
      "0      2020-01-01 00:00:00    1  2022           1\n",
      "1      2020-01-01 00:00:01    1  2023           1\n",
      "2      2020-01-01 00:00:02    1  2024           1\n",
      "3      2020-01-01 00:00:03    1  2025           1\n",
      "4      2020-01-01 00:00:04    1  2026           1\n",
      "...                    ...  ...   ...         ...\n",
      "999995 2020-01-12 13:46:35   12  2127         144\n",
      "999996 2020-01-12 13:46:36   12  2128         144\n",
      "999997 2020-01-12 13:46:37   12  2129         144\n",
      "999998 2020-01-12 13:46:38   12  2130         144\n",
      "999999 2020-01-12 13:46:39   12  2131         144\n",
      "\n",
      "[1000000 rows x 4 columns]\n"
     ]
    }
   ],
   "source": [
    "print(tsfefs_merge3.export_dataframe())\n"
   ]
  },
  {
   "cell_type": "markdown",
   "id": "35df2d85",
   "metadata": {},
   "source": [
    " "
   ]
  },
  {
   "cell_type": "markdown",
   "id": "44a11fff",
   "metadata": {},
   "source": [
    "# 4. Merge tsfefs base with df_another, on [\"day\",\"num], target [\"day_square\",\"day_root\"].\n"
   ]
  },
  {
   "cell_type": "code",
   "execution_count": 14,
   "id": "7c5df2d1",
   "metadata": {},
   "outputs": [
    {
     "name": "stdout",
     "output_type": "stream",
     "text": [
      "path: /Users/yeehinleung/Documents/GreekIsGood/Products/repos/TSFEFS/1. test TSFEFS , name: merge4\n",
      "pieces: ['yqxpqhcp', 'srsprklr', 'hdtyrhit', 'bikilqvk', 'jzvehbyr', 'snnvdzda', 'aiayjynw', 'yexxburl', 'tpndsmva', 'zdsxfldg']\n",
      "types: ['csv', 'csv', 'csv', 'csv', 'csv', 'csv', 'csv', 'csv', 'csv', 'csv']\n",
      "fr: 2020-01-01 00:00:00 , to: 2020-01-12 13:46:39\n",
      "frs: ['2020-01-01 00:00:00', '2020-01-02 03:46:40', '2020-01-03 07:33:20', '2020-01-04 11:20:00', '2020-01-05 15:06:40', '2020-01-06 18:53:20', '2020-01-07 22:40:00', '2020-01-09 02:26:40', '2020-01-10 06:13:20', '2020-01-11 10:00:00']\n",
      "tos: ['2020-01-02 03:46:39', '2020-01-03 07:33:19', '2020-01-04 11:19:59', '2020-01-05 15:06:39', '2020-01-06 18:53:19', '2020-01-07 22:39:59', '2020-01-09 02:26:39', '2020-01-10 06:13:19', '2020-01-11 09:59:59', '2020-01-12 13:46:39']\n",
      "seq_col: time\n",
      "piece_name_len: 8\n",
      "colnames: ['time', 'day', 'num', 'day_square', 'day_root'] , row_cnt: 1000000\n",
      "row_cnts: [100000, 100000, 100000, 100000, 100000, 100000, 100000, 100000, 100000, 100000]\n",
      "actions: ['', '', '', '', '', '', '', '', '', ''] , action_params: [None, None, None, None, None, None, None, None, None, None]\n",
      "cache: [8, 9, 0] , cache_config: {'rows_in_cache': None, 'len_of_cache': 3}\n",
      "dfs: ['Non-emtpy', None, None, None, None, None, None, None, 'Non-emtpy', 'Non-emtpy']\n",
      "datetime_format: %Y-%m-%d %H:%M:%S\n",
      "seq_col dtype used in read_csv: <class 'str'>\n",
      "seq_col date type (in tuple): (<class 'datetime.datetime'>, <class 'pandas._libs.tslibs.timestamps.Timestamp'>)\n"
     ]
    }
   ],
   "source": [
    "tsfefs_merge4 = tsfefs_merge4.merge(df_another,[\"day\",\"num\"],target=[\"day_square\",\"day_root\"])\n",
    "tsfefs_merge4.take_actions(max_level=3)\n",
    "# tsfefs_merge4.maintain_cache()\n",
    "tsfefs_merge4.print_info()\n"
   ]
  },
  {
   "cell_type": "code",
   "execution_count": 15,
   "id": "709ffe8d",
   "metadata": {},
   "outputs": [
    {
     "name": "stdout",
     "output_type": "stream",
     "text": [
      "                      time  day   num  day_square  day_root\n",
      "0      2020-01-01 00:00:00    1  2022           1  1.000000\n",
      "1      2020-01-01 00:00:01    1  2023           1  1.000000\n",
      "2      2020-01-01 00:00:02    1  2024           1  1.000000\n",
      "3      2020-01-01 00:00:03    1  2025           1  1.000000\n",
      "4      2020-01-01 00:00:04    1  2026           1  1.000000\n",
      "...                    ...  ...   ...         ...       ...\n",
      "999995 2020-01-12 13:46:35   12  2127         144  3.464102\n",
      "999996 2020-01-12 13:46:36   12  2128         144  3.464102\n",
      "999997 2020-01-12 13:46:37   12  2129         144  3.464102\n",
      "999998 2020-01-12 13:46:38   12  2130         144  3.464102\n",
      "999999 2020-01-12 13:46:39   12  2131         144  3.464102\n",
      "\n",
      "[1000000 rows x 5 columns]\n"
     ]
    }
   ],
   "source": [
    "print(tsfefs_merge4.export_dataframe())\n"
   ]
  },
  {
   "cell_type": "markdown",
   "id": "abb7febc",
   "metadata": {},
   "source": [
    "# 5. Merge tsfefs base with df_another, on [\"day\",\"num], target = None.\n"
   ]
  },
  {
   "cell_type": "code",
   "execution_count": 16,
   "id": "a8a37e2f",
   "metadata": {},
   "outputs": [
    {
     "name": "stdout",
     "output_type": "stream",
     "text": [
      "path: /Users/yeehinleung/Documents/GreekIsGood/Products/repos/TSFEFS/1. test TSFEFS , name: merge5\n",
      "pieces: ['yqxpqhcp', 'srsprklr', 'hdtyrhit', 'bikilqvk', 'jzvehbyr', 'snnvdzda', 'aiayjynw', 'yexxburl', 'tpndsmva', 'zdsxfldg']\n",
      "types: ['csv', 'csv', 'csv', 'csv', 'csv', 'csv', 'csv', 'csv', 'csv', 'csv']\n",
      "fr: 2020-01-01 00:00:00 , to: 2020-01-12 13:46:39\n",
      "frs: ['2020-01-01 00:00:00', '2020-01-02 03:46:40', '2020-01-03 07:33:20', '2020-01-04 11:20:00', '2020-01-05 15:06:40', '2020-01-06 18:53:20', '2020-01-07 22:40:00', '2020-01-09 02:26:40', '2020-01-10 06:13:20', '2020-01-11 10:00:00']\n",
      "tos: ['2020-01-02 03:46:39', '2020-01-03 07:33:19', '2020-01-04 11:19:59', '2020-01-05 15:06:39', '2020-01-06 18:53:19', '2020-01-07 22:39:59', '2020-01-09 02:26:39', '2020-01-10 06:13:19', '2020-01-11 09:59:59', '2020-01-12 13:46:39']\n",
      "seq_col: time\n",
      "piece_name_len: 8\n",
      "colnames: ['time', 'day', 'num', 'day_root', 'day_square', 'dummy'] , row_cnt: 1000000\n",
      "row_cnts: [100000, 100000, 100000, 100000, 100000, 100000, 100000, 100000, 100000, 100000]\n",
      "actions: ['', '', '', '', '', '', '', '', '', ''] , action_params: [None, None, None, None, None, None, None, None, None, None]\n",
      "cache: [8, 9, 0] , cache_config: {'rows_in_cache': None, 'len_of_cache': 3}\n",
      "dfs: ['Non-emtpy', None, None, None, None, None, None, None, 'Non-emtpy', 'Non-emtpy']\n",
      "datetime_format: %Y-%m-%d %H:%M:%S\n",
      "seq_col dtype used in read_csv: <class 'str'>\n",
      "seq_col date type (in tuple): (<class 'datetime.datetime'>, <class 'pandas._libs.tslibs.timestamps.Timestamp'>)\n"
     ]
    }
   ],
   "source": [
    "tsfefs_merge5 = tsfefs_merge5.merge(df_another,[\"day\",\"num\"],target=None)\n",
    "tsfefs_merge5.take_actions(max_level=3)\n",
    "# tsfefs_merge4.maintain_cache()\n",
    "tsfefs_merge5.print_info()\n"
   ]
  },
  {
   "cell_type": "code",
   "execution_count": 17,
   "id": "b76c2688",
   "metadata": {},
   "outputs": [
    {
     "name": "stdout",
     "output_type": "stream",
     "text": [
      "                      time  day   num  day_root  day_square   \n",
      "0      2020-01-01 00:00:00    1  2022  1.000000           1  \\\n",
      "1      2020-01-01 00:00:01    1  2023  1.000000           1   \n",
      "2      2020-01-01 00:00:02    1  2024  1.000000           1   \n",
      "3      2020-01-01 00:00:03    1  2025  1.000000           1   \n",
      "4      2020-01-01 00:00:04    1  2026  1.000000           1   \n",
      "...                    ...  ...   ...       ...         ...   \n",
      "999995 2020-01-12 13:46:35   12  2127  3.464102         144   \n",
      "999996 2020-01-12 13:46:36   12  2128  3.464102         144   \n",
      "999997 2020-01-12 13:46:37   12  2129  3.464102         144   \n",
      "999998 2020-01-12 13:46:38   12  2130  3.464102         144   \n",
      "999999 2020-01-12 13:46:39   12  2131  3.464102         144   \n",
      "\n",
      "                      dummy  \n",
      "0       2000-01-01 00:00:00  \n",
      "1       2000-01-01 00:00:00  \n",
      "2       2000-01-01 00:00:00  \n",
      "3       2000-01-01 00:00:00  \n",
      "4       2000-01-01 00:00:00  \n",
      "...                     ...  \n",
      "999995  2000-01-01 00:00:00  \n",
      "999996  2000-01-01 00:00:00  \n",
      "999997  2000-01-01 00:00:00  \n",
      "999998  2000-01-01 00:00:00  \n",
      "999999  2000-01-01 00:00:00  \n",
      "\n",
      "[1000000 rows x 6 columns]\n"
     ]
    }
   ],
   "source": [
    "print(tsfefs_merge5.export_dataframe())\n"
   ]
  },
  {
   "cell_type": "markdown",
   "id": "3f9a1eeb",
   "metadata": {},
   "source": [
    " "
   ]
  },
  {
   "cell_type": "code",
   "execution_count": 18,
   "id": "f4fdd63e",
   "metadata": {},
   "outputs": [],
   "source": [
    "tsfefs_merge5.remove()\n",
    "tsfefs_merge4.remove()\n",
    "tsfefs_merge3.remove()\n",
    "tsfefs_merge2.remove()\n",
    "tsfefs_merge1.remove()\n"
   ]
  },
  {
   "cell_type": "markdown",
   "id": "02448807",
   "metadata": {},
   "source": [
    " "
   ]
  },
  {
   "cell_type": "markdown",
   "id": "19be7628",
   "metadata": {},
   "source": [
    " "
   ]
  },
  {
   "cell_type": "markdown",
   "id": "5b252392",
   "metadata": {},
   "source": [
    " "
   ]
  },
  {
   "cell_type": "markdown",
   "id": "1a7497a7",
   "metadata": {},
   "source": [
    "# Merge w TSFEFS Test Plan\n",
    "# 6. Merge tsfefs base with tsfefs_another, on \"day\", target \"day_square\".\n",
    "# 7. Merge tsfefs base with tsfefs_another, on \"day\", target [\"day_square\",\"day_root\"].\n",
    "# 8. Merge tsfefs base with tsfefs_another, on [\"day\",\"num], target \"day_square\".\n",
    "# 9. Merge tsfefs base with tsfefs_another, on [\"day\",\"num], target [\"day_square\",\"day_root\"].\n",
    "# 10. Merge tsfefs base with tsfefs_another, on [\"day\",\"num], target = None.\n"
   ]
  },
  {
   "cell_type": "code",
   "execution_count": 19,
   "id": "85681e24",
   "metadata": {},
   "outputs": [],
   "source": [
    "tsfefs_merge6 = tsfefs_base.clone(tsfefs_base.path, \"merge6\")\n",
    "tsfefs_merge7 = tsfefs_base.clone(tsfefs_base.path, \"merge7\")\n",
    "tsfefs_merge8 = tsfefs_base.clone(tsfefs_base.path, \"merge8\")\n",
    "tsfefs_merge9 = tsfefs_base.clone(tsfefs_base.path, \"merge9\")\n",
    "tsfefs_merge10 = tsfefs_base.clone(tsfefs_base.path, \"merge10\")\n"
   ]
  },
  {
   "cell_type": "markdown",
   "id": "a7e653c2",
   "metadata": {},
   "source": [
    "# 6. Merge tsfefs base with tsfefs_another, on \"day\", target \"day_square\".\n"
   ]
  },
  {
   "cell_type": "code",
   "execution_count": 20,
   "id": "12e774b8",
   "metadata": {},
   "outputs": [
    {
     "name": "stdout",
     "output_type": "stream",
     "text": [
      "path: /Users/yeehinleung/Documents/GreekIsGood/Products/repos/TSFEFS/1. test TSFEFS , name: merge6\n",
      "pieces: ['yqxpqhcp', 'srsprklr', 'hdtyrhit', 'bikilqvk', 'jzvehbyr', 'snnvdzda', 'aiayjynw', 'yexxburl', 'tpndsmva', 'zdsxfldg']\n",
      "types: ['csv', 'csv', 'csv', 'csv', 'csv', 'csv', 'csv', 'csv', 'csv', 'csv']\n",
      "fr: 2020-01-01 00:00:00 , to: 2020-01-12 13:46:39\n",
      "frs: ['2020-01-01 00:00:00', '2020-01-02 03:46:40', '2020-01-03 07:33:20', '2020-01-04 11:20:00', '2020-01-05 15:06:40', '2020-01-06 18:53:20', '2020-01-07 22:40:00', '2020-01-09 02:26:40', '2020-01-10 06:13:20', '2020-01-11 10:00:00']\n",
      "tos: ['2020-01-02 03:46:39', '2020-01-03 07:33:19', '2020-01-04 11:19:59', '2020-01-05 15:06:39', '2020-01-06 18:53:19', '2020-01-07 22:39:59', '2020-01-09 02:26:39', '2020-01-10 06:13:19', '2020-01-11 09:59:59', '2020-01-12 13:46:39']\n",
      "seq_col: time\n",
      "piece_name_len: 8\n",
      "colnames: ['time', 'day', 'num', 'day_square'] , row_cnt: 1000000\n",
      "row_cnts: [100000, 100000, 100000, 100000, 100000, 100000, 100000, 100000, 100000, 100000]\n",
      "actions: ['', '', '', '', '', '', '', '', '', ''] , action_params: [None, None, None, None, None, None, None, None, None, None]\n",
      "cache: [8, 9, 0] , cache_config: {'rows_in_cache': None, 'len_of_cache': 3}\n",
      "dfs: ['Non-emtpy', None, None, None, None, None, None, None, 'Non-emtpy', 'Non-emtpy']\n",
      "datetime_format: %Y-%m-%d %H:%M:%S\n",
      "seq_col dtype used in read_csv: <class 'str'>\n",
      "seq_col date type (in tuple): (<class 'datetime.datetime'>, <class 'pandas._libs.tslibs.timestamps.Timestamp'>)\n"
     ]
    }
   ],
   "source": [
    "tsfefs_merge6 = tsfefs_merge6.merge(tsfefs_another,\"day\",target=\"day_square\")\n",
    "tsfefs_merge6.take_actions(max_level=3)\n",
    "# tsfefs_merge4.maintain_cache()\n",
    "tsfefs_merge6.print_info()\n"
   ]
  },
  {
   "cell_type": "code",
   "execution_count": 21,
   "id": "883a61c1",
   "metadata": {},
   "outputs": [
    {
     "name": "stdout",
     "output_type": "stream",
     "text": [
      "                      time  day   num  day_square\n",
      "0      2020-01-01 00:00:00    1  2022           1\n",
      "1      2020-01-01 00:00:01    1  2023           1\n",
      "2      2020-01-01 00:00:02    1  2024           1\n",
      "3      2020-01-01 00:00:03    1  2025           1\n",
      "4      2020-01-01 00:00:04    1  2026           1\n",
      "...                    ...  ...   ...         ...\n",
      "999995 2020-01-12 13:46:35   12  2127         144\n",
      "999996 2020-01-12 13:46:36   12  2128         144\n",
      "999997 2020-01-12 13:46:37   12  2129         144\n",
      "999998 2020-01-12 13:46:38   12  2130         144\n",
      "999999 2020-01-12 13:46:39   12  2131         144\n",
      "\n",
      "[1000000 rows x 4 columns]\n"
     ]
    }
   ],
   "source": [
    "print(tsfefs_merge6.export_dataframe())\n"
   ]
  },
  {
   "cell_type": "markdown",
   "id": "a9547e62",
   "metadata": {},
   "source": [
    " "
   ]
  },
  {
   "cell_type": "markdown",
   "id": "27173f40",
   "metadata": {},
   "source": [
    "# 7. Merge tsfefs base with tsfefs_another, on \"day\", target [\"day_square\",\"day_root\"].\n"
   ]
  },
  {
   "cell_type": "code",
   "execution_count": 22,
   "id": "45d3c277",
   "metadata": {},
   "outputs": [
    {
     "name": "stdout",
     "output_type": "stream",
     "text": [
      "path: /Users/yeehinleung/Documents/GreekIsGood/Products/repos/TSFEFS/1. test TSFEFS , name: merge7\n",
      "pieces: ['yqxpqhcp', 'srsprklr', 'hdtyrhit', 'bikilqvk', 'jzvehbyr', 'snnvdzda', 'aiayjynw', 'yexxburl', 'tpndsmva', 'zdsxfldg']\n",
      "types: ['csv', 'csv', 'csv', 'csv', 'csv', 'csv', 'csv', 'csv', 'csv', 'csv']\n",
      "fr: 2020-01-01 00:00:00 , to: 2020-01-12 13:46:39\n",
      "frs: ['2020-01-01 00:00:00', '2020-01-02 03:46:40', '2020-01-03 07:33:20', '2020-01-04 11:20:00', '2020-01-05 15:06:40', '2020-01-06 18:53:20', '2020-01-07 22:40:00', '2020-01-09 02:26:40', '2020-01-10 06:13:20', '2020-01-11 10:00:00']\n",
      "tos: ['2020-01-02 03:46:39', '2020-01-03 07:33:19', '2020-01-04 11:19:59', '2020-01-05 15:06:39', '2020-01-06 18:53:19', '2020-01-07 22:39:59', '2020-01-09 02:26:39', '2020-01-10 06:13:19', '2020-01-11 09:59:59', '2020-01-12 13:46:39']\n",
      "seq_col: time\n",
      "piece_name_len: 8\n",
      "colnames: ['time', 'day', 'num', 'day_square', 'day_root'] , row_cnt: 1000000\n",
      "row_cnts: [100000, 100000, 100000, 100000, 100000, 100000, 100000, 100000, 100000, 100000]\n",
      "actions: ['', '', '', '', '', '', '', '', '', ''] , action_params: [None, None, None, None, None, None, None, None, None, None]\n",
      "cache: [8, 9, 0] , cache_config: {'rows_in_cache': None, 'len_of_cache': 3}\n",
      "dfs: ['Non-emtpy', None, None, None, None, None, None, None, 'Non-emtpy', 'Non-emtpy']\n",
      "datetime_format: %Y-%m-%d %H:%M:%S\n",
      "seq_col dtype used in read_csv: <class 'str'>\n",
      "seq_col date type (in tuple): (<class 'datetime.datetime'>, <class 'pandas._libs.tslibs.timestamps.Timestamp'>)\n"
     ]
    }
   ],
   "source": [
    "tsfefs_merge7 = tsfefs_merge7.merge(tsfefs_another,\"day\",target=[\"day_square\",\"day_root\"])\n",
    "tsfefs_merge7.take_actions(max_level=3)\n",
    "# tsfefs_merge4.maintain_cache()\n",
    "tsfefs_merge7.print_info()\n"
   ]
  },
  {
   "cell_type": "code",
   "execution_count": 23,
   "id": "1eb57369",
   "metadata": {},
   "outputs": [
    {
     "name": "stdout",
     "output_type": "stream",
     "text": [
      "                      time  day   num  day_square  day_root\n",
      "0      2020-01-01 00:00:00    1  2022           1  1.000000\n",
      "1      2020-01-01 00:00:01    1  2023           1  1.000000\n",
      "2      2020-01-01 00:00:02    1  2024           1  1.000000\n",
      "3      2020-01-01 00:00:03    1  2025           1  1.000000\n",
      "4      2020-01-01 00:00:04    1  2026           1  1.000000\n",
      "...                    ...  ...   ...         ...       ...\n",
      "999995 2020-01-12 13:46:35   12  2127         144  3.464102\n",
      "999996 2020-01-12 13:46:36   12  2128         144  3.464102\n",
      "999997 2020-01-12 13:46:37   12  2129         144  3.464102\n",
      "999998 2020-01-12 13:46:38   12  2130         144  3.464102\n",
      "999999 2020-01-12 13:46:39   12  2131         144  3.464102\n",
      "\n",
      "[1000000 rows x 5 columns]\n"
     ]
    }
   ],
   "source": [
    "print(tsfefs_merge7.export_dataframe())\n"
   ]
  },
  {
   "cell_type": "markdown",
   "id": "c6765d63",
   "metadata": {},
   "source": [
    " "
   ]
  },
  {
   "cell_type": "markdown",
   "id": "95816709",
   "metadata": {},
   "source": [
    "# 8. Merge tsfefs base with tsfefs_another, on [\"day\",\"num], target \"day_square\".\n"
   ]
  },
  {
   "cell_type": "code",
   "execution_count": 24,
   "id": "971e26f2",
   "metadata": {},
   "outputs": [
    {
     "name": "stdout",
     "output_type": "stream",
     "text": [
      "path: /Users/yeehinleung/Documents/GreekIsGood/Products/repos/TSFEFS/1. test TSFEFS , name: merge8\n",
      "pieces: ['yqxpqhcp', 'srsprklr', 'hdtyrhit', 'bikilqvk', 'jzvehbyr', 'snnvdzda', 'aiayjynw', 'yexxburl', 'tpndsmva', 'zdsxfldg']\n",
      "types: ['csv', 'csv', 'csv', 'csv', 'csv', 'csv', 'csv', 'csv', 'csv', 'csv']\n",
      "fr: 2020-01-01 00:00:00 , to: 2020-01-12 13:46:39\n",
      "frs: ['2020-01-01 00:00:00', '2020-01-02 03:46:40', '2020-01-03 07:33:20', '2020-01-04 11:20:00', '2020-01-05 15:06:40', '2020-01-06 18:53:20', '2020-01-07 22:40:00', '2020-01-09 02:26:40', '2020-01-10 06:13:20', '2020-01-11 10:00:00']\n",
      "tos: ['2020-01-02 03:46:39', '2020-01-03 07:33:19', '2020-01-04 11:19:59', '2020-01-05 15:06:39', '2020-01-06 18:53:19', '2020-01-07 22:39:59', '2020-01-09 02:26:39', '2020-01-10 06:13:19', '2020-01-11 09:59:59', '2020-01-12 13:46:39']\n",
      "seq_col: time\n",
      "piece_name_len: 8\n",
      "colnames: ['time', 'day', 'num', 'day_square'] , row_cnt: 1000000\n",
      "row_cnts: [100000, 100000, 100000, 100000, 100000, 100000, 100000, 100000, 100000, 100000]\n",
      "actions: ['', '', '', '', '', '', '', '', '', ''] , action_params: [None, None, None, None, None, None, None, None, None, None]\n",
      "cache: [8, 9, 0] , cache_config: {'rows_in_cache': None, 'len_of_cache': 3}\n",
      "dfs: ['Non-emtpy', None, None, None, None, None, None, None, 'Non-emtpy', 'Non-emtpy']\n",
      "datetime_format: %Y-%m-%d %H:%M:%S\n",
      "seq_col dtype used in read_csv: <class 'str'>\n",
      "seq_col date type (in tuple): (<class 'datetime.datetime'>, <class 'pandas._libs.tslibs.timestamps.Timestamp'>)\n"
     ]
    }
   ],
   "source": [
    "tsfefs_merge8 = tsfefs_merge8.merge(tsfefs_another,[\"day\",\"num\"],target=\"day_square\")\n",
    "tsfefs_merge8.take_actions(max_level=3)\n",
    "# tsfefs_merge4.maintain_cache()\n",
    "tsfefs_merge8.print_info()\n"
   ]
  },
  {
   "cell_type": "code",
   "execution_count": 25,
   "id": "c3820820",
   "metadata": {},
   "outputs": [
    {
     "name": "stdout",
     "output_type": "stream",
     "text": [
      "                      time  day   num  day_square\n",
      "0      2020-01-01 00:00:00    1  2022           1\n",
      "1      2020-01-01 00:00:01    1  2023           1\n",
      "2      2020-01-01 00:00:02    1  2024           1\n",
      "3      2020-01-01 00:00:03    1  2025           1\n",
      "4      2020-01-01 00:00:04    1  2026           1\n",
      "...                    ...  ...   ...         ...\n",
      "999995 2020-01-12 13:46:35   12  2127         144\n",
      "999996 2020-01-12 13:46:36   12  2128         144\n",
      "999997 2020-01-12 13:46:37   12  2129         144\n",
      "999998 2020-01-12 13:46:38   12  2130         144\n",
      "999999 2020-01-12 13:46:39   12  2131         144\n",
      "\n",
      "[1000000 rows x 4 columns]\n"
     ]
    }
   ],
   "source": [
    "print(tsfefs_merge8.export_dataframe())\n"
   ]
  },
  {
   "cell_type": "markdown",
   "id": "5d835730",
   "metadata": {},
   "source": [
    " "
   ]
  },
  {
   "cell_type": "markdown",
   "id": "00052838",
   "metadata": {},
   "source": [
    "# 9. Merge tsfefs base with tsfefs_another, on [\"day\",\"num], target [\"day_square\",\"day_root\"].\n"
   ]
  },
  {
   "cell_type": "code",
   "execution_count": 26,
   "id": "e6456358",
   "metadata": {},
   "outputs": [
    {
     "name": "stdout",
     "output_type": "stream",
     "text": [
      "path: /Users/yeehinleung/Documents/GreekIsGood/Products/repos/TSFEFS/1. test TSFEFS , name: merge9\n",
      "pieces: ['yqxpqhcp', 'srsprklr', 'hdtyrhit', 'bikilqvk', 'jzvehbyr', 'snnvdzda', 'aiayjynw', 'yexxburl', 'tpndsmva', 'zdsxfldg']\n",
      "types: ['csv', 'csv', 'csv', 'csv', 'csv', 'csv', 'csv', 'csv', 'csv', 'csv']\n",
      "fr: 2020-01-01 00:00:00 , to: 2020-01-12 13:46:39\n",
      "frs: ['2020-01-01 00:00:00', '2020-01-02 03:46:40', '2020-01-03 07:33:20', '2020-01-04 11:20:00', '2020-01-05 15:06:40', '2020-01-06 18:53:20', '2020-01-07 22:40:00', '2020-01-09 02:26:40', '2020-01-10 06:13:20', '2020-01-11 10:00:00']\n",
      "tos: ['2020-01-02 03:46:39', '2020-01-03 07:33:19', '2020-01-04 11:19:59', '2020-01-05 15:06:39', '2020-01-06 18:53:19', '2020-01-07 22:39:59', '2020-01-09 02:26:39', '2020-01-10 06:13:19', '2020-01-11 09:59:59', '2020-01-12 13:46:39']\n",
      "seq_col: time\n",
      "piece_name_len: 8\n",
      "colnames: ['time', 'day', 'num', 'day_square', 'day_root'] , row_cnt: 1000000\n",
      "row_cnts: [100000, 100000, 100000, 100000, 100000, 100000, 100000, 100000, 100000, 100000]\n",
      "actions: ['', '', '', '', '', '', '', '', '', ''] , action_params: [None, None, None, None, None, None, None, None, None, None]\n",
      "cache: [8, 9, 0] , cache_config: {'rows_in_cache': None, 'len_of_cache': 3}\n",
      "dfs: ['Non-emtpy', None, None, None, None, None, None, None, 'Non-emtpy', 'Non-emtpy']\n",
      "datetime_format: %Y-%m-%d %H:%M:%S\n",
      "seq_col dtype used in read_csv: <class 'str'>\n",
      "seq_col date type (in tuple): (<class 'datetime.datetime'>, <class 'pandas._libs.tslibs.timestamps.Timestamp'>)\n"
     ]
    }
   ],
   "source": [
    "tsfefs_merge9 = tsfefs_merge9.merge(tsfefs_another,[\"day\",\"num\"],target=[\"day_square\",\"day_root\"])\n",
    "tsfefs_merge9.take_actions(max_level=3)\n",
    "# tsfefs_merge4.maintain_cache()\n",
    "tsfefs_merge9.print_info()\n"
   ]
  },
  {
   "cell_type": "code",
   "execution_count": 27,
   "id": "60cdcc7c",
   "metadata": {},
   "outputs": [
    {
     "name": "stdout",
     "output_type": "stream",
     "text": [
      "                      time  day   num  day_square  day_root\n",
      "0      2020-01-01 00:00:00    1  2022           1  1.000000\n",
      "1      2020-01-01 00:00:01    1  2023           1  1.000000\n",
      "2      2020-01-01 00:00:02    1  2024           1  1.000000\n",
      "3      2020-01-01 00:00:03    1  2025           1  1.000000\n",
      "4      2020-01-01 00:00:04    1  2026           1  1.000000\n",
      "...                    ...  ...   ...         ...       ...\n",
      "999995 2020-01-12 13:46:35   12  2127         144  3.464102\n",
      "999996 2020-01-12 13:46:36   12  2128         144  3.464102\n",
      "999997 2020-01-12 13:46:37   12  2129         144  3.464102\n",
      "999998 2020-01-12 13:46:38   12  2130         144  3.464102\n",
      "999999 2020-01-12 13:46:39   12  2131         144  3.464102\n",
      "\n",
      "[1000000 rows x 5 columns]\n"
     ]
    }
   ],
   "source": [
    "print(tsfefs_merge9.export_dataframe())\n"
   ]
  },
  {
   "cell_type": "markdown",
   "id": "6e0a201a",
   "metadata": {},
   "source": [
    " "
   ]
  },
  {
   "cell_type": "markdown",
   "id": "06c44e52",
   "metadata": {},
   "source": [
    "# 10. Merge tsfefs base with tsfefs_another, on [\"day\",\"num], target = None.\n"
   ]
  },
  {
   "cell_type": "code",
   "execution_count": 28,
   "id": "67d8fc7a",
   "metadata": {},
   "outputs": [
    {
     "name": "stdout",
     "output_type": "stream",
     "text": [
      "path: /Users/yeehinleung/Documents/GreekIsGood/Products/repos/TSFEFS/1. test TSFEFS , name: merge10\n",
      "pieces: ['yqxpqhcp', 'srsprklr', 'hdtyrhit', 'bikilqvk', 'jzvehbyr', 'snnvdzda', 'aiayjynw', 'yexxburl', 'tpndsmva', 'zdsxfldg']\n",
      "types: ['csv', 'csv', 'csv', 'csv', 'csv', 'csv', 'csv', 'csv', 'csv', 'csv']\n",
      "fr: 2020-01-01 00:00:00 , to: 2020-01-12 13:46:39\n",
      "frs: ['2020-01-01 00:00:00', '2020-01-02 03:46:40', '2020-01-03 07:33:20', '2020-01-04 11:20:00', '2020-01-05 15:06:40', '2020-01-06 18:53:20', '2020-01-07 22:40:00', '2020-01-09 02:26:40', '2020-01-10 06:13:20', '2020-01-11 10:00:00']\n",
      "tos: ['2020-01-02 03:46:39', '2020-01-03 07:33:19', '2020-01-04 11:19:59', '2020-01-05 15:06:39', '2020-01-06 18:53:19', '2020-01-07 22:39:59', '2020-01-09 02:26:39', '2020-01-10 06:13:19', '2020-01-11 09:59:59', '2020-01-12 13:46:39']\n",
      "seq_col: time\n",
      "piece_name_len: 8\n",
      "colnames: ['time', 'day', 'num', 'day_root', 'day_square'] , row_cnt: 1000000\n",
      "row_cnts: [100000, 100000, 100000, 100000, 100000, 100000, 100000, 100000, 100000, 100000]\n",
      "actions: ['', '', '', '', '', '', '', '', '', ''] , action_params: [None, None, None, None, None, None, None, None, None, None]\n",
      "cache: [8, 9, 0] , cache_config: {'rows_in_cache': None, 'len_of_cache': 3}\n",
      "dfs: ['Non-emtpy', None, None, None, None, None, None, None, 'Non-emtpy', 'Non-emtpy']\n",
      "datetime_format: %Y-%m-%d %H:%M:%S\n",
      "seq_col dtype used in read_csv: <class 'str'>\n",
      "seq_col date type (in tuple): (<class 'datetime.datetime'>, <class 'pandas._libs.tslibs.timestamps.Timestamp'>)\n"
     ]
    }
   ],
   "source": [
    "tsfefs_merge10 = tsfefs_merge10.merge(tsfefs_another,[\"day\",\"num\"],target=None)\n",
    "tsfefs_merge10.take_actions(max_level=3)\n",
    "# tsfefs_merge4.maintain_cache()\n",
    "tsfefs_merge10.print_info()\n"
   ]
  },
  {
   "cell_type": "code",
   "execution_count": 29,
   "id": "72fcb00b",
   "metadata": {},
   "outputs": [
    {
     "name": "stdout",
     "output_type": "stream",
     "text": [
      "                      time  day   num  day_root  day_square\n",
      "0      2020-01-01 00:00:00    1  2022  1.000000           1\n",
      "1      2020-01-01 00:00:01    1  2023  1.000000           1\n",
      "2      2020-01-01 00:00:02    1  2024  1.000000           1\n",
      "3      2020-01-01 00:00:03    1  2025  1.000000           1\n",
      "4      2020-01-01 00:00:04    1  2026  1.000000           1\n",
      "...                    ...  ...   ...       ...         ...\n",
      "999995 2020-01-12 13:46:35   12  2127  3.464102         144\n",
      "999996 2020-01-12 13:46:36   12  2128  3.464102         144\n",
      "999997 2020-01-12 13:46:37   12  2129  3.464102         144\n",
      "999998 2020-01-12 13:46:38   12  2130  3.464102         144\n",
      "999999 2020-01-12 13:46:39   12  2131  3.464102         144\n",
      "\n",
      "[1000000 rows x 5 columns]\n"
     ]
    }
   ],
   "source": [
    "print(tsfefs_merge10.export_dataframe())\n"
   ]
  },
  {
   "cell_type": "markdown",
   "id": "682854c9",
   "metadata": {},
   "source": [
    " "
   ]
  },
  {
   "cell_type": "code",
   "execution_count": 30,
   "id": "371f9b43",
   "metadata": {},
   "outputs": [],
   "source": [
    "tsfefs_merge10.remove()\n",
    "tsfefs_merge9.remove()\n",
    "tsfefs_merge8.remove()\n",
    "tsfefs_merge7.remove()\n",
    "tsfefs_merge6.remove()\n"
   ]
  },
  {
   "cell_type": "code",
   "execution_count": 31,
   "id": "44d9c582",
   "metadata": {},
   "outputs": [],
   "source": [
    "tsfefs_another.remove()\n",
    "tsfefs_base.remove()\n"
   ]
  },
  {
   "cell_type": "markdown",
   "id": "f31ba405",
   "metadata": {},
   "source": [
    " "
   ]
  },
  {
   "cell_type": "markdown",
   "id": "5770fddc",
   "metadata": {},
   "source": [
    " "
   ]
  }
 ],
 "metadata": {
  "kernelspec": {
   "display_name": "Python 3 (ipykernel)",
   "language": "python",
   "name": "python3"
  },
  "language_info": {
   "codemirror_mode": {
    "name": "ipython",
    "version": 3
   },
   "file_extension": ".py",
   "mimetype": "text/x-python",
   "name": "python",
   "nbconvert_exporter": "python",
   "pygments_lexer": "ipython3",
   "version": "3.10.5"
  }
 },
 "nbformat": 4,
 "nbformat_minor": 5
}
